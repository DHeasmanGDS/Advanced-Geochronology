{
 "cells": [
  {
   "cell_type": "markdown",
   "metadata": {
    "slideshow": {
     "slide_type": "slide"
    }
   },
   "source": [
    "# GEOL 898 Student Presentation  \n",
    "**Basalt magma sources during the opening of the North Atlantic**  \n",
    "S. R. Carter, N. M. Evensen, P. J. Hamilton, R. K. O'Nions  \n",
    "\n",
    "Drew Heasman  \n",
    "April 1, 2021"
   ]
  },
  {
   "cell_type": "markdown",
   "metadata": {
    "slideshow": {
     "slide_type": "notes"
    }
   },
   "source": [
    "I had originally intended to do 4 papers and compare the results based on their dates. I revised this plan when I lost half my workforce!  I also revised when I realized how deep I could go into just one paper. I found this paper quite interesting, and also had to grab some data from previous publications that this paper used in its comparisons.  "
   ]
  },
  {
   "cell_type": "code",
   "execution_count": 26,
   "metadata": {
    "slideshow": {
     "slide_type": "subslide"
    }
   },
   "outputs": [
    {
     "data": {
      "text/html": [
       "\n",
       "    <div class=\"bk-root\">\n",
       "        <a href=\"https://bokeh.org\" target=\"_blank\" class=\"bk-logo bk-logo-small bk-logo-notebook\"></a>\n",
       "        <span id=\"1382\">Loading BokehJS ...</span>\n",
       "    </div>"
      ]
     },
     "metadata": {},
     "output_type": "display_data"
    },
    {
     "data": {
      "application/javascript": [
       "\n",
       "(function(root) {\n",
       "  function now() {\n",
       "    return new Date();\n",
       "  }\n",
       "\n",
       "  var force = true;\n",
       "\n",
       "  if (typeof root._bokeh_onload_callbacks === \"undefined\" || force === true) {\n",
       "    root._bokeh_onload_callbacks = [];\n",
       "    root._bokeh_is_loading = undefined;\n",
       "  }\n",
       "\n",
       "  var JS_MIME_TYPE = 'application/javascript';\n",
       "  var HTML_MIME_TYPE = 'text/html';\n",
       "  var EXEC_MIME_TYPE = 'application/vnd.bokehjs_exec.v0+json';\n",
       "  var CLASS_NAME = 'output_bokeh rendered_html';\n",
       "\n",
       "  /**\n",
       "   * Render data to the DOM node\n",
       "   */\n",
       "  function render(props, node) {\n",
       "    var script = document.createElement(\"script\");\n",
       "    node.appendChild(script);\n",
       "  }\n",
       "\n",
       "  /**\n",
       "   * Handle when an output is cleared or removed\n",
       "   */\n",
       "  function handleClearOutput(event, handle) {\n",
       "    var cell = handle.cell;\n",
       "\n",
       "    var id = cell.output_area._bokeh_element_id;\n",
       "    var server_id = cell.output_area._bokeh_server_id;\n",
       "    // Clean up Bokeh references\n",
       "    if (id != null && id in Bokeh.index) {\n",
       "      Bokeh.index[id].model.document.clear();\n",
       "      delete Bokeh.index[id];\n",
       "    }\n",
       "\n",
       "    if (server_id !== undefined) {\n",
       "      // Clean up Bokeh references\n",
       "      var cmd = \"from bokeh.io.state import curstate; print(curstate().uuid_to_server['\" + server_id + \"'].get_sessions()[0].document.roots[0]._id)\";\n",
       "      cell.notebook.kernel.execute(cmd, {\n",
       "        iopub: {\n",
       "          output: function(msg) {\n",
       "            var id = msg.content.text.trim();\n",
       "            if (id in Bokeh.index) {\n",
       "              Bokeh.index[id].model.document.clear();\n",
       "              delete Bokeh.index[id];\n",
       "            }\n",
       "          }\n",
       "        }\n",
       "      });\n",
       "      // Destroy server and session\n",
       "      var cmd = \"import bokeh.io.notebook as ion; ion.destroy_server('\" + server_id + \"')\";\n",
       "      cell.notebook.kernel.execute(cmd);\n",
       "    }\n",
       "  }\n",
       "\n",
       "  /**\n",
       "   * Handle when a new output is added\n",
       "   */\n",
       "  function handleAddOutput(event, handle) {\n",
       "    var output_area = handle.output_area;\n",
       "    var output = handle.output;\n",
       "\n",
       "    // limit handleAddOutput to display_data with EXEC_MIME_TYPE content only\n",
       "    if ((output.output_type != \"display_data\") || (!output.data.hasOwnProperty(EXEC_MIME_TYPE))) {\n",
       "      return\n",
       "    }\n",
       "\n",
       "    var toinsert = output_area.element.find(\".\" + CLASS_NAME.split(' ')[0]);\n",
       "\n",
       "    if (output.metadata[EXEC_MIME_TYPE][\"id\"] !== undefined) {\n",
       "      toinsert[toinsert.length - 1].firstChild.textContent = output.data[JS_MIME_TYPE];\n",
       "      // store reference to embed id on output_area\n",
       "      output_area._bokeh_element_id = output.metadata[EXEC_MIME_TYPE][\"id\"];\n",
       "    }\n",
       "    if (output.metadata[EXEC_MIME_TYPE][\"server_id\"] !== undefined) {\n",
       "      var bk_div = document.createElement(\"div\");\n",
       "      bk_div.innerHTML = output.data[HTML_MIME_TYPE];\n",
       "      var script_attrs = bk_div.children[0].attributes;\n",
       "      for (var i = 0; i < script_attrs.length; i++) {\n",
       "        toinsert[toinsert.length - 1].firstChild.setAttribute(script_attrs[i].name, script_attrs[i].value);\n",
       "        toinsert[toinsert.length - 1].firstChild.textContent = bk_div.children[0].textContent\n",
       "      }\n",
       "      // store reference to server id on output_area\n",
       "      output_area._bokeh_server_id = output.metadata[EXEC_MIME_TYPE][\"server_id\"];\n",
       "    }\n",
       "  }\n",
       "\n",
       "  function register_renderer(events, OutputArea) {\n",
       "\n",
       "    function append_mime(data, metadata, element) {\n",
       "      // create a DOM node to render to\n",
       "      var toinsert = this.create_output_subarea(\n",
       "        metadata,\n",
       "        CLASS_NAME,\n",
       "        EXEC_MIME_TYPE\n",
       "      );\n",
       "      this.keyboard_manager.register_events(toinsert);\n",
       "      // Render to node\n",
       "      var props = {data: data, metadata: metadata[EXEC_MIME_TYPE]};\n",
       "      render(props, toinsert[toinsert.length - 1]);\n",
       "      element.append(toinsert);\n",
       "      return toinsert\n",
       "    }\n",
       "\n",
       "    /* Handle when an output is cleared or removed */\n",
       "    events.on('clear_output.CodeCell', handleClearOutput);\n",
       "    events.on('delete.Cell', handleClearOutput);\n",
       "\n",
       "    /* Handle when a new output is added */\n",
       "    events.on('output_added.OutputArea', handleAddOutput);\n",
       "\n",
       "    /**\n",
       "     * Register the mime type and append_mime function with output_area\n",
       "     */\n",
       "    OutputArea.prototype.register_mime_type(EXEC_MIME_TYPE, append_mime, {\n",
       "      /* Is output safe? */\n",
       "      safe: true,\n",
       "      /* Index of renderer in `output_area.display_order` */\n",
       "      index: 0\n",
       "    });\n",
       "  }\n",
       "\n",
       "  // register the mime type if in Jupyter Notebook environment and previously unregistered\n",
       "  if (root.Jupyter !== undefined) {\n",
       "    var events = require('base/js/events');\n",
       "    var OutputArea = require('notebook/js/outputarea').OutputArea;\n",
       "\n",
       "    if (OutputArea.prototype.mime_types().indexOf(EXEC_MIME_TYPE) == -1) {\n",
       "      register_renderer(events, OutputArea);\n",
       "    }\n",
       "  }\n",
       "\n",
       "  \n",
       "  if (typeof (root._bokeh_timeout) === \"undefined\" || force === true) {\n",
       "    root._bokeh_timeout = Date.now() + 5000;\n",
       "    root._bokeh_failed_load = false;\n",
       "  }\n",
       "\n",
       "  var NB_LOAD_WARNING = {'data': {'text/html':\n",
       "     \"<div style='background-color: #fdd'>\\n\"+\n",
       "     \"<p>\\n\"+\n",
       "     \"BokehJS does not appear to have successfully loaded. If loading BokehJS from CDN, this \\n\"+\n",
       "     \"may be due to a slow or bad network connection. Possible fixes:\\n\"+\n",
       "     \"</p>\\n\"+\n",
       "     \"<ul>\\n\"+\n",
       "     \"<li>re-rerun `output_notebook()` to attempt to load from CDN again, or</li>\\n\"+\n",
       "     \"<li>use INLINE resources instead, as so:</li>\\n\"+\n",
       "     \"</ul>\\n\"+\n",
       "     \"<code>\\n\"+\n",
       "     \"from bokeh.resources import INLINE\\n\"+\n",
       "     \"output_notebook(resources=INLINE)\\n\"+\n",
       "     \"</code>\\n\"+\n",
       "     \"</div>\"}};\n",
       "\n",
       "  function display_loaded() {\n",
       "    var el = document.getElementById(\"1382\");\n",
       "    if (el != null) {\n",
       "      el.textContent = \"BokehJS is loading...\";\n",
       "    }\n",
       "    if (root.Bokeh !== undefined) {\n",
       "      if (el != null) {\n",
       "        el.textContent = \"BokehJS \" + root.Bokeh.version + \" successfully loaded.\";\n",
       "      }\n",
       "    } else if (Date.now() < root._bokeh_timeout) {\n",
       "      setTimeout(display_loaded, 100)\n",
       "    }\n",
       "  }\n",
       "\n",
       "\n",
       "  function run_callbacks() {\n",
       "    try {\n",
       "      root._bokeh_onload_callbacks.forEach(function(callback) {\n",
       "        if (callback != null)\n",
       "          callback();\n",
       "      });\n",
       "    } finally {\n",
       "      delete root._bokeh_onload_callbacks\n",
       "    }\n",
       "    console.debug(\"Bokeh: all callbacks have finished\");\n",
       "  }\n",
       "\n",
       "  function load_libs(css_urls, js_urls, callback) {\n",
       "    if (css_urls == null) css_urls = [];\n",
       "    if (js_urls == null) js_urls = [];\n",
       "\n",
       "    root._bokeh_onload_callbacks.push(callback);\n",
       "    if (root._bokeh_is_loading > 0) {\n",
       "      console.debug(\"Bokeh: BokehJS is being loaded, scheduling callback at\", now());\n",
       "      return null;\n",
       "    }\n",
       "    if (js_urls == null || js_urls.length === 0) {\n",
       "      run_callbacks();\n",
       "      return null;\n",
       "    }\n",
       "    console.debug(\"Bokeh: BokehJS not loaded, scheduling load and callback at\", now());\n",
       "    root._bokeh_is_loading = css_urls.length + js_urls.length;\n",
       "\n",
       "    function on_load() {\n",
       "      root._bokeh_is_loading--;\n",
       "      if (root._bokeh_is_loading === 0) {\n",
       "        console.debug(\"Bokeh: all BokehJS libraries/stylesheets loaded\");\n",
       "        run_callbacks()\n",
       "      }\n",
       "    }\n",
       "\n",
       "    function on_error() {\n",
       "      console.error(\"failed to load \" + url);\n",
       "    }\n",
       "\n",
       "    for (var i = 0; i < css_urls.length; i++) {\n",
       "      var url = css_urls[i];\n",
       "      const element = document.createElement(\"link\");\n",
       "      element.onload = on_load;\n",
       "      element.onerror = on_error;\n",
       "      element.rel = \"stylesheet\";\n",
       "      element.type = \"text/css\";\n",
       "      element.href = url;\n",
       "      console.debug(\"Bokeh: injecting link tag for BokehJS stylesheet: \", url);\n",
       "      document.body.appendChild(element);\n",
       "    }\n",
       "\n",
       "    const hashes = {\"https://cdn.bokeh.org/bokeh/release/bokeh-2.2.3.min.js\": \"T2yuo9Oe71Cz/I4X9Ac5+gpEa5a8PpJCDlqKYO0CfAuEszu1JrXLl8YugMqYe3sM\", \"https://cdn.bokeh.org/bokeh/release/bokeh-widgets-2.2.3.min.js\": \"98GDGJ0kOMCUMUePhksaQ/GYgB3+NH9h996V88sh3aOiUNX3N+fLXAtry6xctSZ6\", \"https://cdn.bokeh.org/bokeh/release/bokeh-tables-2.2.3.min.js\": \"89bArO+nlbP3sgakeHjCo1JYxYR5wufVgA3IbUvDY+K7w4zyxJqssu7wVnfeKCq8\"};\n",
       "\n",
       "    for (var i = 0; i < js_urls.length; i++) {\n",
       "      var url = js_urls[i];\n",
       "      var element = document.createElement('script');\n",
       "      element.onload = on_load;\n",
       "      element.onerror = on_error;\n",
       "      element.async = false;\n",
       "      element.src = url;\n",
       "      if (url in hashes) {\n",
       "        element.crossOrigin = \"anonymous\";\n",
       "        element.integrity = \"sha384-\" + hashes[url];\n",
       "      }\n",
       "      console.debug(\"Bokeh: injecting script tag for BokehJS library: \", url);\n",
       "      document.head.appendChild(element);\n",
       "    }\n",
       "  };\n",
       "\n",
       "  function inject_raw_css(css) {\n",
       "    const element = document.createElement(\"style\");\n",
       "    element.appendChild(document.createTextNode(css));\n",
       "    document.body.appendChild(element);\n",
       "  }\n",
       "\n",
       "  \n",
       "  var js_urls = [\"https://cdn.bokeh.org/bokeh/release/bokeh-2.2.3.min.js\", \"https://cdn.bokeh.org/bokeh/release/bokeh-widgets-2.2.3.min.js\", \"https://cdn.bokeh.org/bokeh/release/bokeh-tables-2.2.3.min.js\"];\n",
       "  var css_urls = [];\n",
       "  \n",
       "\n",
       "  var inline_js = [\n",
       "    function(Bokeh) {\n",
       "      Bokeh.set_log_level(\"info\");\n",
       "    },\n",
       "    function(Bokeh) {\n",
       "    \n",
       "    \n",
       "    }\n",
       "  ];\n",
       "\n",
       "  function run_inline_js() {\n",
       "    \n",
       "    if (root.Bokeh !== undefined || force === true) {\n",
       "      \n",
       "    for (var i = 0; i < inline_js.length; i++) {\n",
       "      inline_js[i].call(root, root.Bokeh);\n",
       "    }\n",
       "    if (force === true) {\n",
       "        display_loaded();\n",
       "      }} else if (Date.now() < root._bokeh_timeout) {\n",
       "      setTimeout(run_inline_js, 100);\n",
       "    } else if (!root._bokeh_failed_load) {\n",
       "      console.log(\"Bokeh: BokehJS failed to load within specified timeout.\");\n",
       "      root._bokeh_failed_load = true;\n",
       "    } else if (force !== true) {\n",
       "      var cell = $(document.getElementById(\"1382\")).parents('.cell').data().cell;\n",
       "      cell.output_area.append_execute_result(NB_LOAD_WARNING)\n",
       "    }\n",
       "\n",
       "  }\n",
       "\n",
       "  if (root._bokeh_is_loading === 0) {\n",
       "    console.debug(\"Bokeh: BokehJS loaded, going straight to plotting\");\n",
       "    run_inline_js();\n",
       "  } else {\n",
       "    load_libs(css_urls, js_urls, function() {\n",
       "      console.debug(\"Bokeh: BokehJS plotting callback run at\", now());\n",
       "      run_inline_js();\n",
       "    });\n",
       "  }\n",
       "}(window));"
      ],
      "application/vnd.bokehjs_load.v0+json": "\n(function(root) {\n  function now() {\n    return new Date();\n  }\n\n  var force = true;\n\n  if (typeof root._bokeh_onload_callbacks === \"undefined\" || force === true) {\n    root._bokeh_onload_callbacks = [];\n    root._bokeh_is_loading = undefined;\n  }\n\n  \n\n  \n  if (typeof (root._bokeh_timeout) === \"undefined\" || force === true) {\n    root._bokeh_timeout = Date.now() + 5000;\n    root._bokeh_failed_load = false;\n  }\n\n  var NB_LOAD_WARNING = {'data': {'text/html':\n     \"<div style='background-color: #fdd'>\\n\"+\n     \"<p>\\n\"+\n     \"BokehJS does not appear to have successfully loaded. If loading BokehJS from CDN, this \\n\"+\n     \"may be due to a slow or bad network connection. Possible fixes:\\n\"+\n     \"</p>\\n\"+\n     \"<ul>\\n\"+\n     \"<li>re-rerun `output_notebook()` to attempt to load from CDN again, or</li>\\n\"+\n     \"<li>use INLINE resources instead, as so:</li>\\n\"+\n     \"</ul>\\n\"+\n     \"<code>\\n\"+\n     \"from bokeh.resources import INLINE\\n\"+\n     \"output_notebook(resources=INLINE)\\n\"+\n     \"</code>\\n\"+\n     \"</div>\"}};\n\n  function display_loaded() {\n    var el = document.getElementById(\"1382\");\n    if (el != null) {\n      el.textContent = \"BokehJS is loading...\";\n    }\n    if (root.Bokeh !== undefined) {\n      if (el != null) {\n        el.textContent = \"BokehJS \" + root.Bokeh.version + \" successfully loaded.\";\n      }\n    } else if (Date.now() < root._bokeh_timeout) {\n      setTimeout(display_loaded, 100)\n    }\n  }\n\n\n  function run_callbacks() {\n    try {\n      root._bokeh_onload_callbacks.forEach(function(callback) {\n        if (callback != null)\n          callback();\n      });\n    } finally {\n      delete root._bokeh_onload_callbacks\n    }\n    console.debug(\"Bokeh: all callbacks have finished\");\n  }\n\n  function load_libs(css_urls, js_urls, callback) {\n    if (css_urls == null) css_urls = [];\n    if (js_urls == null) js_urls = [];\n\n    root._bokeh_onload_callbacks.push(callback);\n    if (root._bokeh_is_loading > 0) {\n      console.debug(\"Bokeh: BokehJS is being loaded, scheduling callback at\", now());\n      return null;\n    }\n    if (js_urls == null || js_urls.length === 0) {\n      run_callbacks();\n      return null;\n    }\n    console.debug(\"Bokeh: BokehJS not loaded, scheduling load and callback at\", now());\n    root._bokeh_is_loading = css_urls.length + js_urls.length;\n\n    function on_load() {\n      root._bokeh_is_loading--;\n      if (root._bokeh_is_loading === 0) {\n        console.debug(\"Bokeh: all BokehJS libraries/stylesheets loaded\");\n        run_callbacks()\n      }\n    }\n\n    function on_error() {\n      console.error(\"failed to load \" + url);\n    }\n\n    for (var i = 0; i < css_urls.length; i++) {\n      var url = css_urls[i];\n      const element = document.createElement(\"link\");\n      element.onload = on_load;\n      element.onerror = on_error;\n      element.rel = \"stylesheet\";\n      element.type = \"text/css\";\n      element.href = url;\n      console.debug(\"Bokeh: injecting link tag for BokehJS stylesheet: \", url);\n      document.body.appendChild(element);\n    }\n\n    const hashes = {\"https://cdn.bokeh.org/bokeh/release/bokeh-2.2.3.min.js\": \"T2yuo9Oe71Cz/I4X9Ac5+gpEa5a8PpJCDlqKYO0CfAuEszu1JrXLl8YugMqYe3sM\", \"https://cdn.bokeh.org/bokeh/release/bokeh-widgets-2.2.3.min.js\": \"98GDGJ0kOMCUMUePhksaQ/GYgB3+NH9h996V88sh3aOiUNX3N+fLXAtry6xctSZ6\", \"https://cdn.bokeh.org/bokeh/release/bokeh-tables-2.2.3.min.js\": \"89bArO+nlbP3sgakeHjCo1JYxYR5wufVgA3IbUvDY+K7w4zyxJqssu7wVnfeKCq8\"};\n\n    for (var i = 0; i < js_urls.length; i++) {\n      var url = js_urls[i];\n      var element = document.createElement('script');\n      element.onload = on_load;\n      element.onerror = on_error;\n      element.async = false;\n      element.src = url;\n      if (url in hashes) {\n        element.crossOrigin = \"anonymous\";\n        element.integrity = \"sha384-\" + hashes[url];\n      }\n      console.debug(\"Bokeh: injecting script tag for BokehJS library: \", url);\n      document.head.appendChild(element);\n    }\n  };\n\n  function inject_raw_css(css) {\n    const element = document.createElement(\"style\");\n    element.appendChild(document.createTextNode(css));\n    document.body.appendChild(element);\n  }\n\n  \n  var js_urls = [\"https://cdn.bokeh.org/bokeh/release/bokeh-2.2.3.min.js\", \"https://cdn.bokeh.org/bokeh/release/bokeh-widgets-2.2.3.min.js\", \"https://cdn.bokeh.org/bokeh/release/bokeh-tables-2.2.3.min.js\"];\n  var css_urls = [];\n  \n\n  var inline_js = [\n    function(Bokeh) {\n      Bokeh.set_log_level(\"info\");\n    },\n    function(Bokeh) {\n    \n    \n    }\n  ];\n\n  function run_inline_js() {\n    \n    if (root.Bokeh !== undefined || force === true) {\n      \n    for (var i = 0; i < inline_js.length; i++) {\n      inline_js[i].call(root, root.Bokeh);\n    }\n    if (force === true) {\n        display_loaded();\n      }} else if (Date.now() < root._bokeh_timeout) {\n      setTimeout(run_inline_js, 100);\n    } else if (!root._bokeh_failed_load) {\n      console.log(\"Bokeh: BokehJS failed to load within specified timeout.\");\n      root._bokeh_failed_load = true;\n    } else if (force !== true) {\n      var cell = $(document.getElementById(\"1382\")).parents('.cell').data().cell;\n      cell.output_area.append_execute_result(NB_LOAD_WARNING)\n    }\n\n  }\n\n  if (root._bokeh_is_loading === 0) {\n    console.debug(\"Bokeh: BokehJS loaded, going straight to plotting\");\n    run_inline_js();\n  } else {\n    load_libs(css_urls, js_urls, function() {\n      console.debug(\"Bokeh: BokehJS plotting callback run at\", now());\n      run_inline_js();\n    });\n  }\n}(window));"
     },
     "metadata": {},
     "output_type": "display_data"
    }
   ],
   "source": [
    "import pandas as pd\n",
    "import geochron_apps as gc\n",
    "from bokeh.plotting import output_notebook, figure, show\n",
    "from bokeh.models import Slope, Label\n",
    "from bokeh.transform import factor_cmap\n",
    "from scipy.stats import pearsonr\n",
    "import seaborn as sns\n",
    "import matplotlib.pyplot as plt\n",
    "import numpy as np\n",
    "\n",
    "output_notebook()"
   ]
  },
  {
   "cell_type": "markdown",
   "metadata": {
    "slideshow": {
     "slide_type": "notes"
    }
   },
   "source": [
    "The first thing we're going to do is import all the libraries I'll be using in this presentation."
   ]
  },
  {
   "cell_type": "markdown",
   "metadata": {
    "slideshow": {
     "slide_type": "subslide"
    }
   },
   "source": [
    "<center><img src=\"images/oh_lord.jpg\" align=\"center\">\n",
    "<h3>If I pronounce any of these names right it will be a miracle...</h3></center>"
   ]
  },
  {
   "cell_type": "markdown",
   "metadata": {
    "slideshow": {
     "slide_type": "notes"
    }
   },
   "source": [
    "Most of the names in the presentation seem to have Viking origins... don't be too surprised if I refer to things as East Greenland and West Greenland from here on out!"
   ]
  },
  {
   "cell_type": "markdown",
   "metadata": {
    "slideshow": {
     "slide_type": "slide"
    }
   },
   "source": [
    "## Geology of the area and the study"
   ]
  },
  {
   "cell_type": "markdown",
   "metadata": {
    "slideshow": {
     "slide_type": "subslide"
    }
   },
   "source": [
    "* Purpose: Attempt to find evidence about the composition of magma sources during the opening of the North Atlantic, and consequently sub-continental upper mantle. \n",
    "* Conculsion of Study: No evidence to show undepleted mantle source regions beneath the continent at this time.\n",
    "* Location of study(Greenland, Baffin, Scotland)"
   ]
  },
  {
   "cell_type": "markdown",
   "metadata": {
    "slideshow": {
     "slide_type": "notes"
    }
   },
   "source": [
    "The paper I chose to review was attempting to determine sub continental upper mantle isotopic composition. More specifically it was sampling North Atlantic Tertiary basalts at the time of continental break up. The samples were primarily basalts from Greenland, Baffin Island, and for comparison purposes Scotland.  \n",
    "\n",
    "They determined that the Greenland and Baffin Island basalts showed evidence of depleted mantle sources. Or more appropriately stated, there was no evidence of undepleted source regions beneath the continent at 60 Ma.\n",
    "* Assumptions:\n",
    "* The geology of the area is correct.  "
   ]
  },
  {
   "cell_type": "markdown",
   "metadata": {
    "slideshow": {
     "slide_type": "subslide"
    }
   },
   "source": [
    "* Estimate of isotopic sub-oceanic upper mantle indicates\n",
    "  * Rb is depleted in relation to Sr\n",
    "  * Nd is depleted in relation to Sm"
   ]
  },
  {
   "cell_type": "markdown",
   "metadata": {
    "slideshow": {
     "slide_type": "notes"
    }
   },
   "source": [
    "The mid-ocean ridge has the largest proportion of terrestrial volcanics, and provides an estimate of isotopic composition of sub-oceanic upper mantle. Sr isotopic compositions of MORB indicate relative depletion in Rb, and Nd, in comparison to Sr, and Sm. But what about sub-continental upper mantle?"
   ]
  },
  {
   "cell_type": "markdown",
   "metadata": {
    "slideshow": {
     "slide_type": "fragment"
    }
   },
   "source": [
    "* But what about sub-continental upper mantle?"
   ]
  },
  {
   "cell_type": "markdown",
   "metadata": {
    "slideshow": {
     "slide_type": "subslide"
    }
   },
   "source": [
    "* Thermal and seismic suggest depleted sub-continental upper mantle.\n",
    "  * These models assume subcontinental upper mantle depleted in basaltic components (lower Fe/Mg, and also lower Rb/Sr and higher Sm/Nd ratios)\n",
    "  * Many continental basalts don't show the lower Rb/Sr and higher Sm/Nd ratios expected\n",
    "  * Is this proof of existence of ancient source regions beneath the continents that have time integrated Rb/Sr ratios greater than that of bulk Earth???"
   ]
  },
  {
   "cell_type": "markdown",
   "metadata": {
    "slideshow": {
     "slide_type": "notes"
    }
   },
   "source": [
    "Referenced studies imply that the sub-continental upper mantle is depleted.  These studies use thermal and seismic data to make this inference and assume lower Fe/Mg, low Rb/Sr, and high Sm/Nd ratios.  However frequently the low Rb/Sr and high Sm/Nd aren't observed in continental basalts.\n",
    "Perhaps <sup>87</sup>Sr/<sup>86</sup>Sr isotopic ratios taken from continental basalts (higher than present day bulk Earth) infer existence of ancient source regions beneath the continents that have time integrated Rb/Sr ratios greater than that of bulk Earth???"
   ]
  },
  {
   "cell_type": "markdown",
   "metadata": {
    "slideshow": {
     "slide_type": "subslide"
    }
   },
   "source": [
    "* Difficulties in determining the sub-continental upper mantle composition from continental basalts.\n",
    "  * Sample is a small proportion of the mantle and at unknown depths\n",
    "  * Possible contamination by continental basement\n",
    "  * If heterogenous, then melting events could favour less depleted areas."
   ]
  },
  {
   "cell_type": "markdown",
   "metadata": {
    "slideshow": {
     "slide_type": "notes"
    }
   },
   "source": [
    "Issues that arise when sampling these basalts include, unknown depth of mantle origin and a small proportion of that mantle is extracted.  There is also a possibility of contamination by the continental basement.  Also, if the subcontinental upper mantle is heterogeneous in composition within strongly depleted and less depleted zones, there could be preferential melting of the less depleted areas, and result in some survivorship bias. "
   ]
  },
  {
   "cell_type": "markdown",
   "metadata": {
    "slideshow": {
     "slide_type": "subslide"
    }
   },
   "source": [
    "* Study sampled 50 - 70 Ma flood basalts during rifting of the North Atlantic.\n",
    "  * Samples are located in Western and Eastern Greenland, as well as Baffin Island\n",
    "  * North-west Scotland samples from a previous study were included\n",
    "  * Plateau lavas at Faeroes Islands, and east Greenland, and on either side of Davis Strait in west Greenland and Baffin "
   ]
  },
  {
   "cell_type": "markdown",
   "metadata": {
    "slideshow": {
     "slide_type": "notes"
    }
   },
   "source": [
    "This study sampled 50-70 Ma flood basalts during the rifting of the North Atlantic.  The samples are located in Western and Eastern Greenland, as well as Baffin Island.  All these samples erupted through continental crust with some ambiguity mentioned with the Faeroes Island samples. Plateau lavas at Faeroe Islands, and east Greenland, and on either side of Davis Strait in west Greenland and Baffin Island erupted in the same period.\n",
    "\n",
    "North-west Scotland samples from a previous study were included.\n",
    "\n",
    "North Atlantic Tertiary volcanic province is ~ 2000 km of lavas (mostly alkali olivine basalts, tholeiites, hawaiites, mugearites, and trachytes. Central intrusive complexes seen throughout the entire region, but mainly in North-west Scotland and may include (peridotites, gabbros, and granites)."
   ]
  },
  {
   "cell_type": "markdown",
   "metadata": {
    "slideshow": {
     "slide_type": "subslide"
    }
   },
   "source": [
    "Island erupted in the same period.\n",
    "  * All samples erupted through continental crust (some ambiguity Faeroes Island samples)\n",
    "  * North Atlantic Tertiary volcanic province is ~2000 km of lavas\n",
    "    * Alkali olivine basalts, tholeiites, hawaiites, mugearites, and trachytes.\n",
    "  * North-west Scotland includes\n",
    "    * Peridotites, gabbros, and granites"
   ]
  },
  {
   "cell_type": "markdown",
   "metadata": {
    "slideshow": {
     "slide_type": "notes"
    }
   },
   "source": [
    "This study sampled 50-70 Ma flood basalts during the rifting of the North Atlantic.  The samples are located in Western and Eastern Greenland, as well as Baffin Island.  All these samples erupted through continental crust with some ambiguity mentioned with the Faeroes Island samples. Plateau lavas at Faeroe Islands, and east Greenland, and on either side of Davis Strait in west Greenland and Baffin Island erupted in the same period.\n",
    "\n",
    "North-west Scotland samples from a previous study were included.\n",
    "\n",
    "North Atlantic Tertiary volcanic province is ~ 2000 km of lavas (mostly alkali olivine basalts, tholeiites, hawaiites, mugearites, and trachytes. Central intrusive complexes seen throughout the entire region, but mainly in North-west Scotland and may include (peridotites, gabbros, and granites)."
   ]
  },
  {
   "cell_type": "markdown",
   "metadata": {
    "slideshow": {
     "slide_type": "subslide"
    }
   },
   "source": [
    "<center><img src=\"images/carter_fig_1.png\" align=\"center\"></center>"
   ]
  },
  {
   "cell_type": "markdown",
   "metadata": {
    "slideshow": {
     "slide_type": "notes"
    }
   },
   "source": [
    "Here is a figure showing the study area reconstructed at 60 Ma"
   ]
  },
  {
   "cell_type": "code",
   "execution_count": 27,
   "metadata": {
    "slideshow": {
     "slide_type": "subslide"
    }
   },
   "outputs": [],
   "source": [
    "t1 = 60 \n",
    "\n",
    "decay_const_Rb1977 = 1.42*10**-11 # Steiger and Jager (1977)\n",
    "decay_const_Rb2015 = 1.397*10**-11 # Villa et al (2015)\n",
    "#decay_const_Sm1978 = 6.54*10**−12 # Lugmair and Marti (1978)    - A highlight of the copy-paste problem!\n",
    "decay_const_Sm1978 = 6.54*10**-12 # Lugmair and Marti (1978)\n",
    "\n",
    "Nd_CHUR_1977 = 0.51263  # O'Nions et al (1977)\n",
    "Sr_CHUR_1977 = 0.705 # O'Nions et al (1977)\n",
    "\n",
    "Sr86_aw = 85.9092624 # Eglington Spreadsheet\n",
    "Rb87_aw = 86.90918 # Eglington Spreadsheet\n",
    "Sm147_aw = 146.914893  # Eglington Spreadsheet\n",
    "Nd144_aw = 143.910083 # Eglington Spreadsheet\n"
   ]
  },
  {
   "cell_type": "markdown",
   "metadata": {
    "slideshow": {
     "slide_type": "notes"
    }
   },
   "source": [
    "First we're going to define some of the constants that will be used in this notebook.  The decay constant for Rb in 1979 likely being used was Steiger and Jager (1977), however this study doesn't mention this explicitly. I also used a decay constant for Rb in 2015 for some recalculations.\n",
    "\n",
    "The decay constant of Sm has apparently been more consistent, as I've really only found the one in 1978 by Lugmair and Marti. You can also see here a problem with copy-pasting.  The negative sign which I copied directly from the publication is not actually a negative sign. This isn't a problem with one value... but if we were to copy an entire table, or use optical character recognition techniques...\n",
    "\n",
    "Nd and Sr CHUR ratios are obtained from O'Nions et al (1977). These were the referenced values in this paper.\n",
    "\n",
    "Finally all atomic weights were obtained from Bruce's excel file."
   ]
  },
  {
   "cell_type": "markdown",
   "metadata": {
    "slideshow": {
     "slide_type": "slide"
    }
   },
   "source": [
    "## Data review methodology of Nd- and Sr- isotopes"
   ]
  },
  {
   "cell_type": "markdown",
   "metadata": {
    "slideshow": {
     "slide_type": "subslide"
    }
   },
   "source": [
    "The method of checking todays values versus the values in this 1979 paper is as follows:\n",
    "* Calculate the sample (t<sub>2</sub>) ratios from the computed initial ratios in Table 1 from the paper using the 1977 decay constants.\n",
    "* Recalculate the parent ratios based on current weights and abundances of isotopes.\n",
    "* Recalculate the initial ratios based on the measured initial ratios, the recalculated parent ratios, the updated decay constants(in the case of Rb), and 60 Ma age.\n",
    "* Evaluate the differences."
   ]
  },
  {
   "cell_type": "markdown",
   "metadata": {
    "slideshow": {
     "slide_type": "notes"
    }
   },
   "source": [
    "So one of the first problems I encountered with this paper is that the initial daughter ratios given in the table was calculated to 60 Ma. The measured isotopic values at present day weren't included with the data.  So to compare what these values would be using todays constants, I first back-calculated the computed initial ratios, using a 1977 constant which was likely used at this time. I also recalculated the parent ratios, using the current atomic weights.  \n",
    "\n",
    "Now with modern present day parent ratios, and the original sampled daughter ratios, I can recalculate the 60 Ma initial daughter isotopic ratios and compare them with the originally calculated values."
   ]
  },
  {
   "cell_type": "code",
   "execution_count": 28,
   "metadata": {
    "slideshow": {
     "slide_type": "subslide"
    }
   },
   "outputs": [
    {
     "data": {
      "text/html": [
       "<div>\n",
       "<style scoped>\n",
       "    .dataframe tbody tr th:only-of-type {\n",
       "        vertical-align: middle;\n",
       "    }\n",
       "\n",
       "    .dataframe tbody tr th {\n",
       "        vertical-align: top;\n",
       "    }\n",
       "\n",
       "    .dataframe thead th {\n",
       "        text-align: right;\n",
       "    }\n",
       "</style>\n",
       "<table border=\"1\" class=\"dataframe\">\n",
       "  <thead>\n",
       "    <tr style=\"text-align: right;\">\n",
       "      <th></th>\n",
       "      <th>Sample</th>\n",
       "      <th>Region</th>\n",
       "      <th>Location</th>\n",
       "      <th>Rb</th>\n",
       "      <th>Rb/Sr</th>\n",
       "      <th>Sr</th>\n",
       "      <th>87Sr/86Sr</th>\n",
       "      <th>SrError</th>\n",
       "      <th>Sm</th>\n",
       "      <th>Sm/Nd</th>\n",
       "      <th>Nd</th>\n",
       "      <th>143Nd/144Nd</th>\n",
       "      <th>NdError</th>\n",
       "    </tr>\n",
       "  </thead>\n",
       "  <tbody>\n",
       "    <tr>\n",
       "      <th>0</th>\n",
       "      <td>Fo07</td>\n",
       "      <td>Faeroes</td>\n",
       "      <td>Torshavn</td>\n",
       "      <td>1.19</td>\n",
       "      <td>0.004</td>\n",
       "      <td>282</td>\n",
       "      <td>0.70324</td>\n",
       "      <td>0.00003</td>\n",
       "      <td>2.66</td>\n",
       "      <td>0.339</td>\n",
       "      <td>7.84</td>\n",
       "      <td>0.51280</td>\n",
       "      <td>0.00002</td>\n",
       "    </tr>\n",
       "    <tr>\n",
       "      <th>1</th>\n",
       "      <td>Fo19</td>\n",
       "      <td>Faeroes</td>\n",
       "      <td>Torshavn</td>\n",
       "      <td>9.02</td>\n",
       "      <td>0.070</td>\n",
       "      <td>123</td>\n",
       "      <td>0.70357</td>\n",
       "      <td>0.00005</td>\n",
       "      <td>5.54</td>\n",
       "      <td>0.263</td>\n",
       "      <td>21.10</td>\n",
       "      <td>0.51287</td>\n",
       "      <td>0.00003</td>\n",
       "    </tr>\n",
       "    <tr>\n",
       "      <th>2</th>\n",
       "      <td>Fo23</td>\n",
       "      <td>Faeroes</td>\n",
       "      <td>Torshavn</td>\n",
       "      <td>2.53</td>\n",
       "      <td>0.009</td>\n",
       "      <td>270</td>\n",
       "      <td>0.70325</td>\n",
       "      <td>0.00004</td>\n",
       "      <td>6.20</td>\n",
       "      <td>0.271</td>\n",
       "      <td>22.90</td>\n",
       "      <td>0.51293</td>\n",
       "      <td>0.00002</td>\n",
       "    </tr>\n",
       "    <tr>\n",
       "      <th>3</th>\n",
       "      <td>Fo34</td>\n",
       "      <td>Faeroes</td>\n",
       "      <td>Suduroy</td>\n",
       "      <td>11.10</td>\n",
       "      <td>0.041</td>\n",
       "      <td>274</td>\n",
       "      <td>0.70348</td>\n",
       "      <td>0.00005</td>\n",
       "      <td>7.04</td>\n",
       "      <td>0.255</td>\n",
       "      <td>27.60</td>\n",
       "      <td>0.51292</td>\n",
       "      <td>0.00002</td>\n",
       "    </tr>\n",
       "    <tr>\n",
       "      <th>4</th>\n",
       "      <td>Fo41</td>\n",
       "      <td>Faeroes</td>\n",
       "      <td>Suduroy</td>\n",
       "      <td>1.87</td>\n",
       "      <td>0.005</td>\n",
       "      <td>388</td>\n",
       "      <td>0.70340</td>\n",
       "      <td>0.00004</td>\n",
       "      <td>3.99</td>\n",
       "      <td>0.279</td>\n",
       "      <td>14.30</td>\n",
       "      <td>0.51286</td>\n",
       "      <td>0.00003</td>\n",
       "    </tr>\n",
       "  </tbody>\n",
       "</table>\n",
       "</div>"
      ],
      "text/plain": [
       "  Sample   Region  Location     Rb  Rb/Sr   Sr  87Sr/86Sr  SrError    Sm  \\\n",
       "0   Fo07  Faeroes  Torshavn   1.19  0.004  282    0.70324  0.00003  2.66   \n",
       "1   Fo19  Faeroes  Torshavn   9.02  0.070  123    0.70357  0.00005  5.54   \n",
       "2   Fo23  Faeroes  Torshavn   2.53  0.009  270    0.70325  0.00004  6.20   \n",
       "3   Fo34  Faeroes   Suduroy  11.10  0.041  274    0.70348  0.00005  7.04   \n",
       "4   Fo41  Faeroes   Suduroy   1.87  0.005  388    0.70340  0.00004  3.99   \n",
       "\n",
       "   Sm/Nd     Nd  143Nd/144Nd  NdError  \n",
       "0  0.339   7.84      0.51280  0.00002  \n",
       "1  0.263  21.10      0.51287  0.00003  \n",
       "2  0.271  22.90      0.51293  0.00002  \n",
       "3  0.255  27.60      0.51292  0.00002  \n",
       "4  0.279  14.30      0.51286  0.00003  "
      ]
     },
     "execution_count": 28,
     "metadata": {},
     "output_type": "execute_result"
    }
   ],
   "source": [
    "carter_df = pd.read_csv(\"data/Carter_et_al.csv\")\n",
    "carter_df.head()"
   ]
  },
  {
   "cell_type": "markdown",
   "metadata": {
    "slideshow": {
     "slide_type": "notes"
    }
   },
   "source": [
    "First we read the data in through a prepared CSV file"
   ]
  },
  {
   "cell_type": "markdown",
   "metadata": {
    "slideshow": {
     "slide_type": "slide"
    }
   },
   "source": [
    "### **Step 1:**  Ratios here are computed ratios with an age of 60 Ma. Because of this, I needed to \"back calculate\" the sample daughter isotopic ratios.  "
   ]
  },
  {
   "cell_type": "code",
   "execution_count": 29,
   "metadata": {
    "slideshow": {
     "slide_type": "subslide"
    }
   },
   "outputs": [
    {
     "data": {
      "text/html": [
       "<div>\n",
       "<style scoped>\n",
       "    .dataframe tbody tr th:only-of-type {\n",
       "        vertical-align: middle;\n",
       "    }\n",
       "\n",
       "    .dataframe tbody tr th {\n",
       "        vertical-align: top;\n",
       "    }\n",
       "\n",
       "    .dataframe thead th {\n",
       "        text-align: right;\n",
       "    }\n",
       "</style>\n",
       "<table border=\"1\" class=\"dataframe\">\n",
       "  <thead>\n",
       "    <tr style=\"text-align: right;\">\n",
       "      <th></th>\n",
       "      <th>Sample</th>\n",
       "      <th>87Sr/86Sr</th>\n",
       "      <th>Rb/Sr</th>\n",
       "      <th>calc_t2_87Sr/86Sr</th>\n",
       "    </tr>\n",
       "  </thead>\n",
       "  <tbody>\n",
       "    <tr>\n",
       "      <th>0</th>\n",
       "      <td>Fo07</td>\n",
       "      <td>0.70324</td>\n",
       "      <td>0.004</td>\n",
       "      <td>0.70324</td>\n",
       "    </tr>\n",
       "    <tr>\n",
       "      <th>1</th>\n",
       "      <td>Fo19</td>\n",
       "      <td>0.70357</td>\n",
       "      <td>0.070</td>\n",
       "      <td>0.70363</td>\n",
       "    </tr>\n",
       "    <tr>\n",
       "      <th>2</th>\n",
       "      <td>Fo23</td>\n",
       "      <td>0.70325</td>\n",
       "      <td>0.009</td>\n",
       "      <td>0.70326</td>\n",
       "    </tr>\n",
       "    <tr>\n",
       "      <th>3</th>\n",
       "      <td>Fo34</td>\n",
       "      <td>0.70348</td>\n",
       "      <td>0.041</td>\n",
       "      <td>0.70351</td>\n",
       "    </tr>\n",
       "    <tr>\n",
       "      <th>4</th>\n",
       "      <td>Fo41</td>\n",
       "      <td>0.70340</td>\n",
       "      <td>0.005</td>\n",
       "      <td>0.70340</td>\n",
       "    </tr>\n",
       "  </tbody>\n",
       "</table>\n",
       "</div>"
      ],
      "text/plain": [
       "  Sample  87Sr/86Sr  Rb/Sr  calc_t2_87Sr/86Sr\n",
       "0   Fo07    0.70324  0.004            0.70324\n",
       "1   Fo19    0.70357  0.070            0.70363\n",
       "2   Fo23    0.70325  0.009            0.70326\n",
       "3   Fo34    0.70348  0.041            0.70351\n",
       "4   Fo41    0.70340  0.005            0.70340"
      ]
     },
     "execution_count": 29,
     "metadata": {},
     "output_type": "execute_result"
    }
   ],
   "source": [
    "carter_df['calc_t2_87Sr/86Sr'] = carter_df.apply(lambda row: round(gc.calc_t2_daughter(row['87Sr/86Sr'],\n",
    "                                                                                 row['Rb/Sr'],\n",
    "                                                                                 decay_const_Rb1977\n",
    "                                                                                 , t1),5),axis=1)\n",
    "carter_df[['Sample','87Sr/86Sr','Rb/Sr','calc_t2_87Sr/86Sr']].head()"
   ]
  },
  {
   "cell_type": "markdown",
   "metadata": {
    "slideshow": {
     "slide_type": "notes"
    }
   },
   "source": [
    "This section of code calculated the present day (or t2) daughter isotopic ratio. I retrospect with all the calculations and recalculations, naming this column with 0 Ma, instead of t2, would make things more clear. I realized it gets difficult to keep track of these numbers with multiple calculations.  I could have just changed it, but I wanted to document the experience so... advice for next time!"
   ]
  },
  {
   "cell_type": "code",
   "execution_count": 30,
   "metadata": {
    "slideshow": {
     "slide_type": "subslide"
    }
   },
   "outputs": [
    {
     "data": {
      "text/html": [
       "<div>\n",
       "<style scoped>\n",
       "    .dataframe tbody tr th:only-of-type {\n",
       "        vertical-align: middle;\n",
       "    }\n",
       "\n",
       "    .dataframe tbody tr th {\n",
       "        vertical-align: top;\n",
       "    }\n",
       "\n",
       "    .dataframe thead th {\n",
       "        text-align: right;\n",
       "    }\n",
       "</style>\n",
       "<table border=\"1\" class=\"dataframe\">\n",
       "  <thead>\n",
       "    <tr style=\"text-align: right;\">\n",
       "      <th></th>\n",
       "      <th>Sample</th>\n",
       "      <th>143Nd/144Nd</th>\n",
       "      <th>Sm/Nd</th>\n",
       "      <th>calc_t2_143Nd/144Nd</th>\n",
       "    </tr>\n",
       "  </thead>\n",
       "  <tbody>\n",
       "    <tr>\n",
       "      <th>0</th>\n",
       "      <td>Fo07</td>\n",
       "      <td>0.51280</td>\n",
       "      <td>0.339</td>\n",
       "      <td>0.51293</td>\n",
       "    </tr>\n",
       "    <tr>\n",
       "      <th>1</th>\n",
       "      <td>Fo19</td>\n",
       "      <td>0.51287</td>\n",
       "      <td>0.263</td>\n",
       "      <td>0.51297</td>\n",
       "    </tr>\n",
       "    <tr>\n",
       "      <th>2</th>\n",
       "      <td>Fo23</td>\n",
       "      <td>0.51293</td>\n",
       "      <td>0.271</td>\n",
       "      <td>0.51304</td>\n",
       "    </tr>\n",
       "    <tr>\n",
       "      <th>3</th>\n",
       "      <td>Fo34</td>\n",
       "      <td>0.51292</td>\n",
       "      <td>0.255</td>\n",
       "      <td>0.51302</td>\n",
       "    </tr>\n",
       "    <tr>\n",
       "      <th>4</th>\n",
       "      <td>Fo41</td>\n",
       "      <td>0.51286</td>\n",
       "      <td>0.279</td>\n",
       "      <td>0.51297</td>\n",
       "    </tr>\n",
       "  </tbody>\n",
       "</table>\n",
       "</div>"
      ],
      "text/plain": [
       "  Sample  143Nd/144Nd  Sm/Nd  calc_t2_143Nd/144Nd\n",
       "0   Fo07      0.51280  0.339              0.51293\n",
       "1   Fo19      0.51287  0.263              0.51297\n",
       "2   Fo23      0.51293  0.271              0.51304\n",
       "3   Fo34      0.51292  0.255              0.51302\n",
       "4   Fo41      0.51286  0.279              0.51297"
      ]
     },
     "execution_count": 30,
     "metadata": {},
     "output_type": "execute_result"
    }
   ],
   "source": [
    "carter_df['calc_t2_143Nd/144Nd'] = carter_df.apply(lambda row: round(gc.calc_t2_daughter(row['143Nd/144Nd'],\n",
    "                                                                                 row['Sm/Nd'],\n",
    "                                                                                 decay_const_Sm1978\n",
    "                                                                                 , t1),5),axis=1)\n",
    "carter_df[['Sample','143Nd/144Nd','Sm/Nd','calc_t2_143Nd/144Nd']].head()"
   ]
  },
  {
   "cell_type": "markdown",
   "metadata": {
    "slideshow": {
     "slide_type": "notes"
    }
   },
   "source": [
    "I then repeated these calculations with Sm and Nd."
   ]
  },
  {
   "cell_type": "markdown",
   "metadata": {
    "slideshow": {
     "slide_type": "slide"
    }
   },
   "source": [
    "### **Step 2:**  Recalculated the sample parent ratios based on current atomic weights and abundances from the IUPAC website."
   ]
  },
  {
   "cell_type": "code",
   "execution_count": 31,
   "metadata": {
    "slideshow": {
     "slide_type": "subslide"
    }
   },
   "outputs": [
    {
     "data": {
      "text/html": [
       "<div>\n",
       "<style scoped>\n",
       "    .dataframe tbody tr th:only-of-type {\n",
       "        vertical-align: middle;\n",
       "    }\n",
       "\n",
       "    .dataframe tbody tr th {\n",
       "        vertical-align: top;\n",
       "    }\n",
       "\n",
       "    .dataframe thead th {\n",
       "        text-align: right;\n",
       "    }\n",
       "</style>\n",
       "<table border=\"1\" class=\"dataframe\">\n",
       "  <thead>\n",
       "    <tr style=\"text-align: right;\">\n",
       "      <th></th>\n",
       "      <th>Sample</th>\n",
       "      <th>Rb/Sr</th>\n",
       "      <th>calc_86Sr</th>\n",
       "      <th>calc_Rb/Sr</th>\n",
       "      <th>diff_Rb/Sr</th>\n",
       "    </tr>\n",
       "  </thead>\n",
       "  <tbody>\n",
       "    <tr>\n",
       "      <th>0</th>\n",
       "      <td>Fo07</td>\n",
       "      <td>0.004</td>\n",
       "      <td>25.048803</td>\n",
       "      <td>0.001</td>\n",
       "      <td>0.003</td>\n",
       "    </tr>\n",
       "    <tr>\n",
       "      <th>1</th>\n",
       "      <td>Fo19</td>\n",
       "      <td>0.070</td>\n",
       "      <td>10.925159</td>\n",
       "      <td>0.010</td>\n",
       "      <td>0.060</td>\n",
       "    </tr>\n",
       "    <tr>\n",
       "      <th>2</th>\n",
       "      <td>Fo23</td>\n",
       "      <td>0.009</td>\n",
       "      <td>23.982854</td>\n",
       "      <td>0.001</td>\n",
       "      <td>0.008</td>\n",
       "    </tr>\n",
       "    <tr>\n",
       "      <th>3</th>\n",
       "      <td>Fo34</td>\n",
       "      <td>0.041</td>\n",
       "      <td>24.337608</td>\n",
       "      <td>0.005</td>\n",
       "      <td>0.036</td>\n",
       "    </tr>\n",
       "    <tr>\n",
       "      <th>4</th>\n",
       "      <td>Fo41</td>\n",
       "      <td>0.005</td>\n",
       "      <td>34.463815</td>\n",
       "      <td>0.001</td>\n",
       "      <td>0.004</td>\n",
       "    </tr>\n",
       "  </tbody>\n",
       "</table>\n",
       "</div>"
      ],
      "text/plain": [
       "  Sample  Rb/Sr  calc_86Sr  calc_Rb/Sr  diff_Rb/Sr\n",
       "0   Fo07  0.004  25.048803       0.001       0.003\n",
       "1   Fo19  0.070  10.925159       0.010       0.060\n",
       "2   Fo23  0.009  23.982854       0.001       0.008\n",
       "3   Fo34  0.041  24.337608       0.005       0.036\n",
       "4   Fo41  0.005  34.463815       0.001       0.004"
      ]
     },
     "execution_count": 31,
     "metadata": {},
     "output_type": "execute_result"
    }
   ],
   "source": [
    "carter_df['calc_86Sr'] = carter_df['Sr'] / (10.5466 + carter_df['calc_t2_87Sr/86Sr'] * 1.011636) # Numbers from Eglington spreadsheet\n",
    "carter_df['calc_87Rb'] = carter_df['Rb'] / 85.46776 # Numbers from Eglington spreadsheet\n",
    "carter_df['calc_Rb/Sr'] = round((carter_df['calc_87Rb'] / carter_df['calc_86Sr'])*(Sr86_aw/Rb87_aw), 3)\n",
    "carter_df['diff_Rb/Sr'] = abs(round(carter_df['Rb/Sr'] - carter_df['calc_Rb/Sr'], 3))\n",
    "carter_df[['Sample','Rb/Sr','calc_86Sr', 'calc_Rb/Sr','diff_Rb/Sr']].head()"
   ]
  },
  {
   "cell_type": "markdown",
   "metadata": {
    "slideshow": {
     "slide_type": "notes"
    }
   },
   "source": [
    "I recalculated the Rb/Sr ratios using today's atomic weights, and also calculated the difference between the calculated values and the original values. These values don't show much of a change."
   ]
  },
  {
   "cell_type": "code",
   "execution_count": 32,
   "metadata": {
    "slideshow": {
     "slide_type": "subslide"
    }
   },
   "outputs": [
    {
     "data": {
      "text/html": [
       "<div>\n",
       "<style scoped>\n",
       "    .dataframe tbody tr th:only-of-type {\n",
       "        vertical-align: middle;\n",
       "    }\n",
       "\n",
       "    .dataframe tbody tr th {\n",
       "        vertical-align: top;\n",
       "    }\n",
       "\n",
       "    .dataframe thead th {\n",
       "        text-align: right;\n",
       "    }\n",
       "</style>\n",
       "<table border=\"1\" class=\"dataframe\">\n",
       "  <thead>\n",
       "    <tr style=\"text-align: right;\">\n",
       "      <th></th>\n",
       "      <th>Sample</th>\n",
       "      <th>Sm/Nd</th>\n",
       "      <th>calc_Sm/Nd</th>\n",
       "      <th>diff_Sm/Nd</th>\n",
       "    </tr>\n",
       "  </thead>\n",
       "  <tbody>\n",
       "    <tr>\n",
       "      <th>0</th>\n",
       "      <td>Fo07</td>\n",
       "      <td>0.339</td>\n",
       "      <td>0.214</td>\n",
       "      <td>0.125</td>\n",
       "    </tr>\n",
       "    <tr>\n",
       "      <th>1</th>\n",
       "      <td>Fo19</td>\n",
       "      <td>0.263</td>\n",
       "      <td>0.166</td>\n",
       "      <td>0.097</td>\n",
       "    </tr>\n",
       "    <tr>\n",
       "      <th>2</th>\n",
       "      <td>Fo23</td>\n",
       "      <td>0.271</td>\n",
       "      <td>0.171</td>\n",
       "      <td>0.100</td>\n",
       "    </tr>\n",
       "    <tr>\n",
       "      <th>3</th>\n",
       "      <td>Fo34</td>\n",
       "      <td>0.255</td>\n",
       "      <td>0.161</td>\n",
       "      <td>0.094</td>\n",
       "    </tr>\n",
       "    <tr>\n",
       "      <th>4</th>\n",
       "      <td>Fo41</td>\n",
       "      <td>0.279</td>\n",
       "      <td>0.176</td>\n",
       "      <td>0.103</td>\n",
       "    </tr>\n",
       "  </tbody>\n",
       "</table>\n",
       "</div>"
      ],
      "text/plain": [
       "  Sample  Sm/Nd  calc_Sm/Nd  diff_Sm/Nd\n",
       "0   Fo07  0.339       0.214       0.125\n",
       "1   Fo19  0.263       0.166       0.097\n",
       "2   Fo23  0.271       0.171       0.100\n",
       "3   Fo34  0.255       0.161       0.094\n",
       "4   Fo41  0.279       0.176       0.103"
      ]
     },
     "execution_count": 32,
     "metadata": {},
     "output_type": "execute_result"
    }
   ],
   "source": [
    "carter_df['calc_147Sm'] = carter_df['Sm'] / 6.825219 # Numbers from Eglington spreadsheet\n",
    "carter_df['calc_144Nd'] = carter_df['Nd'] / (3.703328 + carter_df['calc_t2_87Sr/86Sr'] * 0.9930493) # Numbers from Eglington spreadsheet\n",
    "carter_df['calc_Sm/Nd'] = round((carter_df['calc_147Sm'] / carter_df['calc_144Nd'])*(Nd144_aw/Sm147_aw), 3)\n",
    "carter_df['diff_Sm/Nd'] = abs(round(carter_df['Sm/Nd'] - carter_df['calc_Sm/Nd'], 3))\n",
    "carter_df[['Sample','Sm/Nd','calc_Sm/Nd','diff_Sm/Nd']].head()"
   ]
  },
  {
   "cell_type": "markdown",
   "metadata": {
    "slideshow": {
     "slide_type": "notes"
    }
   },
   "source": [
    "I repeated the calculations here with Sm and Nd, and there is more of a deviation here from the original calculated values. This is likely because Sm and Nd atomic weights and isotopic abundances have evolved more since 1979 than Rb and Sr.  This is likely going to effect future calculations."
   ]
  },
  {
   "cell_type": "markdown",
   "metadata": {
    "slideshow": {
     "slide_type": "slide"
    }
   },
   "source": [
    "###### **Step 3:**  Recalculate the 60 Ma initial ratios based on the measured initial ratios, the recalculated parent ratios, the updated decay constants(in the case of Rb), and 60 Ma age."
   ]
  },
  {
   "cell_type": "code",
   "execution_count": 33,
   "metadata": {
    "slideshow": {
     "slide_type": "subslide"
    }
   },
   "outputs": [
    {
     "data": {
      "text/html": [
       "<div>\n",
       "<style scoped>\n",
       "    .dataframe tbody tr th:only-of-type {\n",
       "        vertical-align: middle;\n",
       "    }\n",
       "\n",
       "    .dataframe tbody tr th {\n",
       "        vertical-align: top;\n",
       "    }\n",
       "\n",
       "    .dataframe thead th {\n",
       "        text-align: right;\n",
       "    }\n",
       "</style>\n",
       "<table border=\"1\" class=\"dataframe\">\n",
       "  <thead>\n",
       "    <tr style=\"text-align: right;\">\n",
       "      <th></th>\n",
       "      <th>Sample</th>\n",
       "      <th>calc_t2_87Sr/86Sr</th>\n",
       "      <th>calc_Rb/Sr</th>\n",
       "      <th>recalc_87Sr/86Sr</th>\n",
       "      <th>87Sr/86Sr</th>\n",
       "      <th>diff_87Sr/86Sr</th>\n",
       "    </tr>\n",
       "  </thead>\n",
       "  <tbody>\n",
       "    <tr>\n",
       "      <th>0</th>\n",
       "      <td>Fo07</td>\n",
       "      <td>0.70324</td>\n",
       "      <td>0.001</td>\n",
       "      <td>0.70324</td>\n",
       "      <td>0.70324</td>\n",
       "      <td>0.00000</td>\n",
       "    </tr>\n",
       "    <tr>\n",
       "      <th>1</th>\n",
       "      <td>Fo19</td>\n",
       "      <td>0.70363</td>\n",
       "      <td>0.010</td>\n",
       "      <td>0.70362</td>\n",
       "      <td>0.70357</td>\n",
       "      <td>0.00005</td>\n",
       "    </tr>\n",
       "    <tr>\n",
       "      <th>2</th>\n",
       "      <td>Fo23</td>\n",
       "      <td>0.70326</td>\n",
       "      <td>0.001</td>\n",
       "      <td>0.70326</td>\n",
       "      <td>0.70325</td>\n",
       "      <td>0.00001</td>\n",
       "    </tr>\n",
       "    <tr>\n",
       "      <th>3</th>\n",
       "      <td>Fo34</td>\n",
       "      <td>0.70351</td>\n",
       "      <td>0.005</td>\n",
       "      <td>0.70351</td>\n",
       "      <td>0.70348</td>\n",
       "      <td>0.00003</td>\n",
       "    </tr>\n",
       "    <tr>\n",
       "      <th>4</th>\n",
       "      <td>Fo41</td>\n",
       "      <td>0.70340</td>\n",
       "      <td>0.001</td>\n",
       "      <td>0.70340</td>\n",
       "      <td>0.70340</td>\n",
       "      <td>0.00000</td>\n",
       "    </tr>\n",
       "  </tbody>\n",
       "</table>\n",
       "</div>"
      ],
      "text/plain": [
       "  Sample  calc_t2_87Sr/86Sr  calc_Rb/Sr  recalc_87Sr/86Sr  87Sr/86Sr  \\\n",
       "0   Fo07            0.70324       0.001           0.70324    0.70324   \n",
       "1   Fo19            0.70363       0.010           0.70362    0.70357   \n",
       "2   Fo23            0.70326       0.001           0.70326    0.70325   \n",
       "3   Fo34            0.70351       0.005           0.70351    0.70348   \n",
       "4   Fo41            0.70340       0.001           0.70340    0.70340   \n",
       "\n",
       "   diff_87Sr/86Sr  \n",
       "0         0.00000  \n",
       "1         0.00005  \n",
       "2         0.00001  \n",
       "3         0.00003  \n",
       "4         0.00000  "
      ]
     },
     "execution_count": 33,
     "metadata": {},
     "output_type": "execute_result"
    }
   ],
   "source": [
    "carter_df['recalc_87Sr/86Sr'] = carter_df.apply(lambda row: round(gc.calc_initial(row['calc_t2_87Sr/86Sr'],\n",
    "                                                                                 row['calc_Rb/Sr'],\n",
    "                                                                                 decay_const_Rb2015, \n",
    "                                                                                 t1),5),axis=1)\n",
    "carter_df['diff_87Sr/86Sr'] = abs(round(carter_df['87Sr/86Sr'] - carter_df['recalc_87Sr/86Sr'], 5))\n",
    "carter_df[['Sample','calc_t2_87Sr/86Sr', 'calc_Rb/Sr','recalc_87Sr/86Sr','87Sr/86Sr', 'diff_87Sr/86Sr']].head()"
   ]
  },
  {
   "cell_type": "markdown",
   "metadata": {
    "slideshow": {
     "slide_type": "notes"
    }
   },
   "source": [
    "Finally I recalculated for 60 Ma.  For the recalculated 87Sr/86Sr there is very little to no difference in initial daughter ratios."
   ]
  },
  {
   "cell_type": "code",
   "execution_count": 34,
   "metadata": {
    "slideshow": {
     "slide_type": "subslide"
    }
   },
   "outputs": [
    {
     "data": {
      "text/html": [
       "<div>\n",
       "<style scoped>\n",
       "    .dataframe tbody tr th:only-of-type {\n",
       "        vertical-align: middle;\n",
       "    }\n",
       "\n",
       "    .dataframe tbody tr th {\n",
       "        vertical-align: top;\n",
       "    }\n",
       "\n",
       "    .dataframe thead th {\n",
       "        text-align: right;\n",
       "    }\n",
       "</style>\n",
       "<table border=\"1\" class=\"dataframe\">\n",
       "  <thead>\n",
       "    <tr style=\"text-align: right;\">\n",
       "      <th></th>\n",
       "      <th>Sample</th>\n",
       "      <th>calc_t2_143Nd/144Nd</th>\n",
       "      <th>calc_Sm/Nd</th>\n",
       "      <th>recalc_143Nd/144Nd</th>\n",
       "      <th>143Nd/144Nd</th>\n",
       "      <th>diff_143Nd/144Nd</th>\n",
       "    </tr>\n",
       "  </thead>\n",
       "  <tbody>\n",
       "    <tr>\n",
       "      <th>0</th>\n",
       "      <td>Fo07</td>\n",
       "      <td>0.51293</td>\n",
       "      <td>0.214</td>\n",
       "      <td>0.51301</td>\n",
       "      <td>0.51280</td>\n",
       "      <td>0.00021</td>\n",
       "    </tr>\n",
       "    <tr>\n",
       "      <th>1</th>\n",
       "      <td>Fo19</td>\n",
       "      <td>0.51297</td>\n",
       "      <td>0.166</td>\n",
       "      <td>0.51304</td>\n",
       "      <td>0.51287</td>\n",
       "      <td>0.00017</td>\n",
       "    </tr>\n",
       "    <tr>\n",
       "      <th>2</th>\n",
       "      <td>Fo23</td>\n",
       "      <td>0.51304</td>\n",
       "      <td>0.171</td>\n",
       "      <td>0.51311</td>\n",
       "      <td>0.51293</td>\n",
       "      <td>0.00018</td>\n",
       "    </tr>\n",
       "    <tr>\n",
       "      <th>3</th>\n",
       "      <td>Fo34</td>\n",
       "      <td>0.51302</td>\n",
       "      <td>0.161</td>\n",
       "      <td>0.51308</td>\n",
       "      <td>0.51292</td>\n",
       "      <td>0.00016</td>\n",
       "    </tr>\n",
       "    <tr>\n",
       "      <th>4</th>\n",
       "      <td>Fo41</td>\n",
       "      <td>0.51297</td>\n",
       "      <td>0.176</td>\n",
       "      <td>0.51304</td>\n",
       "      <td>0.51286</td>\n",
       "      <td>0.00018</td>\n",
       "    </tr>\n",
       "  </tbody>\n",
       "</table>\n",
       "</div>"
      ],
      "text/plain": [
       "  Sample  calc_t2_143Nd/144Nd  calc_Sm/Nd  recalc_143Nd/144Nd  143Nd/144Nd  \\\n",
       "0   Fo07              0.51293       0.214             0.51301      0.51280   \n",
       "1   Fo19              0.51297       0.166             0.51304      0.51287   \n",
       "2   Fo23              0.51304       0.171             0.51311      0.51293   \n",
       "3   Fo34              0.51302       0.161             0.51308      0.51292   \n",
       "4   Fo41              0.51297       0.176             0.51304      0.51286   \n",
       "\n",
       "   diff_143Nd/144Nd  \n",
       "0           0.00021  \n",
       "1           0.00017  \n",
       "2           0.00018  \n",
       "3           0.00016  \n",
       "4           0.00018  "
      ]
     },
     "execution_count": 34,
     "metadata": {},
     "output_type": "execute_result"
    }
   ],
   "source": [
    "carter_df['recalc_143Nd/144Nd'] = carter_df.apply(lambda row: round(gc.calc_t2_daughter(row['calc_t2_143Nd/144Nd'],\n",
    "                                                                                 row['calc_Sm/Nd'],\n",
    "                                                                                 decay_const_Sm1978\n",
    "                                                                                 , t1),5),axis=1)\n",
    "carter_df['diff_143Nd/144Nd'] = abs(round(carter_df['143Nd/144Nd'] - carter_df['recalc_143Nd/144Nd'], 5))\n",
    "carter_df[['Sample', 'calc_t2_143Nd/144Nd', 'calc_Sm/Nd', 'recalc_143Nd/144Nd', '143Nd/144Nd', 'diff_143Nd/144Nd']].head()"
   ]
  },
  {
   "cell_type": "markdown",
   "metadata": {
    "slideshow": {
     "slide_type": "notes"
    }
   },
   "source": [
    "Doing the same with Sm and Nd, we can see there is some variation here at the ten thousand decimal place."
   ]
  },
  {
   "cell_type": "markdown",
   "metadata": {
    "slideshow": {
     "slide_type": "slide"
    }
   },
   "source": [
    "### Step 4: Comparisons in figures and statistics"
   ]
  },
  {
   "cell_type": "markdown",
   "metadata": {
    "slideshow": {
     "slide_type": "subslide"
    }
   },
   "source": [
    "<center><img src=\"images/carter_fig_2.png\" align=\"center\"></center>"
   ]
  },
  {
   "cell_type": "markdown",
   "metadata": {
    "slideshow": {
     "slide_type": "notes"
    }
   },
   "source": [
    "This is the original figure from the paper. The plot shows a comparison of 143Nd/144Nd and 87Sr/86Sr ratios at 60 Ma (their time of eruption). "
   ]
  },
  {
   "cell_type": "code",
   "execution_count": 35,
   "metadata": {
    "slideshow": {
     "slide_type": "subslide"
    }
   },
   "outputs": [],
   "source": [
    "faeroes_df = carter_df[carter_df['Region'] == \"Faeroes\"]\n",
    "eg_df = carter_df[carter_df['Region'] == \"East Greenland\"]\n",
    "wg_df = carter_df[carter_df['Region'] == \"Baffin and Svartenhuk\"]"
   ]
  },
  {
   "cell_type": "markdown",
   "metadata": {
    "slideshow": {
     "slide_type": "notes"
    }
   },
   "source": [
    "This figure has different symbols for each region, so I'm going to first separate these out in my dataframe so I can plot them separately."
   ]
  },
  {
   "cell_type": "code",
   "execution_count": 36,
   "metadata": {
    "slideshow": {
     "slide_type": "skip"
    }
   },
   "outputs": [],
   "source": [
    "xmin, xmax = 0.702, 0.706\n",
    "ymin, ymax = 0.5120, 0.5134\n",
    "\n",
    "figure1 = gc.get_figure(\"Comparison of 143Nd/144Nd and 87Sr/86Sr Tertiary Lavas\",\n",
    "                        \"87Sr/86Sr\",\n",
    "                        \"143Nd/144Nd\",\n",
    "                        [xmin,xmax],\n",
    "                        [ymin,ymax])\n",
    "index_cmap = factor_cmap('Region', palette=['red', 'blue', 'green'], \n",
    "                         factors=sorted(carter_df.Region.unique()))\n",
    "\n",
    "figure1.line([xmin,0.7055],[0.5130,0.5124],\n",
    "            line_dash=\"4 4\",\n",
    "            line_width=1,\n",
    "            color=\"black\")\n",
    "figure1.line([xmin,0.7055],[0.5132,0.5126],\n",
    "            line_dash=\"4 4\",\n",
    "            line_width=1,\n",
    "            color=\"black\")\n",
    "\n",
    "figure1.line([xmin,xmax],[Nd_CHUR_1977,Nd_CHUR_1977],\n",
    "            line_width=1,\n",
    "            color=\"black\")\n",
    "\n",
    "figure1.line([Sr_CHUR_1977,Sr_CHUR_1977],[ymin,ymax],\n",
    "            line_width=1,\n",
    "            color=\"black\")\n",
    "\n",
    "figure1.scatter('87Sr/86Sr','143Nd/144Nd',\n",
    "                source=wg_df,fill_alpha=0.6,\n",
    "                fill_color=index_cmap,\n",
    "                size=10,\n",
    "                marker=\"square_cross\",\n",
    "                legend_label='West Greenland')\n",
    "figure1.scatter('87Sr/86Sr','143Nd/144Nd',\n",
    "                source=eg_df,fill_alpha=0.6,\n",
    "                fill_color=index_cmap,\n",
    "                size=10,\n",
    "                marker='circle_cross',\n",
    "                legend_label='East Greenland')\n",
    "figure1.scatter('87Sr/86Sr','143Nd/144Nd',\n",
    "                source=faeroes_df,\n",
    "                fill_alpha=0.6,\n",
    "                fill_color=index_cmap,\n",
    "                size=10,\n",
    "                marker=\"diamond_cross\",\n",
    "                legend_label='Faeroes')\n",
    "\n",
    "figure1.scatter('recalc_87Sr/86Sr','recalc_143Nd/144Nd',\n",
    "                source=wg_df,fill_alpha=0.6,\n",
    "                fill_color=index_cmap,\n",
    "                size=10,\n",
    "                marker=\"square\",\n",
    "                legend_label='Recalculated West Greenland')\n",
    "figure1.scatter('recalc_87Sr/86Sr','recalc_143Nd/144Nd',\n",
    "                source=eg_df,fill_alpha=0.6,\n",
    "                fill_color=index_cmap,\n",
    "                size=10,\n",
    "                marker=\"circle\",\n",
    "                legend_label='Recalculated East Greenland')\n",
    "figure1.scatter('recalc_87Sr/86Sr','recalc_143Nd/144Nd',\n",
    "                source=faeroes_df,fill_alpha=0.6,\n",
    "                fill_color=index_cmap,\n",
    "                size=10,\n",
    "                marker=\"diamond\",\n",
    "                legend_label='Recalculated Faeros')\n",
    "\n",
    "figure1.legend.click_policy=\"hide\""
   ]
  },
  {
   "cell_type": "code",
   "execution_count": 37,
   "metadata": {
    "scrolled": false,
    "slideshow": {
     "slide_type": "subslide"
    }
   },
   "outputs": [
    {
     "data": {
      "text/html": [
       "\n",
       "\n",
       "\n",
       "\n",
       "\n",
       "\n",
       "  <div class=\"bk-root\" id=\"c1d388d3-f128-46dd-b286-f671dcbab75c\" data-root-id=\"1383\"></div>\n"
      ]
     },
     "metadata": {},
     "output_type": "display_data"
    },
    {
     "data": {
      "application/javascript": [
       "(function(root) {\n",
       "  function embed_document(root) {\n",
       "    \n",
       "  var docs_json = {\"f3dba9c2-9dad-4ac5-890b-25839182211d\":{\"roots\":{\"references\":[{\"attributes\":{\"below\":[{\"id\":\"1394\"}],\"center\":[{\"id\":\"1397\"},{\"id\":\"1401\"},{\"id\":\"1460\"}],\"left\":[{\"id\":\"1398\"}],\"plot_height\":500,\"plot_width\":700,\"renderers\":[{\"id\":\"1421\"},{\"id\":\"1426\"},{\"id\":\"1431\"},{\"id\":\"1436\"},{\"id\":\"1442\"},{\"id\":\"1466\"},{\"id\":\"1491\"},{\"id\":\"1518\"},{\"id\":\"1547\"},{\"id\":\"1578\"}],\"title\":{\"id\":\"1384\"},\"toolbar\":{\"id\":\"1409\"},\"toolbar_location\":\"left\",\"toolbar_sticky\":false,\"x_range\":{\"id\":\"1386\"},\"x_scale\":{\"id\":\"1390\"},\"y_range\":{\"id\":\"1388\"},\"y_scale\":{\"id\":\"1392\"}},\"id\":\"1383\",\"subtype\":\"Figure\",\"type\":\"Plot\"},{\"attributes\":{\"fill_alpha\":{\"value\":0.1},\"fill_color\":{\"field\":\"Region\",\"transform\":{\"id\":\"1417\"}},\"line_alpha\":{\"value\":0.1},\"line_color\":{\"value\":\"#1f77b4\"},\"marker\":{\"value\":\"square_cross\"},\"size\":{\"units\":\"screen\",\"value\":10},\"x\":{\"field\":\"87Sr/86Sr\"},\"y\":{\"field\":\"143Nd/144Nd\"}},\"id\":\"1441\",\"type\":\"Scatter\"},{\"attributes\":{\"data_source\":{\"id\":\"1438\"},\"glyph\":{\"id\":\"1440\"},\"hover_glyph\":null,\"muted_glyph\":null,\"nonselection_glyph\":{\"id\":\"1441\"},\"selection_glyph\":null,\"view\":{\"id\":\"1443\"}},\"id\":\"1442\",\"type\":\"GlyphRenderer\"},{\"attributes\":{},\"id\":\"1447\",\"type\":\"BasicTickFormatter\"},{\"attributes\":{\"source\":{\"id\":\"1438\"}},\"id\":\"1443\",\"type\":\"CDSView\"},{\"attributes\":{},\"id\":\"1445\",\"type\":\"BasicTickFormatter\"},{\"attributes\":{},\"id\":\"1450\",\"type\":\"UnionRenderers\"},{\"attributes\":{},\"id\":\"1451\",\"type\":\"Selection\"},{\"attributes\":{\"data\":{\"x\":[0.702,0.706],\"y\":[0.51263,0.51263]},\"selected\":{\"id\":\"1455\"},\"selection_policy\":{\"id\":\"1454\"}},\"id\":\"1428\",\"type\":\"ColumnDataSource\"},{\"attributes\":{},\"id\":\"1452\",\"type\":\"UnionRenderers\"},{\"attributes\":{},\"id\":\"1453\",\"type\":\"Selection\"},{\"attributes\":{},\"id\":\"1454\",\"type\":\"UnionRenderers\"},{\"attributes\":{\"data\":{\"x\":[0.702,0.7055],\"y\":[0.513,0.5124]},\"selected\":{\"id\":\"1451\"},\"selection_policy\":{\"id\":\"1450\"}},\"id\":\"1418\",\"type\":\"ColumnDataSource\"},{\"attributes\":{},\"id\":\"1455\",\"type\":\"Selection\"},{\"attributes\":{\"active_drag\":\"auto\",\"active_inspect\":\"auto\",\"active_multi\":null,\"active_scroll\":\"auto\",\"active_tap\":\"auto\",\"logo\":null,\"tools\":[{\"id\":\"1402\"},{\"id\":\"1403\"},{\"id\":\"1404\"},{\"id\":\"1405\"},{\"id\":\"1406\"},{\"id\":\"1407\"}]},\"id\":\"1409\",\"type\":\"Toolbar\"},{\"attributes\":{},\"id\":\"1456\",\"type\":\"UnionRenderers\"},{\"attributes\":{},\"id\":\"1457\",\"type\":\"Selection\"},{\"attributes\":{},\"id\":\"1458\",\"type\":\"UnionRenderers\"},{\"attributes\":{},\"id\":\"1459\",\"type\":\"Selection\"},{\"attributes\":{\"label\":{\"value\":\"West Greenland\"},\"renderers\":[{\"id\":\"1442\"}]},\"id\":\"1461\",\"type\":\"LegendItem\"},{\"attributes\":{\"data\":{\"143Nd/144Nd\":{\"__ndarray__\":\"DXGsi9to4D9EL6NYbmngP5lk5CzsaeA/tdsuNNdp4D9hpu1fWWngPwoRcAhVauA/\",\"dtype\":\"float64\",\"order\":\"little\",\"shape\":[6]},\"87Sr/86Sr\":{\"__ndarray__\":\"N6YnLPGA5j+IS447pYPmPxsv3SQGgeY/iXssfeiC5j9uNIC3QILmP8OZX80BguY/\",\"dtype\":\"float64\",\"order\":\"little\",\"shape\":[6]},\"Location\":[\"Torshavn\",\"Torshavn\",\"Torshavn\",\"Suduroy\",\"Suduroy\",\"Vestmanna\"],\"Nd\":{\"__ndarray__\":\"XI/C9ShcH0CamZmZmRk1QGZmZmZm5jZAmpmZmZmZO0CamZmZmZksQGZmZmZmZi5A\",\"dtype\":\"float64\",\"order\":\"little\",\"shape\":[6]},\"NdError\":{\"__ndarray__\":\"8WjjiLX49D5oHVVNEHX/PvFo44i1+PQ+8WjjiLX49D5oHVVNEHX/PmgdVU0Qdf8+\",\"dtype\":\"float64\",\"order\":\"little\",\"shape\":[6]},\"Rb\":{\"__ndarray__\":\"CtejcD0K8z8K16NwPQoiQD0K16NwPQRAMzMzMzMzJkDsUbgehev9P4/C9ShcjxdA\",\"dtype\":\"float64\",\"order\":\"little\",\"shape\":[6]},\"Rb/Sr\":{\"__ndarray__\":\"/Knx0k1icD/sUbgeheuxPzzfT42XboI/yqFFtvP9pD97FK5H4Xp0P1g5tMh2vp8/\",\"dtype\":\"float64\",\"order\":\"little\",\"shape\":[6]},\"Region\":[\"Faeroes\",\"Faeroes\",\"Faeroes\",\"Faeroes\",\"Faeroes\",\"Faeroes\"],\"Sample\":[\"Fo07\",\"Fo19\",\"Fo23\",\"Fo34\",\"Fo41\",\"Fo52\"],\"Sm\":{\"__ndarray__\":\"SOF6FK5HBUApXI/C9SgWQM3MzMzMzBhAKVyPwvUoHEDsUbgehesPQNejcD0K1xBA\",\"dtype\":\"float64\",\"order\":\"little\",\"shape\":[6]},\"Sm/Nd\":{\"__ndarray__\":\"GARWDi2y1T+iRbbz/dTQP/LSTWIQWNE/UrgehetR0D9BYOXQItvRP+18PzVeutE/\",\"dtype\":\"float64\",\"order\":\"little\",\"shape\":[6]},\"Sr\":[282,123,270,274,388,188],\"SrError\":{\"__ndarray__\":\"aB1VTRB1/z4tQxzr4jYKP/Fo44i1+AQ/LUMc6+I2Cj/xaOOItfgEP/Fo44i1+AQ/\",\"dtype\":\"float64\",\"order\":\"little\",\"shape\":[6]},\"calc_144Nd\":{\"__ndarray__\":\"rlUdrop//D/9sWxIPSwTQJZ3YntlzxRA/f6YGG4UGUAHhFUtOP0JQIhotBr0nwtA\",\"dtype\":\"float64\",\"order\":\"little\",\"shape\":[6]},\"calc_147Sm\":{\"__ndarray__\":\"fs0YpVrx2D8gbNf6aPnpPwZIE/yTEe0/IerpW+WA8D8fmtL7A7XiP8A4kVESveM/\",\"dtype\":\"float64\",\"order\":\"little\",\"shape\":[6]},\"calc_86Sr\":{\"__ndarray__\":\"iFi9XX4MOUAr3/JurtklQKQstkqc+zdAD+COgG1WOED89olMXjtBQGEMJC3vsjBA\",\"dtype\":\"float64\",\"order\":\"little\",\"shape\":[6]},\"calc_87Rb\":{\"__ndarray__\":\"TUu0RdyDjD+mS2PjdgS7P3vke4jvT54/8Ui2KbKfwD/hqA3JmmeWP1i5fL5npLE/\",\"dtype\":\"float64\",\"order\":\"little\",\"shape\":[6]},\"calc_Rb/Sr\":{\"__ndarray__\":\"/Knx0k1iUD97FK5H4XqEP/yp8dJNYlA/exSuR+F6dD/8qfHSTWJQP/yp8dJNYnA/\",\"dtype\":\"float64\",\"order\":\"little\",\"shape\":[6]},\"calc_Sm/Nd\":{\"__ndarray__\":\"MQisHFpkyz9zaJHtfD/FPxfZzvdT48U/z/dT46WbxD+6SQwCK4fGP2ZmZmZmZsY/\",\"dtype\":\"float64\",\"order\":\"little\",\"shape\":[6]},\"calc_t2_143Nd/144Nd\":{\"__ndarray__\":\"mWTkLOxp4D8niLoPQGrgP19GsdzSauA/mDRG66hq4D8niLoPQGrgP9DyPLg7a+A/\",\"dtype\":\"float64\",\"order\":\"little\",\"shape\":[6]},\"calc_t2_87Sr/86Sr\":{\"__ndarray__\":\"N6YnLPGA5j/cgM8PI4TmP/63kh0bgeY/MxZNZyeD5j9uNIC3QILmP240gLdAguY/\",\"dtype\":\"float64\",\"order\":\"little\",\"shape\":[6]},\"diff_143Nd/144Nd\":{\"__ndarray__\":\"vHmqQ26GKz+An3HhQEgmPw/W/znMlyc/8WjjiLX4JD8P1v85zJcnPw/W/znMlyc/\",\"dtype\":\"float64\",\"order\":\"little\",\"shape\":[6]},\"diff_87Sr/86Sr\":{\"__ndarray__\":\"AAAAAAAAAAAtQxzr4jYKP/Fo44i1+OQ+aR1VTRB1/z4AAAAAAAAAAGkdVU0Qdf8+\",\"dtype\":\"float64\",\"order\":\"little\",\"shape\":[6]},\"diff_Rb/Sr\":{\"__ndarray__\":\"+n5qvHSTaD+4HoXrUbiuP/yp8dJNYoA/O99PjZduoj/8qfHSTWJwP9nO91PjpZs/\",\"dtype\":\"float64\",\"order\":\"little\",\"shape\":[6]},\"diff_Sm/Nd\":{\"__ndarray__\":\"AAAAAAAAwD+iRbbz/dS4P5qZmZmZmbk/qvHSTWIQuD+R7Xw/NV66P+kmMQisHLo/\",\"dtype\":\"float64\",\"order\":\"little\",\"shape\":[6]},\"index\":[0,1,2,3,4,5],\"recalc_143Nd/144Nd\":{\"__ndarray__\":\"tKuQ8pNq4D9fRrHc0mrgP5YEqKlla+A/7GmHvyZr4D9fRrHc0mrgPwexM4XOa+A/\",\"dtype\":\"float64\",\"order\":\"little\",\"shape\":[6]},\"recalc_87Sr/86Sr\":{\"__ndarray__\":\"N6YnLPGA5j/59xkXDoTmP/63kh0bgeY/MxZNZyeD5j9uNIC3QILmP240gLdAguY/\",\"dtype\":\"float64\",\"order\":\"little\",\"shape\":[6]}},\"selected\":{\"id\":\"1512\"},\"selection_policy\":{\"id\":\"1511\"}},\"id\":\"1487\",\"type\":\"ColumnDataSource\"},{\"attributes\":{},\"id\":\"1512\",\"type\":\"Selection\"},{\"attributes\":{\"source\":{\"id\":\"1418\"}},\"id\":\"1422\",\"type\":\"CDSView\"},{\"attributes\":{\"fill_alpha\":{\"value\":0.1},\"fill_color\":{\"field\":\"Region\",\"transform\":{\"id\":\"1417\"}},\"line_alpha\":{\"value\":0.1},\"line_color\":{\"value\":\"#1f77b4\"},\"marker\":{\"value\":\"diamond_cross\"},\"size\":{\"units\":\"screen\",\"value\":10},\"x\":{\"field\":\"87Sr/86Sr\"},\"y\":{\"field\":\"143Nd/144Nd\"}},\"id\":\"1490\",\"type\":\"Scatter\"},{\"attributes\":{\"label\":{\"value\":\"Faeroes\"},\"renderers\":[{\"id\":\"1491\"}]},\"id\":\"1513\",\"type\":\"LegendItem\"},{\"attributes\":{\"data\":{\"143Nd/144Nd\":{\"__ndarray__\":\"KLhYUYNp4D9i1ouhnGjgPw1xrIvbaOA/YabtX1lp4D+3C811GmngPyi4WFGDaeA/\",\"dtype\":\"float64\",\"order\":\"little\",\"shape\":[6]},\"87Sr/86Sr\":{\"__ndarray__\":\"nwJgPIOG5j8Wb2Qe+YPmP2qkpfJ2hOY/3IDPDyOE5j/gEKrU7IHmP4zbaABvgeY/\",\"dtype\":\"float64\",\"order\":\"little\",\"shape\":[6]},\"Location\":[\"Mikis Fjord\",\"Nansens Fjord\",\"Nansens Fjord\",\"Wiedemans Fjord\",\"Wiedemans Fjord\",\"Scoresbysund\"],\"Nd\":{\"__ndarray__\":\"AAAAAACAMUDNzMzMzEw6QAAAAAAAADlAMzMzMzOzM0BmZmZmZmY1QDMzMzMzszFA\",\"dtype\":\"float64\",\"order\":\"little\",\"shape\":[6]},\"NdError\":{\"__ndarray__\":\"aB1VTRB1/z5oHVVNEHX/PvFo44i1+PQ+aB1VTRB1/z7xaOOItfj0PvFo44i1+PQ+\",\"dtype\":\"float64\",\"order\":\"little\",\"shape\":[6]},\"Rb\":{\"__ndarray__\":\"ZmZmZmZmJUAAAAAAAAAmQD0K16NwPQRAH4XrUbgeEUAzMzMzMzMqQGZmZmZmZhFA\",\"dtype\":\"float64\",\"order\":\"little\",\"shape\":[6]},\"Rb/Sr\":{\"__ndarray__\":\"WDm0yHa+nz97FK5H4XqkP/p+arx0k3g/nMQgsHJokT8YBFYOLbKtP3sUrkfhepQ/\",\"dtype\":\"float64\",\"order\":\"little\",\"shape\":[6]},\"Region\":[\"East Greenland\",\"East Greenland\",\"East Greenland\",\"East Greenland\",\"East Greenland\",\"East Greenland\"],\"Sample\":[\"MM20333\",\"CKB7147\",\"CKB7148\",\"EG7207\",\"EG7203\",\"EG7126\"],\"Sm\":{\"__ndarray__\":\"AAAAAAAAFEDNzMzMzMwaQBSuR+F6FBpAH4XrUbgeFUBcj8L1KFwWQPYoXI/C9RRA\",\"dtype\":\"float64\",\"order\":\"little\",\"shape\":[6]},\"Sm/Nd\":{\"__ndarray__\":\"PQrXo3A90j9SuB6F61HQP05iEFg5tNA/9P3UeOkm0T9OYhBYObTQP4xs5/up8dI/\",\"dtype\":\"float64\",\"order\":\"little\",\"shape\":[6]},\"Sr\":[349,277,362,255,244,214],\"SrError\":{\"__ndarray__\":\"8WjjiLX4BD8tQxzr4jYKPy1DHOviNgo/LUMc6+I2Cj/xaOOItfgEP/Fo44i1+BQ/\",\"dtype\":\"float64\",\"order\":\"little\",\"shape\":[6]},\"calc_144Nd\":{\"__ndarray__\":\"H088qArND0Ds8irO1uUXQEseVEhitxZAub4vWpDmEUBMZtKXRXITQFg8Fk+gFRBA\",\"dtype\":\"float64\",\"order\":\"little\",\"shape\":[6]},\"calc_147Sm\":{\"__ndarray__\":\"HltJy0Vx5z+9ameQtGnvP2a64tWoke4/Mt/eCVjB6D//1d88bDXqP+bwpG5Vkeg/\",\"dtype\":\"float64\",\"order\":\"little\",\"shape\":[6]},\"calc_86Sr\":{\"__ndarray__\":\"EfaQ5oX/PkBksS4Okpo4QNTMiluoE0BAsedos1KmNkD9islgUKw1QFoQD/8uAjNA\",\"dtype\":\"float64\",\"order\":\"little\",\"shape\":[6]},\"calc_87Rb\":{\"__ndarray__\":\"4RXJaFYGwD8t/Ho5W3nAP3vke4jvT54/z+90dL2jqT8/SFjufJ7DPyYtTkgXD6o/\",\"dtype\":\"float64\",\"order\":\"little\",\"shape\":[6]},\"calc_Rb/Sr\":{\"__ndarray__\":\"/Knx0k1icD97FK5H4Xp0P/yp8dJNYlA//Knx0k1iYD956SYxCKx8P/p+arx0k2g/\",\"dtype\":\"float64\",\"order\":\"little\",\"shape\":[6]},\"calc_Sm/Nd\":{\"__ndarray__\":\"XrpJDAIrxz/P91PjpZvEPx+F61G4HsU/bxKDwMqhxT8fhetRuB7FP1YOLbKd78c/\",\"dtype\":\"float64\",\"order\":\"little\",\"shape\":[6]},\"calc_t2_143Nd/144Nd\":{\"__ndarray__\":\"7ZklAWpq4D9FL6NYbmngP+/Jw0KtaeA/J4i6D0Bq4D+ZZOQs7GngP9Ei2/l+auA/\",\"dtype\":\"float64\",\"order\":\"little\",\"shape\":[6]},\"calc_t2_87Sr/86Sr\":{\"__ndarray__\":\"SZ2AJsKG5j/ACYUIOITmP00tW+uLhOY/wAmFCDiE5j9RvTWwVYLmP1Lt0/GYgeY/\",\"dtype\":\"float64\",\"order\":\"little\",\"shape\":[6]},\"diff_143Nd/144Nd\":{\"__ndarray__\":\"D9b/OcyXJz/xaOOItfgkP/Fo44i1+CQ/D9b/OcyXJz/xaOOItfgkP54MjpJX5yg/\",\"dtype\":\"float64\",\"order\":\"little\",\"shape\":[6]},\"diff_87Sr/86Sr\":{\"__ndarray__\":\"aR1VTRB1/z5pHVVNEHX/PvFo44i1+OQ+8WjjiLX45D7xaOOItfgEP/Fo44i1+PQ+\",\"dtype\":\"float64\",\"order\":\"little\",\"shape\":[6]},\"diff_Rb/Sr\":{\"__ndarray__\":\"2c73U+Olmz/sUbgeheuhP3sUrkfhenQ/uB6F61G4jj/pJjEIrByqP5zEILByaJE/\",\"dtype\":\"float64\",\"order\":\"little\",\"shape\":[6]},\"diff_Sm/Nd\":{\"__ndarray__\":\"ObTIdr6fuj+q8dJNYhC4P/p+arx0k7g/8tJNYhBYuT/6fmq8dJO4P4GVQ4ts57s/\",\"dtype\":\"float64\",\"order\":\"little\",\"shape\":[6]},\"index\":[6,7,8,9,10,11],\"recalc_143Nd/144Nd\":{\"__ndarray__\":\"JVgczvxq4D+ZZOQs7GngP0P/BBcrauA/X0ax3NJq4D/tmSUBamrgPwnh0cYRa+A/\",\"dtype\":\"float64\",\"order\":\"little\",\"shape\":[6]},\"recalc_87Sr/86Sr\":{\"__ndarray__\":\"SZ2AJsKG5j/ACYUIOITmP00tW+uLhOY/wAmFCDiE5j9uNIC3QILmP1Lt0/GYgeY/\",\"dtype\":\"float64\",\"order\":\"little\",\"shape\":[6]}},\"selected\":{\"id\":\"1572\"},\"selection_policy\":{\"id\":\"1571\"}},\"id\":\"1543\",\"type\":\"ColumnDataSource\"},{\"attributes\":{\"line_alpha\":0.1,\"line_dash\":[4,4],\"x\":{\"field\":\"x\"},\"y\":{\"field\":\"y\"}},\"id\":\"1420\",\"type\":\"Line\"},{\"attributes\":{\"fill_alpha\":{\"value\":0.1},\"fill_color\":{\"field\":\"Region\",\"transform\":{\"id\":\"1417\"}},\"line_alpha\":{\"value\":0.1},\"line_color\":{\"value\":\"#1f77b4\"},\"marker\":{\"value\":\"diamond\"},\"size\":{\"units\":\"screen\",\"value\":10},\"x\":{\"field\":\"recalc_87Sr/86Sr\"},\"y\":{\"field\":\"recalc_143Nd/144Nd\"}},\"id\":\"1577\",\"type\":\"Scatter\"},{\"attributes\":{\"fill_alpha\":{\"value\":0.6},\"fill_color\":{\"field\":\"Region\",\"transform\":{\"id\":\"1417\"}},\"line_color\":{\"value\":\"#1f77b4\"},\"marker\":{\"value\":\"square\"},\"size\":{\"units\":\"screen\",\"value\":10},\"x\":{\"field\":\"recalc_87Sr/86Sr\"},\"y\":{\"field\":\"recalc_143Nd/144Nd\"}},\"id\":\"1516\",\"type\":\"Scatter\"},{\"attributes\":{\"fill_alpha\":{\"value\":0.6},\"fill_color\":{\"field\":\"Region\",\"transform\":{\"id\":\"1417\"}},\"line_color\":{\"value\":\"#1f77b4\"},\"marker\":{\"value\":\"diamond\"},\"size\":{\"units\":\"screen\",\"value\":10},\"x\":{\"field\":\"recalc_87Sr/86Sr\"},\"y\":{\"field\":\"recalc_143Nd/144Nd\"}},\"id\":\"1576\",\"type\":\"Scatter\"},{\"attributes\":{\"data_source\":{\"id\":\"1418\"},\"glyph\":{\"id\":\"1419\"},\"hover_glyph\":null,\"muted_glyph\":null,\"nonselection_glyph\":{\"id\":\"1420\"},\"selection_glyph\":null,\"view\":{\"id\":\"1422\"}},\"id\":\"1421\",\"type\":\"GlyphRenderer\"},{\"attributes\":{\"line_dash\":[4,4],\"x\":{\"field\":\"x\"},\"y\":{\"field\":\"y\"}},\"id\":\"1419\",\"type\":\"Line\"},{\"attributes\":{\"data\":{\"143Nd/144Nd\":{\"__ndarray__\":\"78nDQq1p4D9EL6NYbmngP2LWi6GcaOA/7ZklAWpq4D+1q5Dyk2rgPwtBDkqYaeA/RC+jWG5p4D8=\",\"dtype\":\"float64\",\"order\":\"little\",\"shape\":[7]},\"87Sr/86Sr\":{\"__ndarray__\":\"jNtoAG+B5j+jkjoBTYTmP2O0jqomiOY//reSHRuB5j+s4o3MI3/mP6FinL8JheY/o5I6AU2E5j8=\",\"dtype\":\"float64\",\"order\":\"little\",\"shape\":[7]},\"Location\":[\"Cape Dyer\",\"Cape Dyer\",\"Cape Dyer\",\"Svartenhuk\",\"Svartenhuk\",\"Svartenhuk\",\"Svartenhuk\"],\"Nd\":{\"__ndarray__\":\"AAAAAAAAHkBSuB6F61EbQI/C9ShcDyFApHA9CtcjIkCkcD0K16McQGZmZmZmZi9AMzMzMzOzSUA=\",\"dtype\":\"float64\",\"order\":\"little\",\"shape\":[7]},\"NdError\":{\"__ndarray__\":\"aB1VTRB1/z5oHVVNEHX/PmgdVU0Qdf8+aB1VTRB1/z5oHVVNEHX/PmgdVU0Qdf8+8WjjiLX49D4=\",\"dtype\":\"float64\",\"order\":\"little\",\"shape\":[7]},\"Rb\":{\"__ndarray__\":\"16NwPQrX6z9cj8L1KFz/P3sUrkfhevw/exSuR+F6BEAAAAAAAAAsQArXo3A9CgFAAAAAAAAAT0A=\",\"dtype\":\"float64\",\"order\":\"little\",\"shape\":[7]},\"Rb/Sr\":{\"__ndarray__\":\"eOkmMQisfD/6fmq8dJN4Pzq0yHa+n4o/Gy/dJAaBlT/y0k1iEFi5P3sUrkfheoQ/PQrXo3A94j8=\",\"dtype\":\"float64\",\"order\":\"little\",\"shape\":[7]},\"Region\":[\"Baffin and Svartenhuk\",\"Baffin and Svartenhuk\",\"Baffin and Svartenhuk\",\"Baffin and Svartenhuk\",\"Baffin and Svartenhuk\",\"Baffin and Svartenhuk\",\"Baffin and Svartenhuk\"],\"Sample\":[\"B18\",\"B22\",\"B36\",\"S8\",\"S16\",\"S32\",\"S41 (trachyte)\"],\"Sm\":{\"__ndarray__\":\"7FG4HoXrAUAUrkfhehQAQNejcD0K1wVA7FG4HoXrBUC4HoXrUbgCQHsUrkfhehVAmpmZmZmZJEA=\",\"dtype\":\"float64\",\"order\":\"little\",\"shape\":[7]},\"Sm/Nd\":{\"__ndarray__\":\"iUFg5dAi0z83iUFg5dDSP3sUrkfhetQ/hxbZzvdT0z93vp8aL93UPxfZzvdT49U/mpmZmZmZyT8=\",\"dtype\":\"float64\",\"order\":\"little\",\"shape\":[7]},\"Sr\":[128,314,131,121,141,221,108],\"SrError\":{\"__ndarray__\":\"8WjjiLX4BD/xaOOItfgEP/Fo44i1+AQ/8WjjiLX4BD/xaOOItfgEP/Fo44i1+AQ/8WjjiLX4BD8=\",\"dtype\":\"float64\",\"order\":\"little\",\"shape\":[7]},\"calc_144Nd\":{\"__ndarray__\":\"ie0SEAtD+z//YgSJFNP4P9+KkMUHAP8/H/DO+gV8AEDmFlzA+Qb6P7TLsMEBiAxAZZ4hKZhZJ0A=\",\"dtype\":\"float64\",\"order\":\"little\",\"shape\":[7]},\"calc_147Sm\":{\"__ndarray__\":\"QkFY6SMB1T/XDD7wBdnSP4iPY8Rjmdk/roYAEmWx2T+96HnxMPHVP103IeddLek/u5hikU8l+D8=\",\"dtype\":\"float64\",\"order\":\"little\",\"shape\":[7]},\"calc_86Sr\":{\"__ndarray__\":\"h1KX8zu9JkDeEnwM4uM7QPWYGfw6RSdAbFB2eOZ+JUAHMqgEkwwpQOHNWeQpoTNAPxnbz0wvI0A=\",\"dtype\":\"float64\",\"order\":\"little\",\"shape\":[7]},\"calc_87Rb\":{\"__ndarray__\":\"UlcLbd/YhD8wa4VXpnuXP5LmlTqPU5U/7M+jYvOrnj8i+21gi/fEP/9LEoERhZk/nHrnc6M25z8=\",\"dtype\":\"float64\",\"order\":\"little\",\"shape\":[7]},\"calc_Rb/Sr\":{\"__ndarray__\":\"/Knx0k1iUD/8qfHSTWJQP/yp8dJNYmA/+n5qvHSTaD85tMh2vp+KP/yp8dJNYlA/MzMzMzMzsz8=\",\"dtype\":\"float64\",\"order\":\"little\",\"shape\":[7]},\"calc_Sm/Nd\":{\"__ndarray__\":\"/tR46SYxyD8CK4cW2c7HP0Jg5dAi28k/ppvEILByyD+R7Xw/NV7KP9nO91Pjpcs/qMZLN4lBwD8=\",\"dtype\":\"float64\",\"order\":\"little\",\"shape\":[7]},\"calc_t2_143Nd/144Nd\":{\"__ndarray__\":\"mDRG66hq4D/tmSUBamrgP+/Jw0KtaeA/lgSoqWVr4D9Bn8iTpGvgP5g0RuuoauA/YHZPHhZq4D8=\",\"dtype\":\"float64\",\"order\":\"little\",\"shape\":[7]},\"calc_t2_87Sr/86Sr\":{\"__ndarray__\":\"b2Qe+YOB5j+GG/D5YYTmP0c9RKM7iOY/xcn9DkWB5j/HKTqSy3/mP4XrUbgeheY/Ksb5m1CI5j8=\",\"dtype\":\"float64\",\"order\":\"little\",\"shape\":[7]},\"diff_143Nd/144Nd\":{\"__ndarray__\":\"ngyOklfnKD+eDI6SV+coP7x5qkNuhis/ngyOklfnKD+8eapDboYrP7x5qkNuhis/Q8U4fxMKIT8=\",\"dtype\":\"float64\",\"order\":\"little\",\"shape\":[7]},\"diff_87Sr/86Sr\":{\"__ndarray__\":\"8WjjiLX45D7xaOOItfjkPvFo44i1+OQ+8WjjiLX49D7S+8bXnlkSP/Fo44i1+OQ+A5Xx7zMuPD8=\",\"dtype\":\"float64\",\"order\":\"little\",\"shape\":[7]},\"diff_Rb/Sr\":{\"__ndarray__\":\"+n5qvHSTeD97FK5H4Xp0P7pJDAIrh4Y/O99PjZdukj9qvHSTGAS2PzvfT42XboI/rkfhehSu3z8=\",\"dtype\":\"float64\",\"order\":\"little\",\"shape\":[7]},\"diff_Sm/Nd\":{\"__ndarray__\":\"KVyPwvUovD/ZzvdT46W7P2iR7Xw/Nb4/0SLb+X5qvD+4HoXrUbi+P1TjpZvEIMA/46WbxCCwsj8=\",\"dtype\":\"float64\",\"order\":\"little\",\"shape\":[7]},\"index\":[12,13,14,15,16,17,18],\"recalc_143Nd/144Nd\":{\"__ndarray__\":\"0PI8uDtr4D8lWBzO/GrgPwoRcAhVauA/zsKedvhr4D9c5nRZTGzgP7N78rBQa+A/0SLb+X5q4D8=\",\"dtype\":\"float64\",\"order\":\"little\",\"shape\":[7]},\"recalc_87Sr/86Sr\":{\"__ndarray__\":\"b2Qe+YOB5j+GG/D5YYTmP0c9RKM7iOY/xcn9DkWB5j/koISZtn/mP4XrUbgeheY/1pC4x9KH5j8=\",\"dtype\":\"float64\",\"order\":\"little\",\"shape\":[7]}},\"selected\":{\"id\":\"1541\"},\"selection_policy\":{\"id\":\"1540\"}},\"id\":\"1514\",\"type\":\"ColumnDataSource\"},{\"attributes\":{\"label\":{\"value\":\"East Greenland\"},\"renderers\":[{\"id\":\"1466\"}]},\"id\":\"1486\",\"type\":\"LegendItem\"},{\"attributes\":{},\"id\":\"1485\",\"type\":\"Selection\"},{\"attributes\":{\"fill_alpha\":{\"value\":0.1},\"fill_color\":{\"field\":\"Region\",\"transform\":{\"id\":\"1417\"}},\"line_alpha\":{\"value\":0.1},\"line_color\":{\"value\":\"#1f77b4\"},\"marker\":{\"value\":\"circle_cross\"},\"size\":{\"units\":\"screen\",\"value\":10},\"x\":{\"field\":\"87Sr/86Sr\"},\"y\":{\"field\":\"143Nd/144Nd\"}},\"id\":\"1465\",\"type\":\"Scatter\"},{\"attributes\":{},\"id\":\"1484\",\"type\":\"UnionRenderers\"},{\"attributes\":{\"fill_alpha\":{\"value\":0.6},\"fill_color\":{\"field\":\"Region\",\"transform\":{\"id\":\"1417\"}},\"line_color\":{\"value\":\"#1f77b4\"},\"marker\":{\"value\":\"circle_cross\"},\"size\":{\"units\":\"screen\",\"value\":10},\"x\":{\"field\":\"87Sr/86Sr\"},\"y\":{\"field\":\"143Nd/144Nd\"}},\"id\":\"1464\",\"type\":\"Scatter\"},{\"attributes\":{\"source\":{\"id\":\"1462\"}},\"id\":\"1467\",\"type\":\"CDSView\"},{\"attributes\":{\"data_source\":{\"id\":\"1462\"},\"glyph\":{\"id\":\"1464\"},\"hover_glyph\":null,\"muted_glyph\":null,\"nonselection_glyph\":{\"id\":\"1465\"},\"selection_glyph\":null,\"view\":{\"id\":\"1467\"}},\"id\":\"1466\",\"type\":\"GlyphRenderer\"},{\"attributes\":{},\"id\":\"1511\",\"type\":\"UnionRenderers\"},{\"attributes\":{\"fill_alpha\":{\"value\":0.6},\"fill_color\":{\"field\":\"Region\",\"transform\":{\"id\":\"1417\"}},\"line_color\":{\"value\":\"#1f77b4\"},\"marker\":{\"value\":\"diamond_cross\"},\"size\":{\"units\":\"screen\",\"value\":10},\"x\":{\"field\":\"87Sr/86Sr\"},\"y\":{\"field\":\"143Nd/144Nd\"}},\"id\":\"1489\",\"type\":\"Scatter\"},{\"attributes\":{\"source\":{\"id\":\"1487\"}},\"id\":\"1492\",\"type\":\"CDSView\"},{\"attributes\":{\"data_source\":{\"id\":\"1487\"},\"glyph\":{\"id\":\"1489\"},\"hover_glyph\":null,\"muted_glyph\":null,\"nonselection_glyph\":{\"id\":\"1490\"},\"selection_glyph\":null,\"view\":{\"id\":\"1492\"}},\"id\":\"1491\",\"type\":\"GlyphRenderer\"},{\"attributes\":{\"factors\":[\"Baffin and Svartenhuk\",\"East Greenland\",\"Faeroes\"],\"palette\":[\"red\",\"blue\",\"green\"]},\"id\":\"1417\",\"type\":\"CategoricalColorMapper\"},{\"attributes\":{\"source\":{\"id\":\"1574\"}},\"id\":\"1579\",\"type\":\"CDSView\"},{\"attributes\":{\"source\":{\"id\":\"1423\"}},\"id\":\"1427\",\"type\":\"CDSView\"},{\"attributes\":{\"align\":\"center\",\"text\":\"Comparison of 143Nd/144Nd and 87Sr/86Sr Tertiary Lavas\",\"text_font_size\":{\"value\":\"25px\"}},\"id\":\"1384\",\"type\":\"Title\"},{\"attributes\":{\"end\":0.706,\"start\":0.702},\"id\":\"1386\",\"type\":\"Range1d\"},{\"attributes\":{\"line_dash\":[4,4],\"x\":{\"field\":\"x\"},\"y\":{\"field\":\"y\"}},\"id\":\"1424\",\"type\":\"Line\"},{\"attributes\":{\"end\":0.5134,\"start\":0.512},\"id\":\"1388\",\"type\":\"Range1d\"},{\"attributes\":{},\"id\":\"1390\",\"type\":\"LinearScale\"},{\"attributes\":{},\"id\":\"1392\",\"type\":\"LinearScale\"},{\"attributes\":{\"axis_label\":\"87Sr/86Sr\",\"formatter\":{\"id\":\"1445\"},\"ticker\":{\"id\":\"1395\"}},\"id\":\"1394\",\"type\":\"LinearAxis\"},{\"attributes\":{\"label\":{\"value\":\"Recalculated Faeros\"},\"renderers\":[{\"id\":\"1578\"}]},\"id\":\"1606\",\"type\":\"LegendItem\"},{\"attributes\":{\"data\":{\"143Nd/144Nd\":{\"__ndarray__\":\"DXGsi9to4D9EL6NYbmngP5lk5CzsaeA/tdsuNNdp4D9hpu1fWWngPwoRcAhVauA/\",\"dtype\":\"float64\",\"order\":\"little\",\"shape\":[6]},\"87Sr/86Sr\":{\"__ndarray__\":\"N6YnLPGA5j+IS447pYPmPxsv3SQGgeY/iXssfeiC5j9uNIC3QILmP8OZX80BguY/\",\"dtype\":\"float64\",\"order\":\"little\",\"shape\":[6]},\"Location\":[\"Torshavn\",\"Torshavn\",\"Torshavn\",\"Suduroy\",\"Suduroy\",\"Vestmanna\"],\"Nd\":{\"__ndarray__\":\"XI/C9ShcH0CamZmZmRk1QGZmZmZm5jZAmpmZmZmZO0CamZmZmZksQGZmZmZmZi5A\",\"dtype\":\"float64\",\"order\":\"little\",\"shape\":[6]},\"NdError\":{\"__ndarray__\":\"8WjjiLX49D5oHVVNEHX/PvFo44i1+PQ+8WjjiLX49D5oHVVNEHX/PmgdVU0Qdf8+\",\"dtype\":\"float64\",\"order\":\"little\",\"shape\":[6]},\"Rb\":{\"__ndarray__\":\"CtejcD0K8z8K16NwPQoiQD0K16NwPQRAMzMzMzMzJkDsUbgehev9P4/C9ShcjxdA\",\"dtype\":\"float64\",\"order\":\"little\",\"shape\":[6]},\"Rb/Sr\":{\"__ndarray__\":\"/Knx0k1icD/sUbgeheuxPzzfT42XboI/yqFFtvP9pD97FK5H4Xp0P1g5tMh2vp8/\",\"dtype\":\"float64\",\"order\":\"little\",\"shape\":[6]},\"Region\":[\"Faeroes\",\"Faeroes\",\"Faeroes\",\"Faeroes\",\"Faeroes\",\"Faeroes\"],\"Sample\":[\"Fo07\",\"Fo19\",\"Fo23\",\"Fo34\",\"Fo41\",\"Fo52\"],\"Sm\":{\"__ndarray__\":\"SOF6FK5HBUApXI/C9SgWQM3MzMzMzBhAKVyPwvUoHEDsUbgehesPQNejcD0K1xBA\",\"dtype\":\"float64\",\"order\":\"little\",\"shape\":[6]},\"Sm/Nd\":{\"__ndarray__\":\"GARWDi2y1T+iRbbz/dTQP/LSTWIQWNE/UrgehetR0D9BYOXQItvRP+18PzVeutE/\",\"dtype\":\"float64\",\"order\":\"little\",\"shape\":[6]},\"Sr\":[282,123,270,274,388,188],\"SrError\":{\"__ndarray__\":\"aB1VTRB1/z4tQxzr4jYKP/Fo44i1+AQ/LUMc6+I2Cj/xaOOItfgEP/Fo44i1+AQ/\",\"dtype\":\"float64\",\"order\":\"little\",\"shape\":[6]},\"calc_144Nd\":{\"__ndarray__\":\"rlUdrop//D/9sWxIPSwTQJZ3YntlzxRA/f6YGG4UGUAHhFUtOP0JQIhotBr0nwtA\",\"dtype\":\"float64\",\"order\":\"little\",\"shape\":[6]},\"calc_147Sm\":{\"__ndarray__\":\"fs0YpVrx2D8gbNf6aPnpPwZIE/yTEe0/IerpW+WA8D8fmtL7A7XiP8A4kVESveM/\",\"dtype\":\"float64\",\"order\":\"little\",\"shape\":[6]},\"calc_86Sr\":{\"__ndarray__\":\"iFi9XX4MOUAr3/JurtklQKQstkqc+zdAD+COgG1WOED89olMXjtBQGEMJC3vsjBA\",\"dtype\":\"float64\",\"order\":\"little\",\"shape\":[6]},\"calc_87Rb\":{\"__ndarray__\":\"TUu0RdyDjD+mS2PjdgS7P3vke4jvT54/8Ui2KbKfwD/hqA3JmmeWP1i5fL5npLE/\",\"dtype\":\"float64\",\"order\":\"little\",\"shape\":[6]},\"calc_Rb/Sr\":{\"__ndarray__\":\"/Knx0k1iUD97FK5H4XqEP/yp8dJNYlA/exSuR+F6dD/8qfHSTWJQP/yp8dJNYnA/\",\"dtype\":\"float64\",\"order\":\"little\",\"shape\":[6]},\"calc_Sm/Nd\":{\"__ndarray__\":\"MQisHFpkyz9zaJHtfD/FPxfZzvdT48U/z/dT46WbxD+6SQwCK4fGP2ZmZmZmZsY/\",\"dtype\":\"float64\",\"order\":\"little\",\"shape\":[6]},\"calc_t2_143Nd/144Nd\":{\"__ndarray__\":\"mWTkLOxp4D8niLoPQGrgP19GsdzSauA/mDRG66hq4D8niLoPQGrgP9DyPLg7a+A/\",\"dtype\":\"float64\",\"order\":\"little\",\"shape\":[6]},\"calc_t2_87Sr/86Sr\":{\"__ndarray__\":\"N6YnLPGA5j/cgM8PI4TmP/63kh0bgeY/MxZNZyeD5j9uNIC3QILmP240gLdAguY/\",\"dtype\":\"float64\",\"order\":\"little\",\"shape\":[6]},\"diff_143Nd/144Nd\":{\"__ndarray__\":\"vHmqQ26GKz+An3HhQEgmPw/W/znMlyc/8WjjiLX4JD8P1v85zJcnPw/W/znMlyc/\",\"dtype\":\"float64\",\"order\":\"little\",\"shape\":[6]},\"diff_87Sr/86Sr\":{\"__ndarray__\":\"AAAAAAAAAAAtQxzr4jYKP/Fo44i1+OQ+aR1VTRB1/z4AAAAAAAAAAGkdVU0Qdf8+\",\"dtype\":\"float64\",\"order\":\"little\",\"shape\":[6]},\"diff_Rb/Sr\":{\"__ndarray__\":\"+n5qvHSTaD+4HoXrUbiuP/yp8dJNYoA/O99PjZduoj/8qfHSTWJwP9nO91PjpZs/\",\"dtype\":\"float64\",\"order\":\"little\",\"shape\":[6]},\"diff_Sm/Nd\":{\"__ndarray__\":\"AAAAAAAAwD+iRbbz/dS4P5qZmZmZmbk/qvHSTWIQuD+R7Xw/NV66P+kmMQisHLo/\",\"dtype\":\"float64\",\"order\":\"little\",\"shape\":[6]},\"index\":[0,1,2,3,4,5],\"recalc_143Nd/144Nd\":{\"__ndarray__\":\"tKuQ8pNq4D9fRrHc0mrgP5YEqKlla+A/7GmHvyZr4D9fRrHc0mrgPwexM4XOa+A/\",\"dtype\":\"float64\",\"order\":\"little\",\"shape\":[6]},\"recalc_87Sr/86Sr\":{\"__ndarray__\":\"N6YnLPGA5j/59xkXDoTmP/63kh0bgeY/MxZNZyeD5j9uNIC3QILmP240gLdAguY/\",\"dtype\":\"float64\",\"order\":\"little\",\"shape\":[6]}},\"selected\":{\"id\":\"1605\"},\"selection_policy\":{\"id\":\"1604\"}},\"id\":\"1574\",\"type\":\"ColumnDataSource\"},{\"attributes\":{},\"id\":\"1395\",\"type\":\"BasicTicker\"},{\"attributes\":{\"axis\":{\"id\":\"1394\"},\"ticker\":null},\"id\":\"1397\",\"type\":\"Grid\"},{\"attributes\":{\"label\":{\"value\":\"Recalculated West Greenland\"},\"renderers\":[{\"id\":\"1518\"}]},\"id\":\"1542\",\"type\":\"LegendItem\"},{\"attributes\":{},\"id\":\"1541\",\"type\":\"Selection\"},{\"attributes\":{},\"id\":\"1399\",\"type\":\"BasicTicker\"},{\"attributes\":{\"axis\":{\"id\":\"1398\"},\"dimension\":1,\"ticker\":null},\"id\":\"1401\",\"type\":\"Grid\"},{\"attributes\":{},\"id\":\"1540\",\"type\":\"UnionRenderers\"},{\"attributes\":{\"data_source\":{\"id\":\"1514\"},\"glyph\":{\"id\":\"1516\"},\"hover_glyph\":null,\"muted_glyph\":null,\"nonselection_glyph\":{\"id\":\"1517\"},\"selection_glyph\":null,\"view\":{\"id\":\"1519\"}},\"id\":\"1518\",\"type\":\"GlyphRenderer\"},{\"attributes\":{\"data_source\":{\"id\":\"1423\"},\"glyph\":{\"id\":\"1424\"},\"hover_glyph\":null,\"muted_glyph\":null,\"nonselection_glyph\":{\"id\":\"1425\"},\"selection_glyph\":null,\"view\":{\"id\":\"1427\"}},\"id\":\"1426\",\"type\":\"GlyphRenderer\"},{\"attributes\":{\"source\":{\"id\":\"1514\"}},\"id\":\"1519\",\"type\":\"CDSView\"},{\"attributes\":{\"data\":{\"x\":[0.705,0.705],\"y\":[0.512,0.5134]},\"selected\":{\"id\":\"1457\"},\"selection_policy\":{\"id\":\"1456\"}},\"id\":\"1433\",\"type\":\"ColumnDataSource\"},{\"attributes\":{\"fill_alpha\":{\"value\":0.1},\"fill_color\":{\"field\":\"Region\",\"transform\":{\"id\":\"1417\"}},\"line_alpha\":{\"value\":0.1},\"line_color\":{\"value\":\"#1f77b4\"},\"marker\":{\"value\":\"square\"},\"size\":{\"units\":\"screen\",\"value\":10},\"x\":{\"field\":\"recalc_87Sr/86Sr\"},\"y\":{\"field\":\"recalc_143Nd/144Nd\"}},\"id\":\"1517\",\"type\":\"Scatter\"},{\"attributes\":{\"data_source\":{\"id\":\"1574\"},\"glyph\":{\"id\":\"1576\"},\"hover_glyph\":null,\"muted_glyph\":null,\"nonselection_glyph\":{\"id\":\"1577\"},\"selection_glyph\":null,\"view\":{\"id\":\"1579\"}},\"id\":\"1578\",\"type\":\"GlyphRenderer\"},{\"attributes\":{},\"id\":\"1402\",\"type\":\"PanTool\"},{\"attributes\":{\"overlay\":{\"id\":\"1408\"}},\"id\":\"1403\",\"type\":\"BoxZoomTool\"},{\"attributes\":{\"label\":{\"value\":\"Recalculated East Greenland\"},\"renderers\":[{\"id\":\"1547\"}]},\"id\":\"1573\",\"type\":\"LegendItem\"},{\"attributes\":{},\"id\":\"1404\",\"type\":\"CrosshairTool\"},{\"attributes\":{\"callback\":null},\"id\":\"1405\",\"type\":\"HoverTool\"},{\"attributes\":{},\"id\":\"1572\",\"type\":\"Selection\"},{\"attributes\":{},\"id\":\"1406\",\"type\":\"ResetTool\"},{\"attributes\":{\"fill_alpha\":{\"value\":0.1},\"fill_color\":{\"field\":\"Region\",\"transform\":{\"id\":\"1417\"}},\"line_alpha\":{\"value\":0.1},\"line_color\":{\"value\":\"#1f77b4\"},\"size\":{\"units\":\"screen\",\"value\":10},\"x\":{\"field\":\"recalc_87Sr/86Sr\"},\"y\":{\"field\":\"recalc_143Nd/144Nd\"}},\"id\":\"1546\",\"type\":\"Scatter\"},{\"attributes\":{},\"id\":\"1407\",\"type\":\"SaveTool\"},{\"attributes\":{},\"id\":\"1571\",\"type\":\"UnionRenderers\"},{\"attributes\":{\"fill_alpha\":{\"value\":0.6},\"fill_color\":{\"field\":\"Region\",\"transform\":{\"id\":\"1417\"}},\"line_color\":{\"value\":\"#1f77b4\"},\"size\":{\"units\":\"screen\",\"value\":10},\"x\":{\"field\":\"recalc_87Sr/86Sr\"},\"y\":{\"field\":\"recalc_143Nd/144Nd\"}},\"id\":\"1545\",\"type\":\"Scatter\"},{\"attributes\":{\"line_alpha\":0.1,\"line_dash\":[4,4],\"x\":{\"field\":\"x\"},\"y\":{\"field\":\"y\"}},\"id\":\"1425\",\"type\":\"Line\"},{\"attributes\":{\"source\":{\"id\":\"1543\"}},\"id\":\"1548\",\"type\":\"CDSView\"},{\"attributes\":{\"data_source\":{\"id\":\"1543\"},\"glyph\":{\"id\":\"1545\"},\"hover_glyph\":null,\"muted_glyph\":null,\"nonselection_glyph\":{\"id\":\"1546\"},\"selection_glyph\":null,\"view\":{\"id\":\"1548\"}},\"id\":\"1547\",\"type\":\"GlyphRenderer\"},{\"attributes\":{\"bottom_units\":\"screen\",\"fill_alpha\":0.5,\"fill_color\":\"lightgrey\",\"left_units\":\"screen\",\"level\":\"overlay\",\"line_alpha\":1.0,\"line_color\":\"black\",\"line_dash\":[4,4],\"line_width\":2,\"right_units\":\"screen\",\"top_units\":\"screen\"},\"id\":\"1408\",\"type\":\"BoxAnnotation\"},{\"attributes\":{\"data\":{\"143Nd/144Nd\":{\"__ndarray__\":\"78nDQq1p4D9EL6NYbmngP2LWi6GcaOA/7ZklAWpq4D+1q5Dyk2rgPwtBDkqYaeA/RC+jWG5p4D8=\",\"dtype\":\"float64\",\"order\":\"little\",\"shape\":[7]},\"87Sr/86Sr\":{\"__ndarray__\":\"jNtoAG+B5j+jkjoBTYTmP2O0jqomiOY//reSHRuB5j+s4o3MI3/mP6FinL8JheY/o5I6AU2E5j8=\",\"dtype\":\"float64\",\"order\":\"little\",\"shape\":[7]},\"Location\":[\"Cape Dyer\",\"Cape Dyer\",\"Cape Dyer\",\"Svartenhuk\",\"Svartenhuk\",\"Svartenhuk\",\"Svartenhuk\"],\"Nd\":{\"__ndarray__\":\"AAAAAAAAHkBSuB6F61EbQI/C9ShcDyFApHA9CtcjIkCkcD0K16McQGZmZmZmZi9AMzMzMzOzSUA=\",\"dtype\":\"float64\",\"order\":\"little\",\"shape\":[7]},\"NdError\":{\"__ndarray__\":\"aB1VTRB1/z5oHVVNEHX/PmgdVU0Qdf8+aB1VTRB1/z5oHVVNEHX/PmgdVU0Qdf8+8WjjiLX49D4=\",\"dtype\":\"float64\",\"order\":\"little\",\"shape\":[7]},\"Rb\":{\"__ndarray__\":\"16NwPQrX6z9cj8L1KFz/P3sUrkfhevw/exSuR+F6BEAAAAAAAAAsQArXo3A9CgFAAAAAAAAAT0A=\",\"dtype\":\"float64\",\"order\":\"little\",\"shape\":[7]},\"Rb/Sr\":{\"__ndarray__\":\"eOkmMQisfD/6fmq8dJN4Pzq0yHa+n4o/Gy/dJAaBlT/y0k1iEFi5P3sUrkfheoQ/PQrXo3A94j8=\",\"dtype\":\"float64\",\"order\":\"little\",\"shape\":[7]},\"Region\":[\"Baffin and Svartenhuk\",\"Baffin and Svartenhuk\",\"Baffin and Svartenhuk\",\"Baffin and Svartenhuk\",\"Baffin and Svartenhuk\",\"Baffin and Svartenhuk\",\"Baffin and Svartenhuk\"],\"Sample\":[\"B18\",\"B22\",\"B36\",\"S8\",\"S16\",\"S32\",\"S41 (trachyte)\"],\"Sm\":{\"__ndarray__\":\"7FG4HoXrAUAUrkfhehQAQNejcD0K1wVA7FG4HoXrBUC4HoXrUbgCQHsUrkfhehVAmpmZmZmZJEA=\",\"dtype\":\"float64\",\"order\":\"little\",\"shape\":[7]},\"Sm/Nd\":{\"__ndarray__\":\"iUFg5dAi0z83iUFg5dDSP3sUrkfhetQ/hxbZzvdT0z93vp8aL93UPxfZzvdT49U/mpmZmZmZyT8=\",\"dtype\":\"float64\",\"order\":\"little\",\"shape\":[7]},\"Sr\":[128,314,131,121,141,221,108],\"SrError\":{\"__ndarray__\":\"8WjjiLX4BD/xaOOItfgEP/Fo44i1+AQ/8WjjiLX4BD/xaOOItfgEP/Fo44i1+AQ/8WjjiLX4BD8=\",\"dtype\":\"float64\",\"order\":\"little\",\"shape\":[7]},\"calc_144Nd\":{\"__ndarray__\":\"ie0SEAtD+z//YgSJFNP4P9+KkMUHAP8/H/DO+gV8AEDmFlzA+Qb6P7TLsMEBiAxAZZ4hKZhZJ0A=\",\"dtype\":\"float64\",\"order\":\"little\",\"shape\":[7]},\"calc_147Sm\":{\"__ndarray__\":\"QkFY6SMB1T/XDD7wBdnSP4iPY8Rjmdk/roYAEmWx2T+96HnxMPHVP103IeddLek/u5hikU8l+D8=\",\"dtype\":\"float64\",\"order\":\"little\",\"shape\":[7]},\"calc_86Sr\":{\"__ndarray__\":\"h1KX8zu9JkDeEnwM4uM7QPWYGfw6RSdAbFB2eOZ+JUAHMqgEkwwpQOHNWeQpoTNAPxnbz0wvI0A=\",\"dtype\":\"float64\",\"order\":\"little\",\"shape\":[7]},\"calc_87Rb\":{\"__ndarray__\":\"UlcLbd/YhD8wa4VXpnuXP5LmlTqPU5U/7M+jYvOrnj8i+21gi/fEP/9LEoERhZk/nHrnc6M25z8=\",\"dtype\":\"float64\",\"order\":\"little\",\"shape\":[7]},\"calc_Rb/Sr\":{\"__ndarray__\":\"/Knx0k1iUD/8qfHSTWJQP/yp8dJNYmA/+n5qvHSTaD85tMh2vp+KP/yp8dJNYlA/MzMzMzMzsz8=\",\"dtype\":\"float64\",\"order\":\"little\",\"shape\":[7]},\"calc_Sm/Nd\":{\"__ndarray__\":\"/tR46SYxyD8CK4cW2c7HP0Jg5dAi28k/ppvEILByyD+R7Xw/NV7KP9nO91Pjpcs/qMZLN4lBwD8=\",\"dtype\":\"float64\",\"order\":\"little\",\"shape\":[7]},\"calc_t2_143Nd/144Nd\":{\"__ndarray__\":\"mDRG66hq4D/tmSUBamrgP+/Jw0KtaeA/lgSoqWVr4D9Bn8iTpGvgP5g0RuuoauA/YHZPHhZq4D8=\",\"dtype\":\"float64\",\"order\":\"little\",\"shape\":[7]},\"calc_t2_87Sr/86Sr\":{\"__ndarray__\":\"b2Qe+YOB5j+GG/D5YYTmP0c9RKM7iOY/xcn9DkWB5j/HKTqSy3/mP4XrUbgeheY/Ksb5m1CI5j8=\",\"dtype\":\"float64\",\"order\":\"little\",\"shape\":[7]},\"diff_143Nd/144Nd\":{\"__ndarray__\":\"ngyOklfnKD+eDI6SV+coP7x5qkNuhis/ngyOklfnKD+8eapDboYrP7x5qkNuhis/Q8U4fxMKIT8=\",\"dtype\":\"float64\",\"order\":\"little\",\"shape\":[7]},\"diff_87Sr/86Sr\":{\"__ndarray__\":\"8WjjiLX45D7xaOOItfjkPvFo44i1+OQ+8WjjiLX49D7S+8bXnlkSP/Fo44i1+OQ+A5Xx7zMuPD8=\",\"dtype\":\"float64\",\"order\":\"little\",\"shape\":[7]},\"diff_Rb/Sr\":{\"__ndarray__\":\"+n5qvHSTeD97FK5H4Xp0P7pJDAIrh4Y/O99PjZdukj9qvHSTGAS2PzvfT42XboI/rkfhehSu3z8=\",\"dtype\":\"float64\",\"order\":\"little\",\"shape\":[7]},\"diff_Sm/Nd\":{\"__ndarray__\":\"KVyPwvUovD/ZzvdT46W7P2iR7Xw/Nb4/0SLb+X5qvD+4HoXrUbi+P1TjpZvEIMA/46WbxCCwsj8=\",\"dtype\":\"float64\",\"order\":\"little\",\"shape\":[7]},\"index\":[12,13,14,15,16,17,18],\"recalc_143Nd/144Nd\":{\"__ndarray__\":\"0PI8uDtr4D8lWBzO/GrgPwoRcAhVauA/zsKedvhr4D9c5nRZTGzgP7N78rBQa+A/0SLb+X5q4D8=\",\"dtype\":\"float64\",\"order\":\"little\",\"shape\":[7]},\"recalc_87Sr/86Sr\":{\"__ndarray__\":\"b2Qe+YOB5j+GG/D5YYTmP0c9RKM7iOY/xcn9DkWB5j/koISZtn/mP4XrUbgeheY/1pC4x9KH5j8=\",\"dtype\":\"float64\",\"order\":\"little\",\"shape\":[7]}},\"selected\":{\"id\":\"1459\"},\"selection_policy\":{\"id\":\"1458\"}},\"id\":\"1438\",\"type\":\"ColumnDataSource\"},{\"attributes\":{\"line_alpha\":0.1,\"x\":{\"field\":\"x\"},\"y\":{\"field\":\"y\"}},\"id\":\"1430\",\"type\":\"Line\"},{\"attributes\":{\"x\":{\"field\":\"x\"},\"y\":{\"field\":\"y\"}},\"id\":\"1429\",\"type\":\"Line\"},{\"attributes\":{},\"id\":\"1605\",\"type\":\"Selection\"},{\"attributes\":{\"data_source\":{\"id\":\"1428\"},\"glyph\":{\"id\":\"1429\"},\"hover_glyph\":null,\"muted_glyph\":null,\"nonselection_glyph\":{\"id\":\"1430\"},\"selection_glyph\":null,\"view\":{\"id\":\"1432\"}},\"id\":\"1431\",\"type\":\"GlyphRenderer\"},{\"attributes\":{\"axis_label\":\"143Nd/144Nd\",\"formatter\":{\"id\":\"1447\"},\"ticker\":{\"id\":\"1399\"}},\"id\":\"1398\",\"type\":\"LinearAxis\"},{\"attributes\":{\"source\":{\"id\":\"1428\"}},\"id\":\"1432\",\"type\":\"CDSView\"},{\"attributes\":{},\"id\":\"1604\",\"type\":\"UnionRenderers\"},{\"attributes\":{\"data\":{\"143Nd/144Nd\":{\"__ndarray__\":\"KLhYUYNp4D9i1ouhnGjgPw1xrIvbaOA/YabtX1lp4D+3C811GmngPyi4WFGDaeA/\",\"dtype\":\"float64\",\"order\":\"little\",\"shape\":[6]},\"87Sr/86Sr\":{\"__ndarray__\":\"nwJgPIOG5j8Wb2Qe+YPmP2qkpfJ2hOY/3IDPDyOE5j/gEKrU7IHmP4zbaABvgeY/\",\"dtype\":\"float64\",\"order\":\"little\",\"shape\":[6]},\"Location\":[\"Mikis Fjord\",\"Nansens Fjord\",\"Nansens Fjord\",\"Wiedemans Fjord\",\"Wiedemans Fjord\",\"Scoresbysund\"],\"Nd\":{\"__ndarray__\":\"AAAAAACAMUDNzMzMzEw6QAAAAAAAADlAMzMzMzOzM0BmZmZmZmY1QDMzMzMzszFA\",\"dtype\":\"float64\",\"order\":\"little\",\"shape\":[6]},\"NdError\":{\"__ndarray__\":\"aB1VTRB1/z5oHVVNEHX/PvFo44i1+PQ+aB1VTRB1/z7xaOOItfj0PvFo44i1+PQ+\",\"dtype\":\"float64\",\"order\":\"little\",\"shape\":[6]},\"Rb\":{\"__ndarray__\":\"ZmZmZmZmJUAAAAAAAAAmQD0K16NwPQRAH4XrUbgeEUAzMzMzMzMqQGZmZmZmZhFA\",\"dtype\":\"float64\",\"order\":\"little\",\"shape\":[6]},\"Rb/Sr\":{\"__ndarray__\":\"WDm0yHa+nz97FK5H4XqkP/p+arx0k3g/nMQgsHJokT8YBFYOLbKtP3sUrkfhepQ/\",\"dtype\":\"float64\",\"order\":\"little\",\"shape\":[6]},\"Region\":[\"East Greenland\",\"East Greenland\",\"East Greenland\",\"East Greenland\",\"East Greenland\",\"East Greenland\"],\"Sample\":[\"MM20333\",\"CKB7147\",\"CKB7148\",\"EG7207\",\"EG7203\",\"EG7126\"],\"Sm\":{\"__ndarray__\":\"AAAAAAAAFEDNzMzMzMwaQBSuR+F6FBpAH4XrUbgeFUBcj8L1KFwWQPYoXI/C9RRA\",\"dtype\":\"float64\",\"order\":\"little\",\"shape\":[6]},\"Sm/Nd\":{\"__ndarray__\":\"PQrXo3A90j9SuB6F61HQP05iEFg5tNA/9P3UeOkm0T9OYhBYObTQP4xs5/up8dI/\",\"dtype\":\"float64\",\"order\":\"little\",\"shape\":[6]},\"Sr\":[349,277,362,255,244,214],\"SrError\":{\"__ndarray__\":\"8WjjiLX4BD8tQxzr4jYKPy1DHOviNgo/LUMc6+I2Cj/xaOOItfgEP/Fo44i1+BQ/\",\"dtype\":\"float64\",\"order\":\"little\",\"shape\":[6]},\"calc_144Nd\":{\"__ndarray__\":\"H088qArND0Ds8irO1uUXQEseVEhitxZAub4vWpDmEUBMZtKXRXITQFg8Fk+gFRBA\",\"dtype\":\"float64\",\"order\":\"little\",\"shape\":[6]},\"calc_147Sm\":{\"__ndarray__\":\"HltJy0Vx5z+9ameQtGnvP2a64tWoke4/Mt/eCVjB6D//1d88bDXqP+bwpG5Vkeg/\",\"dtype\":\"float64\",\"order\":\"little\",\"shape\":[6]},\"calc_86Sr\":{\"__ndarray__\":\"EfaQ5oX/PkBksS4Okpo4QNTMiluoE0BAsedos1KmNkD9islgUKw1QFoQD/8uAjNA\",\"dtype\":\"float64\",\"order\":\"little\",\"shape\":[6]},\"calc_87Rb\":{\"__ndarray__\":\"4RXJaFYGwD8t/Ho5W3nAP3vke4jvT54/z+90dL2jqT8/SFjufJ7DPyYtTkgXD6o/\",\"dtype\":\"float64\",\"order\":\"little\",\"shape\":[6]},\"calc_Rb/Sr\":{\"__ndarray__\":\"/Knx0k1icD97FK5H4Xp0P/yp8dJNYlA//Knx0k1iYD956SYxCKx8P/p+arx0k2g/\",\"dtype\":\"float64\",\"order\":\"little\",\"shape\":[6]},\"calc_Sm/Nd\":{\"__ndarray__\":\"XrpJDAIrxz/P91PjpZvEPx+F61G4HsU/bxKDwMqhxT8fhetRuB7FP1YOLbKd78c/\",\"dtype\":\"float64\",\"order\":\"little\",\"shape\":[6]},\"calc_t2_143Nd/144Nd\":{\"__ndarray__\":\"7ZklAWpq4D9FL6NYbmngP+/Jw0KtaeA/J4i6D0Bq4D+ZZOQs7GngP9Ei2/l+auA/\",\"dtype\":\"float64\",\"order\":\"little\",\"shape\":[6]},\"calc_t2_87Sr/86Sr\":{\"__ndarray__\":\"SZ2AJsKG5j/ACYUIOITmP00tW+uLhOY/wAmFCDiE5j9RvTWwVYLmP1Lt0/GYgeY/\",\"dtype\":\"float64\",\"order\":\"little\",\"shape\":[6]},\"diff_143Nd/144Nd\":{\"__ndarray__\":\"D9b/OcyXJz/xaOOItfgkP/Fo44i1+CQ/D9b/OcyXJz/xaOOItfgkP54MjpJX5yg/\",\"dtype\":\"float64\",\"order\":\"little\",\"shape\":[6]},\"diff_87Sr/86Sr\":{\"__ndarray__\":\"aR1VTRB1/z5pHVVNEHX/PvFo44i1+OQ+8WjjiLX45D7xaOOItfgEP/Fo44i1+PQ+\",\"dtype\":\"float64\",\"order\":\"little\",\"shape\":[6]},\"diff_Rb/Sr\":{\"__ndarray__\":\"2c73U+Olmz/sUbgeheuhP3sUrkfhenQ/uB6F61G4jj/pJjEIrByqP5zEILByaJE/\",\"dtype\":\"float64\",\"order\":\"little\",\"shape\":[6]},\"diff_Sm/Nd\":{\"__ndarray__\":\"ObTIdr6fuj+q8dJNYhC4P/p+arx0k7g/8tJNYhBYuT/6fmq8dJO4P4GVQ4ts57s/\",\"dtype\":\"float64\",\"order\":\"little\",\"shape\":[6]},\"index\":[6,7,8,9,10,11],\"recalc_143Nd/144Nd\":{\"__ndarray__\":\"JVgczvxq4D+ZZOQs7GngP0P/BBcrauA/X0ax3NJq4D/tmSUBamrgPwnh0cYRa+A/\",\"dtype\":\"float64\",\"order\":\"little\",\"shape\":[6]},\"recalc_87Sr/86Sr\":{\"__ndarray__\":\"SZ2AJsKG5j/ACYUIOITmP00tW+uLhOY/wAmFCDiE5j9uNIC3QILmP1Lt0/GYgeY/\",\"dtype\":\"float64\",\"order\":\"little\",\"shape\":[6]}},\"selected\":{\"id\":\"1485\"},\"selection_policy\":{\"id\":\"1484\"}},\"id\":\"1462\",\"type\":\"ColumnDataSource\"},{\"attributes\":{\"line_alpha\":0.1,\"x\":{\"field\":\"x\"},\"y\":{\"field\":\"y\"}},\"id\":\"1435\",\"type\":\"Line\"},{\"attributes\":{\"x\":{\"field\":\"x\"},\"y\":{\"field\":\"y\"}},\"id\":\"1434\",\"type\":\"Line\"},{\"attributes\":{\"data_source\":{\"id\":\"1433\"},\"glyph\":{\"id\":\"1434\"},\"hover_glyph\":null,\"muted_glyph\":null,\"nonselection_glyph\":{\"id\":\"1435\"},\"selection_glyph\":null,\"view\":{\"id\":\"1437\"}},\"id\":\"1436\",\"type\":\"GlyphRenderer\"},{\"attributes\":{\"source\":{\"id\":\"1433\"}},\"id\":\"1437\",\"type\":\"CDSView\"},{\"attributes\":{\"click_policy\":\"hide\",\"items\":[{\"id\":\"1461\"},{\"id\":\"1486\"},{\"id\":\"1513\"},{\"id\":\"1542\"},{\"id\":\"1573\"},{\"id\":\"1606\"}]},\"id\":\"1460\",\"type\":\"Legend\"},{\"attributes\":{\"fill_alpha\":{\"value\":0.6},\"fill_color\":{\"field\":\"Region\",\"transform\":{\"id\":\"1417\"}},\"line_color\":{\"value\":\"#1f77b4\"},\"marker\":{\"value\":\"square_cross\"},\"size\":{\"units\":\"screen\",\"value\":10},\"x\":{\"field\":\"87Sr/86Sr\"},\"y\":{\"field\":\"143Nd/144Nd\"}},\"id\":\"1440\",\"type\":\"Scatter\"},{\"attributes\":{\"data\":{\"x\":[0.702,0.7055],\"y\":[0.5132,0.5126]},\"selected\":{\"id\":\"1453\"},\"selection_policy\":{\"id\":\"1452\"}},\"id\":\"1423\",\"type\":\"ColumnDataSource\"}],\"root_ids\":[\"1383\"]},\"title\":\"Bokeh Application\",\"version\":\"2.2.3\"}};\n",
       "  var render_items = [{\"docid\":\"f3dba9c2-9dad-4ac5-890b-25839182211d\",\"root_ids\":[\"1383\"],\"roots\":{\"1383\":\"c1d388d3-f128-46dd-b286-f671dcbab75c\"}}];\n",
       "  root.Bokeh.embed.embed_items_notebook(docs_json, render_items);\n",
       "\n",
       "  }\n",
       "  if (root.Bokeh !== undefined) {\n",
       "    embed_document(root);\n",
       "  } else {\n",
       "    var attempts = 0;\n",
       "    var timer = setInterval(function(root) {\n",
       "      if (root.Bokeh !== undefined) {\n",
       "        clearInterval(timer);\n",
       "        embed_document(root);\n",
       "      } else {\n",
       "        attempts++;\n",
       "        if (attempts > 100) {\n",
       "          clearInterval(timer);\n",
       "          console.log(\"Bokeh: ERROR: Unable to run BokehJS code because BokehJS library is missing\");\n",
       "        }\n",
       "      }\n",
       "    }, 10, root)\n",
       "  }\n",
       "})(window);"
      ],
      "application/vnd.bokehjs_exec.v0+json": ""
     },
     "metadata": {
      "application/vnd.bokehjs_exec.v0+json": {
       "id": "1383"
      }
     },
     "output_type": "display_data"
    }
   ],
   "source": [
    "show(figure1)"
   ]
  },
  {
   "cell_type": "markdown",
   "metadata": {
    "slideshow": {
     "slide_type": "notes"
    }
   },
   "source": [
    "We can see from this plot, that the recalculated values have slightly elevated 143Nd/144Nd values, but the 87Sr/86Sr values remain the same.  However, everything considered the trend remains the same.  "
   ]
  },
  {
   "cell_type": "markdown",
   "metadata": {
    "slideshow": {
     "slide_type": "slide"
    }
   },
   "source": [
    "Statement from paper: ... exhibit a strong negative correlation in Western Greenland, but poor in East Greenland and Faeroes. **But all considered together there is a good correlation between the two variables**, and the range of isotope compositions is similar to that for more recent volcanics in parts of the North Atlantic Ocean basin... "
   ]
  },
  {
   "cell_type": "markdown",
   "metadata": {
    "slideshow": {
     "slide_type": "notes"
    }
   },
   "source": [
    "I wanted to analyze this statement in the paper. After plotting the previous data, I felt this correlation should be recalculated. "
   ]
  },
  {
   "cell_type": "code",
   "execution_count": 38,
   "metadata": {
    "slideshow": {
     "slide_type": "subslide"
    }
   },
   "outputs": [
    {
     "name": "stdout",
     "output_type": "stream",
     "text": [
      "Recalculted correlation:  -0.924150414468692\n",
      "Original correlation:  -0.9380927157592905\n"
     ]
    }
   ],
   "source": [
    "wg_corr1, _ = pearsonr(wg_df['recalc_143Nd/144Nd'], wg_df['recalc_87Sr/86Sr'])\n",
    "wg_corr2, _ = pearsonr(wg_df['143Nd/144Nd'], wg_df['87Sr/86Sr'])\n",
    "print(\"Recalculted correlation: \", wg_corr1)\n",
    "print(\"Original correlation: \", wg_corr2)"
   ]
  },
  {
   "cell_type": "markdown",
   "metadata": {
    "slideshow": {
     "slide_type": "notes"
    }
   },
   "source": [
    "I calculated the Pearson R correlation coefficient on the Western Greenland dataset first. Which was stated to have the strong correlation The negative correlation stated in the paper has not changed much."
   ]
  },
  {
   "cell_type": "code",
   "execution_count": 39,
   "metadata": {
    "slideshow": {
     "slide_type": "subslide"
    }
   },
   "outputs": [
    {
     "name": "stdout",
     "output_type": "stream",
     "text": [
      "Recalculted correlation:  -0.01957783024326465\n",
      "Original correlation:  -0.0013143634712180774\n"
     ]
    }
   ],
   "source": [
    "eg_corr1, _ = pearsonr(eg_df['recalc_143Nd/144Nd'], eg_df['recalc_87Sr/86Sr'])\n",
    "eg_corr2, _ = pearsonr(eg_df['143Nd/144Nd'], eg_df['87Sr/86Sr'])\n",
    "print(\"Recalculted correlation: \", eg_corr1)\n",
    "print(\"Original correlation: \", eg_corr2)"
   ]
  },
  {
   "cell_type": "markdown",
   "metadata": {
    "slideshow": {
     "slide_type": "notes"
    }
   },
   "source": [
    "There is no correlation observed between 143Nd/144Nd and 87Sr/86Sr ratios for East Greenland in either dataset."
   ]
  },
  {
   "cell_type": "code",
   "execution_count": 40,
   "metadata": {
    "slideshow": {
     "slide_type": "subslide"
    }
   },
   "outputs": [
    {
     "name": "stdout",
     "output_type": "stream",
     "text": [
      "Recalculted correlation:  -0.04003350037114031\n",
      "Original correlation:  0.12296226220426337\n"
     ]
    }
   ],
   "source": [
    "faeroes_corr1, _ = pearsonr(faeroes_df['recalc_143Nd/144Nd'], faeroes_df['recalc_87Sr/86Sr'])\n",
    "faeroes_corr2, _ = pearsonr(faeroes_df['143Nd/144Nd'], faeroes_df['87Sr/86Sr'])\n",
    "print(\"Recalculted correlation: \", faeroes_corr1)\n",
    "print(\"Original correlation: \", faeroes_corr2)"
   ]
  },
  {
   "cell_type": "markdown",
   "metadata": {
    "slideshow": {
     "slide_type": "notes"
    }
   },
   "source": [
    "Again, although slightly more, there is no correlation observed between 143Nd/144Nd and 87Sr/86Sr ratios for Faeroes in either dataset. Although take note, that the recalculated values show more of a negative correlation than original values."
   ]
  },
  {
   "cell_type": "code",
   "execution_count": 41,
   "metadata": {
    "slideshow": {
     "slide_type": "subslide"
    }
   },
   "outputs": [
    {
     "name": "stdout",
     "output_type": "stream",
     "text": [
      "Recalculted correlation:  -0.5503523797503204\n",
      "Original correlation:  -0.5719353703020036\n"
     ]
    }
   ],
   "source": [
    "carter_corr1, _ = pearsonr(carter_df['recalc_143Nd/144Nd'], carter_df['recalc_87Sr/86Sr'])\n",
    "carter_corr2, _ = pearsonr(carter_df['143Nd/144Nd'], carter_df['87Sr/86Sr'])\n",
    "print(\"Recalculted correlation: \", carter_corr1)\n",
    "print(\"Original correlation: \", carter_corr2)"
   ]
  },
  {
   "cell_type": "markdown",
   "metadata": {
    "slideshow": {
     "slide_type": "notes"
    }
   },
   "source": [
    "Over the entire dataset, the correlation hasn't change appreciatively. \n",
    "Is this heavy handed?  Clearly there is a strong negative correlation in West Greenland. Is there a third variable in this case effecting West Greenland? What could that be?\n",
    "\n",
    "To be thorough, I plotted some heatmaps and correlation matrices. However, a strong caveat to include with this diagrams.  \"Go looking for correlations, and you will find them, even if they are meaningless\". It's generally best to start with an idea and then look for those correlations.  But let's throw caution to the wind and see what we get!"
   ]
  },
  {
   "cell_type": "code",
   "execution_count": 42,
   "metadata": {
    "slideshow": {
     "slide_type": "subslide"
    }
   },
   "outputs": [],
   "source": [
    "new_data_columns = ['calc_Rb/Sr','recalc_87Sr/86Sr','calc_Sm/Nd','recalc_143Nd/144Nd']\n",
    "old_data_columns = ['Rb/Sr','87Sr/86Sr','Sm/Nd','143Nd/144Nd']"
   ]
  },
  {
   "cell_type": "markdown",
   "metadata": {
    "slideshow": {
     "slide_type": "notes"
    }
   },
   "source": [
    "This code is here to simplify future sections of code.  "
   ]
  },
  {
   "cell_type": "code",
   "execution_count": 43,
   "metadata": {
    "slideshow": {
     "slide_type": "skip"
    }
   },
   "outputs": [
    {
     "data": {
      "text/plain": [
       "[Text(0, 0.5, 'Rb/Sr'),\n",
       " Text(0, 1.5, '87Sr/86Sr'),\n",
       " Text(0, 2.5, 'Sm/Nd'),\n",
       " Text(0, 3.5, '143Nd/144Nd')]"
      ]
     },
     "execution_count": 43,
     "metadata": {},
     "output_type": "execute_result"
    },
    {
     "data": {
      "image/png": "[encoded data removed]",
      "text/plain": [
       "<Figure size 1008x432 with 3 Axes>"
      ]
     },
     "metadata": {
      "needs_background": "light"
     },
     "output_type": "display_data"
    }
   ],
   "source": [
    "figure2 = plt.figure(figsize=(14,6))\n",
    "ax1 = figure2.add_subplot(121)\n",
    "ax2 = figure2.add_subplot(122)\n",
    "labels = ['Rb/Sr','87Sr/86Sr','Sm/Nd','143Nd/144Nd']\n",
    "figure2.suptitle(\"West Greenland Correlation Matrix\", fontsize=20)\n",
    "\n",
    "corrMatrix_wg1 = wg_df[new_data_columns].corr()\n",
    "corrMatrix_wg2 = wg_df[old_data_columns].corr()\n",
    "mask = np.triu(np.ones_like(corrMatrix_wg1, dtype=bool))\n",
    "\n",
    "ax1.set_title(\"Recalculated Data\", fontsize=16)\n",
    "sns.heatmap(corrMatrix_wg1,\n",
    "            vmin=-1,\n",
    "            vmax=1,\n",
    "            mask=mask,\n",
    "            cmap=sns.diverging_palette(20, 220, n=200),\n",
    "            annot=True,\n",
    "            cbar=False,\n",
    "            ax=ax1)\n",
    "ax1.set_xticklabels(labels, Rotation= 45)\n",
    "ax1.set_yticklabels(labels, Rotation= 45)\n",
    "ax2.set_title(\"Original Data\", size=16)\n",
    "sns.heatmap(corrMatrix_wg2,\n",
    "            vmin=-1,\n",
    "            vmax=1,\n",
    "            mask=mask,\n",
    "            cmap=sns.diverging_palette(20, 220, n=200),\n",
    "            annot=True,\n",
    "            ax=ax2)\n",
    "ax2.set_xticklabels(labels, Rotation= 45)\n",
    "ax2.set_yticklabels(labels, Rotation= 45)"
   ]
  },
  {
   "cell_type": "code",
   "execution_count": 44,
   "metadata": {
    "slideshow": {
     "slide_type": "skip"
    }
   },
   "outputs": [
    {
     "data": {
      "text/plain": [
       "[Text(0, 0.5, 'Rb/Sr'),\n",
       " Text(0, 1.5, '87Sr/86Sr'),\n",
       " Text(0, 2.5, 'Sm/Nd'),\n",
       " Text(0, 3.5, '143Nd/144Nd')]"
      ]
     },
     "execution_count": 44,
     "metadata": {},
     "output_type": "execute_result"
    },
    {
     "data": {
      "image/png": "[encoded data removed]",
      "text/plain": [
       "<Figure size 1008x432 with 3 Axes>"
      ]
     },
     "metadata": {
      "needs_background": "light"
     },
     "output_type": "display_data"
    }
   ],
   "source": [
    "figure3 = plt.figure(figsize=(14,6))\n",
    "ax1 = figure3.add_subplot(121)\n",
    "ax2 = figure3.add_subplot(122)\n",
    "labels = ['Rb/Sr','87Sr/86Sr','Sm/Nd','143Nd/144Nd']\n",
    "figure3.suptitle(\"East Greenland Correlation Matrix\", fontsize=20)\n",
    "\n",
    "corrMatrix_eg1 = eg_df[new_data_columns].corr()\n",
    "corrMatrix_eg2 = eg_df[old_data_columns].corr()\n",
    "mask = np.triu(np.ones_like(corrMatrix_eg1, dtype=bool))\n",
    "\n",
    "ax1.set_title(\"Recalculated Data\", fontsize=16)\n",
    "sns.heatmap(corrMatrix_eg1,\n",
    "            vmin=-1,\n",
    "            vmax=1,\n",
    "            mask=mask,\n",
    "            cmap=sns.diverging_palette(20, 220, n=200),\n",
    "            annot=True,\n",
    "            cbar=False,\n",
    "            ax=ax1)\n",
    "ax1.set_xticklabels(labels, Rotation= 45)\n",
    "ax1.set_yticklabels(labels, Rotation= 45)\n",
    "ax2.set_title(\"Original Data\", size=16)\n",
    "sns.heatmap(corrMatrix_eg2,\n",
    "            vmin=-1,\n",
    "            vmax=1,\n",
    "            mask=mask,\n",
    "            cmap=sns.diverging_palette(20, 220, n=200),\n",
    "            annot=True,\n",
    "            ax=ax2)\n",
    "ax2.set_xticklabels(labels, Rotation= 45)\n",
    "ax2.set_yticklabels(labels, Rotation= 45)"
   ]
  },
  {
   "cell_type": "code",
   "execution_count": 45,
   "metadata": {
    "slideshow": {
     "slide_type": "skip"
    }
   },
   "outputs": [
    {
     "data": {
      "text/plain": [
       "[Text(0, 0.5, 'Rb/Sr'),\n",
       " Text(0, 1.5, '87Sr/86Sr'),\n",
       " Text(0, 2.5, 'Sm/Nd'),\n",
       " Text(0, 3.5, '143Nd/144Nd')]"
      ]
     },
     "execution_count": 45,
     "metadata": {},
     "output_type": "execute_result"
    },
    {
     "data": {
      "image/png": "[encoded data removed]",
      "text/plain": [
       "<Figure size 1008x432 with 3 Axes>"
      ]
     },
     "metadata": {
      "needs_background": "light"
     },
     "output_type": "display_data"
    }
   ],
   "source": [
    "figure4 = plt.figure(figsize=(14,6))\n",
    "ax1 = figure4.add_subplot(121)\n",
    "ax2 = figure4.add_subplot(122)\n",
    "labels = ['Rb/Sr','87Sr/86Sr','Sm/Nd','143Nd/144Nd']\n",
    "figure4.suptitle(\"Faeroes Correlation Matrix\", fontsize=20)\n",
    "\n",
    "corrMatrix_f1 = faeroes_df[new_data_columns].corr()\n",
    "corrMatrix_f2 = faeroes_df[old_data_columns].corr()\n",
    "mask = np.triu(np.ones_like(corrMatrix_f1, dtype=bool))\n",
    "\n",
    "ax1.set_title(\"Recalculated Data\", fontsize=16)\n",
    "sns.heatmap(corrMatrix_f1,\n",
    "            vmin=-1,\n",
    "            vmax=1,\n",
    "            mask=mask,\n",
    "            cmap=sns.diverging_palette(20, 220, n=200),\n",
    "            annot=True,\n",
    "            cbar=False,\n",
    "            ax=ax1)\n",
    "ax1.set_xticklabels(labels, Rotation= 45)\n",
    "ax1.set_yticklabels(labels, Rotation= 45)\n",
    "ax2.set_title(\"Original Data\", size=16)\n",
    "sns.heatmap(corrMatrix_f2,\n",
    "            vmin=-1,\n",
    "            vmax=1,\n",
    "            mask=mask,\n",
    "            cmap=sns.diverging_palette(20, 220, n=200),\n",
    "            annot=True,\n",
    "            ax=ax2)\n",
    "ax2.set_xticklabels(labels, Rotation= 45)\n",
    "ax2.set_yticklabels(labels, Rotation= 45)"
   ]
  },
  {
   "cell_type": "code",
   "execution_count": 46,
   "metadata": {
    "slideshow": {
     "slide_type": "subslide"
    }
   },
   "outputs": [
    {
     "data": {
      "image/png": "[encoded data removed]",
      "text/plain": [
       "<Figure size 1008x432 with 3 Axes>"
      ]
     },
     "execution_count": 46,
     "metadata": {},
     "output_type": "execute_result"
    }
   ],
   "source": [
    "figure2"
   ]
  },
  {
   "cell_type": "markdown",
   "metadata": {
    "slideshow": {
     "slide_type": "notes"
    }
   },
   "source": [
    "In West Greenland we see a strong negative correlation between Rb/Sr and 143Nd/144Nd and 87Sr/86Sr, and a moderately positive correlation in the recalculated 143Nd/144Nd and Sm/Nd."
   ]
  },
  {
   "cell_type": "code",
   "execution_count": 47,
   "metadata": {
    "slideshow": {
     "slide_type": "subslide"
    }
   },
   "outputs": [
    {
     "data": {
      "image/png": "[encoded data removed]",
      "text/plain": [
       "<Figure size 1008x432 with 3 Axes>"
      ]
     },
     "execution_count": 47,
     "metadata": {},
     "output_type": "execute_result"
    }
   ],
   "source": [
    "figure3"
   ]
  },
  {
   "cell_type": "markdown",
   "metadata": {
    "slideshow": {
     "slide_type": "notes"
    }
   },
   "source": [
    "In East Greenland we see very little correlation in almost anything (with the exception of Rb/Sr and all values being very weakly negatively correlated), and more clearly a strongly positive correlation in the 143Nd/144Nd and Sm/Nd."
   ]
  },
  {
   "cell_type": "code",
   "execution_count": 48,
   "metadata": {
    "slideshow": {
     "slide_type": "subslide"
    }
   },
   "outputs": [
    {
     "data": {
      "image/png": "[encoded data removed]",
      "text/plain": [
       "<Figure size 1008x432 with 3 Axes>"
      ]
     },
     "execution_count": 48,
     "metadata": {},
     "output_type": "execute_result"
    }
   ],
   "source": [
    "figure4"
   ]
  },
  {
   "cell_type": "markdown",
   "metadata": {
    "slideshow": {
     "slide_type": "notes"
    }
   },
   "source": [
    "Finally in Faeroes we see a strongly positive correlation in the 87Sr/86Sr and Rb/Sr. And moderately negative correlations between Sm/Nd and Rb/Sr, 87Sr/86Sr, and 143Nd/144Nd."
   ]
  },
  {
   "cell_type": "markdown",
   "metadata": {
    "slideshow": {
     "slide_type": "slide"
    }
   },
   "source": [
    "### Localization of Crustal Contamination"
   ]
  },
  {
   "cell_type": "markdown",
   "metadata": {
    "slideshow": {
     "slide_type": "subslide"
    }
   },
   "source": [
    "<center><img src=\"images/carter_fig_3.png\" align=\"center\"></center>"
   ]
  },
  {
   "cell_type": "markdown",
   "metadata": {
    "slideshow": {
     "slide_type": "notes"
    }
   },
   "source": [
    "There are a couple of issues with the following figure:\n",
    "* I couldn't figure out exactly what was being calculated, but the results are very close to what an ε value would be.  Though there isn't an exact match here.  Perhaps something else is being plotted here, but I'm fairly confident we are dealing with epsilon values.\n",
    "* There is extra data plotted on here that originates from other studies.  \n",
    "* If the source is depleted in Rb, the Rb/Sr ratio should decrease in comparison to bulk earth composition.  Conversely if Nd is depleted, the Sm/Nd should increase in comparison to bulk earth composition. Therefore, εSr should be negative, and εNd should be positive.\n",
    "* This plot implies that this is the case for this data."
   ]
  },
  {
   "cell_type": "code",
   "execution_count": 49,
   "metadata": {
    "slideshow": {
     "slide_type": "subslide"
    }
   },
   "outputs": [
    {
     "data": {
      "text/html": [
       "<div>\n",
       "<style scoped>\n",
       "    .dataframe tbody tr th:only-of-type {\n",
       "        vertical-align: middle;\n",
       "    }\n",
       "\n",
       "    .dataframe tbody tr th {\n",
       "        vertical-align: top;\n",
       "    }\n",
       "\n",
       "    .dataframe thead th {\n",
       "        text-align: right;\n",
       "    }\n",
       "</style>\n",
       "<table border=\"1\" class=\"dataframe\">\n",
       "  <thead>\n",
       "    <tr style=\"text-align: right;\">\n",
       "      <th></th>\n",
       "      <th>calc_86Sr</th>\n",
       "      <th>calc_87Rb</th>\n",
       "      <th>calc_Rb/Sr</th>\n",
       "    </tr>\n",
       "  </thead>\n",
       "  <tbody>\n",
       "    <tr>\n",
       "      <th>0</th>\n",
       "      <td>31.354656</td>\n",
       "      <td>0.090443</td>\n",
       "      <td>0.003</td>\n",
       "    </tr>\n",
       "    <tr>\n",
       "      <th>1</th>\n",
       "      <td>31.620842</td>\n",
       "      <td>0.095943</td>\n",
       "      <td>0.003</td>\n",
       "    </tr>\n",
       "    <tr>\n",
       "      <th>2</th>\n",
       "      <td>38.726928</td>\n",
       "      <td>0.048088</td>\n",
       "      <td>0.001</td>\n",
       "    </tr>\n",
       "    <tr>\n",
       "      <th>3</th>\n",
       "      <td>33.218694</td>\n",
       "      <td>0.077807</td>\n",
       "      <td>0.002</td>\n",
       "    </tr>\n",
       "    <tr>\n",
       "      <th>4</th>\n",
       "      <td>35.884068</td>\n",
       "      <td>0.061193</td>\n",
       "      <td>0.002</td>\n",
       "    </tr>\n",
       "  </tbody>\n",
       "</table>\n",
       "</div>"
      ],
      "text/plain": [
       "   calc_86Sr  calc_87Rb  calc_Rb/Sr\n",
       "0  31.354656   0.090443       0.003\n",
       "1  31.620842   0.095943       0.003\n",
       "2  38.726928   0.048088       0.001\n",
       "3  33.218694   0.077807       0.002\n",
       "4  35.884068   0.061193       0.002"
      ]
     },
     "execution_count": 49,
     "metadata": {},
     "output_type": "execute_result"
    }
   ],
   "source": [
    "carter_df2 = pd.read_csv(\"data/Carter_et_al2.csv\")\n",
    "carter_df2.head()\n",
    "\n",
    "carter_df2['calc_86Sr'] = carter_df2['Sr'] / (10.5466 + carter_df2['87Sr/86Sr'] * 1.011636) # Numbers from Eglington spreadsheet\n",
    "carter_df2['calc_87Rb'] = carter_df2['Rb'] / 85.46776 # Numbers from Eglington spreadsheet\n",
    "carter_df2['calc_Rb/Sr'] = round((carter_df2['calc_87Rb'] / carter_df2['calc_86Sr'])*(Sr86_aw/Rb87_aw), 3)\n",
    "carter_df2['calc_147Sm'] = carter_df2['Sm'] / 6.825219 # Numbers from Eglington spreadsheet\n",
    "carter_df2['calc_144Nd'] = carter_df2['Nd'] / (3.703328 + carter_df2['87Sr/86Sr'] * 0.9930493) # Numbers from Eglington spreadsheet\n",
    "carter_df2['calc_Sm/Nd'] = round((carter_df2['calc_147Sm'] / carter_df2['calc_144Nd'])*(Nd144_aw/Sm147_aw), 3)\n",
    "\n",
    "carter_df2['SrError'] = carter_df2['SrError'] * 10**-5\n",
    "carter_df2['NdError'] = carter_df2['NdError'] * 10**-5\n",
    "carter_df2[['calc_86Sr','calc_87Rb','calc_Rb/Sr']].head()"
   ]
  },
  {
   "cell_type": "markdown",
   "metadata": {
    "slideshow": {
     "slide_type": "notes"
    }
   },
   "source": [
    "My first step was to obtain the referenced data and import it for use.  I also calculated Rb/Sr and Sm/Nd values as they weren't provided, and recalculated the errors as the were reported as 10^-5."
   ]
  },
  {
   "cell_type": "code",
   "execution_count": 50,
   "metadata": {
    "slideshow": {
     "slide_type": "subslide"
    }
   },
   "outputs": [
    {
     "data": {
      "text/html": [
       "<div>\n",
       "<style scoped>\n",
       "    .dataframe tbody tr th:only-of-type {\n",
       "        vertical-align: middle;\n",
       "    }\n",
       "\n",
       "    .dataframe tbody tr th {\n",
       "        vertical-align: top;\n",
       "    }\n",
       "\n",
       "    .dataframe thead th {\n",
       "        text-align: right;\n",
       "    }\n",
       "</style>\n",
       "<table border=\"1\" class=\"dataframe\">\n",
       "  <thead>\n",
       "    <tr style=\"text-align: right;\">\n",
       "      <th></th>\n",
       "      <th>Sample</th>\n",
       "      <th>epsilon_Nd</th>\n",
       "      <th>epsilon_Sr</th>\n",
       "    </tr>\n",
       "  </thead>\n",
       "  <tbody>\n",
       "    <tr>\n",
       "      <th>0</th>\n",
       "      <td>P1</td>\n",
       "      <td>-2.3409</td>\n",
       "      <td>-21.1348</td>\n",
       "    </tr>\n",
       "    <tr>\n",
       "      <th>1</th>\n",
       "      <td>P2</td>\n",
       "      <td>-2.9261</td>\n",
       "      <td>-19.7163</td>\n",
       "    </tr>\n",
       "    <tr>\n",
       "      <th>2</th>\n",
       "      <td>P3</td>\n",
       "      <td>-2.3409</td>\n",
       "      <td>-20.8511</td>\n",
       "    </tr>\n",
       "    <tr>\n",
       "      <th>3</th>\n",
       "      <td>P4</td>\n",
       "      <td>-3.7064</td>\n",
       "      <td>-15.1773</td>\n",
       "    </tr>\n",
       "    <tr>\n",
       "      <th>4</th>\n",
       "      <td>P5</td>\n",
       "      <td>-11.3142</td>\n",
       "      <td>-18.5816</td>\n",
       "    </tr>\n",
       "  </tbody>\n",
       "</table>\n",
       "</div>"
      ],
      "text/plain": [
       "  Sample  epsilon_Nd  epsilon_Sr\n",
       "0     P1     -2.3409    -21.1348\n",
       "1     P2     -2.9261    -19.7163\n",
       "2     P3     -2.3409    -20.8511\n",
       "3     P4     -3.7064    -15.1773\n",
       "4     P5    -11.3142    -18.5816"
      ]
     },
     "execution_count": 50,
     "metadata": {},
     "output_type": "execute_result"
    }
   ],
   "source": [
    "carter_df2['epsilon_Nd'] = carter_df2.apply(lambda row: round(gc.calc_epsilon(row['143Nd/144Nd'], Nd_CHUR_1977),4),axis=1)\n",
    "carter_df2['epsilon_Sr'] = carter_df2.apply(lambda row: round(gc.calc_epsilon(row['87Sr/86Sr'], Sr_CHUR_1977),4),axis=1)\n",
    "\n",
    "skye_df = carter_df2[carter_df2['Location'] == \"Skye\"]\n",
    "mull_df = carter_df2[carter_df2['Location'] == \"Mull\"]\n",
    "muck_df = carter_df2[carter_df2['Location'] == \"Muck\"]\n",
    "eigg_df = carter_df2[carter_df2['Location'] == \"Eigg\"]\n",
    "carter_df2[['Sample','epsilon_Nd','epsilon_Sr']].head()"
   ]
  },
  {
   "cell_type": "markdown",
   "metadata": {
    "slideshow": {
     "slide_type": "notes"
    }
   },
   "source": [
    "I then calculated epsilon values for the new dataset, and separated them out based on locations"
   ]
  },
  {
   "cell_type": "code",
   "execution_count": 51,
   "metadata": {
    "slideshow": {
     "slide_type": "subslide"
    }
   },
   "outputs": [
    {
     "data": {
      "text/html": [
       "<div>\n",
       "<style scoped>\n",
       "    .dataframe tbody tr th:only-of-type {\n",
       "        vertical-align: middle;\n",
       "    }\n",
       "\n",
       "    .dataframe tbody tr th {\n",
       "        vertical-align: top;\n",
       "    }\n",
       "\n",
       "    .dataframe thead th {\n",
       "        text-align: right;\n",
       "    }\n",
       "</style>\n",
       "<table border=\"1\" class=\"dataframe\">\n",
       "  <thead>\n",
       "    <tr style=\"text-align: right;\">\n",
       "      <th></th>\n",
       "      <th>143Nd/144Nd</th>\n",
       "      <th>87Sr/86Sr</th>\n",
       "      <th>epsilon_Nd</th>\n",
       "      <th>epsilon_Sr</th>\n",
       "    </tr>\n",
       "  </thead>\n",
       "  <tbody>\n",
       "    <tr>\n",
       "      <th>12</th>\n",
       "      <td>0.51290</td>\n",
       "      <td>0.70330</td>\n",
       "      <td>5.2670</td>\n",
       "      <td>-24.1135</td>\n",
       "    </tr>\n",
       "    <tr>\n",
       "      <th>13</th>\n",
       "      <td>0.51287</td>\n",
       "      <td>0.70365</td>\n",
       "      <td>4.6817</td>\n",
       "      <td>-19.1489</td>\n",
       "    </tr>\n",
       "    <tr>\n",
       "      <th>14</th>\n",
       "      <td>0.51277</td>\n",
       "      <td>0.70412</td>\n",
       "      <td>2.7310</td>\n",
       "      <td>-12.4823</td>\n",
       "    </tr>\n",
       "    <tr>\n",
       "      <th>15</th>\n",
       "      <td>0.51299</td>\n",
       "      <td>0.70326</td>\n",
       "      <td>7.0226</td>\n",
       "      <td>-24.6809</td>\n",
       "    </tr>\n",
       "    <tr>\n",
       "      <th>16</th>\n",
       "      <td>0.51301</td>\n",
       "      <td>0.70302</td>\n",
       "      <td>7.4128</td>\n",
       "      <td>-28.0851</td>\n",
       "    </tr>\n",
       "  </tbody>\n",
       "</table>\n",
       "</div>"
      ],
      "text/plain": [
       "    143Nd/144Nd  87Sr/86Sr  epsilon_Nd  epsilon_Sr\n",
       "12      0.51290    0.70330      5.2670    -24.1135\n",
       "13      0.51287    0.70365      4.6817    -19.1489\n",
       "14      0.51277    0.70412      2.7310    -12.4823\n",
       "15      0.51299    0.70326      7.0226    -24.6809\n",
       "16      0.51301    0.70302      7.4128    -28.0851"
      ]
     },
     "execution_count": 51,
     "metadata": {},
     "output_type": "execute_result"
    }
   ],
   "source": [
    "carter_df['epsilon_Nd'] = carter_df.apply(lambda row: round(gc.calc_epsilon(row['143Nd/144Nd'], Nd_CHUR_1977),4),axis=1)\n",
    "carter_df['epsilon_Sr'] = carter_df.apply(lambda row: round(gc.calc_epsilon(row['87Sr/86Sr'], Sr_CHUR_1977),4),axis=1)\n",
    "\n",
    "\n",
    "faeroes_df = carter_df[carter_df['Region'] == \"Faeroes\"]\n",
    "eg_df = carter_df[carter_df['Region'] == \"East Greenland\"]\n",
    "wg_df = carter_df[carter_df['Region'] == \"Baffin and Svartenhuk\"]\n",
    "wg_df[['143Nd/144Nd','87Sr/86Sr','epsilon_Nd','epsilon_Sr']].head()"
   ]
  },
  {
   "cell_type": "markdown",
   "metadata": {
    "slideshow": {
     "slide_type": "notes"
    }
   },
   "source": [
    "I then repeated this process with the original dataset."
   ]
  },
  {
   "cell_type": "code",
   "execution_count": 52,
   "metadata": {
    "slideshow": {
     "slide_type": "skip"
    }
   },
   "outputs": [],
   "source": [
    "xmin, xmax = -52, 30\n",
    "ymin, ymax = -5, 13\n",
    "\n",
    "figure5 = gc.get_figure(\"Epsilon Nd and Sr Tertiary Lavas\",\n",
    "                        \"Epsilon Sr\",\n",
    "                        \"Epsilon Nd\",\n",
    "                        [xmin,xmax],\n",
    "                        [ymin,ymax])\n",
    "index_cmap = factor_cmap('Region', palette=['red', 'blue', 'green'], \n",
    "                         factors=sorted(carter_df.Region.unique()))\n",
    "\n",
    "figure5.line([xmin,xmax],[0,0],\n",
    "            line_width=1,\n",
    "            color=\"black\")\n",
    "figure5.line([0,0],[ymin,ymax],\n",
    "            line_width=1,\n",
    "            color=\"black\")\n",
    "\n",
    "figure5.scatter('epsilon_Sr','epsilon_Nd',\n",
    "                source=wg_df,fill_alpha=0.6,\n",
    "                fill_color=index_cmap,\n",
    "                size=10,\n",
    "                marker=\"square_cross\",\n",
    "                legend_label='West Greenland')\n",
    "figure5.scatter('epsilon_Sr','epsilon_Nd',\n",
    "                source=eg_df,fill_alpha=0.6,\n",
    "                fill_color=index_cmap,\n",
    "                size=10,\n",
    "                marker='circle_cross',\n",
    "                legend_label='East Greenland')\n",
    "figure5.scatter('epsilon_Sr','epsilon_Nd',\n",
    "                source=faeroes_df,\n",
    "                fill_alpha=0.6,\n",
    "                fill_color=index_cmap,\n",
    "                size=10,\n",
    "                marker=\"diamond_cross\",\n",
    "                legend_label='Faeroes')\n",
    "figure5.scatter('epsilon_Sr','epsilon_Nd',\n",
    "                source=mull_df,fill_alpha=0.6,\n",
    "                fill_color='green',\n",
    "                size=10,\n",
    "                marker='circle',\n",
    "                legend_label='Mull')\n",
    "\n",
    "figure5.legend.click_policy=\"hide\""
   ]
  },
  {
   "cell_type": "code",
   "execution_count": 53,
   "metadata": {
    "slideshow": {
     "slide_type": "subslide"
    }
   },
   "outputs": [
    {
     "data": {
      "text/html": [
       "\n",
       "\n",
       "\n",
       "\n",
       "\n",
       "\n",
       "  <div class=\"bk-root\" id=\"d07ecf77-6ad4-4b03-9694-0b989d4d7c70\" data-root-id=\"1789\"></div>\n"
      ]
     },
     "metadata": {},
     "output_type": "display_data"
    },
    {
     "data": {
      "application/javascript": [
       "(function(root) {\n",
       "  function embed_document(root) {\n",
       "    \n",
       "  var docs_json = {\"2998ddce-c428-47df-a4e0-5fb4830b4ab0\":{\"roots\":{\"references\":[{\"attributes\":{\"below\":[{\"id\":\"1800\"}],\"center\":[{\"id\":\"1803\"},{\"id\":\"1807\"},{\"id\":\"1852\"}],\"left\":[{\"id\":\"1804\"}],\"plot_height\":500,\"plot_width\":700,\"renderers\":[{\"id\":\"1827\"},{\"id\":\"1832\"},{\"id\":\"1838\"},{\"id\":\"1858\"},{\"id\":\"1879\"},{\"id\":\"1902\"}],\"title\":{\"id\":\"1790\"},\"toolbar\":{\"id\":\"1815\"},\"toolbar_location\":\"left\",\"toolbar_sticky\":false,\"x_range\":{\"id\":\"1792\"},\"x_scale\":{\"id\":\"1796\"},\"y_range\":{\"id\":\"1794\"},\"y_scale\":{\"id\":\"1798\"}},\"id\":\"1789\",\"subtype\":\"Figure\",\"type\":\"Plot\"},{\"attributes\":{\"fill_alpha\":{\"value\":0.6},\"fill_color\":{\"field\":\"Region\",\"transform\":{\"id\":\"1823\"}},\"line_color\":{\"value\":\"#1f77b4\"},\"marker\":{\"value\":\"square_cross\"},\"size\":{\"units\":\"screen\",\"value\":10},\"x\":{\"field\":\"epsilon_Sr\"},\"y\":{\"field\":\"epsilon_Nd\"}},\"id\":\"1836\",\"type\":\"Scatter\"},{\"attributes\":{},\"id\":\"1846\",\"type\":\"UnionRenderers\"},{\"attributes\":{},\"id\":\"1920\",\"type\":\"UnionRenderers\"},{\"attributes\":{\"click_policy\":\"hide\",\"items\":[{\"id\":\"1853\"},{\"id\":\"1874\"},{\"id\":\"1897\"},{\"id\":\"1922\"}]},\"id\":\"1852\",\"type\":\"Legend\"},{\"attributes\":{\"data_source\":{\"id\":\"1898\"},\"glyph\":{\"id\":\"1900\"},\"hover_glyph\":null,\"muted_glyph\":null,\"nonselection_glyph\":{\"id\":\"1901\"},\"selection_glyph\":null,\"view\":{\"id\":\"1903\"}},\"id\":\"1902\",\"type\":\"GlyphRenderer\"},{\"attributes\":{},\"id\":\"1808\",\"type\":\"PanTool\"},{\"attributes\":{\"fill_alpha\":{\"value\":0.6},\"fill_color\":{\"value\":\"green\"},\"line_color\":{\"value\":\"#1f77b4\"},\"size\":{\"units\":\"screen\",\"value\":10},\"x\":{\"field\":\"epsilon_Sr\"},\"y\":{\"field\":\"epsilon_Nd\"}},\"id\":\"1900\",\"type\":\"Scatter\"},{\"attributes\":{},\"id\":\"1843\",\"type\":\"BasicTickFormatter\"},{\"attributes\":{\"overlay\":{\"id\":\"1814\"}},\"id\":\"1809\",\"type\":\"BoxZoomTool\"},{\"attributes\":{\"source\":{\"id\":\"1898\"}},\"id\":\"1903\",\"type\":\"CDSView\"},{\"attributes\":{\"fill_alpha\":{\"value\":0.1},\"fill_color\":{\"field\":\"Region\",\"transform\":{\"id\":\"1823\"}},\"line_alpha\":{\"value\":0.1},\"line_color\":{\"value\":\"#1f77b4\"},\"marker\":{\"value\":\"square_cross\"},\"size\":{\"units\":\"screen\",\"value\":10},\"x\":{\"field\":\"epsilon_Sr\"},\"y\":{\"field\":\"epsilon_Nd\"}},\"id\":\"1837\",\"type\":\"Scatter\"},{\"attributes\":{},\"id\":\"1851\",\"type\":\"Selection\"},{\"attributes\":{},\"id\":\"1841\",\"type\":\"BasicTickFormatter\"},{\"attributes\":{\"bottom_units\":\"screen\",\"fill_alpha\":0.5,\"fill_color\":\"lightgrey\",\"left_units\":\"screen\",\"level\":\"overlay\",\"line_alpha\":1.0,\"line_color\":\"black\",\"line_dash\":[4,4],\"line_width\":2,\"right_units\":\"screen\",\"top_units\":\"screen\"},\"id\":\"1814\",\"type\":\"BoxAnnotation\"},{\"attributes\":{},\"id\":\"1850\",\"type\":\"UnionRenderers\"},{\"attributes\":{},\"id\":\"1847\",\"type\":\"Selection\"},{\"attributes\":{\"source\":{\"id\":\"1829\"}},\"id\":\"1833\",\"type\":\"CDSView\"},{\"attributes\":{},\"id\":\"1810\",\"type\":\"CrosshairTool\"},{\"attributes\":{\"factors\":[\"Baffin and Svartenhuk\",\"East Greenland\",\"Faeroes\"],\"palette\":[\"red\",\"blue\",\"green\"]},\"id\":\"1823\",\"type\":\"CategoricalColorMapper\"},{\"attributes\":{\"data\":{\"143Nd/144Nd\":{\"__ndarray__\":\"mWTkLOxp4D8J4dHGEWvgP9OCF30FaeA/RC+jWG5p4D/FG5lH/mDgPw==\",\"dtype\":\"float64\",\"order\":\"little\",\"shape\":[5]},\"87Sr/86Sr\":{\"__ndarray__\":\"VU0QdR+A5j93hNOCF33mP4qryr4rguY/OdbFbTSA5j+s4o3MI3/mPw==\",\"dtype\":\"float64\",\"order\":\"little\",\"shape\":[5]},\"Location\":[\"Mull\",\"Mull\",\"Mull\",\"Mull\",\"Mull\"],\"Nd\":{\"__ndarray__\":\"MzMzMzMzPUAzMzMzM7NJQGZmZmZmZi1AmpmZmZmZL0CamZmZmRk2QA==\",\"dtype\":\"float64\",\"order\":\"little\",\"shape\":[5]},\"NdError\":{\"__ndarray__\":\"8WjjiLX49D7xaOOItfj0PvFo44i1+PQ+8WjjiLX49D7xaOOItfj0Pg==\",\"dtype\":\"float64\",\"order\":\"little\",\"shape\":[5]},\"Rb\":{\"__ndarray__\":\"hetRuB6FEUCPwvUoXI8hQGZmZmZmZiJAXI/C9ShcC0DhehSuR+EYQA==\",\"dtype\":\"float64\",\"order\":\"little\",\"shape\":[5]},\"Region\":[\"Northwest Scotland\",\"Northwest Scotland\",\"Northwest Scotland\",\"Northwest Scotland\",\"Northwest Scotland\"],\"Rock Type\":[\"Basalt\",\"Basalt\",\"Basalt\",\"Basalt\",\"Basalt\"],\"Sample\":[\"ML1\",\"ML3\",\"ML4\",\"ML5\",\"ML6\"],\"Sm\":{\"__ndarray__\":\"AAAAAAAAHkAAAAAAAAAmQNejcD0K1w9AhetRuB6FEkCamZmZmZkTQA==\",\"dtype\":\"float64\",\"order\":\"little\",\"shape\":[5]},\"Sr\":{\"__ndarray__\":\"AAAAAADYh0AAAAAAACCRQAAAAAAAgHJAAAAAAACgd0AAAAAAAJCBQA==\",\"dtype\":\"float64\",\"order\":\"little\",\"shape\":[5]},\"SrError\":{\"__ndarray__\":\"8WjjiLX4BD/xaOOItfgEP/Fo44i1+AQ/LUMc6+I2Cj/xaOOItfgEPw==\",\"dtype\":\"float64\",\"order\":\"little\",\"shape\":[5]},\"calc_144Nd\":{\"__ndarray__\":\"2HaQKDKJGkBvLOMvcVsnQGUA6MJWtwpAH4IPM4a3DEARtHqckBUUQA==\",\"dtype\":\"float64\",\"order\":\"little\",\"shape\":[5]},\"calc_147Sm\":{\"__ndarray__\":\"VgR3WPSU8T/UfZ1fZsn5P4seBFUDqeI/3n5xry215T9ghzhHP/nmPw==\",\"dtype\":\"float64\",\"order\":\"little\",\"shape\":[5]},\"calc_86Sr\":{\"__ndarray__\":\"8YEzYpHxUEBvyRGR11ZYQAn5rO7ASjpABUxZFMXJQEDmmwZv4fVIQA==\",\"dtype\":\"float64\",\"order\":\"little\",\"shape\":[5]},\"calc_87Rb\":{\"__ndarray__\":\"3iJiNRk9qj/GdBMvb0y6P80sn6p8jrs/4mvjktt8pD/LgGpWcqGyPw==\",\"dtype\":\"float64\",\"order\":\"little\",\"shape\":[5]},\"calc_Rb/Sr\":{\"__ndarray__\":\"/Knx0k1iUD/8qfHSTWJQP/yp8dJNYnA//Knx0k1iUD/8qfHSTWJQPw==\",\"dtype\":\"float64\",\"order\":\"little\",\"shape\":[5]},\"calc_Sm/Nd\":{\"__ndarray__\":\"I9v5fmq8xD9I4XoUrkfBPxfZzvdT48U/rkfhehSuxz/sUbgehevBPw==\",\"dtype\":\"float64\",\"order\":\"little\",\"shape\":[5]},\"epsilon_Nd\":{\"__ndarray__\":\"1JrmHadoF0DtDb4wmSohQLsnDwu1pg1AmbuWkA+6EkA17zhFR9IuwA==\",\"dtype\":\"float64\",\"order\":\"little\",\"shape\":[5]},\"epsilon_Sr\":{\"__ndarray__\":\"NV66SQxiOsA2PL1SlqE/wLwFEhQ/1jbAyxDHurg9OsC94xQdyRU8wA==\",\"dtype\":\"float64\",\"order\":\"little\",\"shape\":[5]},\"index\":[6,7,8,9,10]},\"selected\":{\"id\":\"1921\"},\"selection_policy\":{\"id\":\"1920\"}},\"id\":\"1898\",\"type\":\"ColumnDataSource\"},{\"attributes\":{\"line_alpha\":0.1,\"x\":{\"field\":\"x\"},\"y\":{\"field\":\"y\"}},\"id\":\"1831\",\"type\":\"Line\"},{\"attributes\":{},\"id\":\"1849\",\"type\":\"Selection\"},{\"attributes\":{\"align\":\"center\",\"text\":\"Epsilon Nd and Sr Tertiary Lavas\",\"text_font_size\":{\"value\":\"25px\"}},\"id\":\"1790\",\"type\":\"Title\"},{\"attributes\":{\"label\":{\"value\":\"East Greenland\"},\"renderers\":[{\"id\":\"1858\"}]},\"id\":\"1874\",\"type\":\"LegendItem\"},{\"attributes\":{\"axis\":{\"id\":\"1804\"},\"dimension\":1,\"ticker\":null},\"id\":\"1807\",\"type\":\"Grid\"},{\"attributes\":{},\"id\":\"1848\",\"type\":\"UnionRenderers\"},{\"attributes\":{\"data\":{\"143Nd/144Nd\":{\"__ndarray__\":\"KLhYUYNp4D9i1ouhnGjgPw1xrIvbaOA/YabtX1lp4D+3C811GmngPyi4WFGDaeA/\",\"dtype\":\"float64\",\"order\":\"little\",\"shape\":[6]},\"87Sr/86Sr\":{\"__ndarray__\":\"nwJgPIOG5j8Wb2Qe+YPmP2qkpfJ2hOY/3IDPDyOE5j/gEKrU7IHmP4zbaABvgeY/\",\"dtype\":\"float64\",\"order\":\"little\",\"shape\":[6]},\"Location\":[\"Mikis Fjord\",\"Nansens Fjord\",\"Nansens Fjord\",\"Wiedemans Fjord\",\"Wiedemans Fjord\",\"Scoresbysund\"],\"Nd\":{\"__ndarray__\":\"AAAAAACAMUDNzMzMzEw6QAAAAAAAADlAMzMzMzOzM0BmZmZmZmY1QDMzMzMzszFA\",\"dtype\":\"float64\",\"order\":\"little\",\"shape\":[6]},\"NdError\":{\"__ndarray__\":\"aB1VTRB1/z5oHVVNEHX/PvFo44i1+PQ+aB1VTRB1/z7xaOOItfj0PvFo44i1+PQ+\",\"dtype\":\"float64\",\"order\":\"little\",\"shape\":[6]},\"Rb\":{\"__ndarray__\":\"ZmZmZmZmJUAAAAAAAAAmQD0K16NwPQRAH4XrUbgeEUAzMzMzMzMqQGZmZmZmZhFA\",\"dtype\":\"float64\",\"order\":\"little\",\"shape\":[6]},\"Rb/Sr\":{\"__ndarray__\":\"WDm0yHa+nz97FK5H4XqkP/p+arx0k3g/nMQgsHJokT8YBFYOLbKtP3sUrkfhepQ/\",\"dtype\":\"float64\",\"order\":\"little\",\"shape\":[6]},\"Region\":[\"East Greenland\",\"East Greenland\",\"East Greenland\",\"East Greenland\",\"East Greenland\",\"East Greenland\"],\"Sample\":[\"MM20333\",\"CKB7147\",\"CKB7148\",\"EG7207\",\"EG7203\",\"EG7126\"],\"Sm\":{\"__ndarray__\":\"AAAAAAAAFEDNzMzMzMwaQBSuR+F6FBpAH4XrUbgeFUBcj8L1KFwWQPYoXI/C9RRA\",\"dtype\":\"float64\",\"order\":\"little\",\"shape\":[6]},\"Sm/Nd\":{\"__ndarray__\":\"PQrXo3A90j9SuB6F61HQP05iEFg5tNA/9P3UeOkm0T9OYhBYObTQP4xs5/up8dI/\",\"dtype\":\"float64\",\"order\":\"little\",\"shape\":[6]},\"Sr\":[349,277,362,255,244,214],\"SrError\":{\"__ndarray__\":\"8WjjiLX4BD8tQxzr4jYKPy1DHOviNgo/LUMc6+I2Cj/xaOOItfgEP/Fo44i1+BQ/\",\"dtype\":\"float64\",\"order\":\"little\",\"shape\":[6]},\"calc_144Nd\":{\"__ndarray__\":\"H088qArND0Ds8irO1uUXQEseVEhitxZAub4vWpDmEUBMZtKXRXITQFg8Fk+gFRBA\",\"dtype\":\"float64\",\"order\":\"little\",\"shape\":[6]},\"calc_147Sm\":{\"__ndarray__\":\"HltJy0Vx5z+9ameQtGnvP2a64tWoke4/Mt/eCVjB6D//1d88bDXqP+bwpG5Vkeg/\",\"dtype\":\"float64\",\"order\":\"little\",\"shape\":[6]},\"calc_86Sr\":{\"__ndarray__\":\"EfaQ5oX/PkBksS4Okpo4QNTMiluoE0BAsedos1KmNkD9islgUKw1QFoQD/8uAjNA\",\"dtype\":\"float64\",\"order\":\"little\",\"shape\":[6]},\"calc_87Rb\":{\"__ndarray__\":\"4RXJaFYGwD8t/Ho5W3nAP3vke4jvT54/z+90dL2jqT8/SFjufJ7DPyYtTkgXD6o/\",\"dtype\":\"float64\",\"order\":\"little\",\"shape\":[6]},\"calc_Rb/Sr\":{\"__ndarray__\":\"/Knx0k1icD97FK5H4Xp0P/yp8dJNYlA//Knx0k1iYD956SYxCKx8P/p+arx0k2g/\",\"dtype\":\"float64\",\"order\":\"little\",\"shape\":[6]},\"calc_Sm/Nd\":{\"__ndarray__\":\"XrpJDAIrxz/P91PjpZvEPx+F61G4HsU/bxKDwMqhxT8fhetRuB7FP1YOLbKd78c/\",\"dtype\":\"float64\",\"order\":\"little\",\"shape\":[6]},\"calc_t2_143Nd/144Nd\":{\"__ndarray__\":\"7ZklAWpq4D9FL6NYbmngP+/Jw0KtaeA/J4i6D0Bq4D+ZZOQs7GngP9Ei2/l+auA/\",\"dtype\":\"float64\",\"order\":\"little\",\"shape\":[6]},\"calc_t2_87Sr/86Sr\":{\"__ndarray__\":\"SZ2AJsKG5j/ACYUIOITmP00tW+uLhOY/wAmFCDiE5j9RvTWwVYLmP1Lt0/GYgeY/\",\"dtype\":\"float64\",\"order\":\"little\",\"shape\":[6]},\"diff_143Nd/144Nd\":{\"__ndarray__\":\"D9b/OcyXJz/xaOOItfgkP/Fo44i1+CQ/D9b/OcyXJz/xaOOItfgkP54MjpJX5yg/\",\"dtype\":\"float64\",\"order\":\"little\",\"shape\":[6]},\"diff_87Sr/86Sr\":{\"__ndarray__\":\"aR1VTRB1/z5pHVVNEHX/PvFo44i1+OQ+8WjjiLX45D7xaOOItfgEP/Fo44i1+PQ+\",\"dtype\":\"float64\",\"order\":\"little\",\"shape\":[6]},\"diff_Rb/Sr\":{\"__ndarray__\":\"2c73U+Olmz/sUbgeheuhP3sUrkfhenQ/uB6F61G4jj/pJjEIrByqP5zEILByaJE/\",\"dtype\":\"float64\",\"order\":\"little\",\"shape\":[6]},\"diff_Sm/Nd\":{\"__ndarray__\":\"ObTIdr6fuj+q8dJNYhC4P/p+arx0k7g/8tJNYhBYuT/6fmq8dJO4P4GVQ4ts57s/\",\"dtype\":\"float64\",\"order\":\"little\",\"shape\":[6]},\"epsilon_Nd\":{\"__ndarray__\":\"/Yf029eBE0AMAiuHFtkFQCv2l92ThwpAUdobfGHyEUBL6gQ0ETYPQP2H9NvXgRNA\",\"dtype\":\"float64\",\"order\":\"little\",\"shape\":[6]},\"epsilon_Sr\":{\"__ndarray__\":\"pU5AE2GjLsDzH9JvX7czwMx/SL993TLA5j+k375uM8BseHqlLEM3wJMYBFYOHTjA\",\"dtype\":\"float64\",\"order\":\"little\",\"shape\":[6]},\"index\":[6,7,8,9,10,11],\"recalc_143Nd/144Nd\":{\"__ndarray__\":\"JVgczvxq4D+ZZOQs7GngP0P/BBcrauA/X0ax3NJq4D/tmSUBamrgPwnh0cYRa+A/\",\"dtype\":\"float64\",\"order\":\"little\",\"shape\":[6]},\"recalc_87Sr/86Sr\":{\"__ndarray__\":\"SZ2AJsKG5j/ACYUIOITmP00tW+uLhOY/wAmFCDiE5j9uNIC3QILmP1Lt0/GYgeY/\",\"dtype\":\"float64\",\"order\":\"little\",\"shape\":[6]}},\"selected\":{\"id\":\"1873\"},\"selection_policy\":{\"id\":\"1872\"}},\"id\":\"1854\",\"type\":\"ColumnDataSource\"},{\"attributes\":{},\"id\":\"1873\",\"type\":\"Selection\"},{\"attributes\":{\"data\":{\"x\":[0,0],\"y\":[-5,13]},\"selected\":{\"id\":\"1849\"},\"selection_policy\":{\"id\":\"1848\"}},\"id\":\"1829\",\"type\":\"ColumnDataSource\"},{\"attributes\":{},\"id\":\"1872\",\"type\":\"UnionRenderers\"},{\"attributes\":{},\"id\":\"1796\",\"type\":\"LinearScale\"},{\"attributes\":{\"source\":{\"id\":\"1854\"}},\"id\":\"1859\",\"type\":\"CDSView\"},{\"attributes\":{\"data\":{\"143Nd/144Nd\":{\"__ndarray__\":\"78nDQq1p4D9EL6NYbmngP2LWi6GcaOA/7ZklAWpq4D+1q5Dyk2rgPwtBDkqYaeA/RC+jWG5p4D8=\",\"dtype\":\"float64\",\"order\":\"little\",\"shape\":[7]},\"87Sr/86Sr\":{\"__ndarray__\":\"jNtoAG+B5j+jkjoBTYTmP2O0jqomiOY//reSHRuB5j+s4o3MI3/mP6FinL8JheY/o5I6AU2E5j8=\",\"dtype\":\"float64\",\"order\":\"little\",\"shape\":[7]},\"Location\":[\"Cape Dyer\",\"Cape Dyer\",\"Cape Dyer\",\"Svartenhuk\",\"Svartenhuk\",\"Svartenhuk\",\"Svartenhuk\"],\"Nd\":{\"__ndarray__\":\"AAAAAAAAHkBSuB6F61EbQI/C9ShcDyFApHA9CtcjIkCkcD0K16McQGZmZmZmZi9AMzMzMzOzSUA=\",\"dtype\":\"float64\",\"order\":\"little\",\"shape\":[7]},\"NdError\":{\"__ndarray__\":\"aB1VTRB1/z5oHVVNEHX/PmgdVU0Qdf8+aB1VTRB1/z5oHVVNEHX/PmgdVU0Qdf8+8WjjiLX49D4=\",\"dtype\":\"float64\",\"order\":\"little\",\"shape\":[7]},\"Rb\":{\"__ndarray__\":\"16NwPQrX6z9cj8L1KFz/P3sUrkfhevw/exSuR+F6BEAAAAAAAAAsQArXo3A9CgFAAAAAAAAAT0A=\",\"dtype\":\"float64\",\"order\":\"little\",\"shape\":[7]},\"Rb/Sr\":{\"__ndarray__\":\"eOkmMQisfD/6fmq8dJN4Pzq0yHa+n4o/Gy/dJAaBlT/y0k1iEFi5P3sUrkfheoQ/PQrXo3A94j8=\",\"dtype\":\"float64\",\"order\":\"little\",\"shape\":[7]},\"Region\":[\"Baffin and Svartenhuk\",\"Baffin and Svartenhuk\",\"Baffin and Svartenhuk\",\"Baffin and Svartenhuk\",\"Baffin and Svartenhuk\",\"Baffin and Svartenhuk\",\"Baffin and Svartenhuk\"],\"Sample\":[\"B18\",\"B22\",\"B36\",\"S8\",\"S16\",\"S32\",\"S41 (trachyte)\"],\"Sm\":{\"__ndarray__\":\"7FG4HoXrAUAUrkfhehQAQNejcD0K1wVA7FG4HoXrBUC4HoXrUbgCQHsUrkfhehVAmpmZmZmZJEA=\",\"dtype\":\"float64\",\"order\":\"little\",\"shape\":[7]},\"Sm/Nd\":{\"__ndarray__\":\"iUFg5dAi0z83iUFg5dDSP3sUrkfhetQ/hxbZzvdT0z93vp8aL93UPxfZzvdT49U/mpmZmZmZyT8=\",\"dtype\":\"float64\",\"order\":\"little\",\"shape\":[7]},\"Sr\":[128,314,131,121,141,221,108],\"SrError\":{\"__ndarray__\":\"8WjjiLX4BD/xaOOItfgEP/Fo44i1+AQ/8WjjiLX4BD/xaOOItfgEP/Fo44i1+AQ/8WjjiLX4BD8=\",\"dtype\":\"float64\",\"order\":\"little\",\"shape\":[7]},\"calc_144Nd\":{\"__ndarray__\":\"ie0SEAtD+z//YgSJFNP4P9+KkMUHAP8/H/DO+gV8AEDmFlzA+Qb6P7TLsMEBiAxAZZ4hKZhZJ0A=\",\"dtype\":\"float64\",\"order\":\"little\",\"shape\":[7]},\"calc_147Sm\":{\"__ndarray__\":\"QkFY6SMB1T/XDD7wBdnSP4iPY8Rjmdk/roYAEmWx2T+96HnxMPHVP103IeddLek/u5hikU8l+D8=\",\"dtype\":\"float64\",\"order\":\"little\",\"shape\":[7]},\"calc_86Sr\":{\"__ndarray__\":\"h1KX8zu9JkDeEnwM4uM7QPWYGfw6RSdAbFB2eOZ+JUAHMqgEkwwpQOHNWeQpoTNAPxnbz0wvI0A=\",\"dtype\":\"float64\",\"order\":\"little\",\"shape\":[7]},\"calc_87Rb\":{\"__ndarray__\":\"UlcLbd/YhD8wa4VXpnuXP5LmlTqPU5U/7M+jYvOrnj8i+21gi/fEP/9LEoERhZk/nHrnc6M25z8=\",\"dtype\":\"float64\",\"order\":\"little\",\"shape\":[7]},\"calc_Rb/Sr\":{\"__ndarray__\":\"/Knx0k1iUD/8qfHSTWJQP/yp8dJNYmA/+n5qvHSTaD85tMh2vp+KP/yp8dJNYlA/MzMzMzMzsz8=\",\"dtype\":\"float64\",\"order\":\"little\",\"shape\":[7]},\"calc_Sm/Nd\":{\"__ndarray__\":\"/tR46SYxyD8CK4cW2c7HP0Jg5dAi28k/ppvEILByyD+R7Xw/NV7KP9nO91Pjpcs/qMZLN4lBwD8=\",\"dtype\":\"float64\",\"order\":\"little\",\"shape\":[7]},\"calc_t2_143Nd/144Nd\":{\"__ndarray__\":\"mDRG66hq4D/tmSUBamrgP+/Jw0KtaeA/lgSoqWVr4D9Bn8iTpGvgP5g0RuuoauA/YHZPHhZq4D8=\",\"dtype\":\"float64\",\"order\":\"little\",\"shape\":[7]},\"calc_t2_87Sr/86Sr\":{\"__ndarray__\":\"b2Qe+YOB5j+GG/D5YYTmP0c9RKM7iOY/xcn9DkWB5j/HKTqSy3/mP4XrUbgeheY/Ksb5m1CI5j8=\",\"dtype\":\"float64\",\"order\":\"little\",\"shape\":[7]},\"diff_143Nd/144Nd\":{\"__ndarray__\":\"ngyOklfnKD+eDI6SV+coP7x5qkNuhis/ngyOklfnKD+8eapDboYrP7x5qkNuhis/Q8U4fxMKIT8=\",\"dtype\":\"float64\",\"order\":\"little\",\"shape\":[7]},\"diff_87Sr/86Sr\":{\"__ndarray__\":\"8WjjiLX45D7xaOOItfjkPvFo44i1+OQ+8WjjiLX49D7S+8bXnlkSP/Fo44i1+OQ+A5Xx7zMuPD8=\",\"dtype\":\"float64\",\"order\":\"little\",\"shape\":[7]},\"diff_Rb/Sr\":{\"__ndarray__\":\"+n5qvHSTeD97FK5H4Xp0P7pJDAIrh4Y/O99PjZdukj9qvHSTGAS2PzvfT42XboI/rkfhehSu3z8=\",\"dtype\":\"float64\",\"order\":\"little\",\"shape\":[7]},\"diff_Sm/Nd\":{\"__ndarray__\":\"KVyPwvUovD/ZzvdT46W7P2iR7Xw/Nb4/0SLb+X5qvD+4HoXrUbi+P1TjpZvEIMA/46WbxCCwsj8=\",\"dtype\":\"float64\",\"order\":\"little\",\"shape\":[7]},\"epsilon_Nd\":{\"__ndarray__\":\"xSCwcmgRFUCZu5aQD7oSQAwCK4cW2QVA845TdCQXHEC7Jw8LtaYdQGFUUiegSRRAmbuWkA+6EkA=\",\"dtype\":\"float64\",\"order\":\"little\",\"shape\":[7]},\"epsilon_Sr\":{\"__ndarray__\":\"kxgEVg4dOMDZX3ZPHiYzwLu4jQbw9ijArthfdk+uOMC94xQdyRU8wAFNhA1P3zHA2V92Tx4mM8A=\",\"dtype\":\"float64\",\"order\":\"little\",\"shape\":[7]},\"index\":[12,13,14,15,16,17,18],\"recalc_143Nd/144Nd\":{\"__ndarray__\":\"0PI8uDtr4D8lWBzO/GrgPwoRcAhVauA/zsKedvhr4D9c5nRZTGzgP7N78rBQa+A/0SLb+X5q4D8=\",\"dtype\":\"float64\",\"order\":\"little\",\"shape\":[7]},\"recalc_87Sr/86Sr\":{\"__ndarray__\":\"b2Qe+YOB5j+GG/D5YYTmP0c9RKM7iOY/xcn9DkWB5j/koISZtn/mP4XrUbgeheY/1pC4x9KH5j8=\",\"dtype\":\"float64\",\"order\":\"little\",\"shape\":[7]}},\"selected\":{\"id\":\"1851\"},\"selection_policy\":{\"id\":\"1850\"}},\"id\":\"1834\",\"type\":\"ColumnDataSource\"},{\"attributes\":{},\"id\":\"1813\",\"type\":\"SaveTool\"},{\"attributes\":{\"x\":{\"field\":\"x\"},\"y\":{\"field\":\"y\"}},\"id\":\"1825\",\"type\":\"Line\"},{\"attributes\":{\"label\":{\"value\":\"West Greenland\"},\"renderers\":[{\"id\":\"1838\"}]},\"id\":\"1853\",\"type\":\"LegendItem\"},{\"attributes\":{},\"id\":\"1798\",\"type\":\"LinearScale\"},{\"attributes\":{\"label\":{\"value\":\"Faeroes\"},\"renderers\":[{\"id\":\"1879\"}]},\"id\":\"1897\",\"type\":\"LegendItem\"},{\"attributes\":{\"data\":{\"x\":[-52,30],\"y\":[0,0]},\"selected\":{\"id\":\"1847\"},\"selection_policy\":{\"id\":\"1846\"}},\"id\":\"1824\",\"type\":\"ColumnDataSource\"},{\"attributes\":{\"data\":{\"143Nd/144Nd\":{\"__ndarray__\":\"DXGsi9to4D9EL6NYbmngP5lk5CzsaeA/tdsuNNdp4D9hpu1fWWngPwoRcAhVauA/\",\"dtype\":\"float64\",\"order\":\"little\",\"shape\":[6]},\"87Sr/86Sr\":{\"__ndarray__\":\"N6YnLPGA5j+IS447pYPmPxsv3SQGgeY/iXssfeiC5j9uNIC3QILmP8OZX80BguY/\",\"dtype\":\"float64\",\"order\":\"little\",\"shape\":[6]},\"Location\":[\"Torshavn\",\"Torshavn\",\"Torshavn\",\"Suduroy\",\"Suduroy\",\"Vestmanna\"],\"Nd\":{\"__ndarray__\":\"XI/C9ShcH0CamZmZmRk1QGZmZmZm5jZAmpmZmZmZO0CamZmZmZksQGZmZmZmZi5A\",\"dtype\":\"float64\",\"order\":\"little\",\"shape\":[6]},\"NdError\":{\"__ndarray__\":\"8WjjiLX49D5oHVVNEHX/PvFo44i1+PQ+8WjjiLX49D5oHVVNEHX/PmgdVU0Qdf8+\",\"dtype\":\"float64\",\"order\":\"little\",\"shape\":[6]},\"Rb\":{\"__ndarray__\":\"CtejcD0K8z8K16NwPQoiQD0K16NwPQRAMzMzMzMzJkDsUbgehev9P4/C9ShcjxdA\",\"dtype\":\"float64\",\"order\":\"little\",\"shape\":[6]},\"Rb/Sr\":{\"__ndarray__\":\"/Knx0k1icD/sUbgeheuxPzzfT42XboI/yqFFtvP9pD97FK5H4Xp0P1g5tMh2vp8/\",\"dtype\":\"float64\",\"order\":\"little\",\"shape\":[6]},\"Region\":[\"Faeroes\",\"Faeroes\",\"Faeroes\",\"Faeroes\",\"Faeroes\",\"Faeroes\"],\"Sample\":[\"Fo07\",\"Fo19\",\"Fo23\",\"Fo34\",\"Fo41\",\"Fo52\"],\"Sm\":{\"__ndarray__\":\"SOF6FK5HBUApXI/C9SgWQM3MzMzMzBhAKVyPwvUoHEDsUbgehesPQNejcD0K1xBA\",\"dtype\":\"float64\",\"order\":\"little\",\"shape\":[6]},\"Sm/Nd\":{\"__ndarray__\":\"GARWDi2y1T+iRbbz/dTQP/LSTWIQWNE/UrgehetR0D9BYOXQItvRP+18PzVeutE/\",\"dtype\":\"float64\",\"order\":\"little\",\"shape\":[6]},\"Sr\":[282,123,270,274,388,188],\"SrError\":{\"__ndarray__\":\"aB1VTRB1/z4tQxzr4jYKP/Fo44i1+AQ/LUMc6+I2Cj/xaOOItfgEP/Fo44i1+AQ/\",\"dtype\":\"float64\",\"order\":\"little\",\"shape\":[6]},\"calc_144Nd\":{\"__ndarray__\":\"rlUdrop//D/9sWxIPSwTQJZ3YntlzxRA/f6YGG4UGUAHhFUtOP0JQIhotBr0nwtA\",\"dtype\":\"float64\",\"order\":\"little\",\"shape\":[6]},\"calc_147Sm\":{\"__ndarray__\":\"fs0YpVrx2D8gbNf6aPnpPwZIE/yTEe0/IerpW+WA8D8fmtL7A7XiP8A4kVESveM/\",\"dtype\":\"float64\",\"order\":\"little\",\"shape\":[6]},\"calc_86Sr\":{\"__ndarray__\":\"iFi9XX4MOUAr3/JurtklQKQstkqc+zdAD+COgG1WOED89olMXjtBQGEMJC3vsjBA\",\"dtype\":\"float64\",\"order\":\"little\",\"shape\":[6]},\"calc_87Rb\":{\"__ndarray__\":\"TUu0RdyDjD+mS2PjdgS7P3vke4jvT54/8Ui2KbKfwD/hqA3JmmeWP1i5fL5npLE/\",\"dtype\":\"float64\",\"order\":\"little\",\"shape\":[6]},\"calc_Rb/Sr\":{\"__ndarray__\":\"/Knx0k1iUD97FK5H4XqEP/yp8dJNYlA/exSuR+F6dD/8qfHSTWJQP/yp8dJNYnA/\",\"dtype\":\"float64\",\"order\":\"little\",\"shape\":[6]},\"calc_Sm/Nd\":{\"__ndarray__\":\"MQisHFpkyz9zaJHtfD/FPxfZzvdT48U/z/dT46WbxD+6SQwCK4fGP2ZmZmZmZsY/\",\"dtype\":\"float64\",\"order\":\"little\",\"shape\":[6]},\"calc_t2_143Nd/144Nd\":{\"__ndarray__\":\"mWTkLOxp4D8niLoPQGrgP19GsdzSauA/mDRG66hq4D8niLoPQGrgP9DyPLg7a+A/\",\"dtype\":\"float64\",\"order\":\"little\",\"shape\":[6]},\"calc_t2_87Sr/86Sr\":{\"__ndarray__\":\"N6YnLPGA5j/cgM8PI4TmP/63kh0bgeY/MxZNZyeD5j9uNIC3QILmP240gLdAguY/\",\"dtype\":\"float64\",\"order\":\"little\",\"shape\":[6]},\"diff_143Nd/144Nd\":{\"__ndarray__\":\"vHmqQ26GKz+An3HhQEgmPw/W/znMlyc/8WjjiLX4JD8P1v85zJcnPw/W/znMlyc/\",\"dtype\":\"float64\",\"order\":\"little\",\"shape\":[6]},\"diff_87Sr/86Sr\":{\"__ndarray__\":\"AAAAAAAAAAAtQxzr4jYKP/Fo44i1+OQ+aR1VTRB1/z4AAAAAAAAAAGkdVU0Qdf8+\",\"dtype\":\"float64\",\"order\":\"little\",\"shape\":[6]},\"diff_Rb/Sr\":{\"__ndarray__\":\"+n5qvHSTaD+4HoXrUbiuP/yp8dJNYoA/O99PjZduoj/8qfHSTWJwP9nO91PjpZs/\",\"dtype\":\"float64\",\"order\":\"little\",\"shape\":[6]},\"diff_Sm/Nd\":{\"__ndarray__\":\"AAAAAAAAwD+iRbbz/dS4P5qZmZmZmbk/qvHSTWIQuD+R7Xw/NV66P+kmMQisHLo/\",\"dtype\":\"float64\",\"order\":\"little\",\"shape\":[6]},\"epsilon_Nd\":{\"__ndarray__\":\"K/aX3ZOHCkCZu5aQD7oSQNSa5h2naBdAcM6I0t6gFkBR2ht8YfIRQI/C9ShcTxtA\",\"dtype\":\"float64\",\"order\":\"little\",\"shape\":[6]},\"epsilon_Sr\":{\"__ndarray__\":\"9P3UeOn2OMAN4C2QoEg0wFFrmnec0jjA5fIf0m+PNcBSuB6F67E2wMnlP6TfHjfA\",\"dtype\":\"float64\",\"order\":\"little\",\"shape\":[6]},\"index\":[0,1,2,3,4,5],\"recalc_143Nd/144Nd\":{\"__ndarray__\":\"tKuQ8pNq4D9fRrHc0mrgP5YEqKlla+A/7GmHvyZr4D9fRrHc0mrgPwexM4XOa+A/\",\"dtype\":\"float64\",\"order\":\"little\",\"shape\":[6]},\"recalc_87Sr/86Sr\":{\"__ndarray__\":\"N6YnLPGA5j/59xkXDoTmP/63kh0bgeY/MxZNZyeD5j9uNIC3QILmP240gLdAguY/\",\"dtype\":\"float64\",\"order\":\"little\",\"shape\":[6]}},\"selected\":{\"id\":\"1896\"},\"selection_policy\":{\"id\":\"1895\"}},\"id\":\"1875\",\"type\":\"ColumnDataSource\"},{\"attributes\":{\"source\":{\"id\":\"1834\"}},\"id\":\"1839\",\"type\":\"CDSView\"},{\"attributes\":{},\"id\":\"1896\",\"type\":\"Selection\"},{\"attributes\":{\"fill_alpha\":{\"value\":0.1},\"fill_color\":{\"field\":\"Region\",\"transform\":{\"id\":\"1823\"}},\"line_alpha\":{\"value\":0.1},\"line_color\":{\"value\":\"#1f77b4\"},\"marker\":{\"value\":\"circle_cross\"},\"size\":{\"units\":\"screen\",\"value\":10},\"x\":{\"field\":\"epsilon_Sr\"},\"y\":{\"field\":\"epsilon_Nd\"}},\"id\":\"1857\",\"type\":\"Scatter\"},{\"attributes\":{\"data_source\":{\"id\":\"1875\"},\"glyph\":{\"id\":\"1877\"},\"hover_glyph\":null,\"muted_glyph\":null,\"nonselection_glyph\":{\"id\":\"1878\"},\"selection_glyph\":null,\"view\":{\"id\":\"1880\"}},\"id\":\"1879\",\"type\":\"GlyphRenderer\"},{\"attributes\":{\"label\":{\"value\":\"Mull\"},\"renderers\":[{\"id\":\"1902\"}]},\"id\":\"1922\",\"type\":\"LegendItem\"},{\"attributes\":{},\"id\":\"1801\",\"type\":\"BasicTicker\"},{\"attributes\":{\"end\":30,\"start\":-52},\"id\":\"1792\",\"type\":\"Range1d\"},{\"attributes\":{\"source\":{\"id\":\"1824\"}},\"id\":\"1828\",\"type\":\"CDSView\"},{\"attributes\":{\"data_source\":{\"id\":\"1854\"},\"glyph\":{\"id\":\"1856\"},\"hover_glyph\":null,\"muted_glyph\":null,\"nonselection_glyph\":{\"id\":\"1857\"},\"selection_glyph\":null,\"view\":{\"id\":\"1859\"}},\"id\":\"1858\",\"type\":\"GlyphRenderer\"},{\"attributes\":{\"fill_alpha\":{\"value\":0.1},\"fill_color\":{\"field\":\"Region\",\"transform\":{\"id\":\"1823\"}},\"line_alpha\":{\"value\":0.1},\"line_color\":{\"value\":\"#1f77b4\"},\"marker\":{\"value\":\"diamond_cross\"},\"size\":{\"units\":\"screen\",\"value\":10},\"x\":{\"field\":\"epsilon_Sr\"},\"y\":{\"field\":\"epsilon_Nd\"}},\"id\":\"1878\",\"type\":\"Scatter\"},{\"attributes\":{\"fill_alpha\":{\"value\":0.1},\"fill_color\":{\"value\":\"green\"},\"line_alpha\":{\"value\":0.1},\"line_color\":{\"value\":\"#1f77b4\"},\"size\":{\"units\":\"screen\",\"value\":10},\"x\":{\"field\":\"epsilon_Sr\"},\"y\":{\"field\":\"epsilon_Nd\"}},\"id\":\"1901\",\"type\":\"Scatter\"},{\"attributes\":{},\"id\":\"1895\",\"type\":\"UnionRenderers\"},{\"attributes\":{\"data_source\":{\"id\":\"1824\"},\"glyph\":{\"id\":\"1825\"},\"hover_glyph\":null,\"muted_glyph\":null,\"nonselection_glyph\":{\"id\":\"1826\"},\"selection_glyph\":null,\"view\":{\"id\":\"1828\"}},\"id\":\"1827\",\"type\":\"GlyphRenderer\"},{\"attributes\":{},\"id\":\"1812\",\"type\":\"ResetTool\"},{\"attributes\":{\"axis\":{\"id\":\"1800\"},\"ticker\":null},\"id\":\"1803\",\"type\":\"Grid\"},{\"attributes\":{\"active_drag\":\"auto\",\"active_inspect\":\"auto\",\"active_multi\":null,\"active_scroll\":\"auto\",\"active_tap\":\"auto\",\"logo\":null,\"tools\":[{\"id\":\"1808\"},{\"id\":\"1809\"},{\"id\":\"1810\"},{\"id\":\"1811\"},{\"id\":\"1812\"},{\"id\":\"1813\"}]},\"id\":\"1815\",\"type\":\"Toolbar\"},{\"attributes\":{\"fill_alpha\":{\"value\":0.6},\"fill_color\":{\"field\":\"Region\",\"transform\":{\"id\":\"1823\"}},\"line_color\":{\"value\":\"#1f77b4\"},\"marker\":{\"value\":\"circle_cross\"},\"size\":{\"units\":\"screen\",\"value\":10},\"x\":{\"field\":\"epsilon_Sr\"},\"y\":{\"field\":\"epsilon_Nd\"}},\"id\":\"1856\",\"type\":\"Scatter\"},{\"attributes\":{\"fill_alpha\":{\"value\":0.6},\"fill_color\":{\"field\":\"Region\",\"transform\":{\"id\":\"1823\"}},\"line_color\":{\"value\":\"#1f77b4\"},\"marker\":{\"value\":\"diamond_cross\"},\"size\":{\"units\":\"screen\",\"value\":10},\"x\":{\"field\":\"epsilon_Sr\"},\"y\":{\"field\":\"epsilon_Nd\"}},\"id\":\"1877\",\"type\":\"Scatter\"},{\"attributes\":{\"data_source\":{\"id\":\"1834\"},\"glyph\":{\"id\":\"1836\"},\"hover_glyph\":null,\"muted_glyph\":null,\"nonselection_glyph\":{\"id\":\"1837\"},\"selection_glyph\":null,\"view\":{\"id\":\"1839\"}},\"id\":\"1838\",\"type\":\"GlyphRenderer\"},{\"attributes\":{},\"id\":\"1805\",\"type\":\"BasicTicker\"},{\"attributes\":{\"line_alpha\":0.1,\"x\":{\"field\":\"x\"},\"y\":{\"field\":\"y\"}},\"id\":\"1826\",\"type\":\"Line\"},{\"attributes\":{\"x\":{\"field\":\"x\"},\"y\":{\"field\":\"y\"}},\"id\":\"1830\",\"type\":\"Line\"},{\"attributes\":{\"axis_label\":\"Epsilon Sr\",\"formatter\":{\"id\":\"1841\"},\"ticker\":{\"id\":\"1801\"}},\"id\":\"1800\",\"type\":\"LinearAxis\"},{\"attributes\":{\"axis_label\":\"Epsilon Nd\",\"formatter\":{\"id\":\"1843\"},\"ticker\":{\"id\":\"1805\"}},\"id\":\"1804\",\"type\":\"LinearAxis\"},{\"attributes\":{\"source\":{\"id\":\"1875\"}},\"id\":\"1880\",\"type\":\"CDSView\"},{\"attributes\":{\"end\":13,\"start\":-5},\"id\":\"1794\",\"type\":\"Range1d\"},{\"attributes\":{},\"id\":\"1921\",\"type\":\"Selection\"},{\"attributes\":{\"data_source\":{\"id\":\"1829\"},\"glyph\":{\"id\":\"1830\"},\"hover_glyph\":null,\"muted_glyph\":null,\"nonselection_glyph\":{\"id\":\"1831\"},\"selection_glyph\":null,\"view\":{\"id\":\"1833\"}},\"id\":\"1832\",\"type\":\"GlyphRenderer\"},{\"attributes\":{\"callback\":null},\"id\":\"1811\",\"type\":\"HoverTool\"}],\"root_ids\":[\"1789\"]},\"title\":\"Bokeh Application\",\"version\":\"2.2.3\"}};\n",
       "  var render_items = [{\"docid\":\"2998ddce-c428-47df-a4e0-5fb4830b4ab0\",\"root_ids\":[\"1789\"],\"roots\":{\"1789\":\"d07ecf77-6ad4-4b03-9694-0b989d4d7c70\"}}];\n",
       "  root.Bokeh.embed.embed_items_notebook(docs_json, render_items);\n",
       "\n",
       "  }\n",
       "  if (root.Bokeh !== undefined) {\n",
       "    embed_document(root);\n",
       "  } else {\n",
       "    var attempts = 0;\n",
       "    var timer = setInterval(function(root) {\n",
       "      if (root.Bokeh !== undefined) {\n",
       "        clearInterval(timer);\n",
       "        embed_document(root);\n",
       "      } else {\n",
       "        attempts++;\n",
       "        if (attempts > 100) {\n",
       "          clearInterval(timer);\n",
       "          console.log(\"Bokeh: ERROR: Unable to run BokehJS code because BokehJS library is missing\");\n",
       "        }\n",
       "      }\n",
       "    }, 10, root)\n",
       "  }\n",
       "})(window);"
      ],
      "application/vnd.bokehjs_exec.v0+json": ""
     },
     "metadata": {
      "application/vnd.bokehjs_exec.v0+json": {
       "id": "1789"
      }
     },
     "output_type": "display_data"
    }
   ],
   "source": [
    "show(figure5)"
   ]
  },
  {
   "cell_type": "markdown",
   "metadata": {
    "slideshow": {
     "slide_type": "notes"
    }
   },
   "source": [
    "I've included in this plot samples from Mull in Northwest Scotland that appear to plot similarly to the original dataset. This data shows what we expect from depleted mantle sources with negative epsilon Sr values, and positive epsilon Nd values."
   ]
  },
  {
   "cell_type": "markdown",
   "metadata": {
    "slideshow": {
     "slide_type": "subslide"
    }
   },
   "source": [
    "<center><img src=\"images/carter_fig_4.png\" align=\"center\"></center>"
   ]
  },
  {
   "cell_type": "markdown",
   "metadata": {
    "slideshow": {
     "slide_type": "notes"
    }
   },
   "source": [
    "This final figure compares the Greenland data with Northwest Scotland, which show a divergence from this trend.\n",
    "* This difference has been previously attributed to contamination from 2.9 Ga Lewisian basement gneisses.\n",
    "* This granulite facies material has a negative ΔNd and also includes some amphibolite facies have positive ΔSr values."
   ]
  },
  {
   "cell_type": "code",
   "execution_count": 67,
   "metadata": {
    "slideshow": {
     "slide_type": "skip"
    }
   },
   "outputs": [],
   "source": [
    "figure6 = gc.get_figure(\"Epsilon Nd and Sr Northwest Scotland\",\n",
    "                        \"Epsilon Sr\",\n",
    "                        \"Epsilon Nd\",\n",
    "                        [-55,62],\n",
    "                        [-20,15])\n",
    "index_cmap = factor_cmap('Location', palette=['red', 'blue', 'green', 'purple'], \n",
    "                         factors=sorted(carter_df2.Location.unique()))\n",
    "\n",
    "figure6.line([-55,62],[0,0],\n",
    "            line_width=1,\n",
    "            color=\"black\")\n",
    "figure6.line([0,0],[-20,15],\n",
    "            line_width=1,\n",
    "            color=\"black\")\n",
    "\n",
    "figure6.scatter('epsilon_Sr','epsilon_Nd',\n",
    "                source=mull_df,fill_alpha=0.6,\n",
    "                fill_color=index_cmap,\n",
    "                size=10,\n",
    "                marker=\"circle\",\n",
    "                legend_label='Mull')\n",
    "figure6.scatter('epsilon_Sr','epsilon_Nd',\n",
    "                source=eigg_df,fill_alpha=0.6,\n",
    "                fill_color=index_cmap,\n",
    "                size=10,\n",
    "                marker='square',\n",
    "                legend_label='Eigg')\n",
    "figure6.scatter('epsilon_Sr','epsilon_Nd',\n",
    "                source=skye_df,\n",
    "                fill_alpha=0.6,\n",
    "                fill_color=index_cmap,\n",
    "                size=10,\n",
    "                marker=\"triangle\",\n",
    "                legend_label='Skye')\n",
    "figure6.scatter('epsilon_Sr','epsilon_Nd',\n",
    "                source=muck_df,\n",
    "                fill_alpha=0.6,\n",
    "                fill_color=index_cmap,\n",
    "                size=10,\n",
    "                marker=\"inverted_triangle\",\n",
    "                legend_label='Muck')\n",
    "figure6.legend.click_policy=\"hide\""
   ]
  },
  {
   "cell_type": "code",
   "execution_count": 68,
   "metadata": {
    "scrolled": false,
    "slideshow": {
     "slide_type": "subslide"
    }
   },
   "outputs": [
    {
     "data": {
      "text/html": [
       "\n",
       "\n",
       "\n",
       "\n",
       "\n",
       "\n",
       "  <div class=\"bk-root\" id=\"4412db25-5774-498b-92e6-298930697b18\" data-root-id=\"3836\"></div>\n"
      ]
     },
     "metadata": {},
     "output_type": "display_data"
    },
    {
     "data": {
      "application/javascript": [
       "(function(root) {\n",
       "  function embed_document(root) {\n",
       "    \n",
       "  var docs_json = {\"bba6c3b3-6a91-4d6e-89f8-9b02bbaa9e74\":{\"roots\":{\"references\":[{\"attributes\":{\"below\":[{\"id\":\"3847\"}],\"center\":[{\"id\":\"3850\"},{\"id\":\"3854\"},{\"id\":\"3899\"}],\"left\":[{\"id\":\"3851\"}],\"plot_height\":500,\"plot_width\":700,\"renderers\":[{\"id\":\"3874\"},{\"id\":\"3879\"},{\"id\":\"3885\"},{\"id\":\"3905\"},{\"id\":\"3926\"},{\"id\":\"3949\"}],\"title\":{\"id\":\"3837\"},\"toolbar\":{\"id\":\"3862\"},\"toolbar_location\":\"left\",\"toolbar_sticky\":false,\"x_range\":{\"id\":\"3839\"},\"x_scale\":{\"id\":\"3843\"},\"y_range\":{\"id\":\"3841\"},\"y_scale\":{\"id\":\"3845\"}},\"id\":\"3836\",\"subtype\":\"Figure\",\"type\":\"Plot\"},{\"attributes\":{},\"id\":\"3897\",\"type\":\"UnionRenderers\"},{\"attributes\":{\"end\":15,\"start\":-20},\"id\":\"3841\",\"type\":\"Range1d\"},{\"attributes\":{},\"id\":\"3898\",\"type\":\"Selection\"},{\"attributes\":{\"data_source\":{\"id\":\"3871\"},\"glyph\":{\"id\":\"3872\"},\"hover_glyph\":null,\"muted_glyph\":null,\"nonselection_glyph\":{\"id\":\"3873\"},\"selection_glyph\":null,\"view\":{\"id\":\"3875\"}},\"id\":\"3874\",\"type\":\"GlyphRenderer\"},{\"attributes\":{\"label\":{\"value\":\"Eigg\"},\"renderers\":[{\"id\":\"3905\"}]},\"id\":\"3921\",\"type\":\"LegendItem\"},{\"attributes\":{},\"id\":\"3942\",\"type\":\"UnionRenderers\"},{\"attributes\":{\"end\":62,\"start\":-55},\"id\":\"3839\",\"type\":\"Range1d\"},{\"attributes\":{},\"id\":\"3855\",\"type\":\"PanTool\"},{\"attributes\":{\"fill_alpha\":{\"value\":0.1},\"fill_color\":{\"field\":\"Location\",\"transform\":{\"id\":\"3870\"}},\"line_alpha\":{\"value\":0.1},\"line_color\":{\"value\":\"#1f77b4\"},\"marker\":{\"value\":\"triangle\"},\"size\":{\"units\":\"screen\",\"value\":10},\"x\":{\"field\":\"epsilon_Sr\"},\"y\":{\"field\":\"epsilon_Nd\"}},\"id\":\"3925\",\"type\":\"Scatter\"},{\"attributes\":{\"source\":{\"id\":\"3945\"}},\"id\":\"3950\",\"type\":\"CDSView\"},{\"attributes\":{\"fill_alpha\":{\"value\":0.6},\"fill_color\":{\"field\":\"Location\",\"transform\":{\"id\":\"3870\"}},\"line_color\":{\"value\":\"#1f77b4\"},\"marker\":{\"value\":\"triangle\"},\"size\":{\"units\":\"screen\",\"value\":10},\"x\":{\"field\":\"epsilon_Sr\"},\"y\":{\"field\":\"epsilon_Nd\"}},\"id\":\"3924\",\"type\":\"Scatter\"},{\"attributes\":{},\"id\":\"3896\",\"type\":\"Selection\"},{\"attributes\":{\"overlay\":{\"id\":\"3861\"}},\"id\":\"3856\",\"type\":\"BoxZoomTool\"},{\"attributes\":{\"fill_alpha\":{\"value\":0.6},\"fill_color\":{\"field\":\"Location\",\"transform\":{\"id\":\"3870\"}},\"line_color\":{\"value\":\"#1f77b4\"},\"marker\":{\"value\":\"inverted_triangle\"},\"size\":{\"units\":\"screen\",\"value\":10},\"x\":{\"field\":\"epsilon_Sr\"},\"y\":{\"field\":\"epsilon_Nd\"}},\"id\":\"3947\",\"type\":\"Scatter\"},{\"attributes\":{\"source\":{\"id\":\"3876\"}},\"id\":\"3880\",\"type\":\"CDSView\"},{\"attributes\":{},\"id\":\"3848\",\"type\":\"BasicTicker\"},{\"attributes\":{},\"id\":\"3893\",\"type\":\"UnionRenderers\"},{\"attributes\":{},\"id\":\"3895\",\"type\":\"UnionRenderers\"},{\"attributes\":{},\"id\":\"3857\",\"type\":\"CrosshairTool\"},{\"attributes\":{},\"id\":\"3967\",\"type\":\"UnionRenderers\"},{\"attributes\":{},\"id\":\"3890\",\"type\":\"BasicTickFormatter\"},{\"attributes\":{\"data\":{\"143Nd/144Nd\":{\"__ndarray__\":\"yatzDMhe4D/aci7FVWXgP6BU+3Q8ZuA/\",\"dtype\":\"float64\",\"order\":\"little\",\"shape\":[3]},\"87Sr/86Sr\":{\"__ndarray__\":\"Fva0w1+T5j8nNh/XhormP6qCUUmdgOY/\",\"dtype\":\"float64\",\"order\":\"little\",\"shape\":[3]},\"Location\":[\"Muck\",\"Muck\",\"Muck\"],\"Nd\":{\"__ndarray__\":\"MzMzMzNzT0AAAAAAAIA7QM3MzMzMTDZA\",\"dtype\":\"float64\",\"order\":\"little\",\"shape\":[3]},\"NdError\":{\"__ndarray__\":\"8WjjiLX49D5qHVVNEHX/PmodVU0Qdf8+\",\"dtype\":\"float64\",\"order\":\"little\",\"shape\":[3]},\"Rb\":{\"__ndarray__\":\"ZmZmZmbmSUDNzMzMzMwVQK5H4XoUrgtA\",\"dtype\":\"float64\",\"order\":\"little\",\"shape\":[3]},\"Region\":[\"Northwest Scotland\",\"Northwest Scotland\",\"Northwest Scotland\"],\"Rock Type\":[\"Basalt\",\"Basalt\",\"Basalt\"],\"Sample\":[\"M9\",\"M11\",\"M17\"],\"Sm\":{\"__ndarray__\":\"MzMzMzMzKEC4HoXrUbgeQDMzMzMzMxJA\",\"dtype\":\"float64\",\"order\":\"little\",\"shape\":[3]},\"Sr\":{\"__ndarray__\":\"AAAAAAAwdEAAAAAAAMB6QAAAAAAAsH1A\",\"dtype\":\"float64\",\"order\":\"little\",\"shape\":[3]},\"SrError\":{\"__ndarray__\":\"8WjjiLX4BD/xaOOItfgEP2odVU0QdQ8/\",\"dtype\":\"float64\",\"order\":\"little\",\"shape\":[3]},\"calc_144Nd\":{\"__ndarray__\":\"j8QKYcSQLEAb/Yl63vsYQMNz8VriQxRA\",\"dtype\":\"float64\",\"order\":\"little\",\"shape\":[3]},\"calc_147Sm\":{\"__ndarray__\":\"aQr6NYpd/D+BXLk1+gDyP0ai/XgoVeU/\",\"dtype\":\"float64\",\"order\":\"little\",\"shape\":[3]},\"calc_86Sr\":{\"__ndarray__\":\"wTUcY1KvPEB/Rzn+tAFDQFvL7sicGEVA\",\"dtype\":\"float64\",\"order\":\"little\",\"shape\":[3]},\"calc_87Rb\":{\"__ndarray__\":\"GVX/hfpk4z9prz9JBFOwP4KzqHkzuqQ/\",\"dtype\":\"float64\",\"order\":\"little\",\"shape\":[3]},\"calc_Rb/Sr\":{\"__ndarray__\":\"Gy/dJAaBlT/8qfHSTWJgP/yp8dJNYlA/\",\"dtype\":\"float64\",\"order\":\"little\",\"shape\":[3]},\"calc_Sm/Nd\":{\"__ndarray__\":\"CKwcWmQ7vz+6SQwCK4fGP1CNl24Sg8A/\",\"dtype\":\"float64\",\"order\":\"little\",\"shape\":[3]},\"epsilon_Nd\":{\"__ndarray__\":\"zH9Iv32tNMBhVFInoEkUwNSa5h2naAfA\",\"dtype\":\"float64\",\"order\":\"little\",\"shape\":[3]},\"epsilon_Sr\":{\"__ndarray__\":\"PnlYqDXNG0CUh4Va07wgwA6+MJkqiDnA\",\"dtype\":\"float64\",\"order\":\"little\",\"shape\":[3]},\"index\":[11,12,13]},\"selected\":{\"id\":\"3968\"},\"selection_policy\":{\"id\":\"3967\"}},\"id\":\"3945\",\"type\":\"ColumnDataSource\"},{\"attributes\":{},\"id\":\"3845\",\"type\":\"LinearScale\"},{\"attributes\":{\"callback\":null},\"id\":\"3858\",\"type\":\"HoverTool\"},{\"attributes\":{\"click_policy\":\"hide\",\"items\":[{\"id\":\"3900\"},{\"id\":\"3921\"},{\"id\":\"3944\"},{\"id\":\"3969\"}]},\"id\":\"3899\",\"type\":\"Legend\"},{\"attributes\":{\"align\":\"center\",\"text\":\"Epsilon Nd and Sr Northwest Scotland\",\"text_font_size\":{\"value\":\"25px\"}},\"id\":\"3837\",\"type\":\"Title\"},{\"attributes\":{},\"id\":\"3859\",\"type\":\"ResetTool\"},{\"attributes\":{\"label\":{\"value\":\"Mull\"},\"renderers\":[{\"id\":\"3885\"}]},\"id\":\"3900\",\"type\":\"LegendItem\"},{\"attributes\":{\"data_source\":{\"id\":\"3901\"},\"glyph\":{\"id\":\"3903\"},\"hover_glyph\":null,\"muted_glyph\":null,\"nonselection_glyph\":{\"id\":\"3904\"},\"selection_glyph\":null,\"view\":{\"id\":\"3906\"}},\"id\":\"3905\",\"type\":\"GlyphRenderer\"},{\"attributes\":{},\"id\":\"3860\",\"type\":\"SaveTool\"},{\"attributes\":{\"data\":{\"x\":[0,0],\"y\":[-20,15]},\"selected\":{\"id\":\"3896\"},\"selection_policy\":{\"id\":\"3895\"}},\"id\":\"3876\",\"type\":\"ColumnDataSource\"},{\"attributes\":{\"data\":{\"143Nd/144Nd\":{\"__ndarray__\":\"Su8bX3tm4D+gVPt0PGbgP0rvG197ZuA/EjElkuhl4D9tVn2utmLgPw/R6A5iZ+A/\",\"dtype\":\"float64\",\"order\":\"little\",\"shape\":[6]},\"87Sr/86Sr\":{\"__ndarray__\":\"NBZNZyeD5j8Wb2Qe+YPmP/onuFhRg+Y/g4sVNZiG5j8wthDkoITmPzCGcqJdheY/\",\"dtype\":\"float64\",\"order\":\"little\",\"shape\":[6]},\"Location\":[\"Skye\",\"Skye\",\"Skye\",\"Skye\",\"Skye\",\"Skye\"],\"Nd\":{\"__ndarray__\":\"MzMzMzMzM0DNzMzMzEw2QGZmZmZm5jNAMzMzMzMzMkAAAAAAAIAxQAAAAAAAgDpA\",\"dtype\":\"float64\",\"order\":\"little\",\"shape\":[6]},\"NdError\":{\"__ndarray__\":\"8WjjiLX49D5qHVVNEHX/PvFo44i1+PQ+ah1VTRB1/z7xaOOItfj0PvFo44i1+PQ+\",\"dtype\":\"float64\",\"order\":\"little\",\"shape\":[6]},\"Rb\":{\"__ndarray__\":\"7FG4HoXrHkBmZmZmZmYgQHE9CtejcBBAmpmZmZmZGkDsUbgehesUQClcj8L1KBlA\",\"dtype\":\"float64\",\"order\":\"little\",\"shape\":[6]},\"Region\":[\"Northwest Scotland\",\"Northwest Scotland\",\"Northwest Scotland\",\"Northwest Scotland\",\"Northwest Scotland\",\"Northwest Scotland\"],\"Rock Type\":[\"Basalt\",\"Basalt\",\"Basalt\",\"Basalt\",\"Basalt\",\"Basalt\"],\"Sample\":[\"P1\",\"P2\",\"P3\",\"P4\",\"P5\",\"P6\"],\"Sm\":{\"__ndarray__\":\"w/UoXI/CEkCuR+F6FK4RQFyPwvUoXBNA16NwPQrXEUBcj8L1KFwPQNejcD0K1xZA\",\"dtype\":\"float64\",\"order\":\"little\",\"shape\":[6]},\"Sr\":{\"__ndarray__\":\"AAAAAAAQdkAAAAAAAEB2QAAAAAAAQHtAAAAAAABgd0AAAAAAAEB5QAAAAAAAIH5A\",\"dtype\":\"float64\",\"order\":\"little\",\"shape\":[6]},\"SrError\":{\"__ndarray__\":\"LUMc6+I2Cj/xaOOItfgEPy1DHOviNgo/LUMc6+I2Cj/xaOOItfgEP2odVU0QdQ8/\",\"dtype\":\"float64\",\"order\":\"little\",\"shape\":[6]},\"calc_144Nd\":{\"__ndarray__\":\"/Y912WJyEUDng5mEZ0MUQDYf6sUzFRJAVZ3WWVyJEEAVWNPkhM0PQGANTfsqFBhA\",\"dtype\":\"float64\",\"order\":\"little\",\"shape\":[6]},\"calc_147Sm\":{\"__ndarray__\":\"UWRImDH95T/PW4EAILnkP+6hYV47seY/HEq7myLp5D8ZOS1s/2DiP+OgjQ50xeo/\",\"dtype\":\"float64\",\"order\":\"little\",\"shape\":[6]},\"calc_86Sr\":{\"__ndarray__\":\"2lb7vMpaP0AucH6B754/QDUPN/cLXUNAKEA5Jv6bQEC+BZgnKfFBQIE07DDqZ0VA\",\"dtype\":\"float64\",\"order\":\"little\",\"shape\":[6]},\"calc_87Rb\":{\"__ndarray__\":\"tSg2ek0ntz9/Lf3lsY+4P2h/rt8Hn6g/x+HOzirrsz/kVEIdpVSvP3cfV0Af17I/\",\"dtype\":\"float64\",\"order\":\"little\",\"shape\":[6]},\"calc_Rb/Sr\":{\"__ndarray__\":\"+n5qvHSTaD/6fmq8dJNoP/yp8dJNYlA//Knx0k1iYD/8qfHSTWJgP/yp8dJNYmA/\",\"dtype\":\"float64\",\"order\":\"little\",\"shape\":[6]},\"calc_Sm/Nd\":{\"__ndarray__\":\"g8DKoUW2wz8AAAAAAADAP4PAyqFFtsM/16NwPQrXwz+TGARWDi3CP5zEILByaME/\",\"dtype\":\"float64\",\"order\":\"little\",\"shape\":[6]},\"epsilon_Nd\":{\"__ndarray__\":\"taZ5xym6AsDUmuYdp2gHwLWmeccpugLAuycPC7WmDcBwzojS3qAmwH6MuWsJ+ci/\",\"dtype\":\"float64\",\"order\":\"little\",\"shape\":[6]},\"epsilon_Sr\":{\"__ndarray__\":\"NIC3QIIiNcDzH9JvX7czwCegibDh2TTAXynLEMdaLsCGWtO845QywK5H4XoUTjHA\",\"dtype\":\"float64\",\"order\":\"little\",\"shape\":[6]},\"index\":[0,1,2,3,4,5]},\"selected\":{\"id\":\"3943\"},\"selection_policy\":{\"id\":\"3942\"}},\"id\":\"3922\",\"type\":\"ColumnDataSource\"},{\"attributes\":{\"fill_alpha\":{\"value\":0.1},\"fill_color\":{\"field\":\"Location\",\"transform\":{\"id\":\"3870\"}},\"line_alpha\":{\"value\":0.1},\"line_color\":{\"value\":\"#1f77b4\"},\"marker\":{\"value\":\"inverted_triangle\"},\"size\":{\"units\":\"screen\",\"value\":10},\"x\":{\"field\":\"epsilon_Sr\"},\"y\":{\"field\":\"epsilon_Nd\"}},\"id\":\"3948\",\"type\":\"Scatter\"},{\"attributes\":{},\"id\":\"3852\",\"type\":\"BasicTicker\"},{\"attributes\":{},\"id\":\"3919\",\"type\":\"UnionRenderers\"},{\"attributes\":{\"factors\":[\"Eigg\",\"Muck\",\"Mull\",\"Skye\"],\"palette\":[\"red\",\"blue\",\"green\",\"purple\"]},\"id\":\"3870\",\"type\":\"CategoricalColorMapper\"},{\"attributes\":{\"active_drag\":\"auto\",\"active_inspect\":\"auto\",\"active_multi\":null,\"active_scroll\":\"auto\",\"active_tap\":\"auto\",\"logo\":null,\"tools\":[{\"id\":\"3855\"},{\"id\":\"3856\"},{\"id\":\"3857\"},{\"id\":\"3858\"},{\"id\":\"3859\"},{\"id\":\"3860\"}]},\"id\":\"3862\",\"type\":\"Toolbar\"},{\"attributes\":{\"fill_alpha\":{\"value\":0.6},\"fill_color\":{\"field\":\"Location\",\"transform\":{\"id\":\"3870\"}},\"line_color\":{\"value\":\"#1f77b4\"},\"marker\":{\"value\":\"square\"},\"size\":{\"units\":\"screen\",\"value\":10},\"x\":{\"field\":\"epsilon_Sr\"},\"y\":{\"field\":\"epsilon_Nd\"}},\"id\":\"3903\",\"type\":\"Scatter\"},{\"attributes\":{},\"id\":\"3968\",\"type\":\"Selection\"},{\"attributes\":{\"bottom_units\":\"screen\",\"fill_alpha\":0.5,\"fill_color\":\"lightgrey\",\"left_units\":\"screen\",\"level\":\"overlay\",\"line_alpha\":1.0,\"line_color\":\"black\",\"line_dash\":[4,4],\"line_width\":2,\"right_units\":\"screen\",\"top_units\":\"screen\"},\"id\":\"3861\",\"type\":\"BoxAnnotation\"},{\"attributes\":{},\"id\":\"3894\",\"type\":\"Selection\"},{\"attributes\":{\"data_source\":{\"id\":\"3881\"},\"glyph\":{\"id\":\"3883\"},\"hover_glyph\":null,\"muted_glyph\":null,\"nonselection_glyph\":{\"id\":\"3884\"},\"selection_glyph\":null,\"view\":{\"id\":\"3886\"}},\"id\":\"3885\",\"type\":\"GlyphRenderer\"},{\"attributes\":{\"data\":{\"143Nd/144Nd\":{\"__ndarray__\":\"mWTkLOxp4D8J4dHGEWvgP9OCF30FaeA/RC+jWG5p4D/FG5lH/mDgPw==\",\"dtype\":\"float64\",\"order\":\"little\",\"shape\":[5]},\"87Sr/86Sr\":{\"__ndarray__\":\"VU0QdR+A5j93hNOCF33mP4qryr4rguY/OdbFbTSA5j+s4o3MI3/mPw==\",\"dtype\":\"float64\",\"order\":\"little\",\"shape\":[5]},\"Location\":[\"Mull\",\"Mull\",\"Mull\",\"Mull\",\"Mull\"],\"Nd\":{\"__ndarray__\":\"MzMzMzMzPUAzMzMzM7NJQGZmZmZmZi1AmpmZmZmZL0CamZmZmRk2QA==\",\"dtype\":\"float64\",\"order\":\"little\",\"shape\":[5]},\"NdError\":{\"__ndarray__\":\"8WjjiLX49D7xaOOItfj0PvFo44i1+PQ+8WjjiLX49D7xaOOItfj0Pg==\",\"dtype\":\"float64\",\"order\":\"little\",\"shape\":[5]},\"Rb\":{\"__ndarray__\":\"hetRuB6FEUCPwvUoXI8hQGZmZmZmZiJAXI/C9ShcC0DhehSuR+EYQA==\",\"dtype\":\"float64\",\"order\":\"little\",\"shape\":[5]},\"Region\":[\"Northwest Scotland\",\"Northwest Scotland\",\"Northwest Scotland\",\"Northwest Scotland\",\"Northwest Scotland\"],\"Rock Type\":[\"Basalt\",\"Basalt\",\"Basalt\",\"Basalt\",\"Basalt\"],\"Sample\":[\"ML1\",\"ML3\",\"ML4\",\"ML5\",\"ML6\"],\"Sm\":{\"__ndarray__\":\"AAAAAAAAHkAAAAAAAAAmQNejcD0K1w9AhetRuB6FEkCamZmZmZkTQA==\",\"dtype\":\"float64\",\"order\":\"little\",\"shape\":[5]},\"Sr\":{\"__ndarray__\":\"AAAAAADYh0AAAAAAACCRQAAAAAAAgHJAAAAAAACgd0AAAAAAAJCBQA==\",\"dtype\":\"float64\",\"order\":\"little\",\"shape\":[5]},\"SrError\":{\"__ndarray__\":\"8WjjiLX4BD/xaOOItfgEP/Fo44i1+AQ/LUMc6+I2Cj/xaOOItfgEPw==\",\"dtype\":\"float64\",\"order\":\"little\",\"shape\":[5]},\"calc_144Nd\":{\"__ndarray__\":\"2HaQKDKJGkBvLOMvcVsnQGUA6MJWtwpAH4IPM4a3DEARtHqckBUUQA==\",\"dtype\":\"float64\",\"order\":\"little\",\"shape\":[5]},\"calc_147Sm\":{\"__ndarray__\":\"VgR3WPSU8T/UfZ1fZsn5P4seBFUDqeI/3n5xry215T9ghzhHP/nmPw==\",\"dtype\":\"float64\",\"order\":\"little\",\"shape\":[5]},\"calc_86Sr\":{\"__ndarray__\":\"8YEzYpHxUEBvyRGR11ZYQAn5rO7ASjpABUxZFMXJQEDmmwZv4fVIQA==\",\"dtype\":\"float64\",\"order\":\"little\",\"shape\":[5]},\"calc_87Rb\":{\"__ndarray__\":\"3iJiNRk9qj/GdBMvb0y6P80sn6p8jrs/4mvjktt8pD/LgGpWcqGyPw==\",\"dtype\":\"float64\",\"order\":\"little\",\"shape\":[5]},\"calc_Rb/Sr\":{\"__ndarray__\":\"/Knx0k1iUD/8qfHSTWJQP/yp8dJNYnA//Knx0k1iUD/8qfHSTWJQPw==\",\"dtype\":\"float64\",\"order\":\"little\",\"shape\":[5]},\"calc_Sm/Nd\":{\"__ndarray__\":\"I9v5fmq8xD9I4XoUrkfBPxfZzvdT48U/rkfhehSuxz/sUbgehevBPw==\",\"dtype\":\"float64\",\"order\":\"little\",\"shape\":[5]},\"epsilon_Nd\":{\"__ndarray__\":\"1JrmHadoF0DtDb4wmSohQLsnDwu1pg1AmbuWkA+6EkA17zhFR9IuwA==\",\"dtype\":\"float64\",\"order\":\"little\",\"shape\":[5]},\"epsilon_Sr\":{\"__ndarray__\":\"NV66SQxiOsA2PL1SlqE/wLwFEhQ/1jbAyxDHurg9OsC94xQdyRU8wA==\",\"dtype\":\"float64\",\"order\":\"little\",\"shape\":[5]},\"index\":[6,7,8,9,10]},\"selected\":{\"id\":\"3898\"},\"selection_policy\":{\"id\":\"3897\"}},\"id\":\"3881\",\"type\":\"ColumnDataSource\"},{\"attributes\":{\"label\":{\"value\":\"Muck\"},\"renderers\":[{\"id\":\"3949\"}]},\"id\":\"3969\",\"type\":\"LegendItem\"},{\"attributes\":{\"fill_alpha\":{\"value\":0.6},\"fill_color\":{\"field\":\"Location\",\"transform\":{\"id\":\"3870\"}},\"line_color\":{\"value\":\"#1f77b4\"},\"size\":{\"units\":\"screen\",\"value\":10},\"x\":{\"field\":\"epsilon_Sr\"},\"y\":{\"field\":\"epsilon_Nd\"}},\"id\":\"3883\",\"type\":\"Scatter\"},{\"attributes\":{\"label\":{\"value\":\"Skye\"},\"renderers\":[{\"id\":\"3926\"}]},\"id\":\"3944\",\"type\":\"LegendItem\"},{\"attributes\":{\"source\":{\"id\":\"3871\"}},\"id\":\"3875\",\"type\":\"CDSView\"},{\"attributes\":{\"axis\":{\"id\":\"3851\"},\"dimension\":1,\"ticker\":null},\"id\":\"3854\",\"type\":\"Grid\"},{\"attributes\":{},\"id\":\"3843\",\"type\":\"LinearScale\"},{\"attributes\":{\"line_alpha\":0.1,\"x\":{\"field\":\"x\"},\"y\":{\"field\":\"y\"}},\"id\":\"3873\",\"type\":\"Line\"},{\"attributes\":{\"source\":{\"id\":\"3881\"}},\"id\":\"3886\",\"type\":\"CDSView\"},{\"attributes\":{\"fill_alpha\":{\"value\":0.1},\"fill_color\":{\"field\":\"Location\",\"transform\":{\"id\":\"3870\"}},\"line_alpha\":{\"value\":0.1},\"line_color\":{\"value\":\"#1f77b4\"},\"marker\":{\"value\":\"square\"},\"size\":{\"units\":\"screen\",\"value\":10},\"x\":{\"field\":\"epsilon_Sr\"},\"y\":{\"field\":\"epsilon_Nd\"}},\"id\":\"3904\",\"type\":\"Scatter\"},{\"attributes\":{\"source\":{\"id\":\"3901\"}},\"id\":\"3906\",\"type\":\"CDSView\"},{\"attributes\":{\"data\":{\"143Nd/144Nd\":{\"__ndarray__\":\"Olj/5zBf4D+AfXTqymfgP2nGounsZOA/BMqmXOFd4D8=\",\"dtype\":\"float64\",\"order\":\"little\",\"shape\":[4]},\"87Sr/86Sr\":{\"__ndarray__\":\"YtuizAaZ5j92q+ek943mP1gE/1vJjuY/k66ZfLPN5j8=\",\"dtype\":\"float64\",\"order\":\"little\",\"shape\":[4]},\"Location\":[\"Eigg\",\"Eigg\",\"Eigg\",\"Eigg\"],\"Nd\":{\"__ndarray__\":\"AAAAAAAgVUDNzMzMzMwvQGZmZmZmZi5AZmZmZmamRkA=\",\"dtype\":\"float64\",\"order\":\"little\",\"shape\":[4]},\"NdError\":{\"__ndarray__\":\"8WjjiLX49D7xaOOItfj0PvFo44i1+PQ+8WjjiLX49D4=\",\"dtype\":\"float64\",\"order\":\"little\",\"shape\":[4]},\"Rb\":{\"__ndarray__\":\"zczMzMzMS0DD9Shcj8ISQHsUrkfheiBAZmZmZmbmV0A=\",\"dtype\":\"float64\",\"order\":\"little\",\"shape\":[4]},\"Region\":[\"Northwest Scotland\",\"Northwest Scotland\",\"Northwest Scotland\",\"Northwest Scotland\"],\"Rock Type\":[\"Basalt\",\"Basalt\",\"Basalt\",\"Felsite\"],\"Sample\":[\"E3\",\"E7\",\"E10\",\"E26\"],\"Sm\":{\"__ndarray__\":\"mpmZmZmZLEDXo3A9CtcRQMP1KFyPwg1AUrgehevRIEA=\",\"dtype\":\"float64\",\"order\":\"little\",\"shape\":[4]},\"Sr\":{\"__ndarray__\":\"AAAAAAB4hkAAAAAAAGBwQAAAAAAA4HNAAAAAAABAQUA=\",\"dtype\":\"float64\",\"order\":\"little\",\"shape\":[4]},\"SrError\":{\"__ndarray__\":\"8WjjiLX4BD8tQxzr4jYKP/Fo44i1+AQ/ah1VTRB1Dz8=\",\"dtype\":\"float64\",\"order\":\"little\",\"shape\":[4]},\"calc_144Nd\":{\"__ndarray__\":\"0/tkyzovM0BwLyX2P+MMQDWMoWyDnQtAkYWAPCWKJEA=\",\"dtype\":\"float64\",\"order\":\"little\",\"shape\":[4]},\"calc_147Sm\":{\"__ndarray__\":\"ypFZ8ejCAEAcSrubIunkP56RC2TycOE/9/op/hG38z8=\",\"dtype\":\"float64\",\"order\":\"little\",\"shape\":[4]},\"calc_86Sr\":{\"__ndarray__\":\"+C4WIKLsT0B4bRYS20Q3QMRlUgkDPjxAk3BLGMd+CEA=\",\"dtype\":\"float64\",\"order\":\"little\",\"shape\":[4]},\"calc_87Rb\":{\"__ndarray__\":\"Xq4ycDTR5D/2DdtxghisP1DRX9ldrrg/clWuI5Xl8T8=\",\"dtype\":\"float64\",\"order\":\"little\",\"shape\":[4]},\"calc_Rb/Sr\":{\"__ndarray__\":\"exSuR+F6hD/8qfHSTWJgP/p+arx0k2g/tMh2vp8a1z8=\",\"dtype\":\"float64\",\"order\":\"little\",\"shape\":[4]},\"calc_Sm/Nd\":{\"__ndarray__\":\"MQisHFpkuz8OLbKd76fGP9ejcD0K18M/aJHtfD81vj8=\",\"dtype\":\"float64\",\"order\":\"little\",\"shape\":[4]},\"epsilon_Nd\":{\"__ndarray__\":\"FvvL7smzM8CcM6K0N/joPxx8YTJVMBjAiUFg5dDSNsA=\",\"dtype\":\"float64\",\"order\":\"little\",\"shape\":[4]},\"epsilon_Sr\":{\"__ndarray__\":\"lIeFWtO8MEAnwoanV0oDwEtZhjjWxe+/RpT2Bl/8WkA=\",\"dtype\":\"float64\",\"order\":\"little\",\"shape\":[4]},\"index\":[14,15,16,17]},\"selected\":{\"id\":\"3920\"},\"selection_policy\":{\"id\":\"3919\"}},\"id\":\"3901\",\"type\":\"ColumnDataSource\"},{\"attributes\":{\"axis_label\":\"Epsilon Sr\",\"formatter\":{\"id\":\"3888\"},\"ticker\":{\"id\":\"3848\"}},\"id\":\"3847\",\"type\":\"LinearAxis\"},{\"attributes\":{\"data\":{\"x\":[-55,62],\"y\":[0,0]},\"selected\":{\"id\":\"3894\"},\"selection_policy\":{\"id\":\"3893\"}},\"id\":\"3871\",\"type\":\"ColumnDataSource\"},{\"attributes\":{\"line_alpha\":0.1,\"x\":{\"field\":\"x\"},\"y\":{\"field\":\"y\"}},\"id\":\"3878\",\"type\":\"Line\"},{\"attributes\":{\"axis_label\":\"Epsilon Nd\",\"formatter\":{\"id\":\"3890\"},\"ticker\":{\"id\":\"3852\"}},\"id\":\"3851\",\"type\":\"LinearAxis\"},{\"attributes\":{\"x\":{\"field\":\"x\"},\"y\":{\"field\":\"y\"}},\"id\":\"3877\",\"type\":\"Line\"},{\"attributes\":{},\"id\":\"3888\",\"type\":\"BasicTickFormatter\"},{\"attributes\":{},\"id\":\"3943\",\"type\":\"Selection\"},{\"attributes\":{\"data_source\":{\"id\":\"3876\"},\"glyph\":{\"id\":\"3877\"},\"hover_glyph\":null,\"muted_glyph\":null,\"nonselection_glyph\":{\"id\":\"3878\"},\"selection_glyph\":null,\"view\":{\"id\":\"3880\"}},\"id\":\"3879\",\"type\":\"GlyphRenderer\"},{\"attributes\":{\"fill_alpha\":{\"value\":0.1},\"fill_color\":{\"field\":\"Location\",\"transform\":{\"id\":\"3870\"}},\"line_alpha\":{\"value\":0.1},\"line_color\":{\"value\":\"#1f77b4\"},\"size\":{\"units\":\"screen\",\"value\":10},\"x\":{\"field\":\"epsilon_Sr\"},\"y\":{\"field\":\"epsilon_Nd\"}},\"id\":\"3884\",\"type\":\"Scatter\"},{\"attributes\":{\"data_source\":{\"id\":\"3922\"},\"glyph\":{\"id\":\"3924\"},\"hover_glyph\":null,\"muted_glyph\":null,\"nonselection_glyph\":{\"id\":\"3925\"},\"selection_glyph\":null,\"view\":{\"id\":\"3927\"}},\"id\":\"3926\",\"type\":\"GlyphRenderer\"},{\"attributes\":{},\"id\":\"3920\",\"type\":\"Selection\"},{\"attributes\":{\"axis\":{\"id\":\"3847\"},\"ticker\":null},\"id\":\"3850\",\"type\":\"Grid\"},{\"attributes\":{\"x\":{\"field\":\"x\"},\"y\":{\"field\":\"y\"}},\"id\":\"3872\",\"type\":\"Line\"},{\"attributes\":{\"data_source\":{\"id\":\"3945\"},\"glyph\":{\"id\":\"3947\"},\"hover_glyph\":null,\"muted_glyph\":null,\"nonselection_glyph\":{\"id\":\"3948\"},\"selection_glyph\":null,\"view\":{\"id\":\"3950\"}},\"id\":\"3949\",\"type\":\"GlyphRenderer\"},{\"attributes\":{\"source\":{\"id\":\"3922\"}},\"id\":\"3927\",\"type\":\"CDSView\"}],\"root_ids\":[\"3836\"]},\"title\":\"Bokeh Application\",\"version\":\"2.2.3\"}};\n",
       "  var render_items = [{\"docid\":\"bba6c3b3-6a91-4d6e-89f8-9b02bbaa9e74\",\"root_ids\":[\"3836\"],\"roots\":{\"3836\":\"4412db25-5774-498b-92e6-298930697b18\"}}];\n",
       "  root.Bokeh.embed.embed_items_notebook(docs_json, render_items);\n",
       "\n",
       "  }\n",
       "  if (root.Bokeh !== undefined) {\n",
       "    embed_document(root);\n",
       "  } else {\n",
       "    var attempts = 0;\n",
       "    var timer = setInterval(function(root) {\n",
       "      if (root.Bokeh !== undefined) {\n",
       "        clearInterval(timer);\n",
       "        embed_document(root);\n",
       "      } else {\n",
       "        attempts++;\n",
       "        if (attempts > 100) {\n",
       "          clearInterval(timer);\n",
       "          console.log(\"Bokeh: ERROR: Unable to run BokehJS code because BokehJS library is missing\");\n",
       "        }\n",
       "      }\n",
       "    }, 10, root)\n",
       "  }\n",
       "})(window);"
      ],
      "application/vnd.bokehjs_exec.v0+json": ""
     },
     "metadata": {
      "application/vnd.bokehjs_exec.v0+json": {
       "id": "3836"
      }
     },
     "output_type": "display_data"
    }
   ],
   "source": [
    "show(figure6)"
   ]
  },
  {
   "cell_type": "markdown",
   "metadata": {
    "slideshow": {
     "slide_type": "notes"
    }
   },
   "source": [
    "We can finally see this data set together with the data plotting much more variably (with some data points are off the figures axis limits). Mull samples appear to be (with one exception), uncontaminated, whereas the rest of the Northwest Scotland samples show some contamination. "
   ]
  },
  {
   "cell_type": "code",
   "execution_count": 56,
   "metadata": {
    "slideshow": {
     "slide_type": "slide"
    }
   },
   "outputs": [],
   "source": [
    "carter_df['1/Nd'] = 1 / carter_df['Nd']\n",
    "carter_df2['1/Nd'] = 1 / carter_df2['Nd']\n",
    "carter_df['1/Sr'] = 1 / carter_df['Sr']\n",
    "carter_df2['1/Sr'] = 1 / carter_df2['Sr']\n",
    "\n",
    "carter_df2['calc_t2_143Nd/144Nd'] = carter_df2.apply(lambda row: round(gc.calc_t2_daughter(row['143Nd/144Nd'],\n",
    "                                                                                 row['calc_Sm/Nd'],\n",
    "                                                                                 decay_const_Sm1978\n",
    "                                                                                 , t1),5),axis=1)\n",
    "carter_df2['calc_t2_87Sr/86Sr'] = carter_df2.apply(lambda row: round(gc.calc_t2_daughter(row['87Sr/86Sr'],\n",
    "                                                                                 row['calc_Rb/Sr'],\n",
    "                                                                                 decay_const_Rb1977\n",
    "                                                                                 , t1),5),axis=1)"
   ]
  },
  {
   "cell_type": "markdown",
   "metadata": {
    "slideshow": {
     "slide_type": "notes"
    }
   },
   "source": [
    "The next little section here is me playing around with the data using different plots not seen in the paper. This code is just me calculating some of the data I'm going to need. However, I'm not sure if I'm using these plots as they were designed to be used or properly. I definitely feel a bit like that guy on the work site trying to use a wrench as a hammer! I'm going to plot an Sm/Nd and Sr/Rb isochron and instead of plot a best fit line to the data to determine slope and age, I have an assumed age, so I'm determining slope and intercept.  The intercept I'm going to get as an average from the data, and the slope I'm calculating using that section of the isochron equation. Then I'll plot the data, and compare."
   ]
  },
  {
   "cell_type": "code",
   "execution_count": 57,
   "metadata": {
    "slideshow": {
     "slide_type": "skip"
    }
   },
   "outputs": [],
   "source": [
    "#xmin = 0\n",
    "xmin = min(carter_df['calc_Sm/Nd'].append(carter_df2['calc_Sm/Nd']))\n",
    "xmax = max(carter_df['calc_Sm/Nd'].append(carter_df2['calc_Sm/Nd']))\n",
    "ymin = min(carter_df['calc_t2_143Nd/144Nd'].append(carter_df2['calc_t2_143Nd/144Nd'])) * 0.999\n",
    "ymax = max(carter_df['calc_t2_143Nd/144Nd'].append(carter_df2['calc_t2_143Nd/144Nd']))\n",
    "gl_initial = np.mean(carter_df['143Nd/144Nd'])\n",
    "sl_initial = np.mean(carter_df2['143Nd/144Nd'])\n",
    "\n",
    "slope = np.exp(decay_const_Sm1978*t1*1000000) - 1\n",
    "figure7 = gc.get_figure(\"Sm/Nd Isochron\",\n",
    "                        \"147Sm/144Nd\",\n",
    "                        \"143Nd/144Nd\",\n",
    "                        [xmin,xmax],\n",
    "                        [ymin,ymax],\n",
    "                       )\n",
    "\n",
    "\n",
    "t_text = \" slope for t = {} Ma \".format(t1)\n",
    "text_font_size = '8pt'\n",
    "i1_text = \" Greenland 143Nd/144Nd (initial) = {} \".format(round(gl_initial,4))\n",
    "i2_text = \" Scotland 143Nd/144Nd (initial) = {} \".format(round(sl_initial,4))\n",
    "t_label = Label(x=0.178, y=0.51195, text=t_text, border_line_color='black', border_line_alpha=1.0,\n",
    "                 background_fill_color='white', background_fill_alpha=1.0, text_font_size=text_font_size)\n",
    "i1_label = Label(x=0.178, y=0.51185, text=i1_text, border_line_color='black', border_line_alpha=1.0,\n",
    "                 background_fill_color='white', background_fill_alpha=1.0,text_font_size=text_font_size)\n",
    "i2_label = Label(x=0.178, y=0.51175, text=i2_text, border_line_color='black', border_line_alpha=1.0,\n",
    "                 background_fill_color='white', background_fill_alpha=1.0,text_font_size=text_font_size)\n",
    "\n",
    "figure7.add_layout(t_label)\n",
    "figure7.add_layout(i1_label)\n",
    "figure7.add_layout(i2_label)\n",
    "\n",
    "reg_line = Slope(gradient=slope, y_intercept=gl_initial, line_color=\"red\", line_dash=\"dashed\")\n",
    "figure7.add_layout(reg_line)\n",
    "\n",
    "figure7.line([xmin,xmax],[gl_initial,gl_initial],\n",
    "            line_width=1,\n",
    "            color=\"green\",\n",
    "            legend_label='Mean initial ratio @ 60 Ma (Greenland)')\n",
    "\n",
    "figure7.line([xmin,xmax],[sl_initial,sl_initial],\n",
    "            line_width=1,\n",
    "            color=\"blue\",\n",
    "            legend_label='Mean initial ratio @ 60 Ma (Scotland)')\n",
    "\n",
    "figure7.line([xmin,xmax],[Nd_CHUR_1977,Nd_CHUR_1977],\n",
    "            line_width=1,\n",
    "            color=\"grey\",\n",
    "            legend_label='Nd CHUR initial')\n",
    "\n",
    "figure7.scatter('calc_Sm/Nd','calc_t2_143Nd/144Nd',\n",
    "                source=carter_df,fill_alpha=0.6,\n",
    "                fill_color='green',\n",
    "                size=10,\n",
    "                marker=\"circle\",\n",
    "                legend_label='Greenland Samples')\n",
    "\n",
    "figure7.scatter('calc_Sm/Nd','calc_t2_143Nd/144Nd',\n",
    "                source=carter_df2,fill_alpha=0.6,\n",
    "                fill_color='blue',\n",
    "                size=10,\n",
    "                marker=\"triangle\",\n",
    "                legend_label='Northwest Scotland Samples')\n",
    "figure7.legend.location = \"bottom_right\"\n",
    "figure7.legend.click_policy=\"hide\""
   ]
  },
  {
   "cell_type": "code",
   "execution_count": 58,
   "metadata": {
    "scrolled": false,
    "slideshow": {
     "slide_type": "subslide"
    }
   },
   "outputs": [
    {
     "data": {
      "text/html": [
       "\n",
       "\n",
       "\n",
       "\n",
       "\n",
       "\n",
       "  <div class=\"bk-root\" id=\"c31c9074-d779-4fa0-af0b-8538cb01a24b\" data-root-id=\"2395\"></div>\n"
      ]
     },
     "metadata": {},
     "output_type": "display_data"
    },
    {
     "data": {
      "application/javascript": [
       "(function(root) {\n",
       "  function embed_document(root) {\n",
       "    \n",
       "  var docs_json = {\"2a93a741-6c40-488d-bc88-8027bb5576d7\":{\"roots\":{\"references\":[{\"attributes\":{\"below\":[{\"id\":\"2406\"}],\"center\":[{\"id\":\"2409\"},{\"id\":\"2413\"},{\"id\":\"2429\"},{\"id\":\"2430\"},{\"id\":\"2431\"},{\"id\":\"2432\"},{\"id\":\"2446\"}],\"left\":[{\"id\":\"2410\"}],\"plot_height\":500,\"plot_width\":700,\"renderers\":[{\"id\":\"2436\"},{\"id\":\"2451\"},{\"id\":\"2467\"},{\"id\":\"2486\"},{\"id\":\"2507\"}],\"title\":{\"id\":\"2396\"},\"toolbar\":{\"id\":\"2421\"},\"toolbar_location\":\"left\",\"toolbar_sticky\":false,\"x_range\":{\"id\":\"2398\"},\"x_scale\":{\"id\":\"2402\"},\"y_range\":{\"id\":\"2400\"},\"y_scale\":{\"id\":\"2404\"}},\"id\":\"2395\",\"subtype\":\"Figure\",\"type\":\"Plot\"},{\"attributes\":{},\"id\":\"2416\",\"type\":\"CrosshairTool\"},{\"attributes\":{\"background_fill_color\":\"white\",\"border_line_color\":\"black\",\"text\":\" slope for t = 60 Ma \",\"text_font_size\":\"8pt\",\"x\":0.178,\"y\":0.51195},\"id\":\"2429\",\"type\":\"Label\"},{\"attributes\":{\"label\":{\"value\":\"Mean initial ratio @ 60 Ma (Greenland)\"},\"renderers\":[{\"id\":\"2436\"}]},\"id\":\"2447\",\"type\":\"LegendItem\"},{\"attributes\":{\"callback\":null},\"id\":\"2417\",\"type\":\"HoverTool\"},{\"attributes\":{\"data\":{\"x\":[0.107,0.216],\"y\":[0.51263,0.51263]},\"selected\":{\"id\":\"2480\"},\"selection_policy\":{\"id\":\"2479\"}},\"id\":\"2464\",\"type\":\"ColumnDataSource\"},{\"attributes\":{\"fill_alpha\":{\"value\":0.1},\"fill_color\":{\"value\":\"blue\"},\"line_alpha\":{\"value\":0.1},\"line_color\":{\"value\":\"#1f77b4\"},\"marker\":{\"value\":\"triangle\"},\"size\":{\"units\":\"screen\",\"value\":10},\"x\":{\"field\":\"calc_Sm/Nd\"},\"y\":{\"field\":\"calc_t2_143Nd/144Nd\"}},\"id\":\"2506\",\"type\":\"Scatter\"},{\"attributes\":{\"background_fill_color\":\"white\",\"border_line_color\":\"black\",\"text\":\" Greenland 143Nd/144Nd (initial) = 0.5129 \",\"text_font_size\":\"8pt\",\"x\":0.178,\"y\":0.51185},\"id\":\"2430\",\"type\":\"Label\"},{\"attributes\":{},\"id\":\"2418\",\"type\":\"ResetTool\"},{\"attributes\":{\"align\":\"center\",\"text\":\"Sm/Nd Isochron\",\"text_font_size\":{\"value\":\"25px\"}},\"id\":\"2396\",\"type\":\"Title\"},{\"attributes\":{},\"id\":\"2462\",\"type\":\"Selection\"},{\"attributes\":{},\"id\":\"2524\",\"type\":\"Selection\"},{\"attributes\":{},\"id\":\"2419\",\"type\":\"SaveTool\"},{\"attributes\":{\"line_alpha\":0.1,\"line_color\":\"blue\",\"x\":{\"field\":\"x\"},\"y\":{\"field\":\"y\"}},\"id\":\"2450\",\"type\":\"Line\"},{\"attributes\":{\"label\":{\"value\":\"Northwest Scotland Samples\"},\"renderers\":[{\"id\":\"2507\"}]},\"id\":\"2525\",\"type\":\"LegendItem\"},{\"attributes\":{},\"id\":\"2461\",\"type\":\"UnionRenderers\"},{\"attributes\":{\"end\":0.216,\"start\":0.107},\"id\":\"2398\",\"type\":\"Range1d\"},{\"attributes\":{\"line_color\":\"blue\",\"x\":{\"field\":\"x\"},\"y\":{\"field\":\"y\"}},\"id\":\"2449\",\"type\":\"Line\"},{\"attributes\":{\"gradient\":0.0003924769989511745,\"line_color\":\"red\",\"line_dash\":[6],\"y_intercept\":0.5128778947368421},\"id\":\"2432\",\"type\":\"Slope\"},{\"attributes\":{\"active_drag\":\"auto\",\"active_inspect\":\"auto\",\"active_multi\":null,\"active_scroll\":\"auto\",\"active_tap\":\"auto\",\"logo\":null,\"tools\":[{\"id\":\"2414\"},{\"id\":\"2415\"},{\"id\":\"2416\"},{\"id\":\"2417\"},{\"id\":\"2418\"},{\"id\":\"2419\"}]},\"id\":\"2421\",\"type\":\"Toolbar\"},{\"attributes\":{\"data_source\":{\"id\":\"2448\"},\"glyph\":{\"id\":\"2449\"},\"hover_glyph\":null,\"muted_glyph\":null,\"nonselection_glyph\":{\"id\":\"2450\"},\"selection_glyph\":null,\"view\":{\"id\":\"2452\"}},\"id\":\"2451\",\"type\":\"GlyphRenderer\"},{\"attributes\":{\"end\":0.51314,\"start\":0.51099849},\"id\":\"2400\",\"type\":\"Range1d\"},{\"attributes\":{\"bottom_units\":\"screen\",\"fill_alpha\":0.5,\"fill_color\":\"lightgrey\",\"left_units\":\"screen\",\"level\":\"overlay\",\"line_alpha\":1.0,\"line_color\":\"black\",\"line_dash\":[4,4],\"line_width\":2,\"right_units\":\"screen\",\"top_units\":\"screen\"},\"id\":\"2420\",\"type\":\"BoxAnnotation\"},{\"attributes\":{},\"id\":\"2402\",\"type\":\"LinearScale\"},{\"attributes\":{\"source\":{\"id\":\"2448\"}},\"id\":\"2452\",\"type\":\"CDSView\"},{\"attributes\":{},\"id\":\"2404\",\"type\":\"LinearScale\"},{\"attributes\":{\"label\":{\"value\":\"Mean initial ratio @ 60 Ma (Scotland)\"},\"renderers\":[{\"id\":\"2451\"}]},\"id\":\"2463\",\"type\":\"LegendItem\"},{\"attributes\":{\"data\":{\"x\":[0.107,0.216],\"y\":[0.5128778947368421,0.5128778947368421]},\"selected\":{\"id\":\"2445\"},\"selection_policy\":{\"id\":\"2444\"}},\"id\":\"2433\",\"type\":\"ColumnDataSource\"},{\"attributes\":{\"data\":{\"x\":[0.107,0.216],\"y\":[0.5123683333333333,0.5123683333333333]},\"selected\":{\"id\":\"2462\"},\"selection_policy\":{\"id\":\"2461\"}},\"id\":\"2448\",\"type\":\"ColumnDataSource\"},{\"attributes\":{\"axis_label\":\"147Sm/144Nd\",\"formatter\":{\"id\":\"2439\"},\"ticker\":{\"id\":\"2407\"}},\"id\":\"2406\",\"type\":\"LinearAxis\"},{\"attributes\":{\"data\":{\"1/Nd\":{\"__ndarray__\":\"FbycgpdTwD8ZidVw8UOoP5KmDwqrW6Y/KfEzSvyMoj/6TFvj7+axP3kN5TWU17A/HdRBHdRBrT+x5pXquXejP3sUrkfheqQ/ShvvqGb9qT/w1LUc3OynP2uWGJ8y7aw/ERERERERwT8sofZKqL3CP6d71EwAA74/BPNJLpQ5vD+Tg8xLieDBP+Fu7HtETrA/FOwT7BPskz8=\",\"dtype\":\"float64\",\"order\":\"little\",\"shape\":[19]},\"1/Sr\":{\"__ndarray__\":\"dMBuj7UMbT+nEGgKgaaAP3TlAck6V24/iob449blbT8V+OLqBx1lP1cQkyuIyXU/DcaaEQh5Zz+Kfx4j8pJtP5ByU9E8oWY/EBAQEBAQcD872rxPcclwP78QK0rjI3M/AAAAAAAAgD8CS3r50xZqP3FCSp5lRH8/kJzma/XsgD90wG6PtQx9PxOwiBKwiHI/aC+hvYT2gj8=\",\"dtype\":\"float64\",\"order\":\"little\",\"shape\":[19]},\"143Nd/144Nd\":{\"__ndarray__\":\"DXGsi9to4D9EL6NYbmngP5lk5CzsaeA/tdsuNNdp4D9hpu1fWWngPwoRcAhVauA/KLhYUYNp4D9i1ouhnGjgPw1xrIvbaOA/YabtX1lp4D+3C811GmngPyi4WFGDaeA/78nDQq1p4D9EL6NYbmngP2LWi6GcaOA/7ZklAWpq4D+1q5Dyk2rgPwtBDkqYaeA/RC+jWG5p4D8=\",\"dtype\":\"float64\",\"order\":\"little\",\"shape\":[19]},\"87Sr/86Sr\":{\"__ndarray__\":\"N6YnLPGA5j+IS447pYPmPxsv3SQGgeY/iXssfeiC5j9uNIC3QILmP8OZX80BguY/nwJgPIOG5j8Wb2Qe+YPmP2qkpfJ2hOY/3IDPDyOE5j/gEKrU7IHmP4zbaABvgeY/jNtoAG+B5j+jkjoBTYTmP2O0jqomiOY//reSHRuB5j+s4o3MI3/mP6FinL8JheY/o5I6AU2E5j8=\",\"dtype\":\"float64\",\"order\":\"little\",\"shape\":[19]},\"Location\":[\"Torshavn\",\"Torshavn\",\"Torshavn\",\"Suduroy\",\"Suduroy\",\"Vestmanna\",\"Mikis Fjord\",\"Nansens Fjord\",\"Nansens Fjord\",\"Wiedemans Fjord\",\"Wiedemans Fjord\",\"Scoresbysund\",\"Cape Dyer\",\"Cape Dyer\",\"Cape Dyer\",\"Svartenhuk\",\"Svartenhuk\",\"Svartenhuk\",\"Svartenhuk\"],\"Nd\":{\"__ndarray__\":\"XI/C9ShcH0CamZmZmRk1QGZmZmZm5jZAmpmZmZmZO0CamZmZmZksQGZmZmZmZi5AAAAAAACAMUDNzMzMzEw6QAAAAAAAADlAMzMzMzOzM0BmZmZmZmY1QDMzMzMzszFAAAAAAAAAHkBSuB6F61EbQI/C9ShcDyFApHA9CtcjIkCkcD0K16McQGZmZmZmZi9AMzMzMzOzSUA=\",\"dtype\":\"float64\",\"order\":\"little\",\"shape\":[19]},\"NdError\":{\"__ndarray__\":\"8WjjiLX49D5oHVVNEHX/PvFo44i1+PQ+8WjjiLX49D5oHVVNEHX/PmgdVU0Qdf8+aB1VTRB1/z5oHVVNEHX/PvFo44i1+PQ+aB1VTRB1/z7xaOOItfj0PvFo44i1+PQ+aB1VTRB1/z5oHVVNEHX/PmgdVU0Qdf8+aB1VTRB1/z5oHVVNEHX/PmgdVU0Qdf8+8WjjiLX49D4=\",\"dtype\":\"float64\",\"order\":\"little\",\"shape\":[19]},\"Rb\":{\"__ndarray__\":\"CtejcD0K8z8K16NwPQoiQD0K16NwPQRAMzMzMzMzJkDsUbgehev9P4/C9ShcjxdAZmZmZmZmJUAAAAAAAAAmQD0K16NwPQRAH4XrUbgeEUAzMzMzMzMqQGZmZmZmZhFA16NwPQrX6z9cj8L1KFz/P3sUrkfhevw/exSuR+F6BEAAAAAAAAAsQArXo3A9CgFAAAAAAAAAT0A=\",\"dtype\":\"float64\",\"order\":\"little\",\"shape\":[19]},\"Rb/Sr\":{\"__ndarray__\":\"/Knx0k1icD/sUbgeheuxPzzfT42XboI/yqFFtvP9pD97FK5H4Xp0P1g5tMh2vp8/WDm0yHa+nz97FK5H4XqkP/p+arx0k3g/nMQgsHJokT8YBFYOLbKtP3sUrkfhepQ/eOkmMQisfD/6fmq8dJN4Pzq0yHa+n4o/Gy/dJAaBlT/y0k1iEFi5P3sUrkfheoQ/PQrXo3A94j8=\",\"dtype\":\"float64\",\"order\":\"little\",\"shape\":[19]},\"Region\":[\"Faeroes\",\"Faeroes\",\"Faeroes\",\"Faeroes\",\"Faeroes\",\"Faeroes\",\"East Greenland\",\"East Greenland\",\"East Greenland\",\"East Greenland\",\"East Greenland\",\"East Greenland\",\"Baffin and Svartenhuk\",\"Baffin and Svartenhuk\",\"Baffin and Svartenhuk\",\"Baffin and Svartenhuk\",\"Baffin and Svartenhuk\",\"Baffin and Svartenhuk\",\"Baffin and Svartenhuk\"],\"Sample\":[\"Fo07\",\"Fo19\",\"Fo23\",\"Fo34\",\"Fo41\",\"Fo52\",\"MM20333\",\"CKB7147\",\"CKB7148\",\"EG7207\",\"EG7203\",\"EG7126\",\"B18\",\"B22\",\"B36\",\"S8\",\"S16\",\"S32\",\"S41 (trachyte)\"],\"Sm\":{\"__ndarray__\":\"SOF6FK5HBUApXI/C9SgWQM3MzMzMzBhAKVyPwvUoHEDsUbgehesPQNejcD0K1xBAAAAAAAAAFEDNzMzMzMwaQBSuR+F6FBpAH4XrUbgeFUBcj8L1KFwWQPYoXI/C9RRA7FG4HoXrAUAUrkfhehQAQNejcD0K1wVA7FG4HoXrBUC4HoXrUbgCQHsUrkfhehVAmpmZmZmZJEA=\",\"dtype\":\"float64\",\"order\":\"little\",\"shape\":[19]},\"Sm/Nd\":{\"__ndarray__\":\"GARWDi2y1T+iRbbz/dTQP/LSTWIQWNE/UrgehetR0D9BYOXQItvRP+18PzVeutE/PQrXo3A90j9SuB6F61HQP05iEFg5tNA/9P3UeOkm0T9OYhBYObTQP4xs5/up8dI/iUFg5dAi0z83iUFg5dDSP3sUrkfhetQ/hxbZzvdT0z93vp8aL93UPxfZzvdT49U/mpmZmZmZyT8=\",\"dtype\":\"float64\",\"order\":\"little\",\"shape\":[19]},\"Sr\":[282,123,270,274,388,188,349,277,362,255,244,214,128,314,131,121,141,221,108],\"SrError\":{\"__ndarray__\":\"aB1VTRB1/z4tQxzr4jYKP/Fo44i1+AQ/LUMc6+I2Cj/xaOOItfgEP/Fo44i1+AQ/8WjjiLX4BD8tQxzr4jYKPy1DHOviNgo/LUMc6+I2Cj/xaOOItfgEP/Fo44i1+BQ/8WjjiLX4BD/xaOOItfgEP/Fo44i1+AQ/8WjjiLX4BD/xaOOItfgEP/Fo44i1+AQ/8WjjiLX4BD8=\",\"dtype\":\"float64\",\"order\":\"little\",\"shape\":[19]},\"calc_144Nd\":{\"__ndarray__\":\"rlUdrop//D/9sWxIPSwTQJZ3YntlzxRA/f6YGG4UGUAHhFUtOP0JQIhotBr0nwtAH088qArND0Ds8irO1uUXQEseVEhitxZAub4vWpDmEUBMZtKXRXITQFg8Fk+gFRBAie0SEAtD+z//YgSJFNP4P9+KkMUHAP8/H/DO+gV8AEDmFlzA+Qb6P7TLsMEBiAxAZZ4hKZhZJ0A=\",\"dtype\":\"float64\",\"order\":\"little\",\"shape\":[19]},\"calc_147Sm\":{\"__ndarray__\":\"fs0YpVrx2D8gbNf6aPnpPwZIE/yTEe0/IerpW+WA8D8fmtL7A7XiP8A4kVESveM/HltJy0Vx5z+9ameQtGnvP2a64tWoke4/Mt/eCVjB6D//1d88bDXqP+bwpG5Vkeg/QkFY6SMB1T/XDD7wBdnSP4iPY8Rjmdk/roYAEmWx2T+96HnxMPHVP103IeddLek/u5hikU8l+D8=\",\"dtype\":\"float64\",\"order\":\"little\",\"shape\":[19]},\"calc_86Sr\":{\"__ndarray__\":\"iFi9XX4MOUAr3/JurtklQKQstkqc+zdAD+COgG1WOED89olMXjtBQGEMJC3vsjBAEfaQ5oX/PkBksS4Okpo4QNTMiluoE0BAsedos1KmNkD9islgUKw1QFoQD/8uAjNAh1KX8zu9JkDeEnwM4uM7QPWYGfw6RSdAbFB2eOZ+JUAHMqgEkwwpQOHNWeQpoTNAPxnbz0wvI0A=\",\"dtype\":\"float64\",\"order\":\"little\",\"shape\":[19]},\"calc_87Rb\":{\"__ndarray__\":\"TUu0RdyDjD+mS2PjdgS7P3vke4jvT54/8Ui2KbKfwD/hqA3JmmeWP1i5fL5npLE/4RXJaFYGwD8t/Ho5W3nAP3vke4jvT54/z+90dL2jqT8/SFjufJ7DPyYtTkgXD6o/UlcLbd/YhD8wa4VXpnuXP5LmlTqPU5U/7M+jYvOrnj8i+21gi/fEP/9LEoERhZk/nHrnc6M25z8=\",\"dtype\":\"float64\",\"order\":\"little\",\"shape\":[19]},\"calc_Rb/Sr\":{\"__ndarray__\":\"/Knx0k1iUD97FK5H4XqEP/yp8dJNYlA/exSuR+F6dD/8qfHSTWJQP/yp8dJNYnA//Knx0k1icD97FK5H4Xp0P/yp8dJNYlA//Knx0k1iYD956SYxCKx8P/p+arx0k2g//Knx0k1iUD/8qfHSTWJQP/yp8dJNYmA/+n5qvHSTaD85tMh2vp+KP/yp8dJNYlA/MzMzMzMzsz8=\",\"dtype\":\"float64\",\"order\":\"little\",\"shape\":[19]},\"calc_Sm/Nd\":{\"__ndarray__\":\"MQisHFpkyz9zaJHtfD/FPxfZzvdT48U/z/dT46WbxD+6SQwCK4fGP2ZmZmZmZsY/XrpJDAIrxz/P91PjpZvEPx+F61G4HsU/bxKDwMqhxT8fhetRuB7FP1YOLbKd78c//tR46SYxyD8CK4cW2c7HP0Jg5dAi28k/ppvEILByyD+R7Xw/NV7KP9nO91Pjpcs/qMZLN4lBwD8=\",\"dtype\":\"float64\",\"order\":\"little\",\"shape\":[19]},\"calc_t2_143Nd/144Nd\":{\"__ndarray__\":\"mWTkLOxp4D8niLoPQGrgP19GsdzSauA/mDRG66hq4D8niLoPQGrgP9DyPLg7a+A/7ZklAWpq4D9FL6NYbmngP+/Jw0KtaeA/J4i6D0Bq4D+ZZOQs7GngP9Ei2/l+auA/mDRG66hq4D/tmSUBamrgP+/Jw0KtaeA/lgSoqWVr4D9Bn8iTpGvgP5g0RuuoauA/YHZPHhZq4D8=\",\"dtype\":\"float64\",\"order\":\"little\",\"shape\":[19]},\"calc_t2_87Sr/86Sr\":{\"__ndarray__\":\"N6YnLPGA5j/cgM8PI4TmP/63kh0bgeY/MxZNZyeD5j9uNIC3QILmP240gLdAguY/SZ2AJsKG5j/ACYUIOITmP00tW+uLhOY/wAmFCDiE5j9RvTWwVYLmP1Lt0/GYgeY/b2Qe+YOB5j+GG/D5YYTmP0c9RKM7iOY/xcn9DkWB5j/HKTqSy3/mP4XrUbgeheY/Ksb5m1CI5j8=\",\"dtype\":\"float64\",\"order\":\"little\",\"shape\":[19]},\"diff_143Nd/144Nd\":{\"__ndarray__\":\"vHmqQ26GKz+An3HhQEgmPw/W/znMlyc/8WjjiLX4JD8P1v85zJcnPw/W/znMlyc/D9b/OcyXJz/xaOOItfgkP/Fo44i1+CQ/D9b/OcyXJz/xaOOItfgkP54MjpJX5yg/ngyOklfnKD+eDI6SV+coP7x5qkNuhis/ngyOklfnKD+8eapDboYrP7x5qkNuhis/Q8U4fxMKIT8=\",\"dtype\":\"float64\",\"order\":\"little\",\"shape\":[19]},\"diff_87Sr/86Sr\":{\"__ndarray__\":\"AAAAAAAAAAAtQxzr4jYKP/Fo44i1+OQ+aR1VTRB1/z4AAAAAAAAAAGkdVU0Qdf8+aR1VTRB1/z5pHVVNEHX/PvFo44i1+OQ+8WjjiLX45D7xaOOItfgEP/Fo44i1+PQ+8WjjiLX45D7xaOOItfjkPvFo44i1+OQ+8WjjiLX49D7S+8bXnlkSP/Fo44i1+OQ+A5Xx7zMuPD8=\",\"dtype\":\"float64\",\"order\":\"little\",\"shape\":[19]},\"diff_Rb/Sr\":{\"__ndarray__\":\"+n5qvHSTaD+4HoXrUbiuP/yp8dJNYoA/O99PjZduoj/8qfHSTWJwP9nO91PjpZs/2c73U+Olmz/sUbgeheuhP3sUrkfhenQ/uB6F61G4jj/pJjEIrByqP5zEILByaJE/+n5qvHSTeD97FK5H4Xp0P7pJDAIrh4Y/O99PjZdukj9qvHSTGAS2PzvfT42XboI/rkfhehSu3z8=\",\"dtype\":\"float64\",\"order\":\"little\",\"shape\":[19]},\"diff_Sm/Nd\":{\"__ndarray__\":\"AAAAAAAAwD+iRbbz/dS4P5qZmZmZmbk/qvHSTWIQuD+R7Xw/NV66P+kmMQisHLo/ObTIdr6fuj+q8dJNYhC4P/p+arx0k7g/8tJNYhBYuT/6fmq8dJO4P4GVQ4ts57s/KVyPwvUovD/ZzvdT46W7P2iR7Xw/Nb4/0SLb+X5qvD+4HoXrUbi+P1TjpZvEIMA/46WbxCCwsj8=\",\"dtype\":\"float64\",\"order\":\"little\",\"shape\":[19]},\"epsilon_Nd\":{\"__ndarray__\":\"K/aX3ZOHCkCZu5aQD7oSQNSa5h2naBdAcM6I0t6gFkBR2ht8YfIRQI/C9ShcTxtA/Yf029eBE0AMAiuHFtkFQCv2l92ThwpAUdobfGHyEUBL6gQ0ETYPQP2H9NvXgRNAxSCwcmgRFUCZu5aQD7oSQAwCK4cW2QVA845TdCQXHEC7Jw8LtaYdQGFUUiegSRRAmbuWkA+6EkA=\",\"dtype\":\"float64\",\"order\":\"little\",\"shape\":[19]},\"epsilon_Sr\":{\"__ndarray__\":\"9P3UeOn2OMAN4C2QoEg0wFFrmnec0jjA5fIf0m+PNcBSuB6F67E2wMnlP6TfHjfApU5AE2GjLsDzH9JvX7czwMx/SL993TLA5j+k375uM8BseHqlLEM3wJMYBFYOHTjAkxgEVg4dOMDZX3ZPHiYzwLu4jQbw9ijArthfdk+uOMC94xQdyRU8wAFNhA1P3zHA2V92Tx4mM8A=\",\"dtype\":\"float64\",\"order\":\"little\",\"shape\":[19]},\"index\":[0,1,2,3,4,5,6,7,8,9,10,11,12,13,14,15,16,17,18],\"recalc_143Nd/144Nd\":{\"__ndarray__\":\"tKuQ8pNq4D9fRrHc0mrgP5YEqKlla+A/7GmHvyZr4D9fRrHc0mrgPwexM4XOa+A/JVgczvxq4D+ZZOQs7GngP0P/BBcrauA/X0ax3NJq4D/tmSUBamrgPwnh0cYRa+A/0PI8uDtr4D8lWBzO/GrgPwoRcAhVauA/zsKedvhr4D9c5nRZTGzgP7N78rBQa+A/0SLb+X5q4D8=\",\"dtype\":\"float64\",\"order\":\"little\",\"shape\":[19]},\"recalc_87Sr/86Sr\":{\"__ndarray__\":\"N6YnLPGA5j/59xkXDoTmP/63kh0bgeY/MxZNZyeD5j9uNIC3QILmP240gLdAguY/SZ2AJsKG5j/ACYUIOITmP00tW+uLhOY/wAmFCDiE5j9uNIC3QILmP1Lt0/GYgeY/b2Qe+YOB5j+GG/D5YYTmP0c9RKM7iOY/xcn9DkWB5j/koISZtn/mP4XrUbgeheY/1pC4x9KH5j8=\",\"dtype\":\"float64\",\"order\":\"little\",\"shape\":[19]}},\"selected\":{\"id\":\"2501\"},\"selection_policy\":{\"id\":\"2500\"}},\"id\":\"2482\",\"type\":\"ColumnDataSource\"},{\"attributes\":{},\"id\":\"2439\",\"type\":\"BasicTickFormatter\"},{\"attributes\":{},\"id\":\"2407\",\"type\":\"BasicTicker\"},{\"attributes\":{},\"id\":\"2479\",\"type\":\"UnionRenderers\"},{\"attributes\":{\"line_alpha\":0.1,\"line_color\":\"green\",\"x\":{\"field\":\"x\"},\"y\":{\"field\":\"y\"}},\"id\":\"2435\",\"type\":\"Line\"},{\"attributes\":{\"line_alpha\":0.1,\"line_color\":\"grey\",\"x\":{\"field\":\"x\"},\"y\":{\"field\":\"y\"}},\"id\":\"2466\",\"type\":\"Line\"},{\"attributes\":{\"axis\":{\"id\":\"2406\"},\"ticker\":null},\"id\":\"2409\",\"type\":\"Grid\"},{\"attributes\":{\"label\":{\"value\":\"Greenland Samples\"},\"renderers\":[{\"id\":\"2486\"}]},\"id\":\"2502\",\"type\":\"LegendItem\"},{\"attributes\":{\"line_color\":\"green\",\"x\":{\"field\":\"x\"},\"y\":{\"field\":\"y\"}},\"id\":\"2434\",\"type\":\"Line\"},{\"attributes\":{\"line_color\":\"grey\",\"x\":{\"field\":\"x\"},\"y\":{\"field\":\"y\"}},\"id\":\"2465\",\"type\":\"Line\"},{\"attributes\":{},\"id\":\"2501\",\"type\":\"Selection\"},{\"attributes\":{},\"id\":\"2411\",\"type\":\"BasicTicker\"},{\"attributes\":{\"data_source\":{\"id\":\"2433\"},\"glyph\":{\"id\":\"2434\"},\"hover_glyph\":null,\"muted_glyph\":null,\"nonselection_glyph\":{\"id\":\"2435\"},\"selection_glyph\":null,\"view\":{\"id\":\"2437\"}},\"id\":\"2436\",\"type\":\"GlyphRenderer\"},{\"attributes\":{\"data_source\":{\"id\":\"2464\"},\"glyph\":{\"id\":\"2465\"},\"hover_glyph\":null,\"muted_glyph\":null,\"nonselection_glyph\":{\"id\":\"2466\"},\"selection_glyph\":null,\"view\":{\"id\":\"2468\"}},\"id\":\"2467\",\"type\":\"GlyphRenderer\"},{\"attributes\":{\"axis\":{\"id\":\"2410\"},\"dimension\":1,\"ticker\":null},\"id\":\"2413\",\"type\":\"Grid\"},{\"attributes\":{\"source\":{\"id\":\"2433\"}},\"id\":\"2437\",\"type\":\"CDSView\"},{\"attributes\":{\"source\":{\"id\":\"2464\"}},\"id\":\"2468\",\"type\":\"CDSView\"},{\"attributes\":{\"source\":{\"id\":\"2482\"}},\"id\":\"2487\",\"type\":\"CDSView\"},{\"attributes\":{},\"id\":\"2441\",\"type\":\"BasicTickFormatter\"},{\"attributes\":{},\"id\":\"2500\",\"type\":\"UnionRenderers\"},{\"attributes\":{\"background_fill_color\":\"white\",\"border_line_color\":\"black\",\"text\":\" Scotland 143Nd/144Nd (initial) = 0.5124 \",\"text_font_size\":\"8pt\",\"x\":0.178,\"y\":0.51175},\"id\":\"2431\",\"type\":\"Label\"},{\"attributes\":{\"fill_alpha\":{\"value\":0.6},\"fill_color\":{\"value\":\"green\"},\"line_color\":{\"value\":\"#1f77b4\"},\"size\":{\"units\":\"screen\",\"value\":10},\"x\":{\"field\":\"calc_Sm/Nd\"},\"y\":{\"field\":\"calc_t2_143Nd/144Nd\"}},\"id\":\"2484\",\"type\":\"Scatter\"},{\"attributes\":{\"data_source\":{\"id\":\"2482\"},\"glyph\":{\"id\":\"2484\"},\"hover_glyph\":null,\"muted_glyph\":null,\"nonselection_glyph\":{\"id\":\"2485\"},\"selection_glyph\":null,\"view\":{\"id\":\"2487\"}},\"id\":\"2486\",\"type\":\"GlyphRenderer\"},{\"attributes\":{},\"id\":\"2480\",\"type\":\"Selection\"},{\"attributes\":{},\"id\":\"2444\",\"type\":\"UnionRenderers\"},{\"attributes\":{\"axis_label\":\"143Nd/144Nd\",\"formatter\":{\"id\":\"2441\"},\"ticker\":{\"id\":\"2411\"}},\"id\":\"2410\",\"type\":\"LinearAxis\"},{\"attributes\":{\"label\":{\"value\":\"Nd CHUR initial\"},\"renderers\":[{\"id\":\"2467\"}]},\"id\":\"2481\",\"type\":\"LegendItem\"},{\"attributes\":{\"fill_alpha\":{\"value\":0.6},\"fill_color\":{\"value\":\"blue\"},\"line_color\":{\"value\":\"#1f77b4\"},\"marker\":{\"value\":\"triangle\"},\"size\":{\"units\":\"screen\",\"value\":10},\"x\":{\"field\":\"calc_Sm/Nd\"},\"y\":{\"field\":\"calc_t2_143Nd/144Nd\"}},\"id\":\"2505\",\"type\":\"Scatter\"},{\"attributes\":{\"source\":{\"id\":\"2503\"}},\"id\":\"2508\",\"type\":\"CDSView\"},{\"attributes\":{},\"id\":\"2445\",\"type\":\"Selection\"},{\"attributes\":{},\"id\":\"2414\",\"type\":\"PanTool\"},{\"attributes\":{\"data\":{\"1/Nd\":{\"__ndarray__\":\"q6qqqqqqqj+tt6AMq/WmP4GEn1yIuqk/HMIhHMIhrD8d1EEd1EGtP8F4K/scUqM/jBgxYsSIoT8U7BPsE+yTP1uE/DU7arE/ZyAqHdkzsD8X3CoX3CqnP7ZAvZOhR5A/nhLkKUGeoj+tt6AMq/WmP92+snqXPIg/oeRO0cIZsD95DeU1lNewP2BrWuDXmpY/\",\"dtype\":\"float64\",\"order\":\"little\",\"shape\":[18]},\"1/Sr\":{\"__ndarray__\":\"jf5BxfA0Zz9wgQtc4AJnP6AsgU37yWI/5xXQuFvnZT/72WJl+EZkPxHw/hDw/mA/klcBNB95VT+Khvjj1uVNP9C6wRT5rGs/wFoBawWsZT8aW/yjLCddP6534wu7XGk/vxArSuMjYz8kRzSNDj9hPym0GjuGyVY/cUJKnmVEbz8CoeRO0cJpP9uBuXZgrp0/\",\"dtype\":\"float64\",\"order\":\"little\",\"shape\":[18]},\"143Nd/144Nd\":{\"__ndarray__\":\"Su8bX3tm4D+gVPt0PGbgP0rvG197ZuA/EjElkuhl4D9tVn2utmLgPw/R6A5iZ+A/mWTkLOxp4D8J4dHGEWvgP9OCF30FaeA/RC+jWG5p4D/FG5lH/mDgP8mrcwzIXuA/2nIuxVVl4D+gVPt0PGbgPzpY/+cwX+A/gH106spn4D9pxqLp7GTgPwTKplzhXeA/\",\"dtype\":\"float64\",\"order\":\"little\",\"shape\":[18]},\"87Sr/86Sr\":{\"__ndarray__\":\"NBZNZyeD5j8Wb2Qe+YPmP/onuFhRg+Y/g4sVNZiG5j8wthDkoITmPzCGcqJdheY/VU0QdR+A5j93hNOCF33mP4qryr4rguY/OdbFbTSA5j+s4o3MI3/mPxb2tMNfk+Y/JzYf14aK5j+qglFJnYDmP2LboswGmeY/dqvnpPeN5j9YBP9byY7mP5OumXyzzeY/\",\"dtype\":\"float64\",\"order\":\"little\",\"shape\":[18]},\"Location\":[\"Skye\",\"Skye\",\"Skye\",\"Skye\",\"Skye\",\"Skye\",\"Mull\",\"Mull\",\"Mull\",\"Mull\",\"Mull\",\"Muck\",\"Muck\",\"Muck\",\"Eigg\",\"Eigg\",\"Eigg\",\"Eigg\"],\"Nd\":{\"__ndarray__\":\"MzMzMzMzM0DNzMzMzEw2QGZmZmZm5jNAMzMzMzMzMkAAAAAAAIAxQAAAAAAAgDpAMzMzMzMzPUAzMzMzM7NJQGZmZmZmZi1AmpmZmZmZL0CamZmZmRk2QDMzMzMzc09AAAAAAACAO0DNzMzMzEw2QAAAAAAAIFVAzczMzMzML0BmZmZmZmYuQGZmZmZmpkZA\",\"dtype\":\"float64\",\"order\":\"little\",\"shape\":[18]},\"NdError\":{\"__ndarray__\":\"8WjjiLX49D5qHVVNEHX/PvFo44i1+PQ+ah1VTRB1/z7xaOOItfj0PvFo44i1+PQ+8WjjiLX49D7xaOOItfj0PvFo44i1+PQ+8WjjiLX49D7xaOOItfj0PvFo44i1+PQ+ah1VTRB1/z5qHVVNEHX/PvFo44i1+PQ+8WjjiLX49D7xaOOItfj0PvFo44i1+PQ+\",\"dtype\":\"float64\",\"order\":\"little\",\"shape\":[18]},\"Rb\":{\"__ndarray__\":\"7FG4HoXrHkBmZmZmZmYgQHE9CtejcBBAmpmZmZmZGkDsUbgehesUQClcj8L1KBlAhetRuB6FEUCPwvUoXI8hQGZmZmZmZiJAXI/C9ShcC0DhehSuR+EYQGZmZmZm5klAzczMzMzMFUCuR+F6FK4LQM3MzMzMzEtAw/UoXI/CEkB7FK5H4XogQGZmZmZm5ldA\",\"dtype\":\"float64\",\"order\":\"little\",\"shape\":[18]},\"Region\":[\"Northwest Scotland\",\"Northwest Scotland\",\"Northwest Scotland\",\"Northwest Scotland\",\"Northwest Scotland\",\"Northwest Scotland\",\"Northwest Scotland\",\"Northwest Scotland\",\"Northwest Scotland\",\"Northwest Scotland\",\"Northwest Scotland\",\"Northwest Scotland\",\"Northwest Scotland\",\"Northwest Scotland\",\"Northwest Scotland\",\"Northwest Scotland\",\"Northwest Scotland\",\"Northwest Scotland\"],\"Rock Type\":[\"Basalt\",\"Basalt\",\"Basalt\",\"Basalt\",\"Basalt\",\"Basalt\",\"Basalt\",\"Basalt\",\"Basalt\",\"Basalt\",\"Basalt\",\"Basalt\",\"Basalt\",\"Basalt\",\"Basalt\",\"Basalt\",\"Basalt\",\"Felsite\"],\"Sample\":[\"P1\",\"P2\",\"P3\",\"P4\",\"P5\",\"P6\",\"ML1\",\"ML3\",\"ML4\",\"ML5\",\"ML6\",\"M9\",\"M11\",\"M17\",\"E3\",\"E7\",\"E10\",\"E26\"],\"Sm\":{\"__ndarray__\":\"w/UoXI/CEkCuR+F6FK4RQFyPwvUoXBNA16NwPQrXEUBcj8L1KFwPQNejcD0K1xZAAAAAAAAAHkAAAAAAAAAmQNejcD0K1w9AhetRuB6FEkCamZmZmZkTQDMzMzMzMyhAuB6F61G4HkAzMzMzMzMSQJqZmZmZmSxA16NwPQrXEUDD9Shcj8INQFK4HoXr0SBA\",\"dtype\":\"float64\",\"order\":\"little\",\"shape\":[18]},\"Sr\":{\"__ndarray__\":\"AAAAAAAQdkAAAAAAAEB2QAAAAAAAQHtAAAAAAABgd0AAAAAAAEB5QAAAAAAAIH5AAAAAAADYh0AAAAAAACCRQAAAAAAAgHJAAAAAAACgd0AAAAAAAJCBQAAAAAAAMHRAAAAAAADAekAAAAAAALB9QAAAAAAAeIZAAAAAAABgcEAAAAAAAOBzQAAAAAAAQEFA\",\"dtype\":\"float64\",\"order\":\"little\",\"shape\":[18]},\"SrError\":{\"__ndarray__\":\"LUMc6+I2Cj/xaOOItfgEPy1DHOviNgo/LUMc6+I2Cj/xaOOItfgEP2odVU0QdQ8/8WjjiLX4BD/xaOOItfgEP/Fo44i1+AQ/LUMc6+I2Cj/xaOOItfgEP/Fo44i1+AQ/8WjjiLX4BD9qHVVNEHUPP/Fo44i1+AQ/LUMc6+I2Cj/xaOOItfgEP2odVU0QdQ8/\",\"dtype\":\"float64\",\"order\":\"little\",\"shape\":[18]},\"calc_144Nd\":{\"__ndarray__\":\"/Y912WJyEUDng5mEZ0MUQDYf6sUzFRJAVZ3WWVyJEEAVWNPkhM0PQGANTfsqFBhA2HaQKDKJGkBvLOMvcVsnQGUA6MJWtwpAH4IPM4a3DEARtHqckBUUQI/ECmHEkCxAG/2Jet77GEDDc/Fa4kMUQNP7ZMs6LzNAcC8l9j/jDEA1jKFsg50LQJGFgDwliiRA\",\"dtype\":\"float64\",\"order\":\"little\",\"shape\":[18]},\"calc_147Sm\":{\"__ndarray__\":\"UWRImDH95T/PW4EAILnkP+6hYV47seY/HEq7myLp5D8ZOS1s/2DiP+OgjQ50xeo/VgR3WPSU8T/UfZ1fZsn5P4seBFUDqeI/3n5xry215T9ghzhHP/nmP2kK+jWKXfw/gVy5NfoA8j9Gov14KFXlP8qRWfHowgBAHEq7myLp5D+ekQtk8nDhP/f6Kf4Rt/M/\",\"dtype\":\"float64\",\"order\":\"little\",\"shape\":[18]},\"calc_86Sr\":{\"__ndarray__\":\"2lb7vMpaP0AucH6B754/QDUPN/cLXUNAKEA5Jv6bQEC+BZgnKfFBQIE07DDqZ0VA8YEzYpHxUEBvyRGR11ZYQAn5rO7ASjpABUxZFMXJQEDmmwZv4fVIQME1HGNSrzxAf0c5/rQBQ0Bby+7InBhFQPguFiCi7E9AeG0WEttEN0DEZVIJAz48QJNwSxjHfghA\",\"dtype\":\"float64\",\"order\":\"little\",\"shape\":[18]},\"calc_87Rb\":{\"__ndarray__\":\"tSg2ek0ntz9/Lf3lsY+4P2h/rt8Hn6g/x+HOzirrsz/kVEIdpVSvP3cfV0Af17I/3iJiNRk9qj/GdBMvb0y6P80sn6p8jrs/4mvjktt8pD/LgGpWcqGyPxlV/4X6ZOM/aa8/SQRTsD+Cs6h5M7qkP16uMnA00eQ/9g3bcYIYrD9Q0V/ZXa64P3JVriOV5fE/\",\"dtype\":\"float64\",\"order\":\"little\",\"shape\":[18]},\"calc_Rb/Sr\":{\"__ndarray__\":\"+n5qvHSTaD/6fmq8dJNoP/yp8dJNYlA//Knx0k1iYD/8qfHSTWJgP/yp8dJNYmA//Knx0k1iUD/8qfHSTWJQP/yp8dJNYnA//Knx0k1iUD/8qfHSTWJQPxsv3SQGgZU//Knx0k1iYD/8qfHSTWJQP3sUrkfheoQ//Knx0k1iYD/6fmq8dJNoP7TIdr6fGtc/\",\"dtype\":\"float64\",\"order\":\"little\",\"shape\":[18]},\"calc_Sm/Nd\":{\"__ndarray__\":\"g8DKoUW2wz8AAAAAAADAP4PAyqFFtsM/16NwPQrXwz+TGARWDi3CP5zEILByaME/I9v5fmq8xD9I4XoUrkfBPxfZzvdT48U/rkfhehSuxz/sUbgehevBPwisHFpkO78/ukkMAiuHxj9QjZduEoPAPzEIrBxaZLs/Di2yne+nxj/Xo3A9CtfDP2iR7Xw/Nb4/\",\"dtype\":\"float64\",\"order\":\"little\",\"shape\":[18]},\"calc_t2_143Nd/144Nd\":{\"__ndarray__\":\"niRdM/lm4D8RAYdQpWbgP54kXTP5ZuA/ZmZmZmZm4D/Bi76CNGPgP4B9dOrKZ+A/7ZklAWpq4D96jV2iemvgPwtBDkqYaeA/fO2ZJQFq4D82yCQjZ2HgPzpY/+cwX+A/EjElkuhl4D8RAYdQpWbgP8h71cqEX+A/uDtrt11o4D+9++O9amXgP3V2MjhKXuA/\",\"dtype\":\"float64\",\"order\":\"little\",\"shape\":[18]},\"calc_t2_87Sr/86Sr\":{\"__ndarray__\":\"MxZNZyeD5j8Vb2Qe+YPmP/onuFhRg+Y/gosVNZiG5j8xthDkoITmPy+GcqJdheY/VU0QdR+A5j93hNOCF33mP4qryr4rguY/OdbFbTSA5j+s4o3MI3/mP90HILWJk+Y/JjYf14aK5j+qglFJnYDmP0VkWMUbmeY/davnpPeN5j9XBP9byY7mPxxClZo90OY/\",\"dtype\":\"float64\",\"order\":\"little\",\"shape\":[18]},\"epsilon_Nd\":{\"__ndarray__\":\"taZ5xym6AsDUmuYdp2gHwLWmeccpugLAuycPC7WmDcBwzojS3qAmwH6MuWsJ+ci/1JrmHadoF0DtDb4wmSohQLsnDwu1pg1AmbuWkA+6EkA17zhFR9IuwMx/SL99rTTAYVRSJ6BJFMDUmuYdp2gHwBb7y+7JszPAnDOitDf46D8cfGEyVTAYwIlBYOXQ0jbA\",\"dtype\":\"float64\",\"order\":\"little\",\"shape\":[18]},\"epsilon_Sr\":{\"__ndarray__\":\"NIC3QIIiNcDzH9JvX7czwCegibDh2TTAXynLEMdaLsCGWtO845QywK5H4XoUTjHANV66SQxiOsA2PL1SlqE/wLwFEhQ/1jbAyxDHurg9OsC94xQdyRU8wD55WKg1zRtAlIeFWtO8IMAOvjCZKog5wJSHhVrTvDBAJ8KGp1dKA8BLWYY41sXvv0aU9gZf/FpA\",\"dtype\":\"float64\",\"order\":\"little\",\"shape\":[18]},\"index\":[0,1,2,3,4,5,6,7,8,9,10,11,12,13,14,15,16,17]},\"selected\":{\"id\":\"2524\"},\"selection_policy\":{\"id\":\"2523\"}},\"id\":\"2503\",\"type\":\"ColumnDataSource\"},{\"attributes\":{\"data_source\":{\"id\":\"2503\"},\"glyph\":{\"id\":\"2505\"},\"hover_glyph\":null,\"muted_glyph\":null,\"nonselection_glyph\":{\"id\":\"2506\"},\"selection_glyph\":null,\"view\":{\"id\":\"2508\"}},\"id\":\"2507\",\"type\":\"GlyphRenderer\"},{\"attributes\":{\"fill_alpha\":{\"value\":0.1},\"fill_color\":{\"value\":\"green\"},\"line_alpha\":{\"value\":0.1},\"line_color\":{\"value\":\"#1f77b4\"},\"size\":{\"units\":\"screen\",\"value\":10},\"x\":{\"field\":\"calc_Sm/Nd\"},\"y\":{\"field\":\"calc_t2_143Nd/144Nd\"}},\"id\":\"2485\",\"type\":\"Scatter\"},{\"attributes\":{\"click_policy\":\"hide\",\"items\":[{\"id\":\"2447\"},{\"id\":\"2463\"},{\"id\":\"2481\"},{\"id\":\"2502\"},{\"id\":\"2525\"}],\"location\":\"bottom_right\"},\"id\":\"2446\",\"type\":\"Legend\"},{\"attributes\":{\"overlay\":{\"id\":\"2420\"}},\"id\":\"2415\",\"type\":\"BoxZoomTool\"},{\"attributes\":{},\"id\":\"2523\",\"type\":\"UnionRenderers\"}],\"root_ids\":[\"2395\"]},\"title\":\"Bokeh Application\",\"version\":\"2.2.3\"}};\n",
       "  var render_items = [{\"docid\":\"2a93a741-6c40-488d-bc88-8027bb5576d7\",\"root_ids\":[\"2395\"],\"roots\":{\"2395\":\"c31c9074-d779-4fa0-af0b-8538cb01a24b\"}}];\n",
       "  root.Bokeh.embed.embed_items_notebook(docs_json, render_items);\n",
       "\n",
       "  }\n",
       "  if (root.Bokeh !== undefined) {\n",
       "    embed_document(root);\n",
       "  } else {\n",
       "    var attempts = 0;\n",
       "    var timer = setInterval(function(root) {\n",
       "      if (root.Bokeh !== undefined) {\n",
       "        clearInterval(timer);\n",
       "        embed_document(root);\n",
       "      } else {\n",
       "        attempts++;\n",
       "        if (attempts > 100) {\n",
       "          clearInterval(timer);\n",
       "          console.log(\"Bokeh: ERROR: Unable to run BokehJS code because BokehJS library is missing\");\n",
       "        }\n",
       "      }\n",
       "    }, 10, root)\n",
       "  }\n",
       "})(window);"
      ],
      "application/vnd.bokehjs_exec.v0+json": ""
     },
     "metadata": {
      "application/vnd.bokehjs_exec.v0+json": {
       "id": "2395"
      }
     },
     "output_type": "display_data"
    }
   ],
   "source": [
    "show(figure7)"
   ]
  },
  {
   "cell_type": "markdown",
   "metadata": {
    "slideshow": {
     "slide_type": "notes"
    }
   },
   "source": [
    "In this first figure we see the Sm/Nd isochron.  The Greenland samples seem to show a much clear trend than the Scotland samples.  Note that samples 6-10 are samples from Mull in Scotland.  These are located here."
   ]
  },
  {
   "cell_type": "code",
   "execution_count": 59,
   "metadata": {
    "slideshow": {
     "slide_type": "skip"
    }
   },
   "outputs": [],
   "source": [
    "#xmin = 0\n",
    "xmin = min(carter_df['1/Nd'].append(carter_df2['1/Nd']))\n",
    "xmax = max(carter_df['1/Nd'].append(carter_df2['1/Nd']))\n",
    "ymin = min(carter_df['calc_t2_143Nd/144Nd'].append(carter_df2['calc_t2_143Nd/144Nd']))\n",
    "ymax = max(carter_df['calc_t2_143Nd/144Nd'].append(carter_df2['calc_t2_143Nd/144Nd']))\n",
    "\n",
    "figure8 = gc.get_figure(\"Mixing Plot???\",\n",
    "                        \"1/Nd\",\n",
    "                        \"143Nd/144Nd\",\n",
    "                        [xmin,xmax],\n",
    "                        [ymin,ymax],\n",
    "                       )\n",
    "\n",
    "figure8.line([xmin,xmax],[Nd_CHUR_1977,Nd_CHUR_1977],\n",
    "            line_width=1,\n",
    "            color=\"grey\",\n",
    "            legend_label='Nd CHUR initial')\n",
    "\n",
    "\n",
    "figure8.scatter('1/Nd','calc_t2_143Nd/144Nd',\n",
    "                source=carter_df,fill_alpha=0.6,\n",
    "                fill_color='green',\n",
    "                size=10,\n",
    "                marker=\"circle\",\n",
    "                legend_label='Greenland/Baffin Basalts')\n",
    "\n",
    "figure8.scatter('1/Nd','calc_t2_143Nd/144Nd',\n",
    "                source=carter_df2,fill_alpha=0.6,\n",
    "                fill_color='blue',\n",
    "                size=10,\n",
    "                marker=\"triangle\",\n",
    "                legend_label='Scotland Basalts')\n",
    "figure8.legend.location='bottom_right'\n",
    "figure8.legend.click_policy=\"hide\""
   ]
  },
  {
   "cell_type": "code",
   "execution_count": 60,
   "metadata": {
    "scrolled": false,
    "slideshow": {
     "slide_type": "subslide"
    }
   },
   "outputs": [
    {
     "data": {
      "text/html": [
       "\n",
       "\n",
       "\n",
       "\n",
       "\n",
       "\n",
       "  <div class=\"bk-root\" id=\"1c8510a2-17d5-4931-84e7-579c46e1acce\" data-root-id=\"2710\"></div>\n"
      ]
     },
     "metadata": {},
     "output_type": "display_data"
    },
    {
     "data": {
      "application/javascript": [
       "(function(root) {\n",
       "  function embed_document(root) {\n",
       "    \n",
       "  var docs_json = {\"383263bc-18fd-42e7-ada5-daf74856f0fa\":{\"roots\":{\"references\":[{\"attributes\":{\"below\":[{\"id\":\"2721\"}],\"center\":[{\"id\":\"2724\"},{\"id\":\"2728\"},{\"id\":\"2757\"}],\"left\":[{\"id\":\"2725\"}],\"plot_height\":500,\"plot_width\":700,\"renderers\":[{\"id\":\"2747\"},{\"id\":\"2763\"},{\"id\":\"2780\"}],\"title\":{\"id\":\"2711\"},\"toolbar\":{\"id\":\"2736\"},\"toolbar_location\":\"left\",\"toolbar_sticky\":false,\"x_range\":{\"id\":\"2713\"},\"x_scale\":{\"id\":\"2717\"},\"y_range\":{\"id\":\"2715\"},\"y_scale\":{\"id\":\"2719\"}},\"id\":\"2710\",\"subtype\":\"Figure\",\"type\":\"Plot\"},{\"attributes\":{\"fill_alpha\":{\"value\":0.6},\"fill_color\":{\"value\":\"blue\"},\"line_color\":{\"value\":\"#1f77b4\"},\"marker\":{\"value\":\"triangle\"},\"size\":{\"units\":\"screen\",\"value\":10},\"x\":{\"field\":\"1/Nd\"},\"y\":{\"field\":\"calc_t2_143Nd/144Nd\"}},\"id\":\"2778\",\"type\":\"Scatter\"},{\"attributes\":{\"end\":0.14641288433382138,\"start\":0.011834319526627219},\"id\":\"2713\",\"type\":\"Range1d\"},{\"attributes\":{\"active_drag\":\"auto\",\"active_inspect\":\"auto\",\"active_multi\":null,\"active_scroll\":\"auto\",\"active_tap\":\"auto\",\"logo\":null,\"tools\":[{\"id\":\"2729\"},{\"id\":\"2730\"},{\"id\":\"2731\"},{\"id\":\"2732\"},{\"id\":\"2733\"},{\"id\":\"2734\"}]},\"id\":\"2736\",\"type\":\"Toolbar\"},{\"attributes\":{\"axis\":{\"id\":\"2721\"},\"ticker\":null},\"id\":\"2724\",\"type\":\"Grid\"},{\"attributes\":{\"line_color\":\"grey\",\"x\":{\"field\":\"x\"},\"y\":{\"field\":\"y\"}},\"id\":\"2745\",\"type\":\"Line\"},{\"attributes\":{\"align\":\"center\",\"text\":\"Mixing Plot???\",\"text_font_size\":{\"value\":\"25px\"}},\"id\":\"2711\",\"type\":\"Title\"},{\"attributes\":{\"label\":{\"value\":\"Nd CHUR initial\"},\"renderers\":[{\"id\":\"2747\"}]},\"id\":\"2758\",\"type\":\"LegendItem\"},{\"attributes\":{\"data\":{\"1/Nd\":{\"__ndarray__\":\"FbycgpdTwD8ZidVw8UOoP5KmDwqrW6Y/KfEzSvyMoj/6TFvj7+axP3kN5TWU17A/HdRBHdRBrT+x5pXquXejP3sUrkfheqQ/ShvvqGb9qT/w1LUc3OynP2uWGJ8y7aw/ERERERERwT8sofZKqL3CP6d71EwAA74/BPNJLpQ5vD+Tg8xLieDBP+Fu7HtETrA/FOwT7BPskz8=\",\"dtype\":\"float64\",\"order\":\"little\",\"shape\":[19]},\"1/Sr\":{\"__ndarray__\":\"dMBuj7UMbT+nEGgKgaaAP3TlAck6V24/iob449blbT8V+OLqBx1lP1cQkyuIyXU/DcaaEQh5Zz+Kfx4j8pJtP5ByU9E8oWY/EBAQEBAQcD872rxPcclwP78QK0rjI3M/AAAAAAAAgD8CS3r50xZqP3FCSp5lRH8/kJzma/XsgD90wG6PtQx9PxOwiBKwiHI/aC+hvYT2gj8=\",\"dtype\":\"float64\",\"order\":\"little\",\"shape\":[19]},\"143Nd/144Nd\":{\"__ndarray__\":\"DXGsi9to4D9EL6NYbmngP5lk5CzsaeA/tdsuNNdp4D9hpu1fWWngPwoRcAhVauA/KLhYUYNp4D9i1ouhnGjgPw1xrIvbaOA/YabtX1lp4D+3C811GmngPyi4WFGDaeA/78nDQq1p4D9EL6NYbmngP2LWi6GcaOA/7ZklAWpq4D+1q5Dyk2rgPwtBDkqYaeA/RC+jWG5p4D8=\",\"dtype\":\"float64\",\"order\":\"little\",\"shape\":[19]},\"87Sr/86Sr\":{\"__ndarray__\":\"N6YnLPGA5j+IS447pYPmPxsv3SQGgeY/iXssfeiC5j9uNIC3QILmP8OZX80BguY/nwJgPIOG5j8Wb2Qe+YPmP2qkpfJ2hOY/3IDPDyOE5j/gEKrU7IHmP4zbaABvgeY/jNtoAG+B5j+jkjoBTYTmP2O0jqomiOY//reSHRuB5j+s4o3MI3/mP6FinL8JheY/o5I6AU2E5j8=\",\"dtype\":\"float64\",\"order\":\"little\",\"shape\":[19]},\"Location\":[\"Torshavn\",\"Torshavn\",\"Torshavn\",\"Suduroy\",\"Suduroy\",\"Vestmanna\",\"Mikis Fjord\",\"Nansens Fjord\",\"Nansens Fjord\",\"Wiedemans Fjord\",\"Wiedemans Fjord\",\"Scoresbysund\",\"Cape Dyer\",\"Cape Dyer\",\"Cape Dyer\",\"Svartenhuk\",\"Svartenhuk\",\"Svartenhuk\",\"Svartenhuk\"],\"Nd\":{\"__ndarray__\":\"XI/C9ShcH0CamZmZmRk1QGZmZmZm5jZAmpmZmZmZO0CamZmZmZksQGZmZmZmZi5AAAAAAACAMUDNzMzMzEw6QAAAAAAAADlAMzMzMzOzM0BmZmZmZmY1QDMzMzMzszFAAAAAAAAAHkBSuB6F61EbQI/C9ShcDyFApHA9CtcjIkCkcD0K16McQGZmZmZmZi9AMzMzMzOzSUA=\",\"dtype\":\"float64\",\"order\":\"little\",\"shape\":[19]},\"NdError\":{\"__ndarray__\":\"8WjjiLX49D5oHVVNEHX/PvFo44i1+PQ+8WjjiLX49D5oHVVNEHX/PmgdVU0Qdf8+aB1VTRB1/z5oHVVNEHX/PvFo44i1+PQ+aB1VTRB1/z7xaOOItfj0PvFo44i1+PQ+aB1VTRB1/z5oHVVNEHX/PmgdVU0Qdf8+aB1VTRB1/z5oHVVNEHX/PmgdVU0Qdf8+8WjjiLX49D4=\",\"dtype\":\"float64\",\"order\":\"little\",\"shape\":[19]},\"Rb\":{\"__ndarray__\":\"CtejcD0K8z8K16NwPQoiQD0K16NwPQRAMzMzMzMzJkDsUbgehev9P4/C9ShcjxdAZmZmZmZmJUAAAAAAAAAmQD0K16NwPQRAH4XrUbgeEUAzMzMzMzMqQGZmZmZmZhFA16NwPQrX6z9cj8L1KFz/P3sUrkfhevw/exSuR+F6BEAAAAAAAAAsQArXo3A9CgFAAAAAAAAAT0A=\",\"dtype\":\"float64\",\"order\":\"little\",\"shape\":[19]},\"Rb/Sr\":{\"__ndarray__\":\"/Knx0k1icD/sUbgeheuxPzzfT42XboI/yqFFtvP9pD97FK5H4Xp0P1g5tMh2vp8/WDm0yHa+nz97FK5H4XqkP/p+arx0k3g/nMQgsHJokT8YBFYOLbKtP3sUrkfhepQ/eOkmMQisfD/6fmq8dJN4Pzq0yHa+n4o/Gy/dJAaBlT/y0k1iEFi5P3sUrkfheoQ/PQrXo3A94j8=\",\"dtype\":\"float64\",\"order\":\"little\",\"shape\":[19]},\"Region\":[\"Faeroes\",\"Faeroes\",\"Faeroes\",\"Faeroes\",\"Faeroes\",\"Faeroes\",\"East Greenland\",\"East Greenland\",\"East Greenland\",\"East Greenland\",\"East Greenland\",\"East Greenland\",\"Baffin and Svartenhuk\",\"Baffin and Svartenhuk\",\"Baffin and Svartenhuk\",\"Baffin and Svartenhuk\",\"Baffin and Svartenhuk\",\"Baffin and Svartenhuk\",\"Baffin and Svartenhuk\"],\"Sample\":[\"Fo07\",\"Fo19\",\"Fo23\",\"Fo34\",\"Fo41\",\"Fo52\",\"MM20333\",\"CKB7147\",\"CKB7148\",\"EG7207\",\"EG7203\",\"EG7126\",\"B18\",\"B22\",\"B36\",\"S8\",\"S16\",\"S32\",\"S41 (trachyte)\"],\"Sm\":{\"__ndarray__\":\"SOF6FK5HBUApXI/C9SgWQM3MzMzMzBhAKVyPwvUoHEDsUbgehesPQNejcD0K1xBAAAAAAAAAFEDNzMzMzMwaQBSuR+F6FBpAH4XrUbgeFUBcj8L1KFwWQPYoXI/C9RRA7FG4HoXrAUAUrkfhehQAQNejcD0K1wVA7FG4HoXrBUC4HoXrUbgCQHsUrkfhehVAmpmZmZmZJEA=\",\"dtype\":\"float64\",\"order\":\"little\",\"shape\":[19]},\"Sm/Nd\":{\"__ndarray__\":\"GARWDi2y1T+iRbbz/dTQP/LSTWIQWNE/UrgehetR0D9BYOXQItvRP+18PzVeutE/PQrXo3A90j9SuB6F61HQP05iEFg5tNA/9P3UeOkm0T9OYhBYObTQP4xs5/up8dI/iUFg5dAi0z83iUFg5dDSP3sUrkfhetQ/hxbZzvdT0z93vp8aL93UPxfZzvdT49U/mpmZmZmZyT8=\",\"dtype\":\"float64\",\"order\":\"little\",\"shape\":[19]},\"Sr\":[282,123,270,274,388,188,349,277,362,255,244,214,128,314,131,121,141,221,108],\"SrError\":{\"__ndarray__\":\"aB1VTRB1/z4tQxzr4jYKP/Fo44i1+AQ/LUMc6+I2Cj/xaOOItfgEP/Fo44i1+AQ/8WjjiLX4BD8tQxzr4jYKPy1DHOviNgo/LUMc6+I2Cj/xaOOItfgEP/Fo44i1+BQ/8WjjiLX4BD/xaOOItfgEP/Fo44i1+AQ/8WjjiLX4BD/xaOOItfgEP/Fo44i1+AQ/8WjjiLX4BD8=\",\"dtype\":\"float64\",\"order\":\"little\",\"shape\":[19]},\"calc_144Nd\":{\"__ndarray__\":\"rlUdrop//D/9sWxIPSwTQJZ3YntlzxRA/f6YGG4UGUAHhFUtOP0JQIhotBr0nwtAH088qArND0Ds8irO1uUXQEseVEhitxZAub4vWpDmEUBMZtKXRXITQFg8Fk+gFRBAie0SEAtD+z//YgSJFNP4P9+KkMUHAP8/H/DO+gV8AEDmFlzA+Qb6P7TLsMEBiAxAZZ4hKZhZJ0A=\",\"dtype\":\"float64\",\"order\":\"little\",\"shape\":[19]},\"calc_147Sm\":{\"__ndarray__\":\"fs0YpVrx2D8gbNf6aPnpPwZIE/yTEe0/IerpW+WA8D8fmtL7A7XiP8A4kVESveM/HltJy0Vx5z+9ameQtGnvP2a64tWoke4/Mt/eCVjB6D//1d88bDXqP+bwpG5Vkeg/QkFY6SMB1T/XDD7wBdnSP4iPY8Rjmdk/roYAEmWx2T+96HnxMPHVP103IeddLek/u5hikU8l+D8=\",\"dtype\":\"float64\",\"order\":\"little\",\"shape\":[19]},\"calc_86Sr\":{\"__ndarray__\":\"iFi9XX4MOUAr3/JurtklQKQstkqc+zdAD+COgG1WOED89olMXjtBQGEMJC3vsjBAEfaQ5oX/PkBksS4Okpo4QNTMiluoE0BAsedos1KmNkD9islgUKw1QFoQD/8uAjNAh1KX8zu9JkDeEnwM4uM7QPWYGfw6RSdAbFB2eOZ+JUAHMqgEkwwpQOHNWeQpoTNAPxnbz0wvI0A=\",\"dtype\":\"float64\",\"order\":\"little\",\"shape\":[19]},\"calc_87Rb\":{\"__ndarray__\":\"TUu0RdyDjD+mS2PjdgS7P3vke4jvT54/8Ui2KbKfwD/hqA3JmmeWP1i5fL5npLE/4RXJaFYGwD8t/Ho5W3nAP3vke4jvT54/z+90dL2jqT8/SFjufJ7DPyYtTkgXD6o/UlcLbd/YhD8wa4VXpnuXP5LmlTqPU5U/7M+jYvOrnj8i+21gi/fEP/9LEoERhZk/nHrnc6M25z8=\",\"dtype\":\"float64\",\"order\":\"little\",\"shape\":[19]},\"calc_Rb/Sr\":{\"__ndarray__\":\"/Knx0k1iUD97FK5H4XqEP/yp8dJNYlA/exSuR+F6dD/8qfHSTWJQP/yp8dJNYnA//Knx0k1icD97FK5H4Xp0P/yp8dJNYlA//Knx0k1iYD956SYxCKx8P/p+arx0k2g//Knx0k1iUD/8qfHSTWJQP/yp8dJNYmA/+n5qvHSTaD85tMh2vp+KP/yp8dJNYlA/MzMzMzMzsz8=\",\"dtype\":\"float64\",\"order\":\"little\",\"shape\":[19]},\"calc_Sm/Nd\":{\"__ndarray__\":\"MQisHFpkyz9zaJHtfD/FPxfZzvdT48U/z/dT46WbxD+6SQwCK4fGP2ZmZmZmZsY/XrpJDAIrxz/P91PjpZvEPx+F61G4HsU/bxKDwMqhxT8fhetRuB7FP1YOLbKd78c//tR46SYxyD8CK4cW2c7HP0Jg5dAi28k/ppvEILByyD+R7Xw/NV7KP9nO91Pjpcs/qMZLN4lBwD8=\",\"dtype\":\"float64\",\"order\":\"little\",\"shape\":[19]},\"calc_t2_143Nd/144Nd\":{\"__ndarray__\":\"mWTkLOxp4D8niLoPQGrgP19GsdzSauA/mDRG66hq4D8niLoPQGrgP9DyPLg7a+A/7ZklAWpq4D9FL6NYbmngP+/Jw0KtaeA/J4i6D0Bq4D+ZZOQs7GngP9Ei2/l+auA/mDRG66hq4D/tmSUBamrgP+/Jw0KtaeA/lgSoqWVr4D9Bn8iTpGvgP5g0RuuoauA/YHZPHhZq4D8=\",\"dtype\":\"float64\",\"order\":\"little\",\"shape\":[19]},\"calc_t2_87Sr/86Sr\":{\"__ndarray__\":\"N6YnLPGA5j/cgM8PI4TmP/63kh0bgeY/MxZNZyeD5j9uNIC3QILmP240gLdAguY/SZ2AJsKG5j/ACYUIOITmP00tW+uLhOY/wAmFCDiE5j9RvTWwVYLmP1Lt0/GYgeY/b2Qe+YOB5j+GG/D5YYTmP0c9RKM7iOY/xcn9DkWB5j/HKTqSy3/mP4XrUbgeheY/Ksb5m1CI5j8=\",\"dtype\":\"float64\",\"order\":\"little\",\"shape\":[19]},\"diff_143Nd/144Nd\":{\"__ndarray__\":\"vHmqQ26GKz+An3HhQEgmPw/W/znMlyc/8WjjiLX4JD8P1v85zJcnPw/W/znMlyc/D9b/OcyXJz/xaOOItfgkP/Fo44i1+CQ/D9b/OcyXJz/xaOOItfgkP54MjpJX5yg/ngyOklfnKD+eDI6SV+coP7x5qkNuhis/ngyOklfnKD+8eapDboYrP7x5qkNuhis/Q8U4fxMKIT8=\",\"dtype\":\"float64\",\"order\":\"little\",\"shape\":[19]},\"diff_87Sr/86Sr\":{\"__ndarray__\":\"AAAAAAAAAAAtQxzr4jYKP/Fo44i1+OQ+aR1VTRB1/z4AAAAAAAAAAGkdVU0Qdf8+aR1VTRB1/z5pHVVNEHX/PvFo44i1+OQ+8WjjiLX45D7xaOOItfgEP/Fo44i1+PQ+8WjjiLX45D7xaOOItfjkPvFo44i1+OQ+8WjjiLX49D7S+8bXnlkSP/Fo44i1+OQ+A5Xx7zMuPD8=\",\"dtype\":\"float64\",\"order\":\"little\",\"shape\":[19]},\"diff_Rb/Sr\":{\"__ndarray__\":\"+n5qvHSTaD+4HoXrUbiuP/yp8dJNYoA/O99PjZduoj/8qfHSTWJwP9nO91PjpZs/2c73U+Olmz/sUbgeheuhP3sUrkfhenQ/uB6F61G4jj/pJjEIrByqP5zEILByaJE/+n5qvHSTeD97FK5H4Xp0P7pJDAIrh4Y/O99PjZdukj9qvHSTGAS2PzvfT42XboI/rkfhehSu3z8=\",\"dtype\":\"float64\",\"order\":\"little\",\"shape\":[19]},\"diff_Sm/Nd\":{\"__ndarray__\":\"AAAAAAAAwD+iRbbz/dS4P5qZmZmZmbk/qvHSTWIQuD+R7Xw/NV66P+kmMQisHLo/ObTIdr6fuj+q8dJNYhC4P/p+arx0k7g/8tJNYhBYuT/6fmq8dJO4P4GVQ4ts57s/KVyPwvUovD/ZzvdT46W7P2iR7Xw/Nb4/0SLb+X5qvD+4HoXrUbi+P1TjpZvEIMA/46WbxCCwsj8=\",\"dtype\":\"float64\",\"order\":\"little\",\"shape\":[19]},\"epsilon_Nd\":{\"__ndarray__\":\"K/aX3ZOHCkCZu5aQD7oSQNSa5h2naBdAcM6I0t6gFkBR2ht8YfIRQI/C9ShcTxtA/Yf029eBE0AMAiuHFtkFQCv2l92ThwpAUdobfGHyEUBL6gQ0ETYPQP2H9NvXgRNAxSCwcmgRFUCZu5aQD7oSQAwCK4cW2QVA845TdCQXHEC7Jw8LtaYdQGFUUiegSRRAmbuWkA+6EkA=\",\"dtype\":\"float64\",\"order\":\"little\",\"shape\":[19]},\"epsilon_Sr\":{\"__ndarray__\":\"9P3UeOn2OMAN4C2QoEg0wFFrmnec0jjA5fIf0m+PNcBSuB6F67E2wMnlP6TfHjfApU5AE2GjLsDzH9JvX7czwMx/SL993TLA5j+k375uM8BseHqlLEM3wJMYBFYOHTjAkxgEVg4dOMDZX3ZPHiYzwLu4jQbw9ijArthfdk+uOMC94xQdyRU8wAFNhA1P3zHA2V92Tx4mM8A=\",\"dtype\":\"float64\",\"order\":\"little\",\"shape\":[19]},\"index\":[0,1,2,3,4,5,6,7,8,9,10,11,12,13,14,15,16,17,18],\"recalc_143Nd/144Nd\":{\"__ndarray__\":\"tKuQ8pNq4D9fRrHc0mrgP5YEqKlla+A/7GmHvyZr4D9fRrHc0mrgPwexM4XOa+A/JVgczvxq4D+ZZOQs7GngP0P/BBcrauA/X0ax3NJq4D/tmSUBamrgPwnh0cYRa+A/0PI8uDtr4D8lWBzO/GrgPwoRcAhVauA/zsKedvhr4D9c5nRZTGzgP7N78rBQa+A/0SLb+X5q4D8=\",\"dtype\":\"float64\",\"order\":\"little\",\"shape\":[19]},\"recalc_87Sr/86Sr\":{\"__ndarray__\":\"N6YnLPGA5j/59xkXDoTmP/63kh0bgeY/MxZNZyeD5j9uNIC3QILmP240gLdAguY/SZ2AJsKG5j/ACYUIOITmP00tW+uLhOY/wAmFCDiE5j9uNIC3QILmP1Lt0/GYgeY/b2Qe+YOB5j+GG/D5YYTmP0c9RKM7iOY/xcn9DkWB5j/koISZtn/mP4XrUbgeheY/1pC4x9KH5j8=\",\"dtype\":\"float64\",\"order\":\"little\",\"shape\":[19]}},\"selected\":{\"id\":\"2774\"},\"selection_policy\":{\"id\":\"2773\"}},\"id\":\"2759\",\"type\":\"ColumnDataSource\"},{\"attributes\":{},\"id\":\"2792\",\"type\":\"UnionRenderers\"},{\"attributes\":{\"axis\":{\"id\":\"2725\"},\"dimension\":1,\"ticker\":null},\"id\":\"2728\",\"type\":\"Grid\"},{\"attributes\":{\"fill_alpha\":{\"value\":0.1},\"fill_color\":{\"value\":\"blue\"},\"line_alpha\":{\"value\":0.1},\"line_color\":{\"value\":\"#1f77b4\"},\"marker\":{\"value\":\"triangle\"},\"size\":{\"units\":\"screen\",\"value\":10},\"x\":{\"field\":\"1/Nd\"},\"y\":{\"field\":\"calc_t2_143Nd/144Nd\"}},\"id\":\"2779\",\"type\":\"Scatter\"},{\"attributes\":{\"fill_alpha\":{\"value\":0.1},\"fill_color\":{\"value\":\"green\"},\"line_alpha\":{\"value\":0.1},\"line_color\":{\"value\":\"#1f77b4\"},\"size\":{\"units\":\"screen\",\"value\":10},\"x\":{\"field\":\"1/Nd\"},\"y\":{\"field\":\"calc_t2_143Nd/144Nd\"}},\"id\":\"2762\",\"type\":\"Scatter\"},{\"attributes\":{\"axis_label\":\"143Nd/144Nd\",\"formatter\":{\"id\":\"2752\"},\"ticker\":{\"id\":\"2726\"}},\"id\":\"2725\",\"type\":\"LinearAxis\"},{\"attributes\":{},\"id\":\"2726\",\"type\":\"BasicTicker\"},{\"attributes\":{\"bottom_units\":\"screen\",\"fill_alpha\":0.5,\"fill_color\":\"lightgrey\",\"left_units\":\"screen\",\"level\":\"overlay\",\"line_alpha\":1.0,\"line_color\":\"black\",\"line_dash\":[4,4],\"line_width\":2,\"right_units\":\"screen\",\"top_units\":\"screen\"},\"id\":\"2735\",\"type\":\"BoxAnnotation\"},{\"attributes\":{\"data_source\":{\"id\":\"2759\"},\"glyph\":{\"id\":\"2761\"},\"hover_glyph\":null,\"muted_glyph\":null,\"nonselection_glyph\":{\"id\":\"2762\"},\"selection_glyph\":null,\"view\":{\"id\":\"2764\"}},\"id\":\"2763\",\"type\":\"GlyphRenderer\"},{\"attributes\":{},\"id\":\"2774\",\"type\":\"Selection\"},{\"attributes\":{\"data\":{\"x\":[0.011834319526627219,0.14641288433382138],\"y\":[0.51263,0.51263]},\"selected\":{\"id\":\"2756\"},\"selection_policy\":{\"id\":\"2755\"}},\"id\":\"2744\",\"type\":\"ColumnDataSource\"},{\"attributes\":{\"source\":{\"id\":\"2776\"}},\"id\":\"2781\",\"type\":\"CDSView\"},{\"attributes\":{\"overlay\":{\"id\":\"2735\"}},\"id\":\"2730\",\"type\":\"BoxZoomTool\"},{\"attributes\":{},\"id\":\"2731\",\"type\":\"CrosshairTool\"},{\"attributes\":{\"source\":{\"id\":\"2744\"}},\"id\":\"2748\",\"type\":\"CDSView\"},{\"attributes\":{\"label\":{\"value\":\"Greenland/Baffin Basalts\"},\"renderers\":[{\"id\":\"2763\"}]},\"id\":\"2775\",\"type\":\"LegendItem\"},{\"attributes\":{},\"id\":\"2722\",\"type\":\"BasicTicker\"},{\"attributes\":{},\"id\":\"2750\",\"type\":\"BasicTickFormatter\"},{\"attributes\":{},\"id\":\"2729\",\"type\":\"PanTool\"},{\"attributes\":{\"data_source\":{\"id\":\"2744\"},\"glyph\":{\"id\":\"2745\"},\"hover_glyph\":null,\"muted_glyph\":null,\"nonselection_glyph\":{\"id\":\"2746\"},\"selection_glyph\":null,\"view\":{\"id\":\"2748\"}},\"id\":\"2747\",\"type\":\"GlyphRenderer\"},{\"attributes\":{},\"id\":\"2734\",\"type\":\"SaveTool\"},{\"attributes\":{\"callback\":null},\"id\":\"2732\",\"type\":\"HoverTool\"},{\"attributes\":{\"axis_label\":\"1/Nd\",\"formatter\":{\"id\":\"2750\"},\"ticker\":{\"id\":\"2722\"}},\"id\":\"2721\",\"type\":\"LinearAxis\"},{\"attributes\":{\"fill_alpha\":{\"value\":0.6},\"fill_color\":{\"value\":\"green\"},\"line_color\":{\"value\":\"#1f77b4\"},\"size\":{\"units\":\"screen\",\"value\":10},\"x\":{\"field\":\"1/Nd\"},\"y\":{\"field\":\"calc_t2_143Nd/144Nd\"}},\"id\":\"2761\",\"type\":\"Scatter\"},{\"attributes\":{},\"id\":\"2773\",\"type\":\"UnionRenderers\"},{\"attributes\":{\"click_policy\":\"hide\",\"items\":[{\"id\":\"2758\"},{\"id\":\"2775\"},{\"id\":\"2794\"}],\"location\":\"bottom_right\"},\"id\":\"2757\",\"type\":\"Legend\"},{\"attributes\":{},\"id\":\"2793\",\"type\":\"Selection\"},{\"attributes\":{},\"id\":\"2752\",\"type\":\"BasicTickFormatter\"},{\"attributes\":{},\"id\":\"2733\",\"type\":\"ResetTool\"},{\"attributes\":{\"label\":{\"value\":\"Scotland Basalts\"},\"renderers\":[{\"id\":\"2780\"}]},\"id\":\"2794\",\"type\":\"LegendItem\"},{\"attributes\":{\"end\":0.51314,\"start\":0.51151},\"id\":\"2715\",\"type\":\"Range1d\"},{\"attributes\":{},\"id\":\"2755\",\"type\":\"UnionRenderers\"},{\"attributes\":{},\"id\":\"2719\",\"type\":\"LinearScale\"},{\"attributes\":{\"data\":{\"1/Nd\":{\"__ndarray__\":\"q6qqqqqqqj+tt6AMq/WmP4GEn1yIuqk/HMIhHMIhrD8d1EEd1EGtP8F4K/scUqM/jBgxYsSIoT8U7BPsE+yTP1uE/DU7arE/ZyAqHdkzsD8X3CoX3CqnP7ZAvZOhR5A/nhLkKUGeoj+tt6AMq/WmP92+snqXPIg/oeRO0cIZsD95DeU1lNewP2BrWuDXmpY/\",\"dtype\":\"float64\",\"order\":\"little\",\"shape\":[18]},\"1/Sr\":{\"__ndarray__\":\"jf5BxfA0Zz9wgQtc4AJnP6AsgU37yWI/5xXQuFvnZT/72WJl+EZkPxHw/hDw/mA/klcBNB95VT+Khvjj1uVNP9C6wRT5rGs/wFoBawWsZT8aW/yjLCddP6534wu7XGk/vxArSuMjYz8kRzSNDj9hPym0GjuGyVY/cUJKnmVEbz8CoeRO0cJpP9uBuXZgrp0/\",\"dtype\":\"float64\",\"order\":\"little\",\"shape\":[18]},\"143Nd/144Nd\":{\"__ndarray__\":\"Su8bX3tm4D+gVPt0PGbgP0rvG197ZuA/EjElkuhl4D9tVn2utmLgPw/R6A5iZ+A/mWTkLOxp4D8J4dHGEWvgP9OCF30FaeA/RC+jWG5p4D/FG5lH/mDgP8mrcwzIXuA/2nIuxVVl4D+gVPt0PGbgPzpY/+cwX+A/gH106spn4D9pxqLp7GTgPwTKplzhXeA/\",\"dtype\":\"float64\",\"order\":\"little\",\"shape\":[18]},\"87Sr/86Sr\":{\"__ndarray__\":\"NBZNZyeD5j8Wb2Qe+YPmP/onuFhRg+Y/g4sVNZiG5j8wthDkoITmPzCGcqJdheY/VU0QdR+A5j93hNOCF33mP4qryr4rguY/OdbFbTSA5j+s4o3MI3/mPxb2tMNfk+Y/JzYf14aK5j+qglFJnYDmP2LboswGmeY/dqvnpPeN5j9YBP9byY7mP5OumXyzzeY/\",\"dtype\":\"float64\",\"order\":\"little\",\"shape\":[18]},\"Location\":[\"Skye\",\"Skye\",\"Skye\",\"Skye\",\"Skye\",\"Skye\",\"Mull\",\"Mull\",\"Mull\",\"Mull\",\"Mull\",\"Muck\",\"Muck\",\"Muck\",\"Eigg\",\"Eigg\",\"Eigg\",\"Eigg\"],\"Nd\":{\"__ndarray__\":\"MzMzMzMzM0DNzMzMzEw2QGZmZmZm5jNAMzMzMzMzMkAAAAAAAIAxQAAAAAAAgDpAMzMzMzMzPUAzMzMzM7NJQGZmZmZmZi1AmpmZmZmZL0CamZmZmRk2QDMzMzMzc09AAAAAAACAO0DNzMzMzEw2QAAAAAAAIFVAzczMzMzML0BmZmZmZmYuQGZmZmZmpkZA\",\"dtype\":\"float64\",\"order\":\"little\",\"shape\":[18]},\"NdError\":{\"__ndarray__\":\"8WjjiLX49D5qHVVNEHX/PvFo44i1+PQ+ah1VTRB1/z7xaOOItfj0PvFo44i1+PQ+8WjjiLX49D7xaOOItfj0PvFo44i1+PQ+8WjjiLX49D7xaOOItfj0PvFo44i1+PQ+ah1VTRB1/z5qHVVNEHX/PvFo44i1+PQ+8WjjiLX49D7xaOOItfj0PvFo44i1+PQ+\",\"dtype\":\"float64\",\"order\":\"little\",\"shape\":[18]},\"Rb\":{\"__ndarray__\":\"7FG4HoXrHkBmZmZmZmYgQHE9CtejcBBAmpmZmZmZGkDsUbgehesUQClcj8L1KBlAhetRuB6FEUCPwvUoXI8hQGZmZmZmZiJAXI/C9ShcC0DhehSuR+EYQGZmZmZm5klAzczMzMzMFUCuR+F6FK4LQM3MzMzMzEtAw/UoXI/CEkB7FK5H4XogQGZmZmZm5ldA\",\"dtype\":\"float64\",\"order\":\"little\",\"shape\":[18]},\"Region\":[\"Northwest Scotland\",\"Northwest Scotland\",\"Northwest Scotland\",\"Northwest Scotland\",\"Northwest Scotland\",\"Northwest Scotland\",\"Northwest Scotland\",\"Northwest Scotland\",\"Northwest Scotland\",\"Northwest Scotland\",\"Northwest Scotland\",\"Northwest Scotland\",\"Northwest Scotland\",\"Northwest Scotland\",\"Northwest Scotland\",\"Northwest Scotland\",\"Northwest Scotland\",\"Northwest Scotland\"],\"Rock Type\":[\"Basalt\",\"Basalt\",\"Basalt\",\"Basalt\",\"Basalt\",\"Basalt\",\"Basalt\",\"Basalt\",\"Basalt\",\"Basalt\",\"Basalt\",\"Basalt\",\"Basalt\",\"Basalt\",\"Basalt\",\"Basalt\",\"Basalt\",\"Felsite\"],\"Sample\":[\"P1\",\"P2\",\"P3\",\"P4\",\"P5\",\"P6\",\"ML1\",\"ML3\",\"ML4\",\"ML5\",\"ML6\",\"M9\",\"M11\",\"M17\",\"E3\",\"E7\",\"E10\",\"E26\"],\"Sm\":{\"__ndarray__\":\"w/UoXI/CEkCuR+F6FK4RQFyPwvUoXBNA16NwPQrXEUBcj8L1KFwPQNejcD0K1xZAAAAAAAAAHkAAAAAAAAAmQNejcD0K1w9AhetRuB6FEkCamZmZmZkTQDMzMzMzMyhAuB6F61G4HkAzMzMzMzMSQJqZmZmZmSxA16NwPQrXEUDD9Shcj8INQFK4HoXr0SBA\",\"dtype\":\"float64\",\"order\":\"little\",\"shape\":[18]},\"Sr\":{\"__ndarray__\":\"AAAAAAAQdkAAAAAAAEB2QAAAAAAAQHtAAAAAAABgd0AAAAAAAEB5QAAAAAAAIH5AAAAAAADYh0AAAAAAACCRQAAAAAAAgHJAAAAAAACgd0AAAAAAAJCBQAAAAAAAMHRAAAAAAADAekAAAAAAALB9QAAAAAAAeIZAAAAAAABgcEAAAAAAAOBzQAAAAAAAQEFA\",\"dtype\":\"float64\",\"order\":\"little\",\"shape\":[18]},\"SrError\":{\"__ndarray__\":\"LUMc6+I2Cj/xaOOItfgEPy1DHOviNgo/LUMc6+I2Cj/xaOOItfgEP2odVU0QdQ8/8WjjiLX4BD/xaOOItfgEP/Fo44i1+AQ/LUMc6+I2Cj/xaOOItfgEP/Fo44i1+AQ/8WjjiLX4BD9qHVVNEHUPP/Fo44i1+AQ/LUMc6+I2Cj/xaOOItfgEP2odVU0QdQ8/\",\"dtype\":\"float64\",\"order\":\"little\",\"shape\":[18]},\"calc_144Nd\":{\"__ndarray__\":\"/Y912WJyEUDng5mEZ0MUQDYf6sUzFRJAVZ3WWVyJEEAVWNPkhM0PQGANTfsqFBhA2HaQKDKJGkBvLOMvcVsnQGUA6MJWtwpAH4IPM4a3DEARtHqckBUUQI/ECmHEkCxAG/2Jet77GEDDc/Fa4kMUQNP7ZMs6LzNAcC8l9j/jDEA1jKFsg50LQJGFgDwliiRA\",\"dtype\":\"float64\",\"order\":\"little\",\"shape\":[18]},\"calc_147Sm\":{\"__ndarray__\":\"UWRImDH95T/PW4EAILnkP+6hYV47seY/HEq7myLp5D8ZOS1s/2DiP+OgjQ50xeo/VgR3WPSU8T/UfZ1fZsn5P4seBFUDqeI/3n5xry215T9ghzhHP/nmP2kK+jWKXfw/gVy5NfoA8j9Gov14KFXlP8qRWfHowgBAHEq7myLp5D+ekQtk8nDhP/f6Kf4Rt/M/\",\"dtype\":\"float64\",\"order\":\"little\",\"shape\":[18]},\"calc_86Sr\":{\"__ndarray__\":\"2lb7vMpaP0AucH6B754/QDUPN/cLXUNAKEA5Jv6bQEC+BZgnKfFBQIE07DDqZ0VA8YEzYpHxUEBvyRGR11ZYQAn5rO7ASjpABUxZFMXJQEDmmwZv4fVIQME1HGNSrzxAf0c5/rQBQ0Bby+7InBhFQPguFiCi7E9AeG0WEttEN0DEZVIJAz48QJNwSxjHfghA\",\"dtype\":\"float64\",\"order\":\"little\",\"shape\":[18]},\"calc_87Rb\":{\"__ndarray__\":\"tSg2ek0ntz9/Lf3lsY+4P2h/rt8Hn6g/x+HOzirrsz/kVEIdpVSvP3cfV0Af17I/3iJiNRk9qj/GdBMvb0y6P80sn6p8jrs/4mvjktt8pD/LgGpWcqGyPxlV/4X6ZOM/aa8/SQRTsD+Cs6h5M7qkP16uMnA00eQ/9g3bcYIYrD9Q0V/ZXa64P3JVriOV5fE/\",\"dtype\":\"float64\",\"order\":\"little\",\"shape\":[18]},\"calc_Rb/Sr\":{\"__ndarray__\":\"+n5qvHSTaD/6fmq8dJNoP/yp8dJNYlA//Knx0k1iYD/8qfHSTWJgP/yp8dJNYmA//Knx0k1iUD/8qfHSTWJQP/yp8dJNYnA//Knx0k1iUD/8qfHSTWJQPxsv3SQGgZU//Knx0k1iYD/8qfHSTWJQP3sUrkfheoQ//Knx0k1iYD/6fmq8dJNoP7TIdr6fGtc/\",\"dtype\":\"float64\",\"order\":\"little\",\"shape\":[18]},\"calc_Sm/Nd\":{\"__ndarray__\":\"g8DKoUW2wz8AAAAAAADAP4PAyqFFtsM/16NwPQrXwz+TGARWDi3CP5zEILByaME/I9v5fmq8xD9I4XoUrkfBPxfZzvdT48U/rkfhehSuxz/sUbgehevBPwisHFpkO78/ukkMAiuHxj9QjZduEoPAPzEIrBxaZLs/Di2yne+nxj/Xo3A9CtfDP2iR7Xw/Nb4/\",\"dtype\":\"float64\",\"order\":\"little\",\"shape\":[18]},\"calc_t2_143Nd/144Nd\":{\"__ndarray__\":\"niRdM/lm4D8RAYdQpWbgP54kXTP5ZuA/ZmZmZmZm4D/Bi76CNGPgP4B9dOrKZ+A/7ZklAWpq4D96jV2iemvgPwtBDkqYaeA/fO2ZJQFq4D82yCQjZ2HgPzpY/+cwX+A/EjElkuhl4D8RAYdQpWbgP8h71cqEX+A/uDtrt11o4D+9++O9amXgP3V2MjhKXuA/\",\"dtype\":\"float64\",\"order\":\"little\",\"shape\":[18]},\"calc_t2_87Sr/86Sr\":{\"__ndarray__\":\"MxZNZyeD5j8Vb2Qe+YPmP/onuFhRg+Y/gosVNZiG5j8xthDkoITmPy+GcqJdheY/VU0QdR+A5j93hNOCF33mP4qryr4rguY/OdbFbTSA5j+s4o3MI3/mP90HILWJk+Y/JjYf14aK5j+qglFJnYDmP0VkWMUbmeY/davnpPeN5j9XBP9byY7mPxxClZo90OY/\",\"dtype\":\"float64\",\"order\":\"little\",\"shape\":[18]},\"epsilon_Nd\":{\"__ndarray__\":\"taZ5xym6AsDUmuYdp2gHwLWmeccpugLAuycPC7WmDcBwzojS3qAmwH6MuWsJ+ci/1JrmHadoF0DtDb4wmSohQLsnDwu1pg1AmbuWkA+6EkA17zhFR9IuwMx/SL99rTTAYVRSJ6BJFMDUmuYdp2gHwBb7y+7JszPAnDOitDf46D8cfGEyVTAYwIlBYOXQ0jbA\",\"dtype\":\"float64\",\"order\":\"little\",\"shape\":[18]},\"epsilon_Sr\":{\"__ndarray__\":\"NIC3QIIiNcDzH9JvX7czwCegibDh2TTAXynLEMdaLsCGWtO845QywK5H4XoUTjHANV66SQxiOsA2PL1SlqE/wLwFEhQ/1jbAyxDHurg9OsC94xQdyRU8wD55WKg1zRtAlIeFWtO8IMAOvjCZKog5wJSHhVrTvDBAJ8KGp1dKA8BLWYY41sXvv0aU9gZf/FpA\",\"dtype\":\"float64\",\"order\":\"little\",\"shape\":[18]},\"index\":[0,1,2,3,4,5,6,7,8,9,10,11,12,13,14,15,16,17]},\"selected\":{\"id\":\"2793\"},\"selection_policy\":{\"id\":\"2792\"}},\"id\":\"2776\",\"type\":\"ColumnDataSource\"},{\"attributes\":{\"source\":{\"id\":\"2759\"}},\"id\":\"2764\",\"type\":\"CDSView\"},{\"attributes\":{\"data_source\":{\"id\":\"2776\"},\"glyph\":{\"id\":\"2778\"},\"hover_glyph\":null,\"muted_glyph\":null,\"nonselection_glyph\":{\"id\":\"2779\"},\"selection_glyph\":null,\"view\":{\"id\":\"2781\"}},\"id\":\"2780\",\"type\":\"GlyphRenderer\"},{\"attributes\":{},\"id\":\"2756\",\"type\":\"Selection\"},{\"attributes\":{},\"id\":\"2717\",\"type\":\"LinearScale\"},{\"attributes\":{\"line_alpha\":0.1,\"line_color\":\"grey\",\"x\":{\"field\":\"x\"},\"y\":{\"field\":\"y\"}},\"id\":\"2746\",\"type\":\"Line\"}],\"root_ids\":[\"2710\"]},\"title\":\"Bokeh Application\",\"version\":\"2.2.3\"}};\n",
       "  var render_items = [{\"docid\":\"383263bc-18fd-42e7-ada5-daf74856f0fa\",\"root_ids\":[\"2710\"],\"roots\":{\"2710\":\"1c8510a2-17d5-4931-84e7-579c46e1acce\"}}];\n",
       "  root.Bokeh.embed.embed_items_notebook(docs_json, render_items);\n",
       "\n",
       "  }\n",
       "  if (root.Bokeh !== undefined) {\n",
       "    embed_document(root);\n",
       "  } else {\n",
       "    var attempts = 0;\n",
       "    var timer = setInterval(function(root) {\n",
       "      if (root.Bokeh !== undefined) {\n",
       "        clearInterval(timer);\n",
       "        embed_document(root);\n",
       "      } else {\n",
       "        attempts++;\n",
       "        if (attempts > 100) {\n",
       "          clearInterval(timer);\n",
       "          console.log(\"Bokeh: ERROR: Unable to run BokehJS code because BokehJS library is missing\");\n",
       "        }\n",
       "      }\n",
       "    }, 10, root)\n",
       "  }\n",
       "})(window);"
      ],
      "application/vnd.bokehjs_exec.v0+json": ""
     },
     "metadata": {
      "application/vnd.bokehjs_exec.v0+json": {
       "id": "2710"
      }
     },
     "output_type": "display_data"
    }
   ],
   "source": [
    "show(figure8)"
   ]
  },
  {
   "cell_type": "markdown",
   "metadata": {
    "slideshow": {
     "slide_type": "notes"
    }
   },
   "source": [
    "And finally I plotted 143Nd/144Nd to to inverse of Nd. And... this is just a mess.  At least showing there is no real correlation here... maybe. A final, final point I think is important to note is that scale matters when looking for correlations.  Note the y-axis range is larger in this plot.  If for example I changed the y-axis range to 0-1, we'd get this..."
   ]
  },
  {
   "cell_type": "code",
   "execution_count": 61,
   "metadata": {
    "slideshow": {
     "slide_type": "skip"
    }
   },
   "outputs": [],
   "source": [
    "#xmin = 0\n",
    "xmin = min(carter_df['1/Nd'].append(carter_df2['1/Nd']))\n",
    "xmax = max(carter_df['1/Nd'].append(carter_df2['1/Nd']))\n",
    "ymin = 0\n",
    "ymax = 1\n",
    "\n",
    "figure9 = gc.get_figure(\"Mixing Plot???\",\n",
    "                        \"1/Nd\",\n",
    "                        \"143Nd/144Nd\",\n",
    "                        [xmin,xmax],\n",
    "                        [ymin,ymax],\n",
    "                       )\n",
    "\n",
    "figure9.scatter('1/Nd','calc_t2_143Nd/144Nd',\n",
    "                source=carter_df,fill_alpha=0.6,\n",
    "                fill_color='green',\n",
    "                size=10,\n",
    "                marker=\"circle\",\n",
    "                legend_label='Greenland/Baffin Basalts')\n",
    "\n",
    "figure9.scatter('1/Nd','calc_t2_143Nd/144Nd',\n",
    "                source=carter_df2,fill_alpha=0.6,\n",
    "                fill_color='blue',\n",
    "                size=10,\n",
    "                marker=\"triangle\",\n",
    "                legend_label='Scotland Basalts')\n",
    "\n",
    "figure9.legend.click_policy=\"hide\""
   ]
  },
  {
   "cell_type": "code",
   "execution_count": 62,
   "metadata": {
    "slideshow": {
     "slide_type": "subslide"
    }
   },
   "outputs": [
    {
     "data": {
      "text/html": [
       "\n",
       "\n",
       "\n",
       "\n",
       "\n",
       "\n",
       "  <div class=\"bk-root\" id=\"1811bdce-adb2-4127-8c9c-595ccba67421\" data-root-id=\"2971\"></div>\n"
      ]
     },
     "metadata": {},
     "output_type": "display_data"
    },
    {
     "data": {
      "application/javascript": [
       "(function(root) {\n",
       "  function embed_document(root) {\n",
       "    \n",
       "  var docs_json = {\"9973b724-09ed-4be2-8093-b7751dad9ae0\":{\"roots\":{\"references\":[{\"attributes\":{\"below\":[{\"id\":\"2982\"}],\"center\":[{\"id\":\"2985\"},{\"id\":\"2989\"},{\"id\":\"3019\"}],\"left\":[{\"id\":\"2986\"}],\"plot_height\":500,\"plot_width\":700,\"renderers\":[{\"id\":\"3009\"},{\"id\":\"3025\"}],\"title\":{\"id\":\"2972\"},\"toolbar\":{\"id\":\"2997\"},\"toolbar_location\":\"left\",\"toolbar_sticky\":false,\"x_range\":{\"id\":\"2974\"},\"x_scale\":{\"id\":\"2978\"},\"y_range\":{\"id\":\"2976\"},\"y_scale\":{\"id\":\"2980\"}},\"id\":\"2971\",\"subtype\":\"Figure\",\"type\":\"Plot\"},{\"attributes\":{},\"id\":\"3018\",\"type\":\"Selection\"},{\"attributes\":{},\"id\":\"2990\",\"type\":\"PanTool\"},{\"attributes\":{},\"id\":\"2992\",\"type\":\"CrosshairTool\"},{\"attributes\":{},\"id\":\"3017\",\"type\":\"UnionRenderers\"},{\"attributes\":{\"callback\":null},\"id\":\"2993\",\"type\":\"HoverTool\"},{\"attributes\":{},\"id\":\"3014\",\"type\":\"BasicTickFormatter\"},{\"attributes\":{},\"id\":\"2994\",\"type\":\"ResetTool\"},{\"attributes\":{\"data\":{\"1/Nd\":{\"__ndarray__\":\"FbycgpdTwD8ZidVw8UOoP5KmDwqrW6Y/KfEzSvyMoj/6TFvj7+axP3kN5TWU17A/HdRBHdRBrT+x5pXquXejP3sUrkfheqQ/ShvvqGb9qT/w1LUc3OynP2uWGJ8y7aw/ERERERERwT8sofZKqL3CP6d71EwAA74/BPNJLpQ5vD+Tg8xLieDBP+Fu7HtETrA/FOwT7BPskz8=\",\"dtype\":\"float64\",\"order\":\"little\",\"shape\":[19]},\"1/Sr\":{\"__ndarray__\":\"dMBuj7UMbT+nEGgKgaaAP3TlAck6V24/iob449blbT8V+OLqBx1lP1cQkyuIyXU/DcaaEQh5Zz+Kfx4j8pJtP5ByU9E8oWY/EBAQEBAQcD872rxPcclwP78QK0rjI3M/AAAAAAAAgD8CS3r50xZqP3FCSp5lRH8/kJzma/XsgD90wG6PtQx9PxOwiBKwiHI/aC+hvYT2gj8=\",\"dtype\":\"float64\",\"order\":\"little\",\"shape\":[19]},\"143Nd/144Nd\":{\"__ndarray__\":\"DXGsi9to4D9EL6NYbmngP5lk5CzsaeA/tdsuNNdp4D9hpu1fWWngPwoRcAhVauA/KLhYUYNp4D9i1ouhnGjgPw1xrIvbaOA/YabtX1lp4D+3C811GmngPyi4WFGDaeA/78nDQq1p4D9EL6NYbmngP2LWi6GcaOA/7ZklAWpq4D+1q5Dyk2rgPwtBDkqYaeA/RC+jWG5p4D8=\",\"dtype\":\"float64\",\"order\":\"little\",\"shape\":[19]},\"87Sr/86Sr\":{\"__ndarray__\":\"N6YnLPGA5j+IS447pYPmPxsv3SQGgeY/iXssfeiC5j9uNIC3QILmP8OZX80BguY/nwJgPIOG5j8Wb2Qe+YPmP2qkpfJ2hOY/3IDPDyOE5j/gEKrU7IHmP4zbaABvgeY/jNtoAG+B5j+jkjoBTYTmP2O0jqomiOY//reSHRuB5j+s4o3MI3/mP6FinL8JheY/o5I6AU2E5j8=\",\"dtype\":\"float64\",\"order\":\"little\",\"shape\":[19]},\"Location\":[\"Torshavn\",\"Torshavn\",\"Torshavn\",\"Suduroy\",\"Suduroy\",\"Vestmanna\",\"Mikis Fjord\",\"Nansens Fjord\",\"Nansens Fjord\",\"Wiedemans Fjord\",\"Wiedemans Fjord\",\"Scoresbysund\",\"Cape Dyer\",\"Cape Dyer\",\"Cape Dyer\",\"Svartenhuk\",\"Svartenhuk\",\"Svartenhuk\",\"Svartenhuk\"],\"Nd\":{\"__ndarray__\":\"XI/C9ShcH0CamZmZmRk1QGZmZmZm5jZAmpmZmZmZO0CamZmZmZksQGZmZmZmZi5AAAAAAACAMUDNzMzMzEw6QAAAAAAAADlAMzMzMzOzM0BmZmZmZmY1QDMzMzMzszFAAAAAAAAAHkBSuB6F61EbQI/C9ShcDyFApHA9CtcjIkCkcD0K16McQGZmZmZmZi9AMzMzMzOzSUA=\",\"dtype\":\"float64\",\"order\":\"little\",\"shape\":[19]},\"NdError\":{\"__ndarray__\":\"8WjjiLX49D5oHVVNEHX/PvFo44i1+PQ+8WjjiLX49D5oHVVNEHX/PmgdVU0Qdf8+aB1VTRB1/z5oHVVNEHX/PvFo44i1+PQ+aB1VTRB1/z7xaOOItfj0PvFo44i1+PQ+aB1VTRB1/z5oHVVNEHX/PmgdVU0Qdf8+aB1VTRB1/z5oHVVNEHX/PmgdVU0Qdf8+8WjjiLX49D4=\",\"dtype\":\"float64\",\"order\":\"little\",\"shape\":[19]},\"Rb\":{\"__ndarray__\":\"CtejcD0K8z8K16NwPQoiQD0K16NwPQRAMzMzMzMzJkDsUbgehev9P4/C9ShcjxdAZmZmZmZmJUAAAAAAAAAmQD0K16NwPQRAH4XrUbgeEUAzMzMzMzMqQGZmZmZmZhFA16NwPQrX6z9cj8L1KFz/P3sUrkfhevw/exSuR+F6BEAAAAAAAAAsQArXo3A9CgFAAAAAAAAAT0A=\",\"dtype\":\"float64\",\"order\":\"little\",\"shape\":[19]},\"Rb/Sr\":{\"__ndarray__\":\"/Knx0k1icD/sUbgeheuxPzzfT42XboI/yqFFtvP9pD97FK5H4Xp0P1g5tMh2vp8/WDm0yHa+nz97FK5H4XqkP/p+arx0k3g/nMQgsHJokT8YBFYOLbKtP3sUrkfhepQ/eOkmMQisfD/6fmq8dJN4Pzq0yHa+n4o/Gy/dJAaBlT/y0k1iEFi5P3sUrkfheoQ/PQrXo3A94j8=\",\"dtype\":\"float64\",\"order\":\"little\",\"shape\":[19]},\"Region\":[\"Faeroes\",\"Faeroes\",\"Faeroes\",\"Faeroes\",\"Faeroes\",\"Faeroes\",\"East Greenland\",\"East Greenland\",\"East Greenland\",\"East Greenland\",\"East Greenland\",\"East Greenland\",\"Baffin and Svartenhuk\",\"Baffin and Svartenhuk\",\"Baffin and Svartenhuk\",\"Baffin and Svartenhuk\",\"Baffin and Svartenhuk\",\"Baffin and Svartenhuk\",\"Baffin and Svartenhuk\"],\"Sample\":[\"Fo07\",\"Fo19\",\"Fo23\",\"Fo34\",\"Fo41\",\"Fo52\",\"MM20333\",\"CKB7147\",\"CKB7148\",\"EG7207\",\"EG7203\",\"EG7126\",\"B18\",\"B22\",\"B36\",\"S8\",\"S16\",\"S32\",\"S41 (trachyte)\"],\"Sm\":{\"__ndarray__\":\"SOF6FK5HBUApXI/C9SgWQM3MzMzMzBhAKVyPwvUoHEDsUbgehesPQNejcD0K1xBAAAAAAAAAFEDNzMzMzMwaQBSuR+F6FBpAH4XrUbgeFUBcj8L1KFwWQPYoXI/C9RRA7FG4HoXrAUAUrkfhehQAQNejcD0K1wVA7FG4HoXrBUC4HoXrUbgCQHsUrkfhehVAmpmZmZmZJEA=\",\"dtype\":\"float64\",\"order\":\"little\",\"shape\":[19]},\"Sm/Nd\":{\"__ndarray__\":\"GARWDi2y1T+iRbbz/dTQP/LSTWIQWNE/UrgehetR0D9BYOXQItvRP+18PzVeutE/PQrXo3A90j9SuB6F61HQP05iEFg5tNA/9P3UeOkm0T9OYhBYObTQP4xs5/up8dI/iUFg5dAi0z83iUFg5dDSP3sUrkfhetQ/hxbZzvdT0z93vp8aL93UPxfZzvdT49U/mpmZmZmZyT8=\",\"dtype\":\"float64\",\"order\":\"little\",\"shape\":[19]},\"Sr\":[282,123,270,274,388,188,349,277,362,255,244,214,128,314,131,121,141,221,108],\"SrError\":{\"__ndarray__\":\"aB1VTRB1/z4tQxzr4jYKP/Fo44i1+AQ/LUMc6+I2Cj/xaOOItfgEP/Fo44i1+AQ/8WjjiLX4BD8tQxzr4jYKPy1DHOviNgo/LUMc6+I2Cj/xaOOItfgEP/Fo44i1+BQ/8WjjiLX4BD/xaOOItfgEP/Fo44i1+AQ/8WjjiLX4BD/xaOOItfgEP/Fo44i1+AQ/8WjjiLX4BD8=\",\"dtype\":\"float64\",\"order\":\"little\",\"shape\":[19]},\"calc_144Nd\":{\"__ndarray__\":\"rlUdrop//D/9sWxIPSwTQJZ3YntlzxRA/f6YGG4UGUAHhFUtOP0JQIhotBr0nwtAH088qArND0Ds8irO1uUXQEseVEhitxZAub4vWpDmEUBMZtKXRXITQFg8Fk+gFRBAie0SEAtD+z//YgSJFNP4P9+KkMUHAP8/H/DO+gV8AEDmFlzA+Qb6P7TLsMEBiAxAZZ4hKZhZJ0A=\",\"dtype\":\"float64\",\"order\":\"little\",\"shape\":[19]},\"calc_147Sm\":{\"__ndarray__\":\"fs0YpVrx2D8gbNf6aPnpPwZIE/yTEe0/IerpW+WA8D8fmtL7A7XiP8A4kVESveM/HltJy0Vx5z+9ameQtGnvP2a64tWoke4/Mt/eCVjB6D//1d88bDXqP+bwpG5Vkeg/QkFY6SMB1T/XDD7wBdnSP4iPY8Rjmdk/roYAEmWx2T+96HnxMPHVP103IeddLek/u5hikU8l+D8=\",\"dtype\":\"float64\",\"order\":\"little\",\"shape\":[19]},\"calc_86Sr\":{\"__ndarray__\":\"iFi9XX4MOUAr3/JurtklQKQstkqc+zdAD+COgG1WOED89olMXjtBQGEMJC3vsjBAEfaQ5oX/PkBksS4Okpo4QNTMiluoE0BAsedos1KmNkD9islgUKw1QFoQD/8uAjNAh1KX8zu9JkDeEnwM4uM7QPWYGfw6RSdAbFB2eOZ+JUAHMqgEkwwpQOHNWeQpoTNAPxnbz0wvI0A=\",\"dtype\":\"float64\",\"order\":\"little\",\"shape\":[19]},\"calc_87Rb\":{\"__ndarray__\":\"TUu0RdyDjD+mS2PjdgS7P3vke4jvT54/8Ui2KbKfwD/hqA3JmmeWP1i5fL5npLE/4RXJaFYGwD8t/Ho5W3nAP3vke4jvT54/z+90dL2jqT8/SFjufJ7DPyYtTkgXD6o/UlcLbd/YhD8wa4VXpnuXP5LmlTqPU5U/7M+jYvOrnj8i+21gi/fEP/9LEoERhZk/nHrnc6M25z8=\",\"dtype\":\"float64\",\"order\":\"little\",\"shape\":[19]},\"calc_Rb/Sr\":{\"__ndarray__\":\"/Knx0k1iUD97FK5H4XqEP/yp8dJNYlA/exSuR+F6dD/8qfHSTWJQP/yp8dJNYnA//Knx0k1icD97FK5H4Xp0P/yp8dJNYlA//Knx0k1iYD956SYxCKx8P/p+arx0k2g//Knx0k1iUD/8qfHSTWJQP/yp8dJNYmA/+n5qvHSTaD85tMh2vp+KP/yp8dJNYlA/MzMzMzMzsz8=\",\"dtype\":\"float64\",\"order\":\"little\",\"shape\":[19]},\"calc_Sm/Nd\":{\"__ndarray__\":\"MQisHFpkyz9zaJHtfD/FPxfZzvdT48U/z/dT46WbxD+6SQwCK4fGP2ZmZmZmZsY/XrpJDAIrxz/P91PjpZvEPx+F61G4HsU/bxKDwMqhxT8fhetRuB7FP1YOLbKd78c//tR46SYxyD8CK4cW2c7HP0Jg5dAi28k/ppvEILByyD+R7Xw/NV7KP9nO91Pjpcs/qMZLN4lBwD8=\",\"dtype\":\"float64\",\"order\":\"little\",\"shape\":[19]},\"calc_t2_143Nd/144Nd\":{\"__ndarray__\":\"mWTkLOxp4D8niLoPQGrgP19GsdzSauA/mDRG66hq4D8niLoPQGrgP9DyPLg7a+A/7ZklAWpq4D9FL6NYbmngP+/Jw0KtaeA/J4i6D0Bq4D+ZZOQs7GngP9Ei2/l+auA/mDRG66hq4D/tmSUBamrgP+/Jw0KtaeA/lgSoqWVr4D9Bn8iTpGvgP5g0RuuoauA/YHZPHhZq4D8=\",\"dtype\":\"float64\",\"order\":\"little\",\"shape\":[19]},\"calc_t2_87Sr/86Sr\":{\"__ndarray__\":\"N6YnLPGA5j/cgM8PI4TmP/63kh0bgeY/MxZNZyeD5j9uNIC3QILmP240gLdAguY/SZ2AJsKG5j/ACYUIOITmP00tW+uLhOY/wAmFCDiE5j9RvTWwVYLmP1Lt0/GYgeY/b2Qe+YOB5j+GG/D5YYTmP0c9RKM7iOY/xcn9DkWB5j/HKTqSy3/mP4XrUbgeheY/Ksb5m1CI5j8=\",\"dtype\":\"float64\",\"order\":\"little\",\"shape\":[19]},\"diff_143Nd/144Nd\":{\"__ndarray__\":\"vHmqQ26GKz+An3HhQEgmPw/W/znMlyc/8WjjiLX4JD8P1v85zJcnPw/W/znMlyc/D9b/OcyXJz/xaOOItfgkP/Fo44i1+CQ/D9b/OcyXJz/xaOOItfgkP54MjpJX5yg/ngyOklfnKD+eDI6SV+coP7x5qkNuhis/ngyOklfnKD+8eapDboYrP7x5qkNuhis/Q8U4fxMKIT8=\",\"dtype\":\"float64\",\"order\":\"little\",\"shape\":[19]},\"diff_87Sr/86Sr\":{\"__ndarray__\":\"AAAAAAAAAAAtQxzr4jYKP/Fo44i1+OQ+aR1VTRB1/z4AAAAAAAAAAGkdVU0Qdf8+aR1VTRB1/z5pHVVNEHX/PvFo44i1+OQ+8WjjiLX45D7xaOOItfgEP/Fo44i1+PQ+8WjjiLX45D7xaOOItfjkPvFo44i1+OQ+8WjjiLX49D7S+8bXnlkSP/Fo44i1+OQ+A5Xx7zMuPD8=\",\"dtype\":\"float64\",\"order\":\"little\",\"shape\":[19]},\"diff_Rb/Sr\":{\"__ndarray__\":\"+n5qvHSTaD+4HoXrUbiuP/yp8dJNYoA/O99PjZduoj/8qfHSTWJwP9nO91PjpZs/2c73U+Olmz/sUbgeheuhP3sUrkfhenQ/uB6F61G4jj/pJjEIrByqP5zEILByaJE/+n5qvHSTeD97FK5H4Xp0P7pJDAIrh4Y/O99PjZdukj9qvHSTGAS2PzvfT42XboI/rkfhehSu3z8=\",\"dtype\":\"float64\",\"order\":\"little\",\"shape\":[19]},\"diff_Sm/Nd\":{\"__ndarray__\":\"AAAAAAAAwD+iRbbz/dS4P5qZmZmZmbk/qvHSTWIQuD+R7Xw/NV66P+kmMQisHLo/ObTIdr6fuj+q8dJNYhC4P/p+arx0k7g/8tJNYhBYuT/6fmq8dJO4P4GVQ4ts57s/KVyPwvUovD/ZzvdT46W7P2iR7Xw/Nb4/0SLb+X5qvD+4HoXrUbi+P1TjpZvEIMA/46WbxCCwsj8=\",\"dtype\":\"float64\",\"order\":\"little\",\"shape\":[19]},\"epsilon_Nd\":{\"__ndarray__\":\"K/aX3ZOHCkCZu5aQD7oSQNSa5h2naBdAcM6I0t6gFkBR2ht8YfIRQI/C9ShcTxtA/Yf029eBE0AMAiuHFtkFQCv2l92ThwpAUdobfGHyEUBL6gQ0ETYPQP2H9NvXgRNAxSCwcmgRFUCZu5aQD7oSQAwCK4cW2QVA845TdCQXHEC7Jw8LtaYdQGFUUiegSRRAmbuWkA+6EkA=\",\"dtype\":\"float64\",\"order\":\"little\",\"shape\":[19]},\"epsilon_Sr\":{\"__ndarray__\":\"9P3UeOn2OMAN4C2QoEg0wFFrmnec0jjA5fIf0m+PNcBSuB6F67E2wMnlP6TfHjfApU5AE2GjLsDzH9JvX7czwMx/SL993TLA5j+k375uM8BseHqlLEM3wJMYBFYOHTjAkxgEVg4dOMDZX3ZPHiYzwLu4jQbw9ijArthfdk+uOMC94xQdyRU8wAFNhA1P3zHA2V92Tx4mM8A=\",\"dtype\":\"float64\",\"order\":\"little\",\"shape\":[19]},\"index\":[0,1,2,3,4,5,6,7,8,9,10,11,12,13,14,15,16,17,18],\"recalc_143Nd/144Nd\":{\"__ndarray__\":\"tKuQ8pNq4D9fRrHc0mrgP5YEqKlla+A/7GmHvyZr4D9fRrHc0mrgPwexM4XOa+A/JVgczvxq4D+ZZOQs7GngP0P/BBcrauA/X0ax3NJq4D/tmSUBamrgPwnh0cYRa+A/0PI8uDtr4D8lWBzO/GrgPwoRcAhVauA/zsKedvhr4D9c5nRZTGzgP7N78rBQa+A/0SLb+X5q4D8=\",\"dtype\":\"float64\",\"order\":\"little\",\"shape\":[19]},\"recalc_87Sr/86Sr\":{\"__ndarray__\":\"N6YnLPGA5j/59xkXDoTmP/63kh0bgeY/MxZNZyeD5j9uNIC3QILmP240gLdAguY/SZ2AJsKG5j/ACYUIOITmP00tW+uLhOY/wAmFCDiE5j9uNIC3QILmP1Lt0/GYgeY/b2Qe+YOB5j+GG/D5YYTmP0c9RKM7iOY/xcn9DkWB5j/koISZtn/mP4XrUbgeheY/1pC4x9KH5j8=\",\"dtype\":\"float64\",\"order\":\"little\",\"shape\":[19]}},\"selected\":{\"id\":\"3018\"},\"selection_policy\":{\"id\":\"3017\"}},\"id\":\"3005\",\"type\":\"ColumnDataSource\"},{\"attributes\":{},\"id\":\"2987\",\"type\":\"BasicTicker\"},{\"attributes\":{},\"id\":\"2995\",\"type\":\"SaveTool\"},{\"attributes\":{},\"id\":\"2983\",\"type\":\"BasicTicker\"},{\"attributes\":{\"data\":{\"1/Nd\":{\"__ndarray__\":\"q6qqqqqqqj+tt6AMq/WmP4GEn1yIuqk/HMIhHMIhrD8d1EEd1EGtP8F4K/scUqM/jBgxYsSIoT8U7BPsE+yTP1uE/DU7arE/ZyAqHdkzsD8X3CoX3CqnP7ZAvZOhR5A/nhLkKUGeoj+tt6AMq/WmP92+snqXPIg/oeRO0cIZsD95DeU1lNewP2BrWuDXmpY/\",\"dtype\":\"float64\",\"order\":\"little\",\"shape\":[18]},\"1/Sr\":{\"__ndarray__\":\"jf5BxfA0Zz9wgQtc4AJnP6AsgU37yWI/5xXQuFvnZT/72WJl+EZkPxHw/hDw/mA/klcBNB95VT+Khvjj1uVNP9C6wRT5rGs/wFoBawWsZT8aW/yjLCddP6534wu7XGk/vxArSuMjYz8kRzSNDj9hPym0GjuGyVY/cUJKnmVEbz8CoeRO0cJpP9uBuXZgrp0/\",\"dtype\":\"float64\",\"order\":\"little\",\"shape\":[18]},\"143Nd/144Nd\":{\"__ndarray__\":\"Su8bX3tm4D+gVPt0PGbgP0rvG197ZuA/EjElkuhl4D9tVn2utmLgPw/R6A5iZ+A/mWTkLOxp4D8J4dHGEWvgP9OCF30FaeA/RC+jWG5p4D/FG5lH/mDgP8mrcwzIXuA/2nIuxVVl4D+gVPt0PGbgPzpY/+cwX+A/gH106spn4D9pxqLp7GTgPwTKplzhXeA/\",\"dtype\":\"float64\",\"order\":\"little\",\"shape\":[18]},\"87Sr/86Sr\":{\"__ndarray__\":\"NBZNZyeD5j8Wb2Qe+YPmP/onuFhRg+Y/g4sVNZiG5j8wthDkoITmPzCGcqJdheY/VU0QdR+A5j93hNOCF33mP4qryr4rguY/OdbFbTSA5j+s4o3MI3/mPxb2tMNfk+Y/JzYf14aK5j+qglFJnYDmP2LboswGmeY/dqvnpPeN5j9YBP9byY7mP5OumXyzzeY/\",\"dtype\":\"float64\",\"order\":\"little\",\"shape\":[18]},\"Location\":[\"Skye\",\"Skye\",\"Skye\",\"Skye\",\"Skye\",\"Skye\",\"Mull\",\"Mull\",\"Mull\",\"Mull\",\"Mull\",\"Muck\",\"Muck\",\"Muck\",\"Eigg\",\"Eigg\",\"Eigg\",\"Eigg\"],\"Nd\":{\"__ndarray__\":\"MzMzMzMzM0DNzMzMzEw2QGZmZmZm5jNAMzMzMzMzMkAAAAAAAIAxQAAAAAAAgDpAMzMzMzMzPUAzMzMzM7NJQGZmZmZmZi1AmpmZmZmZL0CamZmZmRk2QDMzMzMzc09AAAAAAACAO0DNzMzMzEw2QAAAAAAAIFVAzczMzMzML0BmZmZmZmYuQGZmZmZmpkZA\",\"dtype\":\"float64\",\"order\":\"little\",\"shape\":[18]},\"NdError\":{\"__ndarray__\":\"8WjjiLX49D5qHVVNEHX/PvFo44i1+PQ+ah1VTRB1/z7xaOOItfj0PvFo44i1+PQ+8WjjiLX49D7xaOOItfj0PvFo44i1+PQ+8WjjiLX49D7xaOOItfj0PvFo44i1+PQ+ah1VTRB1/z5qHVVNEHX/PvFo44i1+PQ+8WjjiLX49D7xaOOItfj0PvFo44i1+PQ+\",\"dtype\":\"float64\",\"order\":\"little\",\"shape\":[18]},\"Rb\":{\"__ndarray__\":\"7FG4HoXrHkBmZmZmZmYgQHE9CtejcBBAmpmZmZmZGkDsUbgehesUQClcj8L1KBlAhetRuB6FEUCPwvUoXI8hQGZmZmZmZiJAXI/C9ShcC0DhehSuR+EYQGZmZmZm5klAzczMzMzMFUCuR+F6FK4LQM3MzMzMzEtAw/UoXI/CEkB7FK5H4XogQGZmZmZm5ldA\",\"dtype\":\"float64\",\"order\":\"little\",\"shape\":[18]},\"Region\":[\"Northwest Scotland\",\"Northwest Scotland\",\"Northwest Scotland\",\"Northwest Scotland\",\"Northwest Scotland\",\"Northwest Scotland\",\"Northwest Scotland\",\"Northwest Scotland\",\"Northwest Scotland\",\"Northwest Scotland\",\"Northwest Scotland\",\"Northwest Scotland\",\"Northwest Scotland\",\"Northwest Scotland\",\"Northwest Scotland\",\"Northwest Scotland\",\"Northwest Scotland\",\"Northwest Scotland\"],\"Rock Type\":[\"Basalt\",\"Basalt\",\"Basalt\",\"Basalt\",\"Basalt\",\"Basalt\",\"Basalt\",\"Basalt\",\"Basalt\",\"Basalt\",\"Basalt\",\"Basalt\",\"Basalt\",\"Basalt\",\"Basalt\",\"Basalt\",\"Basalt\",\"Felsite\"],\"Sample\":[\"P1\",\"P2\",\"P3\",\"P4\",\"P5\",\"P6\",\"ML1\",\"ML3\",\"ML4\",\"ML5\",\"ML6\",\"M9\",\"M11\",\"M17\",\"E3\",\"E7\",\"E10\",\"E26\"],\"Sm\":{\"__ndarray__\":\"w/UoXI/CEkCuR+F6FK4RQFyPwvUoXBNA16NwPQrXEUBcj8L1KFwPQNejcD0K1xZAAAAAAAAAHkAAAAAAAAAmQNejcD0K1w9AhetRuB6FEkCamZmZmZkTQDMzMzMzMyhAuB6F61G4HkAzMzMzMzMSQJqZmZmZmSxA16NwPQrXEUDD9Shcj8INQFK4HoXr0SBA\",\"dtype\":\"float64\",\"order\":\"little\",\"shape\":[18]},\"Sr\":{\"__ndarray__\":\"AAAAAAAQdkAAAAAAAEB2QAAAAAAAQHtAAAAAAABgd0AAAAAAAEB5QAAAAAAAIH5AAAAAAADYh0AAAAAAACCRQAAAAAAAgHJAAAAAAACgd0AAAAAAAJCBQAAAAAAAMHRAAAAAAADAekAAAAAAALB9QAAAAAAAeIZAAAAAAABgcEAAAAAAAOBzQAAAAAAAQEFA\",\"dtype\":\"float64\",\"order\":\"little\",\"shape\":[18]},\"SrError\":{\"__ndarray__\":\"LUMc6+I2Cj/xaOOItfgEPy1DHOviNgo/LUMc6+I2Cj/xaOOItfgEP2odVU0QdQ8/8WjjiLX4BD/xaOOItfgEP/Fo44i1+AQ/LUMc6+I2Cj/xaOOItfgEP/Fo44i1+AQ/8WjjiLX4BD9qHVVNEHUPP/Fo44i1+AQ/LUMc6+I2Cj/xaOOItfgEP2odVU0QdQ8/\",\"dtype\":\"float64\",\"order\":\"little\",\"shape\":[18]},\"calc_144Nd\":{\"__ndarray__\":\"/Y912WJyEUDng5mEZ0MUQDYf6sUzFRJAVZ3WWVyJEEAVWNPkhM0PQGANTfsqFBhA2HaQKDKJGkBvLOMvcVsnQGUA6MJWtwpAH4IPM4a3DEARtHqckBUUQI/ECmHEkCxAG/2Jet77GEDDc/Fa4kMUQNP7ZMs6LzNAcC8l9j/jDEA1jKFsg50LQJGFgDwliiRA\",\"dtype\":\"float64\",\"order\":\"little\",\"shape\":[18]},\"calc_147Sm\":{\"__ndarray__\":\"UWRImDH95T/PW4EAILnkP+6hYV47seY/HEq7myLp5D8ZOS1s/2DiP+OgjQ50xeo/VgR3WPSU8T/UfZ1fZsn5P4seBFUDqeI/3n5xry215T9ghzhHP/nmP2kK+jWKXfw/gVy5NfoA8j9Gov14KFXlP8qRWfHowgBAHEq7myLp5D+ekQtk8nDhP/f6Kf4Rt/M/\",\"dtype\":\"float64\",\"order\":\"little\",\"shape\":[18]},\"calc_86Sr\":{\"__ndarray__\":\"2lb7vMpaP0AucH6B754/QDUPN/cLXUNAKEA5Jv6bQEC+BZgnKfFBQIE07DDqZ0VA8YEzYpHxUEBvyRGR11ZYQAn5rO7ASjpABUxZFMXJQEDmmwZv4fVIQME1HGNSrzxAf0c5/rQBQ0Bby+7InBhFQPguFiCi7E9AeG0WEttEN0DEZVIJAz48QJNwSxjHfghA\",\"dtype\":\"float64\",\"order\":\"little\",\"shape\":[18]},\"calc_87Rb\":{\"__ndarray__\":\"tSg2ek0ntz9/Lf3lsY+4P2h/rt8Hn6g/x+HOzirrsz/kVEIdpVSvP3cfV0Af17I/3iJiNRk9qj/GdBMvb0y6P80sn6p8jrs/4mvjktt8pD/LgGpWcqGyPxlV/4X6ZOM/aa8/SQRTsD+Cs6h5M7qkP16uMnA00eQ/9g3bcYIYrD9Q0V/ZXa64P3JVriOV5fE/\",\"dtype\":\"float64\",\"order\":\"little\",\"shape\":[18]},\"calc_Rb/Sr\":{\"__ndarray__\":\"+n5qvHSTaD/6fmq8dJNoP/yp8dJNYlA//Knx0k1iYD/8qfHSTWJgP/yp8dJNYmA//Knx0k1iUD/8qfHSTWJQP/yp8dJNYnA//Knx0k1iUD/8qfHSTWJQPxsv3SQGgZU//Knx0k1iYD/8qfHSTWJQP3sUrkfheoQ//Knx0k1iYD/6fmq8dJNoP7TIdr6fGtc/\",\"dtype\":\"float64\",\"order\":\"little\",\"shape\":[18]},\"calc_Sm/Nd\":{\"__ndarray__\":\"g8DKoUW2wz8AAAAAAADAP4PAyqFFtsM/16NwPQrXwz+TGARWDi3CP5zEILByaME/I9v5fmq8xD9I4XoUrkfBPxfZzvdT48U/rkfhehSuxz/sUbgehevBPwisHFpkO78/ukkMAiuHxj9QjZduEoPAPzEIrBxaZLs/Di2yne+nxj/Xo3A9CtfDP2iR7Xw/Nb4/\",\"dtype\":\"float64\",\"order\":\"little\",\"shape\":[18]},\"calc_t2_143Nd/144Nd\":{\"__ndarray__\":\"niRdM/lm4D8RAYdQpWbgP54kXTP5ZuA/ZmZmZmZm4D/Bi76CNGPgP4B9dOrKZ+A/7ZklAWpq4D96jV2iemvgPwtBDkqYaeA/fO2ZJQFq4D82yCQjZ2HgPzpY/+cwX+A/EjElkuhl4D8RAYdQpWbgP8h71cqEX+A/uDtrt11o4D+9++O9amXgP3V2MjhKXuA/\",\"dtype\":\"float64\",\"order\":\"little\",\"shape\":[18]},\"calc_t2_87Sr/86Sr\":{\"__ndarray__\":\"MxZNZyeD5j8Vb2Qe+YPmP/onuFhRg+Y/gosVNZiG5j8xthDkoITmPy+GcqJdheY/VU0QdR+A5j93hNOCF33mP4qryr4rguY/OdbFbTSA5j+s4o3MI3/mP90HILWJk+Y/JjYf14aK5j+qglFJnYDmP0VkWMUbmeY/davnpPeN5j9XBP9byY7mPxxClZo90OY/\",\"dtype\":\"float64\",\"order\":\"little\",\"shape\":[18]},\"epsilon_Nd\":{\"__ndarray__\":\"taZ5xym6AsDUmuYdp2gHwLWmeccpugLAuycPC7WmDcBwzojS3qAmwH6MuWsJ+ci/1JrmHadoF0DtDb4wmSohQLsnDwu1pg1AmbuWkA+6EkA17zhFR9IuwMx/SL99rTTAYVRSJ6BJFMDUmuYdp2gHwBb7y+7JszPAnDOitDf46D8cfGEyVTAYwIlBYOXQ0jbA\",\"dtype\":\"float64\",\"order\":\"little\",\"shape\":[18]},\"epsilon_Sr\":{\"__ndarray__\":\"NIC3QIIiNcDzH9JvX7czwCegibDh2TTAXynLEMdaLsCGWtO845QywK5H4XoUTjHANV66SQxiOsA2PL1SlqE/wLwFEhQ/1jbAyxDHurg9OsC94xQdyRU8wD55WKg1zRtAlIeFWtO8IMAOvjCZKog5wJSHhVrTvDBAJ8KGp1dKA8BLWYY41sXvv0aU9gZf/FpA\",\"dtype\":\"float64\",\"order\":\"little\",\"shape\":[18]},\"index\":[0,1,2,3,4,5,6,7,8,9,10,11,12,13,14,15,16,17]},\"selected\":{\"id\":\"3036\"},\"selection_policy\":{\"id\":\"3035\"}},\"id\":\"3021\",\"type\":\"ColumnDataSource\"},{\"attributes\":{\"source\":{\"id\":\"3005\"}},\"id\":\"3010\",\"type\":\"CDSView\"},{\"attributes\":{\"active_drag\":\"auto\",\"active_inspect\":\"auto\",\"active_multi\":null,\"active_scroll\":\"auto\",\"active_tap\":\"auto\",\"logo\":null,\"tools\":[{\"id\":\"2990\"},{\"id\":\"2991\"},{\"id\":\"2992\"},{\"id\":\"2993\"},{\"id\":\"2994\"},{\"id\":\"2995\"}]},\"id\":\"2997\",\"type\":\"Toolbar\"},{\"attributes\":{\"bottom_units\":\"screen\",\"fill_alpha\":0.5,\"fill_color\":\"lightgrey\",\"left_units\":\"screen\",\"level\":\"overlay\",\"line_alpha\":1.0,\"line_color\":\"black\",\"line_dash\":[4,4],\"line_width\":2,\"right_units\":\"screen\",\"top_units\":\"screen\"},\"id\":\"2996\",\"type\":\"BoxAnnotation\"},{\"attributes\":{\"fill_alpha\":{\"value\":0.1},\"fill_color\":{\"value\":\"green\"},\"line_alpha\":{\"value\":0.1},\"line_color\":{\"value\":\"#1f77b4\"},\"size\":{\"units\":\"screen\",\"value\":10},\"x\":{\"field\":\"1/Nd\"},\"y\":{\"field\":\"calc_t2_143Nd/144Nd\"}},\"id\":\"3008\",\"type\":\"Scatter\"},{\"attributes\":{},\"id\":\"3012\",\"type\":\"BasicTickFormatter\"},{\"attributes\":{\"data_source\":{\"id\":\"3005\"},\"glyph\":{\"id\":\"3007\"},\"hover_glyph\":null,\"muted_glyph\":null,\"nonselection_glyph\":{\"id\":\"3008\"},\"selection_glyph\":null,\"view\":{\"id\":\"3010\"}},\"id\":\"3009\",\"type\":\"GlyphRenderer\"},{\"attributes\":{\"axis\":{\"id\":\"2982\"},\"ticker\":null},\"id\":\"2985\",\"type\":\"Grid\"},{\"attributes\":{\"axis_label\":\"1/Nd\",\"formatter\":{\"id\":\"3012\"},\"ticker\":{\"id\":\"2983\"}},\"id\":\"2982\",\"type\":\"LinearAxis\"},{\"attributes\":{},\"id\":\"2978\",\"type\":\"LinearScale\"},{\"attributes\":{},\"id\":\"2980\",\"type\":\"LinearScale\"},{\"attributes\":{\"fill_alpha\":{\"value\":0.6},\"fill_color\":{\"value\":\"green\"},\"line_color\":{\"value\":\"#1f77b4\"},\"size\":{\"units\":\"screen\",\"value\":10},\"x\":{\"field\":\"1/Nd\"},\"y\":{\"field\":\"calc_t2_143Nd/144Nd\"}},\"id\":\"3007\",\"type\":\"Scatter\"},{\"attributes\":{\"label\":{\"value\":\"Scotland Basalts\"},\"renderers\":[{\"id\":\"3025\"}]},\"id\":\"3037\",\"type\":\"LegendItem\"},{\"attributes\":{\"align\":\"center\",\"text\":\"Mixing Plot???\",\"text_font_size\":{\"value\":\"25px\"}},\"id\":\"2972\",\"type\":\"Title\"},{\"attributes\":{\"axis_label\":\"143Nd/144Nd\",\"formatter\":{\"id\":\"3014\"},\"ticker\":{\"id\":\"2987\"}},\"id\":\"2986\",\"type\":\"LinearAxis\"},{\"attributes\":{\"overlay\":{\"id\":\"2996\"}},\"id\":\"2991\",\"type\":\"BoxZoomTool\"},{\"attributes\":{},\"id\":\"3036\",\"type\":\"Selection\"},{\"attributes\":{\"fill_alpha\":{\"value\":0.1},\"fill_color\":{\"value\":\"blue\"},\"line_alpha\":{\"value\":0.1},\"line_color\":{\"value\":\"#1f77b4\"},\"marker\":{\"value\":\"triangle\"},\"size\":{\"units\":\"screen\",\"value\":10},\"x\":{\"field\":\"1/Nd\"},\"y\":{\"field\":\"calc_t2_143Nd/144Nd\"}},\"id\":\"3024\",\"type\":\"Scatter\"},{\"attributes\":{\"end\":0.14641288433382138,\"start\":0.011834319526627219},\"id\":\"2974\",\"type\":\"Range1d\"},{\"attributes\":{\"axis\":{\"id\":\"2986\"},\"dimension\":1,\"ticker\":null},\"id\":\"2989\",\"type\":\"Grid\"},{\"attributes\":{},\"id\":\"2976\",\"type\":\"Range1d\"},{\"attributes\":{},\"id\":\"3035\",\"type\":\"UnionRenderers\"},{\"attributes\":{\"fill_alpha\":{\"value\":0.6},\"fill_color\":{\"value\":\"blue\"},\"line_color\":{\"value\":\"#1f77b4\"},\"marker\":{\"value\":\"triangle\"},\"size\":{\"units\":\"screen\",\"value\":10},\"x\":{\"field\":\"1/Nd\"},\"y\":{\"field\":\"calc_t2_143Nd/144Nd\"}},\"id\":\"3023\",\"type\":\"Scatter\"},{\"attributes\":{\"source\":{\"id\":\"3021\"}},\"id\":\"3026\",\"type\":\"CDSView\"},{\"attributes\":{\"label\":{\"value\":\"Greenland/Baffin Basalts\"},\"renderers\":[{\"id\":\"3009\"}]},\"id\":\"3020\",\"type\":\"LegendItem\"},{\"attributes\":{\"data_source\":{\"id\":\"3021\"},\"glyph\":{\"id\":\"3023\"},\"hover_glyph\":null,\"muted_glyph\":null,\"nonselection_glyph\":{\"id\":\"3024\"},\"selection_glyph\":null,\"view\":{\"id\":\"3026\"}},\"id\":\"3025\",\"type\":\"GlyphRenderer\"},{\"attributes\":{\"click_policy\":\"hide\",\"items\":[{\"id\":\"3020\"},{\"id\":\"3037\"}]},\"id\":\"3019\",\"type\":\"Legend\"}],\"root_ids\":[\"2971\"]},\"title\":\"Bokeh Application\",\"version\":\"2.2.3\"}};\n",
       "  var render_items = [{\"docid\":\"9973b724-09ed-4be2-8093-b7751dad9ae0\",\"root_ids\":[\"2971\"],\"roots\":{\"2971\":\"1811bdce-adb2-4127-8c9c-595ccba67421\"}}];\n",
       "  root.Bokeh.embed.embed_items_notebook(docs_json, render_items);\n",
       "\n",
       "  }\n",
       "  if (root.Bokeh !== undefined) {\n",
       "    embed_document(root);\n",
       "  } else {\n",
       "    var attempts = 0;\n",
       "    var timer = setInterval(function(root) {\n",
       "      if (root.Bokeh !== undefined) {\n",
       "        clearInterval(timer);\n",
       "        embed_document(root);\n",
       "      } else {\n",
       "        attempts++;\n",
       "        if (attempts > 100) {\n",
       "          clearInterval(timer);\n",
       "          console.log(\"Bokeh: ERROR: Unable to run BokehJS code because BokehJS library is missing\");\n",
       "        }\n",
       "      }\n",
       "    }, 10, root)\n",
       "  }\n",
       "})(window);"
      ],
      "application/vnd.bokehjs_exec.v0+json": ""
     },
     "metadata": {
      "application/vnd.bokehjs_exec.v0+json": {
       "id": "2971"
      }
     },
     "output_type": "display_data"
    }
   ],
   "source": [
    "show(figure9)"
   ]
  },
  {
   "cell_type": "markdown",
   "metadata": {
    "slideshow": {
     "slide_type": "fragment"
    }
   },
   "source": [
    "Look at the awesome correlation!"
   ]
  },
  {
   "cell_type": "code",
   "execution_count": 63,
   "metadata": {
    "slideshow": {
     "slide_type": "skip"
    }
   },
   "outputs": [],
   "source": [
    "#xmin = 0\n",
    "xmin = min(carter_df['calc_Rb/Sr'].append(carter_df2['calc_Rb/Sr']))\n",
    "xmax = max(carter_df['calc_Rb/Sr'].append(carter_df2['calc_Rb/Sr']))\n",
    "ymin = min(carter_df['calc_t2_87Sr/86Sr'].append(carter_df2['calc_t2_87Sr/86Sr']))\n",
    "ymax = max(carter_df['calc_t2_87Sr/86Sr'].append(carter_df2['calc_t2_87Sr/86Sr']))\n",
    "gl_initial = np.mean(carter_df['87Sr/86Sr'])\n",
    "sl_initial = np.mean(carter_df2['87Sr/86Sr'])\n",
    "\n",
    "slope = np.exp(decay_const_Rb1977*t1*1000000) - 1\n",
    "figure10 = gc.get_figure(\"Rb/Sr Isochron\",\n",
    "                        \"87Rb/86Sr\",\n",
    "                        \"87Sr/86Sr\",\n",
    "                        [xmin,xmax],\n",
    "                        [ymin,ymax],\n",
    "                       )\n",
    "\n",
    "t_text = \" t = {} Ma \".format(t1)\n",
    "i1_text = \" Greenland 87Sr/86Sr initial = {} \".format(round(gl_initial,4))\n",
    "i2_text = \" Scotland 87Sr/86Sr initial = {} \".format(round(sl_initial,4))\n",
    "t_label = Label(x=0.025, y=0.5135, text=t_text, border_line_color='black', border_line_alpha=1.0,\n",
    "                 background_fill_color='white', background_fill_alpha=1.0)\n",
    "i1_label = Label(x=0.025, y=0.5134, text=i1_text, border_line_color='black', border_line_alpha=1.0,\n",
    "                 background_fill_color='white', background_fill_alpha=1.0)\n",
    "i2_label = Label(x=0.025, y=0.5133, text=i2_text, border_line_color='black', border_line_alpha=1.0,\n",
    "                 background_fill_color='white', background_fill_alpha=1.0)\n",
    "\n",
    "figure10.add_layout(t_label)\n",
    "figure10.add_layout(i1_label)\n",
    "figure10.add_layout(i2_label)\n",
    "\n",
    "reg_line = Slope(gradient=slope, y_intercept=gl_initial, line_color=\"red\", line_dash=\"dashed\")\n",
    "figure10.add_layout(reg_line)\n",
    "\n",
    "figure10.line([xmin,xmax],[gl_initial,gl_initial],\n",
    "            line_width=1,\n",
    "            color=\"green\",\n",
    "            legend_label='Mean initial ratio @ 60 Ma (Greenland)')\n",
    "\n",
    "figure10.line([xmin,xmax],[sl_initial,sl_initial],\n",
    "            line_width=1,\n",
    "            color=\"blue\",\n",
    "            legend_label='Mean initial ratio @ 60 Ma (Scotland)')\n",
    "\n",
    "figure10.line([xmin,xmax],[Sr_CHUR_1977,Sr_CHUR_1977],\n",
    "            line_width=1,\n",
    "            color=\"grey\",\n",
    "            legend_label='Sr CHUR initial')\n",
    "\n",
    "figure10.scatter('calc_Rb/Sr','calc_t2_87Sr/86Sr',\n",
    "                source=carter_df,fill_alpha=0.6,\n",
    "                fill_color='green',\n",
    "                size=10,\n",
    "                marker=\"circle\",\n",
    "                legend_label='Greenland Samples')\n",
    "\n",
    "figure10.scatter('calc_Rb/Sr','calc_t2_87Sr/86Sr',\n",
    "                source=carter_df2,fill_alpha=0.6,\n",
    "                fill_color='blue',\n",
    "                size=10,\n",
    "                marker=\"triangle\",\n",
    "                legend_label='Northwest Scotland Samples')\n",
    "\n",
    "figure10.legend.click_policy=\"hide\""
   ]
  },
  {
   "cell_type": "code",
   "execution_count": 64,
   "metadata": {
    "slideshow": {
     "slide_type": "subslide"
    }
   },
   "outputs": [
    {
     "data": {
      "text/html": [
       "\n",
       "\n",
       "\n",
       "\n",
       "\n",
       "\n",
       "  <div class=\"bk-root\" id=\"36159e2a-f153-4b01-ae6d-e613ab899a3c\" data-root-id=\"3214\"></div>\n"
      ]
     },
     "metadata": {},
     "output_type": "display_data"
    },
    {
     "data": {
      "application/javascript": [
       "(function(root) {\n",
       "  function embed_document(root) {\n",
       "    \n",
       "  var docs_json = {\"039998d4-9111-42a3-82f9-962f2af246b9\":{\"roots\":{\"references\":[{\"attributes\":{\"below\":[{\"id\":\"3225\"}],\"center\":[{\"id\":\"3228\"},{\"id\":\"3232\"},{\"id\":\"3248\"},{\"id\":\"3249\"},{\"id\":\"3250\"},{\"id\":\"3251\"},{\"id\":\"3265\"}],\"left\":[{\"id\":\"3229\"}],\"plot_height\":500,\"plot_width\":700,\"renderers\":[{\"id\":\"3255\"},{\"id\":\"3270\"},{\"id\":\"3286\"},{\"id\":\"3305\"},{\"id\":\"3326\"}],\"title\":{\"id\":\"3215\"},\"toolbar\":{\"id\":\"3240\"},\"toolbar_location\":\"left\",\"toolbar_sticky\":false,\"x_range\":{\"id\":\"3217\"},\"x_scale\":{\"id\":\"3221\"},\"y_range\":{\"id\":\"3219\"},\"y_scale\":{\"id\":\"3223\"}},\"id\":\"3214\",\"subtype\":\"Figure\",\"type\":\"Plot\"},{\"attributes\":{\"axis\":{\"id\":\"3225\"},\"ticker\":null},\"id\":\"3228\",\"type\":\"Grid\"},{\"attributes\":{},\"id\":\"3258\",\"type\":\"BasicTickFormatter\"},{\"attributes\":{\"axis_label\":\"87Sr/86Sr\",\"formatter\":{\"id\":\"3260\"},\"ticker\":{\"id\":\"3230\"}},\"id\":\"3229\",\"type\":\"LinearAxis\"},{\"attributes\":{\"line_color\":\"grey\",\"x\":{\"field\":\"x\"},\"y\":{\"field\":\"y\"}},\"id\":\"3284\",\"type\":\"Line\"},{\"attributes\":{\"data_source\":{\"id\":\"3252\"},\"glyph\":{\"id\":\"3253\"},\"hover_glyph\":null,\"muted_glyph\":null,\"nonselection_glyph\":{\"id\":\"3254\"},\"selection_glyph\":null,\"view\":{\"id\":\"3256\"}},\"id\":\"3255\",\"type\":\"GlyphRenderer\"},{\"attributes\":{},\"id\":\"3342\",\"type\":\"UnionRenderers\"},{\"attributes\":{},\"id\":\"3343\",\"type\":\"Selection\"},{\"attributes\":{\"data_source\":{\"id\":\"3283\"},\"glyph\":{\"id\":\"3284\"},\"hover_glyph\":null,\"muted_glyph\":null,\"nonselection_glyph\":{\"id\":\"3285\"},\"selection_glyph\":null,\"view\":{\"id\":\"3287\"}},\"id\":\"3286\",\"type\":\"GlyphRenderer\"},{\"attributes\":{},\"id\":\"3230\",\"type\":\"BasicTicker\"},{\"attributes\":{\"source\":{\"id\":\"3252\"}},\"id\":\"3256\",\"type\":\"CDSView\"},{\"attributes\":{\"label\":{\"value\":\"Northwest Scotland Samples\"},\"renderers\":[{\"id\":\"3326\"}]},\"id\":\"3344\",\"type\":\"LegendItem\"},{\"attributes\":{\"axis\":{\"id\":\"3229\"},\"dimension\":1,\"ticker\":null},\"id\":\"3232\",\"type\":\"Grid\"},{\"attributes\":{\"source\":{\"id\":\"3283\"}},\"id\":\"3287\",\"type\":\"CDSView\"},{\"attributes\":{\"line_alpha\":0.1,\"line_color\":\"green\",\"x\":{\"field\":\"x\"},\"y\":{\"field\":\"y\"}},\"id\":\"3254\",\"type\":\"Line\"},{\"attributes\":{},\"id\":\"3299\",\"type\":\"Selection\"},{\"attributes\":{},\"id\":\"3260\",\"type\":\"BasicTickFormatter\"},{\"attributes\":{\"background_fill_color\":\"white\",\"border_line_color\":\"black\",\"text\":\" Scotland 87Sr/86Sr initial = 0.7044 \",\"x\":0.025,\"y\":0.5133},\"id\":\"3250\",\"type\":\"Label\"},{\"attributes\":{\"label\":{\"value\":\"Sr CHUR initial\"},\"renderers\":[{\"id\":\"3286\"}]},\"id\":\"3300\",\"type\":\"LegendItem\"},{\"attributes\":{},\"id\":\"3263\",\"type\":\"UnionRenderers\"},{\"attributes\":{\"background_fill_color\":\"white\",\"border_line_color\":\"black\",\"text\":\" Greenland 87Sr/86Sr initial = 0.7035 \",\"x\":0.025,\"y\":0.5134},\"id\":\"3249\",\"type\":\"Label\"},{\"attributes\":{\"data\":{\"1/Nd\":{\"__ndarray__\":\"q6qqqqqqqj+tt6AMq/WmP4GEn1yIuqk/HMIhHMIhrD8d1EEd1EGtP8F4K/scUqM/jBgxYsSIoT8U7BPsE+yTP1uE/DU7arE/ZyAqHdkzsD8X3CoX3CqnP7ZAvZOhR5A/nhLkKUGeoj+tt6AMq/WmP92+snqXPIg/oeRO0cIZsD95DeU1lNewP2BrWuDXmpY/\",\"dtype\":\"float64\",\"order\":\"little\",\"shape\":[18]},\"1/Sr\":{\"__ndarray__\":\"jf5BxfA0Zz9wgQtc4AJnP6AsgU37yWI/5xXQuFvnZT/72WJl+EZkPxHw/hDw/mA/klcBNB95VT+Khvjj1uVNP9C6wRT5rGs/wFoBawWsZT8aW/yjLCddP6534wu7XGk/vxArSuMjYz8kRzSNDj9hPym0GjuGyVY/cUJKnmVEbz8CoeRO0cJpP9uBuXZgrp0/\",\"dtype\":\"float64\",\"order\":\"little\",\"shape\":[18]},\"143Nd/144Nd\":{\"__ndarray__\":\"Su8bX3tm4D+gVPt0PGbgP0rvG197ZuA/EjElkuhl4D9tVn2utmLgPw/R6A5iZ+A/mWTkLOxp4D8J4dHGEWvgP9OCF30FaeA/RC+jWG5p4D/FG5lH/mDgP8mrcwzIXuA/2nIuxVVl4D+gVPt0PGbgPzpY/+cwX+A/gH106spn4D9pxqLp7GTgPwTKplzhXeA/\",\"dtype\":\"float64\",\"order\":\"little\",\"shape\":[18]},\"87Sr/86Sr\":{\"__ndarray__\":\"NBZNZyeD5j8Wb2Qe+YPmP/onuFhRg+Y/g4sVNZiG5j8wthDkoITmPzCGcqJdheY/VU0QdR+A5j93hNOCF33mP4qryr4rguY/OdbFbTSA5j+s4o3MI3/mPxb2tMNfk+Y/JzYf14aK5j+qglFJnYDmP2LboswGmeY/dqvnpPeN5j9YBP9byY7mP5OumXyzzeY/\",\"dtype\":\"float64\",\"order\":\"little\",\"shape\":[18]},\"Location\":[\"Skye\",\"Skye\",\"Skye\",\"Skye\",\"Skye\",\"Skye\",\"Mull\",\"Mull\",\"Mull\",\"Mull\",\"Mull\",\"Muck\",\"Muck\",\"Muck\",\"Eigg\",\"Eigg\",\"Eigg\",\"Eigg\"],\"Nd\":{\"__ndarray__\":\"MzMzMzMzM0DNzMzMzEw2QGZmZmZm5jNAMzMzMzMzMkAAAAAAAIAxQAAAAAAAgDpAMzMzMzMzPUAzMzMzM7NJQGZmZmZmZi1AmpmZmZmZL0CamZmZmRk2QDMzMzMzc09AAAAAAACAO0DNzMzMzEw2QAAAAAAAIFVAzczMzMzML0BmZmZmZmYuQGZmZmZmpkZA\",\"dtype\":\"float64\",\"order\":\"little\",\"shape\":[18]},\"NdError\":{\"__ndarray__\":\"8WjjiLX49D5qHVVNEHX/PvFo44i1+PQ+ah1VTRB1/z7xaOOItfj0PvFo44i1+PQ+8WjjiLX49D7xaOOItfj0PvFo44i1+PQ+8WjjiLX49D7xaOOItfj0PvFo44i1+PQ+ah1VTRB1/z5qHVVNEHX/PvFo44i1+PQ+8WjjiLX49D7xaOOItfj0PvFo44i1+PQ+\",\"dtype\":\"float64\",\"order\":\"little\",\"shape\":[18]},\"Rb\":{\"__ndarray__\":\"7FG4HoXrHkBmZmZmZmYgQHE9CtejcBBAmpmZmZmZGkDsUbgehesUQClcj8L1KBlAhetRuB6FEUCPwvUoXI8hQGZmZmZmZiJAXI/C9ShcC0DhehSuR+EYQGZmZmZm5klAzczMzMzMFUCuR+F6FK4LQM3MzMzMzEtAw/UoXI/CEkB7FK5H4XogQGZmZmZm5ldA\",\"dtype\":\"float64\",\"order\":\"little\",\"shape\":[18]},\"Region\":[\"Northwest Scotland\",\"Northwest Scotland\",\"Northwest Scotland\",\"Northwest Scotland\",\"Northwest Scotland\",\"Northwest Scotland\",\"Northwest Scotland\",\"Northwest Scotland\",\"Northwest Scotland\",\"Northwest Scotland\",\"Northwest Scotland\",\"Northwest Scotland\",\"Northwest Scotland\",\"Northwest Scotland\",\"Northwest Scotland\",\"Northwest Scotland\",\"Northwest Scotland\",\"Northwest Scotland\"],\"Rock Type\":[\"Basalt\",\"Basalt\",\"Basalt\",\"Basalt\",\"Basalt\",\"Basalt\",\"Basalt\",\"Basalt\",\"Basalt\",\"Basalt\",\"Basalt\",\"Basalt\",\"Basalt\",\"Basalt\",\"Basalt\",\"Basalt\",\"Basalt\",\"Felsite\"],\"Sample\":[\"P1\",\"P2\",\"P3\",\"P4\",\"P5\",\"P6\",\"ML1\",\"ML3\",\"ML4\",\"ML5\",\"ML6\",\"M9\",\"M11\",\"M17\",\"E3\",\"E7\",\"E10\",\"E26\"],\"Sm\":{\"__ndarray__\":\"w/UoXI/CEkCuR+F6FK4RQFyPwvUoXBNA16NwPQrXEUBcj8L1KFwPQNejcD0K1xZAAAAAAAAAHkAAAAAAAAAmQNejcD0K1w9AhetRuB6FEkCamZmZmZkTQDMzMzMzMyhAuB6F61G4HkAzMzMzMzMSQJqZmZmZmSxA16NwPQrXEUDD9Shcj8INQFK4HoXr0SBA\",\"dtype\":\"float64\",\"order\":\"little\",\"shape\":[18]},\"Sr\":{\"__ndarray__\":\"AAAAAAAQdkAAAAAAAEB2QAAAAAAAQHtAAAAAAABgd0AAAAAAAEB5QAAAAAAAIH5AAAAAAADYh0AAAAAAACCRQAAAAAAAgHJAAAAAAACgd0AAAAAAAJCBQAAAAAAAMHRAAAAAAADAekAAAAAAALB9QAAAAAAAeIZAAAAAAABgcEAAAAAAAOBzQAAAAAAAQEFA\",\"dtype\":\"float64\",\"order\":\"little\",\"shape\":[18]},\"SrError\":{\"__ndarray__\":\"LUMc6+I2Cj/xaOOItfgEPy1DHOviNgo/LUMc6+I2Cj/xaOOItfgEP2odVU0QdQ8/8WjjiLX4BD/xaOOItfgEP/Fo44i1+AQ/LUMc6+I2Cj/xaOOItfgEP/Fo44i1+AQ/8WjjiLX4BD9qHVVNEHUPP/Fo44i1+AQ/LUMc6+I2Cj/xaOOItfgEP2odVU0QdQ8/\",\"dtype\":\"float64\",\"order\":\"little\",\"shape\":[18]},\"calc_144Nd\":{\"__ndarray__\":\"/Y912WJyEUDng5mEZ0MUQDYf6sUzFRJAVZ3WWVyJEEAVWNPkhM0PQGANTfsqFBhA2HaQKDKJGkBvLOMvcVsnQGUA6MJWtwpAH4IPM4a3DEARtHqckBUUQI/ECmHEkCxAG/2Jet77GEDDc/Fa4kMUQNP7ZMs6LzNAcC8l9j/jDEA1jKFsg50LQJGFgDwliiRA\",\"dtype\":\"float64\",\"order\":\"little\",\"shape\":[18]},\"calc_147Sm\":{\"__ndarray__\":\"UWRImDH95T/PW4EAILnkP+6hYV47seY/HEq7myLp5D8ZOS1s/2DiP+OgjQ50xeo/VgR3WPSU8T/UfZ1fZsn5P4seBFUDqeI/3n5xry215T9ghzhHP/nmP2kK+jWKXfw/gVy5NfoA8j9Gov14KFXlP8qRWfHowgBAHEq7myLp5D+ekQtk8nDhP/f6Kf4Rt/M/\",\"dtype\":\"float64\",\"order\":\"little\",\"shape\":[18]},\"calc_86Sr\":{\"__ndarray__\":\"2lb7vMpaP0AucH6B754/QDUPN/cLXUNAKEA5Jv6bQEC+BZgnKfFBQIE07DDqZ0VA8YEzYpHxUEBvyRGR11ZYQAn5rO7ASjpABUxZFMXJQEDmmwZv4fVIQME1HGNSrzxAf0c5/rQBQ0Bby+7InBhFQPguFiCi7E9AeG0WEttEN0DEZVIJAz48QJNwSxjHfghA\",\"dtype\":\"float64\",\"order\":\"little\",\"shape\":[18]},\"calc_87Rb\":{\"__ndarray__\":\"tSg2ek0ntz9/Lf3lsY+4P2h/rt8Hn6g/x+HOzirrsz/kVEIdpVSvP3cfV0Af17I/3iJiNRk9qj/GdBMvb0y6P80sn6p8jrs/4mvjktt8pD/LgGpWcqGyPxlV/4X6ZOM/aa8/SQRTsD+Cs6h5M7qkP16uMnA00eQ/9g3bcYIYrD9Q0V/ZXa64P3JVriOV5fE/\",\"dtype\":\"float64\",\"order\":\"little\",\"shape\":[18]},\"calc_Rb/Sr\":{\"__ndarray__\":\"+n5qvHSTaD/6fmq8dJNoP/yp8dJNYlA//Knx0k1iYD/8qfHSTWJgP/yp8dJNYmA//Knx0k1iUD/8qfHSTWJQP/yp8dJNYnA//Knx0k1iUD/8qfHSTWJQPxsv3SQGgZU//Knx0k1iYD/8qfHSTWJQP3sUrkfheoQ//Knx0k1iYD/6fmq8dJNoP7TIdr6fGtc/\",\"dtype\":\"float64\",\"order\":\"little\",\"shape\":[18]},\"calc_Sm/Nd\":{\"__ndarray__\":\"g8DKoUW2wz8AAAAAAADAP4PAyqFFtsM/16NwPQrXwz+TGARWDi3CP5zEILByaME/I9v5fmq8xD9I4XoUrkfBPxfZzvdT48U/rkfhehSuxz/sUbgehevBPwisHFpkO78/ukkMAiuHxj9QjZduEoPAPzEIrBxaZLs/Di2yne+nxj/Xo3A9CtfDP2iR7Xw/Nb4/\",\"dtype\":\"float64\",\"order\":\"little\",\"shape\":[18]},\"calc_t2_143Nd/144Nd\":{\"__ndarray__\":\"niRdM/lm4D8RAYdQpWbgP54kXTP5ZuA/ZmZmZmZm4D/Bi76CNGPgP4B9dOrKZ+A/7ZklAWpq4D96jV2iemvgPwtBDkqYaeA/fO2ZJQFq4D82yCQjZ2HgPzpY/+cwX+A/EjElkuhl4D8RAYdQpWbgP8h71cqEX+A/uDtrt11o4D+9++O9amXgP3V2MjhKXuA/\",\"dtype\":\"float64\",\"order\":\"little\",\"shape\":[18]},\"calc_t2_87Sr/86Sr\":{\"__ndarray__\":\"MxZNZyeD5j8Vb2Qe+YPmP/onuFhRg+Y/gosVNZiG5j8xthDkoITmPy+GcqJdheY/VU0QdR+A5j93hNOCF33mP4qryr4rguY/OdbFbTSA5j+s4o3MI3/mP90HILWJk+Y/JjYf14aK5j+qglFJnYDmP0VkWMUbmeY/davnpPeN5j9XBP9byY7mPxxClZo90OY/\",\"dtype\":\"float64\",\"order\":\"little\",\"shape\":[18]},\"epsilon_Nd\":{\"__ndarray__\":\"taZ5xym6AsDUmuYdp2gHwLWmeccpugLAuycPC7WmDcBwzojS3qAmwH6MuWsJ+ci/1JrmHadoF0DtDb4wmSohQLsnDwu1pg1AmbuWkA+6EkA17zhFR9IuwMx/SL99rTTAYVRSJ6BJFMDUmuYdp2gHwBb7y+7JszPAnDOitDf46D8cfGEyVTAYwIlBYOXQ0jbA\",\"dtype\":\"float64\",\"order\":\"little\",\"shape\":[18]},\"epsilon_Sr\":{\"__ndarray__\":\"NIC3QIIiNcDzH9JvX7czwCegibDh2TTAXynLEMdaLsCGWtO845QywK5H4XoUTjHANV66SQxiOsA2PL1SlqE/wLwFEhQ/1jbAyxDHurg9OsC94xQdyRU8wD55WKg1zRtAlIeFWtO8IMAOvjCZKog5wJSHhVrTvDBAJ8KGp1dKA8BLWYY41sXvv0aU9gZf/FpA\",\"dtype\":\"float64\",\"order\":\"little\",\"shape\":[18]},\"index\":[0,1,2,3,4,5,6,7,8,9,10,11,12,13,14,15,16,17]},\"selected\":{\"id\":\"3343\"},\"selection_policy\":{\"id\":\"3342\"}},\"id\":\"3322\",\"type\":\"ColumnDataSource\"},{\"attributes\":{\"fill_alpha\":{\"value\":0.1},\"fill_color\":{\"value\":\"blue\"},\"line_alpha\":{\"value\":0.1},\"line_color\":{\"value\":\"#1f77b4\"},\"marker\":{\"value\":\"triangle\"},\"size\":{\"units\":\"screen\",\"value\":10},\"x\":{\"field\":\"calc_Rb/Sr\"},\"y\":{\"field\":\"calc_t2_87Sr/86Sr\"}},\"id\":\"3325\",\"type\":\"Scatter\"},{\"attributes\":{},\"id\":\"3264\",\"type\":\"Selection\"},{\"attributes\":{},\"id\":\"3233\",\"type\":\"PanTool\"},{\"attributes\":{\"click_policy\":\"hide\",\"items\":[{\"id\":\"3266\"},{\"id\":\"3282\"},{\"id\":\"3300\"},{\"id\":\"3321\"},{\"id\":\"3344\"}]},\"id\":\"3265\",\"type\":\"Legend\"},{\"attributes\":{\"overlay\":{\"id\":\"3239\"}},\"id\":\"3234\",\"type\":\"BoxZoomTool\"},{\"attributes\":{\"data_source\":{\"id\":\"3322\"},\"glyph\":{\"id\":\"3324\"},\"hover_glyph\":null,\"muted_glyph\":null,\"nonselection_glyph\":{\"id\":\"3325\"},\"selection_glyph\":null,\"view\":{\"id\":\"3327\"}},\"id\":\"3326\",\"type\":\"GlyphRenderer\"},{\"attributes\":{\"label\":{\"value\":\"Mean initial ratio @ 60 Ma (Greenland)\"},\"renderers\":[{\"id\":\"3255\"}]},\"id\":\"3266\",\"type\":\"LegendItem\"},{\"attributes\":{\"gradient\":0.0008523630551002803,\"line_color\":\"red\",\"line_dash\":[6],\"y_intercept\":0.7035021052631578},\"id\":\"3251\",\"type\":\"Slope\"},{\"attributes\":{},\"id\":\"3235\",\"type\":\"CrosshairTool\"},{\"attributes\":{\"source\":{\"id\":\"3322\"}},\"id\":\"3327\",\"type\":\"CDSView\"},{\"attributes\":{\"data\":{\"x\":[0.001,0.361],\"y\":[0.705,0.705]},\"selected\":{\"id\":\"3299\"},\"selection_policy\":{\"id\":\"3298\"}},\"id\":\"3283\",\"type\":\"ColumnDataSource\"},{\"attributes\":{\"fill_alpha\":{\"value\":0.6},\"fill_color\":{\"value\":\"blue\"},\"line_color\":{\"value\":\"#1f77b4\"},\"marker\":{\"value\":\"triangle\"},\"size\":{\"units\":\"screen\",\"value\":10},\"x\":{\"field\":\"calc_Rb/Sr\"},\"y\":{\"field\":\"calc_t2_87Sr/86Sr\"}},\"id\":\"3324\",\"type\":\"Scatter\"},{\"attributes\":{\"callback\":null},\"id\":\"3236\",\"type\":\"HoverTool\"},{\"attributes\":{\"align\":\"center\",\"text\":\"Rb/Sr Isochron\",\"text_font_size\":{\"value\":\"25px\"}},\"id\":\"3215\",\"type\":\"Title\"},{\"attributes\":{},\"id\":\"3280\",\"type\":\"UnionRenderers\"},{\"attributes\":{},\"id\":\"3237\",\"type\":\"ResetTool\"},{\"attributes\":{\"label\":{\"value\":\"Greenland Samples\"},\"renderers\":[{\"id\":\"3305\"}]},\"id\":\"3321\",\"type\":\"LegendItem\"},{\"attributes\":{\"line_alpha\":0.1,\"line_color\":\"blue\",\"x\":{\"field\":\"x\"},\"y\":{\"field\":\"y\"}},\"id\":\"3269\",\"type\":\"Line\"},{\"attributes\":{},\"id\":\"3238\",\"type\":\"SaveTool\"},{\"attributes\":{},\"id\":\"3320\",\"type\":\"Selection\"},{\"attributes\":{\"end\":0.361,\"start\":0.001},\"id\":\"3217\",\"type\":\"Range1d\"},{\"attributes\":{\"line_color\":\"blue\",\"x\":{\"field\":\"x\"},\"y\":{\"field\":\"y\"}},\"id\":\"3268\",\"type\":\"Line\"},{\"attributes\":{\"fill_alpha\":{\"value\":0.1},\"fill_color\":{\"value\":\"green\"},\"line_alpha\":{\"value\":0.1},\"line_color\":{\"value\":\"#1f77b4\"},\"size\":{\"units\":\"screen\",\"value\":10},\"x\":{\"field\":\"calc_Rb/Sr\"},\"y\":{\"field\":\"calc_t2_87Sr/86Sr\"}},\"id\":\"3304\",\"type\":\"Scatter\"},{\"attributes\":{\"label\":{\"value\":\"Mean initial ratio @ 60 Ma (Scotland)\"},\"renderers\":[{\"id\":\"3270\"}]},\"id\":\"3282\",\"type\":\"LegendItem\"},{\"attributes\":{\"data\":{\"x\":[0.001,0.361],\"y\":[0.7043983333333333,0.7043983333333333]},\"selected\":{\"id\":\"3281\"},\"selection_policy\":{\"id\":\"3280\"}},\"id\":\"3267\",\"type\":\"ColumnDataSource\"},{\"attributes\":{\"end\":0.71292,\"start\":0.70277},\"id\":\"3219\",\"type\":\"Range1d\"},{\"attributes\":{\"data_source\":{\"id\":\"3267\"},\"glyph\":{\"id\":\"3268\"},\"hover_glyph\":null,\"muted_glyph\":null,\"nonselection_glyph\":{\"id\":\"3269\"},\"selection_glyph\":null,\"view\":{\"id\":\"3271\"}},\"id\":\"3270\",\"type\":\"GlyphRenderer\"},{\"attributes\":{\"active_drag\":\"auto\",\"active_inspect\":\"auto\",\"active_multi\":null,\"active_scroll\":\"auto\",\"active_tap\":\"auto\",\"logo\":null,\"tools\":[{\"id\":\"3233\"},{\"id\":\"3234\"},{\"id\":\"3235\"},{\"id\":\"3236\"},{\"id\":\"3237\"},{\"id\":\"3238\"}]},\"id\":\"3240\",\"type\":\"Toolbar\"},{\"attributes\":{\"bottom_units\":\"screen\",\"fill_alpha\":0.5,\"fill_color\":\"lightgrey\",\"left_units\":\"screen\",\"level\":\"overlay\",\"line_alpha\":1.0,\"line_color\":\"black\",\"line_dash\":[4,4],\"line_width\":2,\"right_units\":\"screen\",\"top_units\":\"screen\"},\"id\":\"3239\",\"type\":\"BoxAnnotation\"},{\"attributes\":{},\"id\":\"3319\",\"type\":\"UnionRenderers\"},{\"attributes\":{},\"id\":\"3221\",\"type\":\"LinearScale\"},{\"attributes\":{\"source\":{\"id\":\"3267\"}},\"id\":\"3271\",\"type\":\"CDSView\"},{\"attributes\":{\"fill_alpha\":{\"value\":0.6},\"fill_color\":{\"value\":\"green\"},\"line_color\":{\"value\":\"#1f77b4\"},\"size\":{\"units\":\"screen\",\"value\":10},\"x\":{\"field\":\"calc_Rb/Sr\"},\"y\":{\"field\":\"calc_t2_87Sr/86Sr\"}},\"id\":\"3303\",\"type\":\"Scatter\"},{\"attributes\":{},\"id\":\"3298\",\"type\":\"UnionRenderers\"},{\"attributes\":{\"background_fill_color\":\"white\",\"border_line_color\":\"black\",\"text\":\" t = 60 Ma \",\"x\":0.025,\"y\":0.5135},\"id\":\"3248\",\"type\":\"Label\"},{\"attributes\":{},\"id\":\"3223\",\"type\":\"LinearScale\"},{\"attributes\":{\"source\":{\"id\":\"3301\"}},\"id\":\"3306\",\"type\":\"CDSView\"},{\"attributes\":{},\"id\":\"3281\",\"type\":\"Selection\"},{\"attributes\":{\"data_source\":{\"id\":\"3301\"},\"glyph\":{\"id\":\"3303\"},\"hover_glyph\":null,\"muted_glyph\":null,\"nonselection_glyph\":{\"id\":\"3304\"},\"selection_glyph\":null,\"view\":{\"id\":\"3306\"}},\"id\":\"3305\",\"type\":\"GlyphRenderer\"},{\"attributes\":{\"axis_label\":\"87Rb/86Sr\",\"formatter\":{\"id\":\"3258\"},\"ticker\":{\"id\":\"3226\"}},\"id\":\"3225\",\"type\":\"LinearAxis\"},{\"attributes\":{\"data\":{\"1/Nd\":{\"__ndarray__\":\"FbycgpdTwD8ZidVw8UOoP5KmDwqrW6Y/KfEzSvyMoj/6TFvj7+axP3kN5TWU17A/HdRBHdRBrT+x5pXquXejP3sUrkfheqQ/ShvvqGb9qT/w1LUc3OynP2uWGJ8y7aw/ERERERERwT8sofZKqL3CP6d71EwAA74/BPNJLpQ5vD+Tg8xLieDBP+Fu7HtETrA/FOwT7BPskz8=\",\"dtype\":\"float64\",\"order\":\"little\",\"shape\":[19]},\"1/Sr\":{\"__ndarray__\":\"dMBuj7UMbT+nEGgKgaaAP3TlAck6V24/iob449blbT8V+OLqBx1lP1cQkyuIyXU/DcaaEQh5Zz+Kfx4j8pJtP5ByU9E8oWY/EBAQEBAQcD872rxPcclwP78QK0rjI3M/AAAAAAAAgD8CS3r50xZqP3FCSp5lRH8/kJzma/XsgD90wG6PtQx9PxOwiBKwiHI/aC+hvYT2gj8=\",\"dtype\":\"float64\",\"order\":\"little\",\"shape\":[19]},\"143Nd/144Nd\":{\"__ndarray__\":\"DXGsi9to4D9EL6NYbmngP5lk5CzsaeA/tdsuNNdp4D9hpu1fWWngPwoRcAhVauA/KLhYUYNp4D9i1ouhnGjgPw1xrIvbaOA/YabtX1lp4D+3C811GmngPyi4WFGDaeA/78nDQq1p4D9EL6NYbmngP2LWi6GcaOA/7ZklAWpq4D+1q5Dyk2rgPwtBDkqYaeA/RC+jWG5p4D8=\",\"dtype\":\"float64\",\"order\":\"little\",\"shape\":[19]},\"87Sr/86Sr\":{\"__ndarray__\":\"N6YnLPGA5j+IS447pYPmPxsv3SQGgeY/iXssfeiC5j9uNIC3QILmP8OZX80BguY/nwJgPIOG5j8Wb2Qe+YPmP2qkpfJ2hOY/3IDPDyOE5j/gEKrU7IHmP4zbaABvgeY/jNtoAG+B5j+jkjoBTYTmP2O0jqomiOY//reSHRuB5j+s4o3MI3/mP6FinL8JheY/o5I6AU2E5j8=\",\"dtype\":\"float64\",\"order\":\"little\",\"shape\":[19]},\"Location\":[\"Torshavn\",\"Torshavn\",\"Torshavn\",\"Suduroy\",\"Suduroy\",\"Vestmanna\",\"Mikis Fjord\",\"Nansens Fjord\",\"Nansens Fjord\",\"Wiedemans Fjord\",\"Wiedemans Fjord\",\"Scoresbysund\",\"Cape Dyer\",\"Cape Dyer\",\"Cape Dyer\",\"Svartenhuk\",\"Svartenhuk\",\"Svartenhuk\",\"Svartenhuk\"],\"Nd\":{\"__ndarray__\":\"XI/C9ShcH0CamZmZmRk1QGZmZmZm5jZAmpmZmZmZO0CamZmZmZksQGZmZmZmZi5AAAAAAACAMUDNzMzMzEw6QAAAAAAAADlAMzMzMzOzM0BmZmZmZmY1QDMzMzMzszFAAAAAAAAAHkBSuB6F61EbQI/C9ShcDyFApHA9CtcjIkCkcD0K16McQGZmZmZmZi9AMzMzMzOzSUA=\",\"dtype\":\"float64\",\"order\":\"little\",\"shape\":[19]},\"NdError\":{\"__ndarray__\":\"8WjjiLX49D5oHVVNEHX/PvFo44i1+PQ+8WjjiLX49D5oHVVNEHX/PmgdVU0Qdf8+aB1VTRB1/z5oHVVNEHX/PvFo44i1+PQ+aB1VTRB1/z7xaOOItfj0PvFo44i1+PQ+aB1VTRB1/z5oHVVNEHX/PmgdVU0Qdf8+aB1VTRB1/z5oHVVNEHX/PmgdVU0Qdf8+8WjjiLX49D4=\",\"dtype\":\"float64\",\"order\":\"little\",\"shape\":[19]},\"Rb\":{\"__ndarray__\":\"CtejcD0K8z8K16NwPQoiQD0K16NwPQRAMzMzMzMzJkDsUbgehev9P4/C9ShcjxdAZmZmZmZmJUAAAAAAAAAmQD0K16NwPQRAH4XrUbgeEUAzMzMzMzMqQGZmZmZmZhFA16NwPQrX6z9cj8L1KFz/P3sUrkfhevw/exSuR+F6BEAAAAAAAAAsQArXo3A9CgFAAAAAAAAAT0A=\",\"dtype\":\"float64\",\"order\":\"little\",\"shape\":[19]},\"Rb/Sr\":{\"__ndarray__\":\"/Knx0k1icD/sUbgeheuxPzzfT42XboI/yqFFtvP9pD97FK5H4Xp0P1g5tMh2vp8/WDm0yHa+nz97FK5H4XqkP/p+arx0k3g/nMQgsHJokT8YBFYOLbKtP3sUrkfhepQ/eOkmMQisfD/6fmq8dJN4Pzq0yHa+n4o/Gy/dJAaBlT/y0k1iEFi5P3sUrkfheoQ/PQrXo3A94j8=\",\"dtype\":\"float64\",\"order\":\"little\",\"shape\":[19]},\"Region\":[\"Faeroes\",\"Faeroes\",\"Faeroes\",\"Faeroes\",\"Faeroes\",\"Faeroes\",\"East Greenland\",\"East Greenland\",\"East Greenland\",\"East Greenland\",\"East Greenland\",\"East Greenland\",\"Baffin and Svartenhuk\",\"Baffin and Svartenhuk\",\"Baffin and Svartenhuk\",\"Baffin and Svartenhuk\",\"Baffin and Svartenhuk\",\"Baffin and Svartenhuk\",\"Baffin and Svartenhuk\"],\"Sample\":[\"Fo07\",\"Fo19\",\"Fo23\",\"Fo34\",\"Fo41\",\"Fo52\",\"MM20333\",\"CKB7147\",\"CKB7148\",\"EG7207\",\"EG7203\",\"EG7126\",\"B18\",\"B22\",\"B36\",\"S8\",\"S16\",\"S32\",\"S41 (trachyte)\"],\"Sm\":{\"__ndarray__\":\"SOF6FK5HBUApXI/C9SgWQM3MzMzMzBhAKVyPwvUoHEDsUbgehesPQNejcD0K1xBAAAAAAAAAFEDNzMzMzMwaQBSuR+F6FBpAH4XrUbgeFUBcj8L1KFwWQPYoXI/C9RRA7FG4HoXrAUAUrkfhehQAQNejcD0K1wVA7FG4HoXrBUC4HoXrUbgCQHsUrkfhehVAmpmZmZmZJEA=\",\"dtype\":\"float64\",\"order\":\"little\",\"shape\":[19]},\"Sm/Nd\":{\"__ndarray__\":\"GARWDi2y1T+iRbbz/dTQP/LSTWIQWNE/UrgehetR0D9BYOXQItvRP+18PzVeutE/PQrXo3A90j9SuB6F61HQP05iEFg5tNA/9P3UeOkm0T9OYhBYObTQP4xs5/up8dI/iUFg5dAi0z83iUFg5dDSP3sUrkfhetQ/hxbZzvdT0z93vp8aL93UPxfZzvdT49U/mpmZmZmZyT8=\",\"dtype\":\"float64\",\"order\":\"little\",\"shape\":[19]},\"Sr\":[282,123,270,274,388,188,349,277,362,255,244,214,128,314,131,121,141,221,108],\"SrError\":{\"__ndarray__\":\"aB1VTRB1/z4tQxzr4jYKP/Fo44i1+AQ/LUMc6+I2Cj/xaOOItfgEP/Fo44i1+AQ/8WjjiLX4BD8tQxzr4jYKPy1DHOviNgo/LUMc6+I2Cj/xaOOItfgEP/Fo44i1+BQ/8WjjiLX4BD/xaOOItfgEP/Fo44i1+AQ/8WjjiLX4BD/xaOOItfgEP/Fo44i1+AQ/8WjjiLX4BD8=\",\"dtype\":\"float64\",\"order\":\"little\",\"shape\":[19]},\"calc_144Nd\":{\"__ndarray__\":\"rlUdrop//D/9sWxIPSwTQJZ3YntlzxRA/f6YGG4UGUAHhFUtOP0JQIhotBr0nwtAH088qArND0Ds8irO1uUXQEseVEhitxZAub4vWpDmEUBMZtKXRXITQFg8Fk+gFRBAie0SEAtD+z//YgSJFNP4P9+KkMUHAP8/H/DO+gV8AEDmFlzA+Qb6P7TLsMEBiAxAZZ4hKZhZJ0A=\",\"dtype\":\"float64\",\"order\":\"little\",\"shape\":[19]},\"calc_147Sm\":{\"__ndarray__\":\"fs0YpVrx2D8gbNf6aPnpPwZIE/yTEe0/IerpW+WA8D8fmtL7A7XiP8A4kVESveM/HltJy0Vx5z+9ameQtGnvP2a64tWoke4/Mt/eCVjB6D//1d88bDXqP+bwpG5Vkeg/QkFY6SMB1T/XDD7wBdnSP4iPY8Rjmdk/roYAEmWx2T+96HnxMPHVP103IeddLek/u5hikU8l+D8=\",\"dtype\":\"float64\",\"order\":\"little\",\"shape\":[19]},\"calc_86Sr\":{\"__ndarray__\":\"iFi9XX4MOUAr3/JurtklQKQstkqc+zdAD+COgG1WOED89olMXjtBQGEMJC3vsjBAEfaQ5oX/PkBksS4Okpo4QNTMiluoE0BAsedos1KmNkD9islgUKw1QFoQD/8uAjNAh1KX8zu9JkDeEnwM4uM7QPWYGfw6RSdAbFB2eOZ+JUAHMqgEkwwpQOHNWeQpoTNAPxnbz0wvI0A=\",\"dtype\":\"float64\",\"order\":\"little\",\"shape\":[19]},\"calc_87Rb\":{\"__ndarray__\":\"TUu0RdyDjD+mS2PjdgS7P3vke4jvT54/8Ui2KbKfwD/hqA3JmmeWP1i5fL5npLE/4RXJaFYGwD8t/Ho5W3nAP3vke4jvT54/z+90dL2jqT8/SFjufJ7DPyYtTkgXD6o/UlcLbd/YhD8wa4VXpnuXP5LmlTqPU5U/7M+jYvOrnj8i+21gi/fEP/9LEoERhZk/nHrnc6M25z8=\",\"dtype\":\"float64\",\"order\":\"little\",\"shape\":[19]},\"calc_Rb/Sr\":{\"__ndarray__\":\"/Knx0k1iUD97FK5H4XqEP/yp8dJNYlA/exSuR+F6dD/8qfHSTWJQP/yp8dJNYnA//Knx0k1icD97FK5H4Xp0P/yp8dJNYlA//Knx0k1iYD956SYxCKx8P/p+arx0k2g//Knx0k1iUD/8qfHSTWJQP/yp8dJNYmA/+n5qvHSTaD85tMh2vp+KP/yp8dJNYlA/MzMzMzMzsz8=\",\"dtype\":\"float64\",\"order\":\"little\",\"shape\":[19]},\"calc_Sm/Nd\":{\"__ndarray__\":\"MQisHFpkyz9zaJHtfD/FPxfZzvdT48U/z/dT46WbxD+6SQwCK4fGP2ZmZmZmZsY/XrpJDAIrxz/P91PjpZvEPx+F61G4HsU/bxKDwMqhxT8fhetRuB7FP1YOLbKd78c//tR46SYxyD8CK4cW2c7HP0Jg5dAi28k/ppvEILByyD+R7Xw/NV7KP9nO91Pjpcs/qMZLN4lBwD8=\",\"dtype\":\"float64\",\"order\":\"little\",\"shape\":[19]},\"calc_t2_143Nd/144Nd\":{\"__ndarray__\":\"mWTkLOxp4D8niLoPQGrgP19GsdzSauA/mDRG66hq4D8niLoPQGrgP9DyPLg7a+A/7ZklAWpq4D9FL6NYbmngP+/Jw0KtaeA/J4i6D0Bq4D+ZZOQs7GngP9Ei2/l+auA/mDRG66hq4D/tmSUBamrgP+/Jw0KtaeA/lgSoqWVr4D9Bn8iTpGvgP5g0RuuoauA/YHZPHhZq4D8=\",\"dtype\":\"float64\",\"order\":\"little\",\"shape\":[19]},\"calc_t2_87Sr/86Sr\":{\"__ndarray__\":\"N6YnLPGA5j/cgM8PI4TmP/63kh0bgeY/MxZNZyeD5j9uNIC3QILmP240gLdAguY/SZ2AJsKG5j/ACYUIOITmP00tW+uLhOY/wAmFCDiE5j9RvTWwVYLmP1Lt0/GYgeY/b2Qe+YOB5j+GG/D5YYTmP0c9RKM7iOY/xcn9DkWB5j/HKTqSy3/mP4XrUbgeheY/Ksb5m1CI5j8=\",\"dtype\":\"float64\",\"order\":\"little\",\"shape\":[19]},\"diff_143Nd/144Nd\":{\"__ndarray__\":\"vHmqQ26GKz+An3HhQEgmPw/W/znMlyc/8WjjiLX4JD8P1v85zJcnPw/W/znMlyc/D9b/OcyXJz/xaOOItfgkP/Fo44i1+CQ/D9b/OcyXJz/xaOOItfgkP54MjpJX5yg/ngyOklfnKD+eDI6SV+coP7x5qkNuhis/ngyOklfnKD+8eapDboYrP7x5qkNuhis/Q8U4fxMKIT8=\",\"dtype\":\"float64\",\"order\":\"little\",\"shape\":[19]},\"diff_87Sr/86Sr\":{\"__ndarray__\":\"AAAAAAAAAAAtQxzr4jYKP/Fo44i1+OQ+aR1VTRB1/z4AAAAAAAAAAGkdVU0Qdf8+aR1VTRB1/z5pHVVNEHX/PvFo44i1+OQ+8WjjiLX45D7xaOOItfgEP/Fo44i1+PQ+8WjjiLX45D7xaOOItfjkPvFo44i1+OQ+8WjjiLX49D7S+8bXnlkSP/Fo44i1+OQ+A5Xx7zMuPD8=\",\"dtype\":\"float64\",\"order\":\"little\",\"shape\":[19]},\"diff_Rb/Sr\":{\"__ndarray__\":\"+n5qvHSTaD+4HoXrUbiuP/yp8dJNYoA/O99PjZduoj/8qfHSTWJwP9nO91PjpZs/2c73U+Olmz/sUbgeheuhP3sUrkfhenQ/uB6F61G4jj/pJjEIrByqP5zEILByaJE/+n5qvHSTeD97FK5H4Xp0P7pJDAIrh4Y/O99PjZdukj9qvHSTGAS2PzvfT42XboI/rkfhehSu3z8=\",\"dtype\":\"float64\",\"order\":\"little\",\"shape\":[19]},\"diff_Sm/Nd\":{\"__ndarray__\":\"AAAAAAAAwD+iRbbz/dS4P5qZmZmZmbk/qvHSTWIQuD+R7Xw/NV66P+kmMQisHLo/ObTIdr6fuj+q8dJNYhC4P/p+arx0k7g/8tJNYhBYuT/6fmq8dJO4P4GVQ4ts57s/KVyPwvUovD/ZzvdT46W7P2iR7Xw/Nb4/0SLb+X5qvD+4HoXrUbi+P1TjpZvEIMA/46WbxCCwsj8=\",\"dtype\":\"float64\",\"order\":\"little\",\"shape\":[19]},\"epsilon_Nd\":{\"__ndarray__\":\"K/aX3ZOHCkCZu5aQD7oSQNSa5h2naBdAcM6I0t6gFkBR2ht8YfIRQI/C9ShcTxtA/Yf029eBE0AMAiuHFtkFQCv2l92ThwpAUdobfGHyEUBL6gQ0ETYPQP2H9NvXgRNAxSCwcmgRFUCZu5aQD7oSQAwCK4cW2QVA845TdCQXHEC7Jw8LtaYdQGFUUiegSRRAmbuWkA+6EkA=\",\"dtype\":\"float64\",\"order\":\"little\",\"shape\":[19]},\"epsilon_Sr\":{\"__ndarray__\":\"9P3UeOn2OMAN4C2QoEg0wFFrmnec0jjA5fIf0m+PNcBSuB6F67E2wMnlP6TfHjfApU5AE2GjLsDzH9JvX7czwMx/SL993TLA5j+k375uM8BseHqlLEM3wJMYBFYOHTjAkxgEVg4dOMDZX3ZPHiYzwLu4jQbw9ijArthfdk+uOMC94xQdyRU8wAFNhA1P3zHA2V92Tx4mM8A=\",\"dtype\":\"float64\",\"order\":\"little\",\"shape\":[19]},\"index\":[0,1,2,3,4,5,6,7,8,9,10,11,12,13,14,15,16,17,18],\"recalc_143Nd/144Nd\":{\"__ndarray__\":\"tKuQ8pNq4D9fRrHc0mrgP5YEqKlla+A/7GmHvyZr4D9fRrHc0mrgPwexM4XOa+A/JVgczvxq4D+ZZOQs7GngP0P/BBcrauA/X0ax3NJq4D/tmSUBamrgPwnh0cYRa+A/0PI8uDtr4D8lWBzO/GrgPwoRcAhVauA/zsKedvhr4D9c5nRZTGzgP7N78rBQa+A/0SLb+X5q4D8=\",\"dtype\":\"float64\",\"order\":\"little\",\"shape\":[19]},\"recalc_87Sr/86Sr\":{\"__ndarray__\":\"N6YnLPGA5j/59xkXDoTmP/63kh0bgeY/MxZNZyeD5j9uNIC3QILmP240gLdAguY/SZ2AJsKG5j/ACYUIOITmP00tW+uLhOY/wAmFCDiE5j9uNIC3QILmP1Lt0/GYgeY/b2Qe+YOB5j+GG/D5YYTmP0c9RKM7iOY/xcn9DkWB5j/koISZtn/mP4XrUbgeheY/1pC4x9KH5j8=\",\"dtype\":\"float64\",\"order\":\"little\",\"shape\":[19]}},\"selected\":{\"id\":\"3320\"},\"selection_policy\":{\"id\":\"3319\"}},\"id\":\"3301\",\"type\":\"ColumnDataSource\"},{\"attributes\":{\"data\":{\"x\":[0.001,0.361],\"y\":[0.7035021052631578,0.7035021052631578]},\"selected\":{\"id\":\"3264\"},\"selection_policy\":{\"id\":\"3263\"}},\"id\":\"3252\",\"type\":\"ColumnDataSource\"},{\"attributes\":{\"line_color\":\"green\",\"x\":{\"field\":\"x\"},\"y\":{\"field\":\"y\"}},\"id\":\"3253\",\"type\":\"Line\"},{\"attributes\":{},\"id\":\"3226\",\"type\":\"BasicTicker\"},{\"attributes\":{\"line_alpha\":0.1,\"line_color\":\"grey\",\"x\":{\"field\":\"x\"},\"y\":{\"field\":\"y\"}},\"id\":\"3285\",\"type\":\"Line\"}],\"root_ids\":[\"3214\"]},\"title\":\"Bokeh Application\",\"version\":\"2.2.3\"}};\n",
       "  var render_items = [{\"docid\":\"039998d4-9111-42a3-82f9-962f2af246b9\",\"root_ids\":[\"3214\"],\"roots\":{\"3214\":\"36159e2a-f153-4b01-ae6d-e613ab899a3c\"}}];\n",
       "  root.Bokeh.embed.embed_items_notebook(docs_json, render_items);\n",
       "\n",
       "  }\n",
       "  if (root.Bokeh !== undefined) {\n",
       "    embed_document(root);\n",
       "  } else {\n",
       "    var attempts = 0;\n",
       "    var timer = setInterval(function(root) {\n",
       "      if (root.Bokeh !== undefined) {\n",
       "        clearInterval(timer);\n",
       "        embed_document(root);\n",
       "      } else {\n",
       "        attempts++;\n",
       "        if (attempts > 100) {\n",
       "          clearInterval(timer);\n",
       "          console.log(\"Bokeh: ERROR: Unable to run BokehJS code because BokehJS library is missing\");\n",
       "        }\n",
       "      }\n",
       "    }, 10, root)\n",
       "  }\n",
       "})(window);"
      ],
      "application/vnd.bokehjs_exec.v0+json": ""
     },
     "metadata": {
      "application/vnd.bokehjs_exec.v0+json": {
       "id": "3214"
      }
     },
     "output_type": "display_data"
    }
   ],
   "source": [
    "show(figure10)"
   ]
  },
  {
   "cell_type": "markdown",
   "metadata": {
    "slideshow": {
     "slide_type": "notes"
    }
   },
   "source": [
    "An illustration of the weakness of Rb/Sr on young rocks with such a long half-life."
   ]
  },
  {
   "cell_type": "code",
   "execution_count": 65,
   "metadata": {
    "slideshow": {
     "slide_type": "skip"
    }
   },
   "outputs": [],
   "source": [
    "figure11 = gc.get_figure(\"Mixing Plot???\",\n",
    "                        \"1/Sr\",\n",
    "                        \"87Sr/86Sr\",\n",
    "                        [xmin,xmax],\n",
    "                        [ymin,ymax],\n",
    "                       )\n",
    "\n",
    "figure11.scatter('1/Sr','calc_t2_87Sr/86Sr',\n",
    "                source=carter_df,fill_alpha=0.6,\n",
    "                fill_color='green',\n",
    "                size=10,\n",
    "                marker=\"circle\",\n",
    "                legend_label='Greenland/Baffin Basalts')\n",
    "\n",
    "figure11.scatter('1/Sr','calc_t2_87Sr/86Sr',\n",
    "                source=carter_df2,fill_alpha=0.6,\n",
    "                fill_color='blue',\n",
    "                size=10,\n",
    "                marker=\"triangle\",\n",
    "                legend_label='Scotland Basalts')\n",
    "\n",
    "figure11.legend.click_policy=\"hide\""
   ]
  },
  {
   "cell_type": "code",
   "execution_count": 66,
   "metadata": {
    "scrolled": true,
    "slideshow": {
     "slide_type": "subslide"
    }
   },
   "outputs": [
    {
     "data": {
      "text/html": [
       "\n",
       "\n",
       "\n",
       "\n",
       "\n",
       "\n",
       "  <div class=\"bk-root\" id=\"a4ce6c83-69f9-4e4b-9a5d-19aff05f473e\" data-root-id=\"3567\"></div>\n"
      ]
     },
     "metadata": {},
     "output_type": "display_data"
    },
    {
     "data": {
      "application/javascript": [
       "(function(root) {\n",
       "  function embed_document(root) {\n",
       "    \n",
       "  var docs_json = {\"f876765c-e6cf-4736-aad0-b803312dc8db\":{\"roots\":{\"references\":[{\"attributes\":{\"below\":[{\"id\":\"3578\"}],\"center\":[{\"id\":\"3581\"},{\"id\":\"3585\"},{\"id\":\"3615\"}],\"left\":[{\"id\":\"3582\"}],\"plot_height\":500,\"plot_width\":700,\"renderers\":[{\"id\":\"3605\"},{\"id\":\"3621\"}],\"title\":{\"id\":\"3568\"},\"toolbar\":{\"id\":\"3593\"},\"toolbar_location\":\"left\",\"toolbar_sticky\":false,\"x_range\":{\"id\":\"3570\"},\"x_scale\":{\"id\":\"3574\"},\"y_range\":{\"id\":\"3572\"},\"y_scale\":{\"id\":\"3576\"}},\"id\":\"3567\",\"subtype\":\"Figure\",\"type\":\"Plot\"},{\"attributes\":{\"source\":{\"id\":\"3601\"}},\"id\":\"3606\",\"type\":\"CDSView\"},{\"attributes\":{\"end\":0.71292,\"start\":0.70277},\"id\":\"3572\",\"type\":\"Range1d\"},{\"attributes\":{\"bottom_units\":\"screen\",\"fill_alpha\":0.5,\"fill_color\":\"lightgrey\",\"left_units\":\"screen\",\"level\":\"overlay\",\"line_alpha\":1.0,\"line_color\":\"black\",\"line_dash\":[4,4],\"line_width\":2,\"right_units\":\"screen\",\"top_units\":\"screen\"},\"id\":\"3592\",\"type\":\"BoxAnnotation\"},{\"attributes\":{\"active_drag\":\"auto\",\"active_inspect\":\"auto\",\"active_multi\":null,\"active_scroll\":\"auto\",\"active_tap\":\"auto\",\"logo\":null,\"tools\":[{\"id\":\"3586\"},{\"id\":\"3587\"},{\"id\":\"3588\"},{\"id\":\"3589\"},{\"id\":\"3590\"},{\"id\":\"3591\"}]},\"id\":\"3593\",\"type\":\"Toolbar\"},{\"attributes\":{},\"id\":\"3576\",\"type\":\"LinearScale\"},{\"attributes\":{\"data_source\":{\"id\":\"3617\"},\"glyph\":{\"id\":\"3619\"},\"hover_glyph\":null,\"muted_glyph\":null,\"nonselection_glyph\":{\"id\":\"3620\"},\"selection_glyph\":null,\"view\":{\"id\":\"3622\"}},\"id\":\"3621\",\"type\":\"GlyphRenderer\"},{\"attributes\":{},\"id\":\"3631\",\"type\":\"UnionRenderers\"},{\"attributes\":{\"data\":{\"1/Nd\":{\"__ndarray__\":\"FbycgpdTwD8ZidVw8UOoP5KmDwqrW6Y/KfEzSvyMoj/6TFvj7+axP3kN5TWU17A/HdRBHdRBrT+x5pXquXejP3sUrkfheqQ/ShvvqGb9qT/w1LUc3OynP2uWGJ8y7aw/ERERERERwT8sofZKqL3CP6d71EwAA74/BPNJLpQ5vD+Tg8xLieDBP+Fu7HtETrA/FOwT7BPskz8=\",\"dtype\":\"float64\",\"order\":\"little\",\"shape\":[19]},\"1/Sr\":{\"__ndarray__\":\"dMBuj7UMbT+nEGgKgaaAP3TlAck6V24/iob449blbT8V+OLqBx1lP1cQkyuIyXU/DcaaEQh5Zz+Kfx4j8pJtP5ByU9E8oWY/EBAQEBAQcD872rxPcclwP78QK0rjI3M/AAAAAAAAgD8CS3r50xZqP3FCSp5lRH8/kJzma/XsgD90wG6PtQx9PxOwiBKwiHI/aC+hvYT2gj8=\",\"dtype\":\"float64\",\"order\":\"little\",\"shape\":[19]},\"143Nd/144Nd\":{\"__ndarray__\":\"DXGsi9to4D9EL6NYbmngP5lk5CzsaeA/tdsuNNdp4D9hpu1fWWngPwoRcAhVauA/KLhYUYNp4D9i1ouhnGjgPw1xrIvbaOA/YabtX1lp4D+3C811GmngPyi4WFGDaeA/78nDQq1p4D9EL6NYbmngP2LWi6GcaOA/7ZklAWpq4D+1q5Dyk2rgPwtBDkqYaeA/RC+jWG5p4D8=\",\"dtype\":\"float64\",\"order\":\"little\",\"shape\":[19]},\"87Sr/86Sr\":{\"__ndarray__\":\"N6YnLPGA5j+IS447pYPmPxsv3SQGgeY/iXssfeiC5j9uNIC3QILmP8OZX80BguY/nwJgPIOG5j8Wb2Qe+YPmP2qkpfJ2hOY/3IDPDyOE5j/gEKrU7IHmP4zbaABvgeY/jNtoAG+B5j+jkjoBTYTmP2O0jqomiOY//reSHRuB5j+s4o3MI3/mP6FinL8JheY/o5I6AU2E5j8=\",\"dtype\":\"float64\",\"order\":\"little\",\"shape\":[19]},\"Location\":[\"Torshavn\",\"Torshavn\",\"Torshavn\",\"Suduroy\",\"Suduroy\",\"Vestmanna\",\"Mikis Fjord\",\"Nansens Fjord\",\"Nansens Fjord\",\"Wiedemans Fjord\",\"Wiedemans Fjord\",\"Scoresbysund\",\"Cape Dyer\",\"Cape Dyer\",\"Cape Dyer\",\"Svartenhuk\",\"Svartenhuk\",\"Svartenhuk\",\"Svartenhuk\"],\"Nd\":{\"__ndarray__\":\"XI/C9ShcH0CamZmZmRk1QGZmZmZm5jZAmpmZmZmZO0CamZmZmZksQGZmZmZmZi5AAAAAAACAMUDNzMzMzEw6QAAAAAAAADlAMzMzMzOzM0BmZmZmZmY1QDMzMzMzszFAAAAAAAAAHkBSuB6F61EbQI/C9ShcDyFApHA9CtcjIkCkcD0K16McQGZmZmZmZi9AMzMzMzOzSUA=\",\"dtype\":\"float64\",\"order\":\"little\",\"shape\":[19]},\"NdError\":{\"__ndarray__\":\"8WjjiLX49D5oHVVNEHX/PvFo44i1+PQ+8WjjiLX49D5oHVVNEHX/PmgdVU0Qdf8+aB1VTRB1/z5oHVVNEHX/PvFo44i1+PQ+aB1VTRB1/z7xaOOItfj0PvFo44i1+PQ+aB1VTRB1/z5oHVVNEHX/PmgdVU0Qdf8+aB1VTRB1/z5oHVVNEHX/PmgdVU0Qdf8+8WjjiLX49D4=\",\"dtype\":\"float64\",\"order\":\"little\",\"shape\":[19]},\"Rb\":{\"__ndarray__\":\"CtejcD0K8z8K16NwPQoiQD0K16NwPQRAMzMzMzMzJkDsUbgehev9P4/C9ShcjxdAZmZmZmZmJUAAAAAAAAAmQD0K16NwPQRAH4XrUbgeEUAzMzMzMzMqQGZmZmZmZhFA16NwPQrX6z9cj8L1KFz/P3sUrkfhevw/exSuR+F6BEAAAAAAAAAsQArXo3A9CgFAAAAAAAAAT0A=\",\"dtype\":\"float64\",\"order\":\"little\",\"shape\":[19]},\"Rb/Sr\":{\"__ndarray__\":\"/Knx0k1icD/sUbgeheuxPzzfT42XboI/yqFFtvP9pD97FK5H4Xp0P1g5tMh2vp8/WDm0yHa+nz97FK5H4XqkP/p+arx0k3g/nMQgsHJokT8YBFYOLbKtP3sUrkfhepQ/eOkmMQisfD/6fmq8dJN4Pzq0yHa+n4o/Gy/dJAaBlT/y0k1iEFi5P3sUrkfheoQ/PQrXo3A94j8=\",\"dtype\":\"float64\",\"order\":\"little\",\"shape\":[19]},\"Region\":[\"Faeroes\",\"Faeroes\",\"Faeroes\",\"Faeroes\",\"Faeroes\",\"Faeroes\",\"East Greenland\",\"East Greenland\",\"East Greenland\",\"East Greenland\",\"East Greenland\",\"East Greenland\",\"Baffin and Svartenhuk\",\"Baffin and Svartenhuk\",\"Baffin and Svartenhuk\",\"Baffin and Svartenhuk\",\"Baffin and Svartenhuk\",\"Baffin and Svartenhuk\",\"Baffin and Svartenhuk\"],\"Sample\":[\"Fo07\",\"Fo19\",\"Fo23\",\"Fo34\",\"Fo41\",\"Fo52\",\"MM20333\",\"CKB7147\",\"CKB7148\",\"EG7207\",\"EG7203\",\"EG7126\",\"B18\",\"B22\",\"B36\",\"S8\",\"S16\",\"S32\",\"S41 (trachyte)\"],\"Sm\":{\"__ndarray__\":\"SOF6FK5HBUApXI/C9SgWQM3MzMzMzBhAKVyPwvUoHEDsUbgehesPQNejcD0K1xBAAAAAAAAAFEDNzMzMzMwaQBSuR+F6FBpAH4XrUbgeFUBcj8L1KFwWQPYoXI/C9RRA7FG4HoXrAUAUrkfhehQAQNejcD0K1wVA7FG4HoXrBUC4HoXrUbgCQHsUrkfhehVAmpmZmZmZJEA=\",\"dtype\":\"float64\",\"order\":\"little\",\"shape\":[19]},\"Sm/Nd\":{\"__ndarray__\":\"GARWDi2y1T+iRbbz/dTQP/LSTWIQWNE/UrgehetR0D9BYOXQItvRP+18PzVeutE/PQrXo3A90j9SuB6F61HQP05iEFg5tNA/9P3UeOkm0T9OYhBYObTQP4xs5/up8dI/iUFg5dAi0z83iUFg5dDSP3sUrkfhetQ/hxbZzvdT0z93vp8aL93UPxfZzvdT49U/mpmZmZmZyT8=\",\"dtype\":\"float64\",\"order\":\"little\",\"shape\":[19]},\"Sr\":[282,123,270,274,388,188,349,277,362,255,244,214,128,314,131,121,141,221,108],\"SrError\":{\"__ndarray__\":\"aB1VTRB1/z4tQxzr4jYKP/Fo44i1+AQ/LUMc6+I2Cj/xaOOItfgEP/Fo44i1+AQ/8WjjiLX4BD8tQxzr4jYKPy1DHOviNgo/LUMc6+I2Cj/xaOOItfgEP/Fo44i1+BQ/8WjjiLX4BD/xaOOItfgEP/Fo44i1+AQ/8WjjiLX4BD/xaOOItfgEP/Fo44i1+AQ/8WjjiLX4BD8=\",\"dtype\":\"float64\",\"order\":\"little\",\"shape\":[19]},\"calc_144Nd\":{\"__ndarray__\":\"rlUdrop//D/9sWxIPSwTQJZ3YntlzxRA/f6YGG4UGUAHhFUtOP0JQIhotBr0nwtAH088qArND0Ds8irO1uUXQEseVEhitxZAub4vWpDmEUBMZtKXRXITQFg8Fk+gFRBAie0SEAtD+z//YgSJFNP4P9+KkMUHAP8/H/DO+gV8AEDmFlzA+Qb6P7TLsMEBiAxAZZ4hKZhZJ0A=\",\"dtype\":\"float64\",\"order\":\"little\",\"shape\":[19]},\"calc_147Sm\":{\"__ndarray__\":\"fs0YpVrx2D8gbNf6aPnpPwZIE/yTEe0/IerpW+WA8D8fmtL7A7XiP8A4kVESveM/HltJy0Vx5z+9ameQtGnvP2a64tWoke4/Mt/eCVjB6D//1d88bDXqP+bwpG5Vkeg/QkFY6SMB1T/XDD7wBdnSP4iPY8Rjmdk/roYAEmWx2T+96HnxMPHVP103IeddLek/u5hikU8l+D8=\",\"dtype\":\"float64\",\"order\":\"little\",\"shape\":[19]},\"calc_86Sr\":{\"__ndarray__\":\"iFi9XX4MOUAr3/JurtklQKQstkqc+zdAD+COgG1WOED89olMXjtBQGEMJC3vsjBAEfaQ5oX/PkBksS4Okpo4QNTMiluoE0BAsedos1KmNkD9islgUKw1QFoQD/8uAjNAh1KX8zu9JkDeEnwM4uM7QPWYGfw6RSdAbFB2eOZ+JUAHMqgEkwwpQOHNWeQpoTNAPxnbz0wvI0A=\",\"dtype\":\"float64\",\"order\":\"little\",\"shape\":[19]},\"calc_87Rb\":{\"__ndarray__\":\"TUu0RdyDjD+mS2PjdgS7P3vke4jvT54/8Ui2KbKfwD/hqA3JmmeWP1i5fL5npLE/4RXJaFYGwD8t/Ho5W3nAP3vke4jvT54/z+90dL2jqT8/SFjufJ7DPyYtTkgXD6o/UlcLbd/YhD8wa4VXpnuXP5LmlTqPU5U/7M+jYvOrnj8i+21gi/fEP/9LEoERhZk/nHrnc6M25z8=\",\"dtype\":\"float64\",\"order\":\"little\",\"shape\":[19]},\"calc_Rb/Sr\":{\"__ndarray__\":\"/Knx0k1iUD97FK5H4XqEP/yp8dJNYlA/exSuR+F6dD/8qfHSTWJQP/yp8dJNYnA//Knx0k1icD97FK5H4Xp0P/yp8dJNYlA//Knx0k1iYD956SYxCKx8P/p+arx0k2g//Knx0k1iUD/8qfHSTWJQP/yp8dJNYmA/+n5qvHSTaD85tMh2vp+KP/yp8dJNYlA/MzMzMzMzsz8=\",\"dtype\":\"float64\",\"order\":\"little\",\"shape\":[19]},\"calc_Sm/Nd\":{\"__ndarray__\":\"MQisHFpkyz9zaJHtfD/FPxfZzvdT48U/z/dT46WbxD+6SQwCK4fGP2ZmZmZmZsY/XrpJDAIrxz/P91PjpZvEPx+F61G4HsU/bxKDwMqhxT8fhetRuB7FP1YOLbKd78c//tR46SYxyD8CK4cW2c7HP0Jg5dAi28k/ppvEILByyD+R7Xw/NV7KP9nO91Pjpcs/qMZLN4lBwD8=\",\"dtype\":\"float64\",\"order\":\"little\",\"shape\":[19]},\"calc_t2_143Nd/144Nd\":{\"__ndarray__\":\"mWTkLOxp4D8niLoPQGrgP19GsdzSauA/mDRG66hq4D8niLoPQGrgP9DyPLg7a+A/7ZklAWpq4D9FL6NYbmngP+/Jw0KtaeA/J4i6D0Bq4D+ZZOQs7GngP9Ei2/l+auA/mDRG66hq4D/tmSUBamrgP+/Jw0KtaeA/lgSoqWVr4D9Bn8iTpGvgP5g0RuuoauA/YHZPHhZq4D8=\",\"dtype\":\"float64\",\"order\":\"little\",\"shape\":[19]},\"calc_t2_87Sr/86Sr\":{\"__ndarray__\":\"N6YnLPGA5j/cgM8PI4TmP/63kh0bgeY/MxZNZyeD5j9uNIC3QILmP240gLdAguY/SZ2AJsKG5j/ACYUIOITmP00tW+uLhOY/wAmFCDiE5j9RvTWwVYLmP1Lt0/GYgeY/b2Qe+YOB5j+GG/D5YYTmP0c9RKM7iOY/xcn9DkWB5j/HKTqSy3/mP4XrUbgeheY/Ksb5m1CI5j8=\",\"dtype\":\"float64\",\"order\":\"little\",\"shape\":[19]},\"diff_143Nd/144Nd\":{\"__ndarray__\":\"vHmqQ26GKz+An3HhQEgmPw/W/znMlyc/8WjjiLX4JD8P1v85zJcnPw/W/znMlyc/D9b/OcyXJz/xaOOItfgkP/Fo44i1+CQ/D9b/OcyXJz/xaOOItfgkP54MjpJX5yg/ngyOklfnKD+eDI6SV+coP7x5qkNuhis/ngyOklfnKD+8eapDboYrP7x5qkNuhis/Q8U4fxMKIT8=\",\"dtype\":\"float64\",\"order\":\"little\",\"shape\":[19]},\"diff_87Sr/86Sr\":{\"__ndarray__\":\"AAAAAAAAAAAtQxzr4jYKP/Fo44i1+OQ+aR1VTRB1/z4AAAAAAAAAAGkdVU0Qdf8+aR1VTRB1/z5pHVVNEHX/PvFo44i1+OQ+8WjjiLX45D7xaOOItfgEP/Fo44i1+PQ+8WjjiLX45D7xaOOItfjkPvFo44i1+OQ+8WjjiLX49D7S+8bXnlkSP/Fo44i1+OQ+A5Xx7zMuPD8=\",\"dtype\":\"float64\",\"order\":\"little\",\"shape\":[19]},\"diff_Rb/Sr\":{\"__ndarray__\":\"+n5qvHSTaD+4HoXrUbiuP/yp8dJNYoA/O99PjZduoj/8qfHSTWJwP9nO91PjpZs/2c73U+Olmz/sUbgeheuhP3sUrkfhenQ/uB6F61G4jj/pJjEIrByqP5zEILByaJE/+n5qvHSTeD97FK5H4Xp0P7pJDAIrh4Y/O99PjZdukj9qvHSTGAS2PzvfT42XboI/rkfhehSu3z8=\",\"dtype\":\"float64\",\"order\":\"little\",\"shape\":[19]},\"diff_Sm/Nd\":{\"__ndarray__\":\"AAAAAAAAwD+iRbbz/dS4P5qZmZmZmbk/qvHSTWIQuD+R7Xw/NV66P+kmMQisHLo/ObTIdr6fuj+q8dJNYhC4P/p+arx0k7g/8tJNYhBYuT/6fmq8dJO4P4GVQ4ts57s/KVyPwvUovD/ZzvdT46W7P2iR7Xw/Nb4/0SLb+X5qvD+4HoXrUbi+P1TjpZvEIMA/46WbxCCwsj8=\",\"dtype\":\"float64\",\"order\":\"little\",\"shape\":[19]},\"epsilon_Nd\":{\"__ndarray__\":\"K/aX3ZOHCkCZu5aQD7oSQNSa5h2naBdAcM6I0t6gFkBR2ht8YfIRQI/C9ShcTxtA/Yf029eBE0AMAiuHFtkFQCv2l92ThwpAUdobfGHyEUBL6gQ0ETYPQP2H9NvXgRNAxSCwcmgRFUCZu5aQD7oSQAwCK4cW2QVA845TdCQXHEC7Jw8LtaYdQGFUUiegSRRAmbuWkA+6EkA=\",\"dtype\":\"float64\",\"order\":\"little\",\"shape\":[19]},\"epsilon_Sr\":{\"__ndarray__\":\"9P3UeOn2OMAN4C2QoEg0wFFrmnec0jjA5fIf0m+PNcBSuB6F67E2wMnlP6TfHjfApU5AE2GjLsDzH9JvX7czwMx/SL993TLA5j+k375uM8BseHqlLEM3wJMYBFYOHTjAkxgEVg4dOMDZX3ZPHiYzwLu4jQbw9ijArthfdk+uOMC94xQdyRU8wAFNhA1P3zHA2V92Tx4mM8A=\",\"dtype\":\"float64\",\"order\":\"little\",\"shape\":[19]},\"index\":[0,1,2,3,4,5,6,7,8,9,10,11,12,13,14,15,16,17,18],\"recalc_143Nd/144Nd\":{\"__ndarray__\":\"tKuQ8pNq4D9fRrHc0mrgP5YEqKlla+A/7GmHvyZr4D9fRrHc0mrgPwexM4XOa+A/JVgczvxq4D+ZZOQs7GngP0P/BBcrauA/X0ax3NJq4D/tmSUBamrgPwnh0cYRa+A/0PI8uDtr4D8lWBzO/GrgPwoRcAhVauA/zsKedvhr4D9c5nRZTGzgP7N78rBQa+A/0SLb+X5q4D8=\",\"dtype\":\"float64\",\"order\":\"little\",\"shape\":[19]},\"recalc_87Sr/86Sr\":{\"__ndarray__\":\"N6YnLPGA5j/59xkXDoTmP/63kh0bgeY/MxZNZyeD5j9uNIC3QILmP240gLdAguY/SZ2AJsKG5j/ACYUIOITmP00tW+uLhOY/wAmFCDiE5j9uNIC3QILmP1Lt0/GYgeY/b2Qe+YOB5j+GG/D5YYTmP0c9RKM7iOY/xcn9DkWB5j/koISZtn/mP4XrUbgeheY/1pC4x9KH5j8=\",\"dtype\":\"float64\",\"order\":\"little\",\"shape\":[19]}},\"selected\":{\"id\":\"3614\"},\"selection_policy\":{\"id\":\"3613\"}},\"id\":\"3601\",\"type\":\"ColumnDataSource\"},{\"attributes\":{\"fill_alpha\":{\"value\":0.6},\"fill_color\":{\"value\":\"blue\"},\"line_color\":{\"value\":\"#1f77b4\"},\"marker\":{\"value\":\"triangle\"},\"size\":{\"units\":\"screen\",\"value\":10},\"x\":{\"field\":\"1/Sr\"},\"y\":{\"field\":\"calc_t2_87Sr/86Sr\"}},\"id\":\"3619\",\"type\":\"Scatter\"},{\"attributes\":{\"axis_label\":\"1/Sr\",\"formatter\":{\"id\":\"3608\"},\"ticker\":{\"id\":\"3579\"}},\"id\":\"3578\",\"type\":\"LinearAxis\"},{\"attributes\":{},\"id\":\"3579\",\"type\":\"BasicTicker\"},{\"attributes\":{},\"id\":\"3608\",\"type\":\"BasicTickFormatter\"},{\"attributes\":{\"fill_alpha\":{\"value\":0.6},\"fill_color\":{\"value\":\"green\"},\"line_color\":{\"value\":\"#1f77b4\"},\"size\":{\"units\":\"screen\",\"value\":10},\"x\":{\"field\":\"1/Sr\"},\"y\":{\"field\":\"calc_t2_87Sr/86Sr\"}},\"id\":\"3603\",\"type\":\"Scatter\"},{\"attributes\":{\"axis\":{\"id\":\"3578\"},\"ticker\":null},\"id\":\"3581\",\"type\":\"Grid\"},{\"attributes\":{},\"id\":\"3613\",\"type\":\"UnionRenderers\"},{\"attributes\":{\"axis\":{\"id\":\"3582\"},\"dimension\":1,\"ticker\":null},\"id\":\"3585\",\"type\":\"Grid\"},{\"attributes\":{\"fill_alpha\":{\"value\":0.1},\"fill_color\":{\"value\":\"green\"},\"line_alpha\":{\"value\":0.1},\"line_color\":{\"value\":\"#1f77b4\"},\"size\":{\"units\":\"screen\",\"value\":10},\"x\":{\"field\":\"1/Sr\"},\"y\":{\"field\":\"calc_t2_87Sr/86Sr\"}},\"id\":\"3604\",\"type\":\"Scatter\"},{\"attributes\":{},\"id\":\"3586\",\"type\":\"PanTool\"},{\"attributes\":{},\"id\":\"3583\",\"type\":\"BasicTicker\"},{\"attributes\":{},\"id\":\"3574\",\"type\":\"LinearScale\"},{\"attributes\":{},\"id\":\"3614\",\"type\":\"Selection\"},{\"attributes\":{\"label\":{\"value\":\"Scotland Basalts\"},\"renderers\":[{\"id\":\"3621\"}]},\"id\":\"3633\",\"type\":\"LegendItem\"},{\"attributes\":{\"data_source\":{\"id\":\"3601\"},\"glyph\":{\"id\":\"3603\"},\"hover_glyph\":null,\"muted_glyph\":null,\"nonselection_glyph\":{\"id\":\"3604\"},\"selection_glyph\":null,\"view\":{\"id\":\"3606\"}},\"id\":\"3605\",\"type\":\"GlyphRenderer\"},{\"attributes\":{},\"id\":\"3632\",\"type\":\"Selection\"},{\"attributes\":{},\"id\":\"3610\",\"type\":\"BasicTickFormatter\"},{\"attributes\":{\"data\":{\"1/Nd\":{\"__ndarray__\":\"q6qqqqqqqj+tt6AMq/WmP4GEn1yIuqk/HMIhHMIhrD8d1EEd1EGtP8F4K/scUqM/jBgxYsSIoT8U7BPsE+yTP1uE/DU7arE/ZyAqHdkzsD8X3CoX3CqnP7ZAvZOhR5A/nhLkKUGeoj+tt6AMq/WmP92+snqXPIg/oeRO0cIZsD95DeU1lNewP2BrWuDXmpY/\",\"dtype\":\"float64\",\"order\":\"little\",\"shape\":[18]},\"1/Sr\":{\"__ndarray__\":\"jf5BxfA0Zz9wgQtc4AJnP6AsgU37yWI/5xXQuFvnZT/72WJl+EZkPxHw/hDw/mA/klcBNB95VT+Khvjj1uVNP9C6wRT5rGs/wFoBawWsZT8aW/yjLCddP6534wu7XGk/vxArSuMjYz8kRzSNDj9hPym0GjuGyVY/cUJKnmVEbz8CoeRO0cJpP9uBuXZgrp0/\",\"dtype\":\"float64\",\"order\":\"little\",\"shape\":[18]},\"143Nd/144Nd\":{\"__ndarray__\":\"Su8bX3tm4D+gVPt0PGbgP0rvG197ZuA/EjElkuhl4D9tVn2utmLgPw/R6A5iZ+A/mWTkLOxp4D8J4dHGEWvgP9OCF30FaeA/RC+jWG5p4D/FG5lH/mDgP8mrcwzIXuA/2nIuxVVl4D+gVPt0PGbgPzpY/+cwX+A/gH106spn4D9pxqLp7GTgPwTKplzhXeA/\",\"dtype\":\"float64\",\"order\":\"little\",\"shape\":[18]},\"87Sr/86Sr\":{\"__ndarray__\":\"NBZNZyeD5j8Wb2Qe+YPmP/onuFhRg+Y/g4sVNZiG5j8wthDkoITmPzCGcqJdheY/VU0QdR+A5j93hNOCF33mP4qryr4rguY/OdbFbTSA5j+s4o3MI3/mPxb2tMNfk+Y/JzYf14aK5j+qglFJnYDmP2LboswGmeY/dqvnpPeN5j9YBP9byY7mP5OumXyzzeY/\",\"dtype\":\"float64\",\"order\":\"little\",\"shape\":[18]},\"Location\":[\"Skye\",\"Skye\",\"Skye\",\"Skye\",\"Skye\",\"Skye\",\"Mull\",\"Mull\",\"Mull\",\"Mull\",\"Mull\",\"Muck\",\"Muck\",\"Muck\",\"Eigg\",\"Eigg\",\"Eigg\",\"Eigg\"],\"Nd\":{\"__ndarray__\":\"MzMzMzMzM0DNzMzMzEw2QGZmZmZm5jNAMzMzMzMzMkAAAAAAAIAxQAAAAAAAgDpAMzMzMzMzPUAzMzMzM7NJQGZmZmZmZi1AmpmZmZmZL0CamZmZmRk2QDMzMzMzc09AAAAAAACAO0DNzMzMzEw2QAAAAAAAIFVAzczMzMzML0BmZmZmZmYuQGZmZmZmpkZA\",\"dtype\":\"float64\",\"order\":\"little\",\"shape\":[18]},\"NdError\":{\"__ndarray__\":\"8WjjiLX49D5qHVVNEHX/PvFo44i1+PQ+ah1VTRB1/z7xaOOItfj0PvFo44i1+PQ+8WjjiLX49D7xaOOItfj0PvFo44i1+PQ+8WjjiLX49D7xaOOItfj0PvFo44i1+PQ+ah1VTRB1/z5qHVVNEHX/PvFo44i1+PQ+8WjjiLX49D7xaOOItfj0PvFo44i1+PQ+\",\"dtype\":\"float64\",\"order\":\"little\",\"shape\":[18]},\"Rb\":{\"__ndarray__\":\"7FG4HoXrHkBmZmZmZmYgQHE9CtejcBBAmpmZmZmZGkDsUbgehesUQClcj8L1KBlAhetRuB6FEUCPwvUoXI8hQGZmZmZmZiJAXI/C9ShcC0DhehSuR+EYQGZmZmZm5klAzczMzMzMFUCuR+F6FK4LQM3MzMzMzEtAw/UoXI/CEkB7FK5H4XogQGZmZmZm5ldA\",\"dtype\":\"float64\",\"order\":\"little\",\"shape\":[18]},\"Region\":[\"Northwest Scotland\",\"Northwest Scotland\",\"Northwest Scotland\",\"Northwest Scotland\",\"Northwest Scotland\",\"Northwest Scotland\",\"Northwest Scotland\",\"Northwest Scotland\",\"Northwest Scotland\",\"Northwest Scotland\",\"Northwest Scotland\",\"Northwest Scotland\",\"Northwest Scotland\",\"Northwest Scotland\",\"Northwest Scotland\",\"Northwest Scotland\",\"Northwest Scotland\",\"Northwest Scotland\"],\"Rock Type\":[\"Basalt\",\"Basalt\",\"Basalt\",\"Basalt\",\"Basalt\",\"Basalt\",\"Basalt\",\"Basalt\",\"Basalt\",\"Basalt\",\"Basalt\",\"Basalt\",\"Basalt\",\"Basalt\",\"Basalt\",\"Basalt\",\"Basalt\",\"Felsite\"],\"Sample\":[\"P1\",\"P2\",\"P3\",\"P4\",\"P5\",\"P6\",\"ML1\",\"ML3\",\"ML4\",\"ML5\",\"ML6\",\"M9\",\"M11\",\"M17\",\"E3\",\"E7\",\"E10\",\"E26\"],\"Sm\":{\"__ndarray__\":\"w/UoXI/CEkCuR+F6FK4RQFyPwvUoXBNA16NwPQrXEUBcj8L1KFwPQNejcD0K1xZAAAAAAAAAHkAAAAAAAAAmQNejcD0K1w9AhetRuB6FEkCamZmZmZkTQDMzMzMzMyhAuB6F61G4HkAzMzMzMzMSQJqZmZmZmSxA16NwPQrXEUDD9Shcj8INQFK4HoXr0SBA\",\"dtype\":\"float64\",\"order\":\"little\",\"shape\":[18]},\"Sr\":{\"__ndarray__\":\"AAAAAAAQdkAAAAAAAEB2QAAAAAAAQHtAAAAAAABgd0AAAAAAAEB5QAAAAAAAIH5AAAAAAADYh0AAAAAAACCRQAAAAAAAgHJAAAAAAACgd0AAAAAAAJCBQAAAAAAAMHRAAAAAAADAekAAAAAAALB9QAAAAAAAeIZAAAAAAABgcEAAAAAAAOBzQAAAAAAAQEFA\",\"dtype\":\"float64\",\"order\":\"little\",\"shape\":[18]},\"SrError\":{\"__ndarray__\":\"LUMc6+I2Cj/xaOOItfgEPy1DHOviNgo/LUMc6+I2Cj/xaOOItfgEP2odVU0QdQ8/8WjjiLX4BD/xaOOItfgEP/Fo44i1+AQ/LUMc6+I2Cj/xaOOItfgEP/Fo44i1+AQ/8WjjiLX4BD9qHVVNEHUPP/Fo44i1+AQ/LUMc6+I2Cj/xaOOItfgEP2odVU0QdQ8/\",\"dtype\":\"float64\",\"order\":\"little\",\"shape\":[18]},\"calc_144Nd\":{\"__ndarray__\":\"/Y912WJyEUDng5mEZ0MUQDYf6sUzFRJAVZ3WWVyJEEAVWNPkhM0PQGANTfsqFBhA2HaQKDKJGkBvLOMvcVsnQGUA6MJWtwpAH4IPM4a3DEARtHqckBUUQI/ECmHEkCxAG/2Jet77GEDDc/Fa4kMUQNP7ZMs6LzNAcC8l9j/jDEA1jKFsg50LQJGFgDwliiRA\",\"dtype\":\"float64\",\"order\":\"little\",\"shape\":[18]},\"calc_147Sm\":{\"__ndarray__\":\"UWRImDH95T/PW4EAILnkP+6hYV47seY/HEq7myLp5D8ZOS1s/2DiP+OgjQ50xeo/VgR3WPSU8T/UfZ1fZsn5P4seBFUDqeI/3n5xry215T9ghzhHP/nmP2kK+jWKXfw/gVy5NfoA8j9Gov14KFXlP8qRWfHowgBAHEq7myLp5D+ekQtk8nDhP/f6Kf4Rt/M/\",\"dtype\":\"float64\",\"order\":\"little\",\"shape\":[18]},\"calc_86Sr\":{\"__ndarray__\":\"2lb7vMpaP0AucH6B754/QDUPN/cLXUNAKEA5Jv6bQEC+BZgnKfFBQIE07DDqZ0VA8YEzYpHxUEBvyRGR11ZYQAn5rO7ASjpABUxZFMXJQEDmmwZv4fVIQME1HGNSrzxAf0c5/rQBQ0Bby+7InBhFQPguFiCi7E9AeG0WEttEN0DEZVIJAz48QJNwSxjHfghA\",\"dtype\":\"float64\",\"order\":\"little\",\"shape\":[18]},\"calc_87Rb\":{\"__ndarray__\":\"tSg2ek0ntz9/Lf3lsY+4P2h/rt8Hn6g/x+HOzirrsz/kVEIdpVSvP3cfV0Af17I/3iJiNRk9qj/GdBMvb0y6P80sn6p8jrs/4mvjktt8pD/LgGpWcqGyPxlV/4X6ZOM/aa8/SQRTsD+Cs6h5M7qkP16uMnA00eQ/9g3bcYIYrD9Q0V/ZXa64P3JVriOV5fE/\",\"dtype\":\"float64\",\"order\":\"little\",\"shape\":[18]},\"calc_Rb/Sr\":{\"__ndarray__\":\"+n5qvHSTaD/6fmq8dJNoP/yp8dJNYlA//Knx0k1iYD/8qfHSTWJgP/yp8dJNYmA//Knx0k1iUD/8qfHSTWJQP/yp8dJNYnA//Knx0k1iUD/8qfHSTWJQPxsv3SQGgZU//Knx0k1iYD/8qfHSTWJQP3sUrkfheoQ//Knx0k1iYD/6fmq8dJNoP7TIdr6fGtc/\",\"dtype\":\"float64\",\"order\":\"little\",\"shape\":[18]},\"calc_Sm/Nd\":{\"__ndarray__\":\"g8DKoUW2wz8AAAAAAADAP4PAyqFFtsM/16NwPQrXwz+TGARWDi3CP5zEILByaME/I9v5fmq8xD9I4XoUrkfBPxfZzvdT48U/rkfhehSuxz/sUbgehevBPwisHFpkO78/ukkMAiuHxj9QjZduEoPAPzEIrBxaZLs/Di2yne+nxj/Xo3A9CtfDP2iR7Xw/Nb4/\",\"dtype\":\"float64\",\"order\":\"little\",\"shape\":[18]},\"calc_t2_143Nd/144Nd\":{\"__ndarray__\":\"niRdM/lm4D8RAYdQpWbgP54kXTP5ZuA/ZmZmZmZm4D/Bi76CNGPgP4B9dOrKZ+A/7ZklAWpq4D96jV2iemvgPwtBDkqYaeA/fO2ZJQFq4D82yCQjZ2HgPzpY/+cwX+A/EjElkuhl4D8RAYdQpWbgP8h71cqEX+A/uDtrt11o4D+9++O9amXgP3V2MjhKXuA/\",\"dtype\":\"float64\",\"order\":\"little\",\"shape\":[18]},\"calc_t2_87Sr/86Sr\":{\"__ndarray__\":\"MxZNZyeD5j8Vb2Qe+YPmP/onuFhRg+Y/gosVNZiG5j8xthDkoITmPy+GcqJdheY/VU0QdR+A5j93hNOCF33mP4qryr4rguY/OdbFbTSA5j+s4o3MI3/mP90HILWJk+Y/JjYf14aK5j+qglFJnYDmP0VkWMUbmeY/davnpPeN5j9XBP9byY7mPxxClZo90OY/\",\"dtype\":\"float64\",\"order\":\"little\",\"shape\":[18]},\"epsilon_Nd\":{\"__ndarray__\":\"taZ5xym6AsDUmuYdp2gHwLWmeccpugLAuycPC7WmDcBwzojS3qAmwH6MuWsJ+ci/1JrmHadoF0DtDb4wmSohQLsnDwu1pg1AmbuWkA+6EkA17zhFR9IuwMx/SL99rTTAYVRSJ6BJFMDUmuYdp2gHwBb7y+7JszPAnDOitDf46D8cfGEyVTAYwIlBYOXQ0jbA\",\"dtype\":\"float64\",\"order\":\"little\",\"shape\":[18]},\"epsilon_Sr\":{\"__ndarray__\":\"NIC3QIIiNcDzH9JvX7czwCegibDh2TTAXynLEMdaLsCGWtO845QywK5H4XoUTjHANV66SQxiOsA2PL1SlqE/wLwFEhQ/1jbAyxDHurg9OsC94xQdyRU8wD55WKg1zRtAlIeFWtO8IMAOvjCZKog5wJSHhVrTvDBAJ8KGp1dKA8BLWYY41sXvv0aU9gZf/FpA\",\"dtype\":\"float64\",\"order\":\"little\",\"shape\":[18]},\"index\":[0,1,2,3,4,5,6,7,8,9,10,11,12,13,14,15,16,17]},\"selected\":{\"id\":\"3632\"},\"selection_policy\":{\"id\":\"3631\"}},\"id\":\"3617\",\"type\":\"ColumnDataSource\"},{\"attributes\":{\"click_policy\":\"hide\",\"items\":[{\"id\":\"3616\"},{\"id\":\"3633\"}]},\"id\":\"3615\",\"type\":\"Legend\"},{\"attributes\":{\"overlay\":{\"id\":\"3592\"}},\"id\":\"3587\",\"type\":\"BoxZoomTool\"},{\"attributes\":{\"align\":\"center\",\"text\":\"Mixing Plot???\",\"text_font_size\":{\"value\":\"25px\"}},\"id\":\"3568\",\"type\":\"Title\"},{\"attributes\":{},\"id\":\"3588\",\"type\":\"CrosshairTool\"},{\"attributes\":{\"source\":{\"id\":\"3617\"}},\"id\":\"3622\",\"type\":\"CDSView\"},{\"attributes\":{\"label\":{\"value\":\"Greenland/Baffin Basalts\"},\"renderers\":[{\"id\":\"3605\"}]},\"id\":\"3616\",\"type\":\"LegendItem\"},{\"attributes\":{},\"id\":\"3591\",\"type\":\"SaveTool\"},{\"attributes\":{\"fill_alpha\":{\"value\":0.1},\"fill_color\":{\"value\":\"blue\"},\"line_alpha\":{\"value\":0.1},\"line_color\":{\"value\":\"#1f77b4\"},\"marker\":{\"value\":\"triangle\"},\"size\":{\"units\":\"screen\",\"value\":10},\"x\":{\"field\":\"1/Sr\"},\"y\":{\"field\":\"calc_t2_87Sr/86Sr\"}},\"id\":\"3620\",\"type\":\"Scatter\"},{\"attributes\":{\"axis_label\":\"87Sr/86Sr\",\"formatter\":{\"id\":\"3610\"},\"ticker\":{\"id\":\"3583\"}},\"id\":\"3582\",\"type\":\"LinearAxis\"},{\"attributes\":{},\"id\":\"3590\",\"type\":\"ResetTool\"},{\"attributes\":{\"end\":0.361,\"start\":0.001},\"id\":\"3570\",\"type\":\"Range1d\"},{\"attributes\":{\"callback\":null},\"id\":\"3589\",\"type\":\"HoverTool\"}],\"root_ids\":[\"3567\"]},\"title\":\"Bokeh Application\",\"version\":\"2.2.3\"}};\n",
       "  var render_items = [{\"docid\":\"f876765c-e6cf-4736-aad0-b803312dc8db\",\"root_ids\":[\"3567\"],\"roots\":{\"3567\":\"a4ce6c83-69f9-4e4b-9a5d-19aff05f473e\"}}];\n",
       "  root.Bokeh.embed.embed_items_notebook(docs_json, render_items);\n",
       "\n",
       "  }\n",
       "  if (root.Bokeh !== undefined) {\n",
       "    embed_document(root);\n",
       "  } else {\n",
       "    var attempts = 0;\n",
       "    var timer = setInterval(function(root) {\n",
       "      if (root.Bokeh !== undefined) {\n",
       "        clearInterval(timer);\n",
       "        embed_document(root);\n",
       "      } else {\n",
       "        attempts++;\n",
       "        if (attempts > 100) {\n",
       "          clearInterval(timer);\n",
       "          console.log(\"Bokeh: ERROR: Unable to run BokehJS code because BokehJS library is missing\");\n",
       "        }\n",
       "      }\n",
       "    }, 10, root)\n",
       "  }\n",
       "})(window);"
      ],
      "application/vnd.bokehjs_exec.v0+json": ""
     },
     "metadata": {
      "application/vnd.bokehjs_exec.v0+json": {
       "id": "3567"
      }
     },
     "output_type": "display_data"
    }
   ],
   "source": [
    "show(figure11)"
   ]
  },
  {
   "cell_type": "markdown",
   "metadata": {
    "slideshow": {
     "slide_type": "notes"
    }
   },
   "source": [
    "I have nothing to say about this.  Probably way over time."
   ]
  }
 ],
 "metadata": {
  "celltoolbar": "Slideshow",
  "hide_input": false,
  "kernelspec": {
   "display_name": "Python 3",
   "language": "python",
   "name": "python3"
  },
  "language_info": {
   "codemirror_mode": {
    "name": "ipython",
    "version": 3
   },
   "file_extension": ".py",
   "mimetype": "text/x-python",
   "name": "python",
   "nbconvert_exporter": "python",
   "pygments_lexer": "ipython3",
   "version": "3.7.1"
  },
  "varInspector": {
   "cols": {
    "lenName": 16,
    "lenType": 16,
    "lenVar": 40
   },
   "kernels_config": {
    "python": {
     "delete_cmd_postfix": "",
     "delete_cmd_prefix": "del ",
     "library": "var_list.py",
     "varRefreshCmd": "print(var_dic_list())"
    },
    "r": {
     "delete_cmd_postfix": ") ",
     "delete_cmd_prefix": "rm(",
     "library": "var_list.r",
     "varRefreshCmd": "cat(var_dic_list()) "
    }
   },
   "types_to_exclude": [
    "module",
    "function",
    "builtin_function_or_method",
    "instance",
    "_Feature"
   ],
   "window_display": false
  }
 },
 "nbformat": 4,
 "nbformat_minor": 4
}
